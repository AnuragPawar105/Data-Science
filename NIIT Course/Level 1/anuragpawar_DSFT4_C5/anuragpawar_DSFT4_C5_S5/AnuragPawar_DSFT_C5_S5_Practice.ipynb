{
 "cells": [
  {
   "cell_type": "code",
   "execution_count": 2,
   "id": "b017886a",
   "metadata": {},
   "outputs": [],
   "source": [
    "# TASK 1\n",
    "avg=1332\n",
    "sd=725\n",
    "upper_l=avg+(4*sd)\n",
    "lower_l=avg-(4*sd)\n",
    "import numpy as np\n",
    "import matplotlib.pyplot as plt\n",
    "from scipy.stats import norm\n",
    "\n",
    "tr=np.arange(lower_l,upper_l)"
   ]
  },
  {
   "cell_type": "code",
   "execution_count": 3,
   "id": "b67fe43b",
   "metadata": {},
   "outputs": [
    {
     "name": "stdout",
     "output_type": "stream",
     "text": [
      "The proportion of tax returns greater than $2000 is 0.1784\n"
     ]
    }
   ],
   "source": [
    "# TASK 1a\n",
    "zs1=(2000-avg)/sd\n",
    "print('The proportion of tax returns greater than $2000 is %1.4f'%(1-(norm.cdf(zs1))))"
   ]
  },
  {
   "cell_type": "code",
   "execution_count": 4,
   "id": "982efb48",
   "metadata": {},
   "outputs": [
    {
     "name": "stdout",
     "output_type": "stream",
     "text": [
      "The proportion of tax indicates that indicates a taxpayer owes money to the government is 0.0331\n"
     ]
    }
   ],
   "source": [
    "# TASK 1b\n",
    "zs2=(0-avg)/sd\n",
    "print('The proportion of tax indicates that indicates a taxpayer owes money to the government is %1.4f'%(norm.cdf(zs2)))"
   ]
  },
  {
   "cell_type": "code",
   "execution_count": 5,
   "id": "31d0b88d",
   "metadata": {},
   "outputs": [
    {
     "name": "stdout",
     "output_type": "stream",
     "text": [
      "The proportion of tax return that indicates a refund between $100 and $700 is 0.1470\n"
     ]
    }
   ],
   "source": [
    "# TASK 1c\n",
    "zs3=(100-avg)/sd\n",
    "zs4=(700-avg)/sd\n",
    "print('The proportion of tax return that indicates a refund between $100 and $700 is %1.4f'%((norm.cdf(zs4))-(norm.cdf(zs3))))"
   ]
  },
  {
   "cell_type": "code",
   "execution_count": 6,
   "id": "531a1747",
   "metadata": {},
   "outputs": [
    {
     "data": {
      "image/png": "[encoded data removed]",
      "text/plain": [
       "<Figure size 432x288 with 1 Axes>"
      ]
     },
     "metadata": {
      "needs_background": "light"
     },
     "output_type": "display_data"
    }
   ],
   "source": [
    "# Normal Distribution Curve\n",
    "plt.plot(tr,norm.pdf(tr,avg,sd))\n",
    "plt.show()"
   ]
  },
  {
   "cell_type": "code",
   "execution_count": 7,
   "id": "3f1544e1",
   "metadata": {},
   "outputs": [
    {
     "data": {
      "text/html": [
       "<div>\n",
       "<style scoped>\n",
       "    .dataframe tbody tr th:only-of-type {\n",
       "        vertical-align: middle;\n",
       "    }\n",
       "\n",
       "    .dataframe tbody tr th {\n",
       "        vertical-align: top;\n",
       "    }\n",
       "\n",
       "    .dataframe thead th {\n",
       "        text-align: right;\n",
       "    }\n",
       "</style>\n",
       "<table border=\"1\" class=\"dataframe\">\n",
       "  <thead>\n",
       "    <tr style=\"text-align: right;\">\n",
       "      <th></th>\n",
       "      <th>index</th>\n",
       "      <th>price</th>\n",
       "      <th>speed</th>\n",
       "      <th>hd</th>\n",
       "      <th>ram</th>\n",
       "      <th>screen</th>\n",
       "      <th>cd</th>\n",
       "      <th>multi</th>\n",
       "      <th>premium</th>\n",
       "      <th>ads</th>\n",
       "      <th>trend</th>\n",
       "    </tr>\n",
       "  </thead>\n",
       "  <tbody>\n",
       "    <tr>\n",
       "      <th>0</th>\n",
       "      <td>1</td>\n",
       "      <td>1499</td>\n",
       "      <td>25</td>\n",
       "      <td>80</td>\n",
       "      <td>4</td>\n",
       "      <td>14</td>\n",
       "      <td>no</td>\n",
       "      <td>no</td>\n",
       "      <td>yes</td>\n",
       "      <td>94</td>\n",
       "      <td>1</td>\n",
       "    </tr>\n",
       "    <tr>\n",
       "      <th>1</th>\n",
       "      <td>2</td>\n",
       "      <td>1795</td>\n",
       "      <td>33</td>\n",
       "      <td>85</td>\n",
       "      <td>2</td>\n",
       "      <td>14</td>\n",
       "      <td>no</td>\n",
       "      <td>no</td>\n",
       "      <td>yes</td>\n",
       "      <td>94</td>\n",
       "      <td>1</td>\n",
       "    </tr>\n",
       "    <tr>\n",
       "      <th>2</th>\n",
       "      <td>3</td>\n",
       "      <td>1595</td>\n",
       "      <td>25</td>\n",
       "      <td>170</td>\n",
       "      <td>4</td>\n",
       "      <td>15</td>\n",
       "      <td>no</td>\n",
       "      <td>no</td>\n",
       "      <td>yes</td>\n",
       "      <td>94</td>\n",
       "      <td>1</td>\n",
       "    </tr>\n",
       "    <tr>\n",
       "      <th>3</th>\n",
       "      <td>4</td>\n",
       "      <td>1849</td>\n",
       "      <td>25</td>\n",
       "      <td>170</td>\n",
       "      <td>8</td>\n",
       "      <td>14</td>\n",
       "      <td>no</td>\n",
       "      <td>no</td>\n",
       "      <td>no</td>\n",
       "      <td>94</td>\n",
       "      <td>1</td>\n",
       "    </tr>\n",
       "    <tr>\n",
       "      <th>4</th>\n",
       "      <td>5</td>\n",
       "      <td>3295</td>\n",
       "      <td>33</td>\n",
       "      <td>340</td>\n",
       "      <td>16</td>\n",
       "      <td>14</td>\n",
       "      <td>no</td>\n",
       "      <td>no</td>\n",
       "      <td>yes</td>\n",
       "      <td>94</td>\n",
       "      <td>1</td>\n",
       "    </tr>\n",
       "    <tr>\n",
       "      <th>...</th>\n",
       "      <td>...</td>\n",
       "      <td>...</td>\n",
       "      <td>...</td>\n",
       "      <td>...</td>\n",
       "      <td>...</td>\n",
       "      <td>...</td>\n",
       "      <td>...</td>\n",
       "      <td>...</td>\n",
       "      <td>...</td>\n",
       "      <td>...</td>\n",
       "      <td>...</td>\n",
       "    </tr>\n",
       "    <tr>\n",
       "      <th>6254</th>\n",
       "      <td>6255</td>\n",
       "      <td>1690</td>\n",
       "      <td>100</td>\n",
       "      <td>528</td>\n",
       "      <td>8</td>\n",
       "      <td>15</td>\n",
       "      <td>no</td>\n",
       "      <td>no</td>\n",
       "      <td>yes</td>\n",
       "      <td>39</td>\n",
       "      <td>35</td>\n",
       "    </tr>\n",
       "    <tr>\n",
       "      <th>6255</th>\n",
       "      <td>6256</td>\n",
       "      <td>2223</td>\n",
       "      <td>66</td>\n",
       "      <td>850</td>\n",
       "      <td>16</td>\n",
       "      <td>15</td>\n",
       "      <td>yes</td>\n",
       "      <td>yes</td>\n",
       "      <td>yes</td>\n",
       "      <td>39</td>\n",
       "      <td>35</td>\n",
       "    </tr>\n",
       "    <tr>\n",
       "      <th>6256</th>\n",
       "      <td>6257</td>\n",
       "      <td>2654</td>\n",
       "      <td>100</td>\n",
       "      <td>1200</td>\n",
       "      <td>24</td>\n",
       "      <td>15</td>\n",
       "      <td>yes</td>\n",
       "      <td>no</td>\n",
       "      <td>yes</td>\n",
       "      <td>39</td>\n",
       "      <td>35</td>\n",
       "    </tr>\n",
       "    <tr>\n",
       "      <th>6257</th>\n",
       "      <td>6258</td>\n",
       "      <td>2195</td>\n",
       "      <td>100</td>\n",
       "      <td>850</td>\n",
       "      <td>16</td>\n",
       "      <td>15</td>\n",
       "      <td>yes</td>\n",
       "      <td>no</td>\n",
       "      <td>yes</td>\n",
       "      <td>39</td>\n",
       "      <td>35</td>\n",
       "    </tr>\n",
       "    <tr>\n",
       "      <th>6258</th>\n",
       "      <td>6259</td>\n",
       "      <td>2490</td>\n",
       "      <td>100</td>\n",
       "      <td>850</td>\n",
       "      <td>16</td>\n",
       "      <td>17</td>\n",
       "      <td>yes</td>\n",
       "      <td>no</td>\n",
       "      <td>yes</td>\n",
       "      <td>39</td>\n",
       "      <td>35</td>\n",
       "    </tr>\n",
       "  </tbody>\n",
       "</table>\n",
       "<p>6259 rows × 11 columns</p>\n",
       "</div>"
      ],
      "text/plain": [
       "      index  price  speed    hd  ram  screen   cd multi premium  ads  trend\n",
       "0         1   1499     25    80    4      14   no    no     yes   94      1\n",
       "1         2   1795     33    85    2      14   no    no     yes   94      1\n",
       "2         3   1595     25   170    4      15   no    no     yes   94      1\n",
       "3         4   1849     25   170    8      14   no    no      no   94      1\n",
       "4         5   3295     33   340   16      14   no    no     yes   94      1\n",
       "...     ...    ...    ...   ...  ...     ...  ...   ...     ...  ...    ...\n",
       "6254   6255   1690    100   528    8      15   no    no     yes   39     35\n",
       "6255   6256   2223     66   850   16      15  yes   yes     yes   39     35\n",
       "6256   6257   2654    100  1200   24      15  yes    no     yes   39     35\n",
       "6257   6258   2195    100   850   16      15  yes    no     yes   39     35\n",
       "6258   6259   2490    100   850   16      17  yes    no     yes   39     35\n",
       "\n",
       "[6259 rows x 11 columns]"
      ]
     },
     "execution_count": 7,
     "metadata": {},
     "output_type": "execute_result"
    }
   ],
   "source": [
    "# TASK 2\n",
    "import pandas as pd\n",
    "com=pd.read_csv('DS1_C5_S5_Continuous_Practice_Computers_Data.csv')\n",
    "com"
   ]
  },
  {
   "cell_type": "code",
   "execution_count": 8,
   "id": "19e1ee11",
   "metadata": {},
   "outputs": [
    {
     "name": "stdout",
     "output_type": "stream",
     "text": [
      "    index  price  speed    hd  ram  screen   cd multi premium  ads  trend\n",
      "0    1530   2295     33   426    8      14   no    no     yes  283     10\n",
      "1     325   1690     33    85    2      14   no    no     yes  108      4\n",
      "2    1582   1499     25   120    4      14   no    no     yes  283     10\n",
      "3    1307   2690     33   528   16      14   no    no     yes  246      9\n",
      "4    4247   2494     33   720   16      14  yes    no     yes  248     20\n",
      "5    4463   2344     66   528    8      14  yes    no     yes  248     20\n",
      "6    1383   2344     33   120    4      14  yes    no      no  246      9\n",
      "7     197   2099     33   212    4      14   no    no     yes  100      3\n",
      "8     180   1695     50    85    2      14   no    no     yes   95      2\n",
      "9    4302   2143     33   528    8      14  yes   yes     yes  248     20\n",
      "10   3886   1595     66   214    4      14   no    no     yes  273     18\n",
      "11   5722   1829     66   420    8      14   no    no      no  132     28\n",
      "12   5424   2563    100   270    4      14   no    no      no  152     26\n",
      "13   1746   2359     33   245    8      14   no    no      no  283     10\n",
      "14   1922   3390     66   528   16      14  yes   yes     yes  259     11\n",
      "15   1889   1799     33   230    4      14   no    no     yes  259     11\n",
      "16    501   2145     50   170    4      14   no    no     yes  139      5\n",
      "17   4593   2140     50   528    8      14  yes    no     yes  205     21\n",
      "18   3802   1995     66   340    8      14  yes   yes     yes  273     18\n",
      "19   4576   2590     66  1000    8      14  yes    no     yes  205     21\n",
      "20   4000   2190    100   214    4      15   no    no     yes  273     18\n",
      "21    961   2225     66   340    8      15   no    no     yes  249      7\n",
      "22   6170   2195    100  1000   16      15  yes    no     yes   40     33\n",
      "23   4097   2590     66   528   16      15  yes    no     yes  225     19\n",
      "24   5860   2145     66   850   16      15  yes    no     yes  129     29\n",
      "25   3566   1839     25   212    4      15   no    no      no  339     17\n",
      "26   2865   1590     25   214    4      15   no    no     yes  267     15\n",
      "27   5595   2315     75  1080   16      15  yes   yes     yes  163     27\n",
      "28   3356   2599     66   450    8      15  yes    no     yes  307     16\n",
      "29   3726   1590     50   107    2      15   no    no     yes  339     17\n",
      "30    626   3595     66   500    8      15   no    no     yes  176      6\n",
      "31    584   2545     66   250    8      15   no    no     yes  176      6\n",
      "32   5459   2894     66  1000   24      15  yes    no     yes  152     26\n",
      "33   2976   2125     66   425    8      15  yes    no     yes  267     15\n",
      "34   2041   1894     50   340    4      15   no    no     yes  259     11\n",
      "35   4988   2594     33   720   16      15  yes    no     yes  191     23\n",
      "36   4735   1590     33   214    4      15   no    no     yes  162     22\n",
      "37   4490   2604     50   720   16      15  yes    no     yes  205     21\n",
      "38   4724   2554     66   720   16      15  yes    no     yes  162     22\n",
      "39   4663   3290     33  1000   24      15  yes    no     yes  205     21\n",
      "40    585   3265     33   540    8      17   no    no     yes  176      6\n",
      "41   3428   2625     66   530    8      17  yes    no     yes  339     17\n",
      "42   1204   3948     33   345   16      17  yes    no     yes  298      8\n",
      "43   2220   1895     33   212    4      17   no    no     yes  275     12\n",
      "44   2066   3899     66   527   16      17  yes    no     yes  275     12\n",
      "45   6231   2890    100  1200   24      17  yes    no     yes   39     35\n",
      "46   5774   2224    100   545    8      17  yes   yes     yes  132     28\n",
      "47   5044   2109     66   425    8      17   no    no     yes  191     23\n",
      "48   3858   1998     33   340    8      17  yes    no     yes  273     18\n",
      "49   2695   2609     33   212    4      17   no    no      no  292     14\n",
      "50   3821   2465     66   540    8      17  yes    no     yes  273     18\n",
      "51   3615   3659     66   424    8      17   no    no      no  339     17\n",
      "52   4640   1818     66   340    4      17   no    no     yes  205     21\n",
      "53   5550   2108     75   545    8      17  yes    no     yes  163     27\n",
      "54   3586   2175     33   340    8      17   no    no     yes  339     17\n",
      "55   5660   2415     75   730   16      17  yes   yes     yes  163     27\n",
      "56   5087   2339     66   540    8      17   no    no     yes  182     24\n",
      "57   6034   2390     50  1000   16      17  yes    no     yes   75     30\n",
      "58   6194   3290     75  1600   32      17  yes    no     yes   39     34\n",
      "59   3171   2845     66   540    8      17  yes    no     yes  307     16\n"
     ]
    }
   ],
   "source": [
    "# i\n",
    "com=com[com.price<=4000]\n",
    "# ii\n",
    "gr_data1=com.groupby(by=['screen'])\n",
    "scr=com.screen.unique()\n",
    "com_s=pd.DataFrame()\n",
    "\n",
    "for s in scr:\n",
    "    s_data=gr_data1.get_group(s)\n",
    "    sample_data1=s_data.sample(n=20, replace=True, random_state= 1)\n",
    "    com_s=com_s.append(sample_data1, ignore_index= True)\n",
    "    \n",
    "print(com_s)"
   ]
  },
  {
   "cell_type": "code",
   "execution_count": 9,
   "id": "71a8e9c0",
   "metadata": {},
   "outputs": [
    {
     "name": "stdout",
     "output_type": "stream",
     "text": [
      "a. The probability that computers prices in the sample are greater than $2,700 is 0.2973\n",
      "b. The probability that computers prices in the sample are less than $1301 is 0.0288\n",
      "c. The probability that computers prices in the sample are between $2000 and $2900 is 0.5636\n"
     ]
    }
   ],
   "source": [
    "# TASK 2 iii\n",
    "import statistics as st\n",
    "upper_l=com_s['price'].max()\n",
    "lower_l=com_s['price'].min()\n",
    "avg1=com_s['price'].mean()\n",
    "sd1=st.stdev(com_s['price'])\n",
    "# a. \n",
    "zs5=(2700-avg1)/sd1\n",
    "print('a. The probability that computers prices in the sample are greater than $2,700 is %1.4f'%(1-(norm.cdf(zs5))))\n",
    "# b.\n",
    "zs6=(1301-avg1)/sd1\n",
    "print('b. The probability that computers prices in the sample are less than $1301 is %1.4f'%(norm.cdf(zs6)))\n",
    "# c.\n",
    "zs7=(2900-avg1)/sd1\n",
    "zs8=(2000-avg1)/sd1\n",
    "print('c. The probability that computers prices in the sample are between $2000 and $2900 is %1.4f'%((norm.cdf(zs7))-norm.cdf(zs8)))"
   ]
  },
  {
   "cell_type": "code",
   "execution_count": 10,
   "id": "f2b49f25",
   "metadata": {},
   "outputs": [
    {
     "name": "stdout",
     "output_type": "stream",
     "text": [
      "com size=  6229\n",
      "com mean= 2208.856\n",
      "com median=  2144.0\n",
      "com mode=  0    1999\n",
      "dtype: int64\n",
      "com standard deviation= 560.501\n",
      "\n",
      "sample size=  60\n",
      "sample mean= 2393.783\n",
      "sample median=  2327.0\n",
      "sample mode=  0    1590\n",
      "dtype: int64\n",
      "sample standard deviation= 575.454\n"
     ]
    }
   ],
   "source": [
    "# TASK 2b\n",
    "com_range=len(com)\n",
    "com_mean=com['price'].mean()\n",
    "com_median=com['price'].median()\n",
    "com_mode=com['price'].mode()\n",
    "com_sd=st.stdev(com['price'])\n",
    "\n",
    "coms_range=len(com_s)\n",
    "coms_median=com_s['price'].median()\n",
    "coms_mode=com_s['price'].mode()\n",
    "\n",
    "print('com size= ',com_range)\n",
    "print('com mean= %1.3f'%com_mean)\n",
    "print('com median= ',com_median)\n",
    "print('com mode= ',com_mode)\n",
    "print('com standard deviation= %1.3f'%com_sd)\n",
    "print()\n",
    "print('sample size= ',coms_range)\n",
    "print('sample mean= %1.3f'%avg1)\n",
    "print('sample median= ',coms_median)\n",
    "print('sample mode= ',coms_mode)\n",
    "print('sample standard deviation= %1.3f'%sd1)"
   ]
  },
  {
   "cell_type": "code",
   "execution_count": 11,
   "id": "95a50d77",
   "metadata": {},
   "outputs": [
    {
     "data": {
      "image/png": "[encoded data removed]",
      "text/plain": [
       "<Figure size 432x288 with 1 Axes>"
      ]
     },
     "metadata": {
      "needs_background": "light"
     },
     "output_type": "display_data"
    }
   ],
   "source": [
    "# Plotting the normal distribution of the population.\n",
    "l1=com_mean-(4*com_sd)\n",
    "u1=com_mean+(4*com_sd)\n",
    "r1=np.arange(l1,u1)\n",
    "plt.plot(r1,norm.pdf(r1,com_mean,com_sd))\n",
    "plt.show()"
   ]
  },
  {
   "cell_type": "code",
   "execution_count": 13,
   "id": "58293a7e",
   "metadata": {},
   "outputs": [
    {
     "data": {
      "image/png": "[encoded data removed]",
      "text/plain": [
       "<Figure size 432x288 with 1 Axes>"
      ]
     },
     "metadata": {
      "needs_background": "light"
     },
     "output_type": "display_data"
    }
   ],
   "source": [
    "#Plotting the normal distribution of the sample.\n",
    "l2=avg1-(4*sd1)\n",
    "u2=avg1+(4*sd1)\n",
    "r2=np.arange(l2,u2)\n",
    "plt.plot(r1,norm.pdf(r1,avg1,sd1))\n",
    "plt.show()"
   ]
  },
  {
   "cell_type": "code",
   "execution_count": null,
   "id": "a6726bff",
   "metadata": {},
   "outputs": [],
   "source": []
  }
 ],
 "metadata": {
  "kernelspec": {
   "display_name": "Python 3 (ipykernel)",
   "language": "python",
   "name": "python3"
  },
  "language_info": {
   "codemirror_mode": {
    "name": "ipython",
    "version": 3
   },
   "file_extension": ".py",
   "mimetype": "text/x-python",
   "name": "python",
   "nbconvert_exporter": "python",
   "pygments_lexer": "ipython3",
   "version": "3.9.7"
  }
 },
 "nbformat": 4,
 "nbformat_minor": 5
}
