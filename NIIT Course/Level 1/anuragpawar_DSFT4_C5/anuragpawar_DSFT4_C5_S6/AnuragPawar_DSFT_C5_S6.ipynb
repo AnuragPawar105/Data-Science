{
 "cells": [
  {
   "cell_type": "markdown",
   "id": "146124b3",
   "metadata": {},
   "source": [
    "# TASK 1\n"
   ]
  },
  {
   "cell_type": "markdown",
   "id": "070f9ac9",
   "metadata": {},
   "source": [
    "a)  Null hypothesis is: Average rent = $33.88\n"
   ]
  },
  {
   "cell_type": "markdown",
   "id": "b6bff3e8",
   "metadata": {},
   "source": [
    " Alternate hypothesis is: Average rent != $33.88"
   ]
  },
  {
   "cell_type": "markdown",
   "id": "6a7202b0",
   "metadata": {},
   "source": [
    "b)"
   ]
  },
  {
   "cell_type": "code",
   "execution_count": 2,
   "id": "da12a0ad",
   "metadata": {},
   "outputs": [
    {
     "name": "stdout",
     "output_type": "stream",
     "text": [
      "The Z statistics is  -9.296875000000016\n",
      "The p value is  1.4463410868771357e-20\n",
      "The z-critical value is  -1.9599639845400545\n"
     ]
    }
   ],
   "source": [
    "import math\n",
    "from scipy.stats import norm\n",
    "alpha= 0.05\n",
    "x=32.18\n",
    "mu=33.88\n",
    "sd=1.28\n",
    "n=49\n",
    "\n",
    "z_statistic= (x-mu)/(sd/math.sqrt(n))\n",
    "print('The Z statistics is ',z_statistic)\n",
    "\n",
    "p_value= norm.sf(abs(z_statistic))*2\n",
    "print('The p value is ',p_value)\n",
    "\n",
    "z_critical= norm.ppf(alpha/2)\n",
    "print('The z-critical value is ',z_critical)"
   ]
  },
  {
   "cell_type": "markdown",
   "id": "7f46f509",
   "metadata": {},
   "source": [
    "### Reaching statistical conclusion:"
   ]
  },
  {
   "cell_type": "markdown",
   "id": "3b607c02",
   "metadata": {},
   "source": [
    "According to the decision rule:"
   ]
  },
  {
   "cell_type": "markdown",
   "id": "0da967b6",
   "metadata": {},
   "source": [
    "p-value=0 < alpha=0.05, which leads to the rejection of Null Hypothesis"
   ]
  },
  {
   "cell_type": "markdown",
   "id": "0fc7d0a5",
   "metadata": {},
   "source": [
    "### The analysis rejects the null hypothesis, which means there is a significant change in the average rent for special purpose industrial space."
   ]
  },
  {
   "cell_type": "markdown",
   "id": "71dc01f9",
   "metadata": {},
   "source": [
    "# TASK 2"
   ]
  },
  {
   "cell_type": "markdown",
   "id": "e25041b1",
   "metadata": {},
   "source": [
    "Null hypothesis is: Mean throwing distance= 85 yards\n"
   ]
  },
  {
   "cell_type": "markdown",
   "id": "63a6e857",
   "metadata": {},
   "source": [
    "Alternate hypothesis is: Mean throwing distance> 85 yards"
   ]
  },
  {
   "cell_type": "markdown",
   "id": "9269c18b",
   "metadata": {},
   "source": [
    "Therefore here we will conduct a right sided hypothesis test."
   ]
  },
  {
   "cell_type": "code",
   "execution_count": 8,
   "id": "c134963c",
   "metadata": {},
   "outputs": [
    {
     "name": "stdout",
     "output_type": "stream",
     "text": [
      "The Z statistics is  -6.734350297014738\n",
      "The p value is  8.233201952582752e-12\n",
      "The z-critical value is  -1.6448536269514729\n"
     ]
    }
   ],
   "source": [
    "alpha1= 0.05\n",
    "x1=85\n",
    "mu1=87.5\n",
    "sd1=2.1\n",
    "n1=32\n",
    "\n",
    "z_statistic1=(x1-mu1)/(sd1/math.sqrt(n1))\n",
    "print('The Z statistics is ',z_statistic1)\n",
    "\n",
    "p_value1=norm.sf(abs(z_statistic1))\n",
    "print('The p value is ',p_value1)\n",
    "\n",
    "z_critical1=norm.ppf(alpha1)\n",
    "print('The z-critical value is ',z_critical1)"
   ]
  },
  {
   "cell_type": "markdown",
   "id": "663b81bc",
   "metadata": {},
   "source": [
    "According to the decision rule:"
   ]
  },
  {
   "cell_type": "markdown",
   "id": "d70856c9",
   "metadata": {},
   "source": [
    "p-value=0 < alpha=0.05, which leads to the rejection of null hypothesis."
   ]
  },
  {
   "cell_type": "markdown",
   "id": "4b19037f",
   "metadata": {},
   "source": [
    "### The analysis rejects the null hypothesis, which means that the mean throwing distance for Mac has increased from 85 yards."
   ]
  },
  {
   "cell_type": "code",
   "execution_count": 14,
   "id": "c08cc545",
   "metadata": {},
   "outputs": [
    {
     "data": {
      "image/png": "[encoded data removed]",
      "text/plain": [
       "<Figure size 432x288 with 1 Axes>"
      ]
     },
     "metadata": {
      "needs_background": "light"
     },
     "output_type": "display_data"
    }
   ],
   "source": [
    "# Plotting the curve\n",
    "import numpy as np\n",
    "import matplotlib.pyplot as plt\n",
    "import scipy.stats as sts\n",
    "l=mu1-(4*sd1)\n",
    "u=mu1+(4*sd1)\n",
    "r=np.arange(l,u,0.01)\n",
    "plt.plot(r, sts.norm.pdf(r,mu1,sd1))\n",
    "plt.title(\"Distribution Curve\")\n",
    "plt.xlabel(\"Distance (in yards)\")\n",
    "plt.ylabel(\"Probability Density\")\n",
    "plt.show()"
   ]
  },
  {
   "cell_type": "markdown",
   "id": "3cd4435a",
   "metadata": {},
   "source": [
    "# TASK 3"
   ]
  },
  {
   "cell_type": "code",
   "execution_count": 15,
   "id": "77d7f528",
   "metadata": {},
   "outputs": [
    {
     "data": {
      "text/html": [
       "<div>\n",
       "<style scoped>\n",
       "    .dataframe tbody tr th:only-of-type {\n",
       "        vertical-align: middle;\n",
       "    }\n",
       "\n",
       "    .dataframe tbody tr th {\n",
       "        vertical-align: top;\n",
       "    }\n",
       "\n",
       "    .dataframe thead th {\n",
       "        text-align: right;\n",
       "    }\n",
       "</style>\n",
       "<table border=\"1\" class=\"dataframe\">\n",
       "  <thead>\n",
       "    <tr style=\"text-align: right;\">\n",
       "      <th></th>\n",
       "      <th>California</th>\n",
       "      <th>Florida</th>\n",
       "    </tr>\n",
       "  </thead>\n",
       "  <tbody>\n",
       "    <tr>\n",
       "      <th>0</th>\n",
       "      <td>2.55</td>\n",
       "      <td>2.25</td>\n",
       "    </tr>\n",
       "    <tr>\n",
       "      <th>1</th>\n",
       "      <td>2.36</td>\n",
       "      <td>2.40</td>\n",
       "    </tr>\n",
       "    <tr>\n",
       "      <th>2</th>\n",
       "      <td>2.38</td>\n",
       "      <td>2.19</td>\n",
       "    </tr>\n",
       "    <tr>\n",
       "      <th>3</th>\n",
       "      <td>2.43</td>\n",
       "      <td>2.39</td>\n",
       "    </tr>\n",
       "    <tr>\n",
       "      <th>4</th>\n",
       "      <td>2.73</td>\n",
       "      <td>2.39</td>\n",
       "    </tr>\n",
       "    <tr>\n",
       "      <th>5</th>\n",
       "      <td>2.67</td>\n",
       "      <td>2.50</td>\n",
       "    </tr>\n",
       "    <tr>\n",
       "      <th>6</th>\n",
       "      <td>2.54</td>\n",
       "      <td>2.33</td>\n",
       "    </tr>\n",
       "    <tr>\n",
       "      <th>7</th>\n",
       "      <td>2.24</td>\n",
       "      <td>2.33</td>\n",
       "    </tr>\n",
       "    <tr>\n",
       "      <th>8</th>\n",
       "      <td>2.43</td>\n",
       "      <td>2.40</td>\n",
       "    </tr>\n",
       "    <tr>\n",
       "      <th>9</th>\n",
       "      <td>2.80</td>\n",
       "      <td>2.49</td>\n",
       "    </tr>\n",
       "    <tr>\n",
       "      <th>10</th>\n",
       "      <td>2.50</td>\n",
       "      <td>2.19</td>\n",
       "    </tr>\n",
       "    <tr>\n",
       "      <th>11</th>\n",
       "      <td>2.64</td>\n",
       "      <td>2.29</td>\n",
       "    </tr>\n",
       "    <tr>\n",
       "      <th>12</th>\n",
       "      <td>2.25</td>\n",
       "      <td>2.59</td>\n",
       "    </tr>\n",
       "    <tr>\n",
       "      <th>13</th>\n",
       "      <td>2.38</td>\n",
       "      <td>2.23</td>\n",
       "    </tr>\n",
       "    <tr>\n",
       "      <th>14</th>\n",
       "      <td>2.61</td>\n",
       "      <td>2.41</td>\n",
       "    </tr>\n",
       "    <tr>\n",
       "      <th>15</th>\n",
       "      <td>2.71</td>\n",
       "      <td>2.56</td>\n",
       "    </tr>\n",
       "    <tr>\n",
       "      <th>16</th>\n",
       "      <td>2.80</td>\n",
       "      <td>2.48</td>\n",
       "    </tr>\n",
       "    <tr>\n",
       "      <th>17</th>\n",
       "      <td>2.49</td>\n",
       "      <td>2.29</td>\n",
       "    </tr>\n",
       "    <tr>\n",
       "      <th>18</th>\n",
       "      <td>2.69</td>\n",
       "      <td>2.28</td>\n",
       "    </tr>\n",
       "    <tr>\n",
       "      <th>19</th>\n",
       "      <td>2.43</td>\n",
       "      <td>2.39</td>\n",
       "    </tr>\n",
       "    <tr>\n",
       "      <th>20</th>\n",
       "      <td>2.23</td>\n",
       "      <td>2.59</td>\n",
       "    </tr>\n",
       "    <tr>\n",
       "      <th>21</th>\n",
       "      <td>2.61</td>\n",
       "      <td>2.58</td>\n",
       "    </tr>\n",
       "    <tr>\n",
       "      <th>22</th>\n",
       "      <td>2.57</td>\n",
       "      <td>2.53</td>\n",
       "    </tr>\n",
       "    <tr>\n",
       "      <th>23</th>\n",
       "      <td>2.36</td>\n",
       "      <td>2.26</td>\n",
       "    </tr>\n",
       "    <tr>\n",
       "      <th>24</th>\n",
       "      <td>2.57</td>\n",
       "      <td>2.39</td>\n",
       "    </tr>\n",
       "    <tr>\n",
       "      <th>25</th>\n",
       "      <td>2.56</td>\n",
       "      <td>2.58</td>\n",
       "    </tr>\n",
       "    <tr>\n",
       "      <th>26</th>\n",
       "      <td>2.38</td>\n",
       "      <td>2.29</td>\n",
       "    </tr>\n",
       "    <tr>\n",
       "      <th>27</th>\n",
       "      <td>2.43</td>\n",
       "      <td>2.27</td>\n",
       "    </tr>\n",
       "    <tr>\n",
       "      <th>28</th>\n",
       "      <td>2.71</td>\n",
       "      <td>2.45</td>\n",
       "    </tr>\n",
       "    <tr>\n",
       "      <th>29</th>\n",
       "      <td>2.25</td>\n",
       "      <td>2.56</td>\n",
       "    </tr>\n",
       "    <tr>\n",
       "      <th>30</th>\n",
       "      <td>2.64</td>\n",
       "      <td>NaN</td>\n",
       "    </tr>\n",
       "    <tr>\n",
       "      <th>31</th>\n",
       "      <td>2.27</td>\n",
       "      <td>NaN</td>\n",
       "    </tr>\n",
       "    <tr>\n",
       "      <th>32</th>\n",
       "      <td>2.18</td>\n",
       "      <td>NaN</td>\n",
       "    </tr>\n",
       "  </tbody>\n",
       "</table>\n",
       "</div>"
      ],
      "text/plain": [
       "    California  Florida\n",
       "0         2.55     2.25\n",
       "1         2.36     2.40\n",
       "2         2.38     2.19\n",
       "3         2.43     2.39\n",
       "4         2.73     2.39\n",
       "5         2.67     2.50\n",
       "6         2.54     2.33\n",
       "7         2.24     2.33\n",
       "8         2.43     2.40\n",
       "9         2.80     2.49\n",
       "10        2.50     2.19\n",
       "11        2.64     2.29\n",
       "12        2.25     2.59\n",
       "13        2.38     2.23\n",
       "14        2.61     2.41\n",
       "15        2.71     2.56\n",
       "16        2.80     2.48\n",
       "17        2.49     2.29\n",
       "18        2.69     2.28\n",
       "19        2.43     2.39\n",
       "20        2.23     2.59\n",
       "21        2.61     2.58\n",
       "22        2.57     2.53\n",
       "23        2.36     2.26\n",
       "24        2.57     2.39\n",
       "25        2.56     2.58\n",
       "26        2.38     2.29\n",
       "27        2.43     2.27\n",
       "28        2.71     2.45\n",
       "29        2.25     2.56\n",
       "30        2.64      NaN\n",
       "31        2.27      NaN\n",
       "32        2.18      NaN"
      ]
     },
     "execution_count": 15,
     "metadata": {},
     "output_type": "execute_result"
    }
   ],
   "source": [
    "import pandas as pd\n",
    "import statistics as st\n",
    "price=pd.read_csv('DS1_C5_S6_Hypothesis_I_Practice_CityPrice_Data.csv')\n",
    "price"
   ]
  },
  {
   "cell_type": "markdown",
   "id": "d91f98f6",
   "metadata": {},
   "source": [
    "Null Hypothesis: There is no difference in the price of the health drink in california and florida."
   ]
  },
  {
   "cell_type": "markdown",
   "id": "174d6a6e",
   "metadata": {},
   "source": [
    "Alternate Hypothesis: There is a significant difference in the price of the health drink in california and florida."
   ]
  },
  {
   "cell_type": "code",
   "execution_count": 19,
   "id": "fa1a6390",
   "metadata": {},
   "outputs": [
    {
     "name": "stdout",
     "output_type": "stream",
     "text": [
      "California:\n",
      "Sample Size=  33\n",
      "Mean=  2.4966666666666666\n",
      "Standard Deviation=  0.17584913041202863\n",
      "Variance=  0.03092291666666665\n",
      "\n",
      "Florida:\n",
      "Sample Size=  30\n",
      "Mean=  2.396\n",
      "Standard Deviation=  0.12713283848278406\n",
      "Variance=  0.01616275862068966\n"
     ]
    }
   ],
   "source": [
    "# For California\n",
    "c_price=price['California']\n",
    "n1=len(c_price)\n",
    "s_mean1= st.mean(c_price)\n",
    "s_sd1=st.stdev(c_price)\n",
    "s_var1=s_sd1**2\n",
    "\n",
    "print('California:')\n",
    "print('Sample Size= ',n1)\n",
    "print('Mean= ',s_mean1)\n",
    "print('Standard Deviation= ',s_sd1)\n",
    "print('Variance= ',s_var1)\n",
    "print('')\n",
    "\n",
    "# For Florida\n",
    "f_price=price['Florida'].dropna()\n",
    "n2=len(f_price)\n",
    "s_mean2= st.mean(f_price)\n",
    "s_sd2=st.stdev(f_price)\n",
    "s_var2=s_sd2**2\n",
    "\n",
    "print('Florida:')\n",
    "print('Sample Size= ',n2)\n",
    "print('Mean= ',s_mean2)\n",
    "print('Standard Deviation= ',s_sd2)\n",
    "print('Variance= ',s_var2)"
   ]
  },
  {
   "cell_type": "markdown",
   "id": "e147df36",
   "metadata": {},
   "source": [
    "Here we will conduct two-tailed, two-sample test with z-statistics."
   ]
  },
  {
   "cell_type": "code",
   "execution_count": 23,
   "id": "aac93a1a",
   "metadata": {},
   "outputs": [
    {
     "name": "stdout",
     "output_type": "stream",
     "text": [
      "The z-statistics is  2.620411385912716\n",
      "The p-value is  0.00878237513278394\n",
      "The z-critical value is  2.5758293035489004\n"
     ]
    }
   ],
   "source": [
    "alpha=0.01\n",
    "z_statistics=((s_mean1-s_mean2)-0)/(math.sqrt(s_var1/n1+s_var2/n2))\n",
    "print('The z-statistics is ',z_statistics)\n",
    "p_value=norm.sf(abs(z_statistics))*2\n",
    "print('The p-value is ',p_value)\n",
    "z_critical=norm.ppf(1-alpha/2)\n",
    "print('The z-critical value is ',z_critical)"
   ]
  },
  {
   "cell_type": "markdown",
   "id": "9637b988",
   "metadata": {},
   "source": [
    "### Reaching Statistical conclusion:\n"
   ]
  },
  {
   "cell_type": "markdown",
   "id": "ccf66890",
   "metadata": {},
   "source": [
    "According to decision rule:\n",
    "1. p-value=0.0087 > alpha/2=0.005, which leads to the acceptance of null hypothesis.\n",
    "2. z-statistic=2.6 <= z-critical, which leads to the acceptance of null hypothesis."
   ]
  },
  {
   "cell_type": "markdown",
   "id": "10245b7d",
   "metadata": {},
   "source": [
    "### The analysis accepts the null hypothesis, which indicates that there is no significant difference in the price of the health drink in california and florida."
   ]
  },
  {
   "cell_type": "code",
   "execution_count": null,
   "id": "25288181",
   "metadata": {},
   "outputs": [],
   "source": []
  }
 ],
 "metadata": {
  "kernelspec": {
   "display_name": "Python 3 (ipykernel)",
   "language": "python",
   "name": "python3"
  },
  "language_info": {
   "codemirror_mode": {
    "name": "ipython",
    "version": 3
   },
   "file_extension": ".py",
   "mimetype": "text/x-python",
   "name": "python",
   "nbconvert_exporter": "python",
   "pygments_lexer": "ipython3",
   "version": "3.9.7"
  }
 },
 "nbformat": 4,
 "nbformat_minor": 5
}
