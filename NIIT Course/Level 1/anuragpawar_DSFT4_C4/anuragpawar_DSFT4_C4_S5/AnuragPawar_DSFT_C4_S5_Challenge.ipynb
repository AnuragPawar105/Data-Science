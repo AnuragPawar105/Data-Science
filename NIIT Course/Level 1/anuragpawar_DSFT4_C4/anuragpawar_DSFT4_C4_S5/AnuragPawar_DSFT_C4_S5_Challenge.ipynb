{
 "cells": [
  {
   "cell_type": "code",
   "execution_count": 2,
   "id": "c34d8a3e",
   "metadata": {},
   "outputs": [
    {
     "data": {
      "text/html": [
       "<div>\n",
       "<style scoped>\n",
       "    .dataframe tbody tr th:only-of-type {\n",
       "        vertical-align: middle;\n",
       "    }\n",
       "\n",
       "    .dataframe tbody tr th {\n",
       "        vertical-align: top;\n",
       "    }\n",
       "\n",
       "    .dataframe thead th {\n",
       "        text-align: right;\n",
       "    }\n",
       "</style>\n",
       "<table border=\"1\" class=\"dataframe\">\n",
       "  <thead>\n",
       "    <tr style=\"text-align: right;\">\n",
       "      <th></th>\n",
       "      <th>year</th>\n",
       "      <th>make</th>\n",
       "      <th>model</th>\n",
       "      <th>trim</th>\n",
       "      <th>body</th>\n",
       "      <th>transmission</th>\n",
       "      <th>vin</th>\n",
       "      <th>state</th>\n",
       "      <th>condition</th>\n",
       "      <th>odometer</th>\n",
       "      <th>color</th>\n",
       "      <th>interior</th>\n",
       "      <th>seller</th>\n",
       "      <th>mmr</th>\n",
       "      <th>sellingprice</th>\n",
       "      <th>saledate</th>\n",
       "    </tr>\n",
       "  </thead>\n",
       "  <tbody>\n",
       "    <tr>\n",
       "      <th>0</th>\n",
       "      <td>2015</td>\n",
       "      <td>Kia</td>\n",
       "      <td>Sorento</td>\n",
       "      <td>LX</td>\n",
       "      <td>SUV</td>\n",
       "      <td>automatic</td>\n",
       "      <td>5xyktca69fg566472</td>\n",
       "      <td>ca</td>\n",
       "      <td>5.0</td>\n",
       "      <td>16639.0</td>\n",
       "      <td>white</td>\n",
       "      <td>black</td>\n",
       "      <td>kia motors america, inc</td>\n",
       "      <td>20500</td>\n",
       "      <td>21500</td>\n",
       "      <td>Tue Dec 16 2014 12:30:00 GMT-0800 (PST)</td>\n",
       "    </tr>\n",
       "    <tr>\n",
       "      <th>1</th>\n",
       "      <td>2015</td>\n",
       "      <td>Kia</td>\n",
       "      <td>Sorento</td>\n",
       "      <td>LX</td>\n",
       "      <td>SUV</td>\n",
       "      <td>automatic</td>\n",
       "      <td>5xyktca69fg561319</td>\n",
       "      <td>ca</td>\n",
       "      <td>5.0</td>\n",
       "      <td>9393.0</td>\n",
       "      <td>white</td>\n",
       "      <td>beige</td>\n",
       "      <td>kia motors america, inc</td>\n",
       "      <td>20800</td>\n",
       "      <td>21500</td>\n",
       "      <td>Tue Dec 16 2014 12:30:00 GMT-0800 (PST)</td>\n",
       "    </tr>\n",
       "    <tr>\n",
       "      <th>2</th>\n",
       "      <td>2014</td>\n",
       "      <td>BMW</td>\n",
       "      <td>3 Series</td>\n",
       "      <td>328i SULEV</td>\n",
       "      <td>Sedan</td>\n",
       "      <td>automatic</td>\n",
       "      <td>wba3c1c51ek116351</td>\n",
       "      <td>ca</td>\n",
       "      <td>4.5</td>\n",
       "      <td>1331.0</td>\n",
       "      <td>gray</td>\n",
       "      <td>black</td>\n",
       "      <td>financial services remarketing (lease)</td>\n",
       "      <td>31900</td>\n",
       "      <td>30000</td>\n",
       "      <td>Thu Jan 15 2015 04:30:00 GMT-0800 (PST)</td>\n",
       "    </tr>\n",
       "    <tr>\n",
       "      <th>3</th>\n",
       "      <td>2015</td>\n",
       "      <td>Volvo</td>\n",
       "      <td>S60</td>\n",
       "      <td>T5</td>\n",
       "      <td>Sedan</td>\n",
       "      <td>automatic</td>\n",
       "      <td>yv1612tb4f1310987</td>\n",
       "      <td>ca</td>\n",
       "      <td>4.1</td>\n",
       "      <td>14282.0</td>\n",
       "      <td>white</td>\n",
       "      <td>black</td>\n",
       "      <td>volvo na rep/world omni</td>\n",
       "      <td>27500</td>\n",
       "      <td>27750</td>\n",
       "      <td>Thu Jan 29 2015 04:30:00 GMT-0800 (PST)</td>\n",
       "    </tr>\n",
       "    <tr>\n",
       "      <th>4</th>\n",
       "      <td>2014</td>\n",
       "      <td>BMW</td>\n",
       "      <td>6 Series Gran Coupe</td>\n",
       "      <td>650i</td>\n",
       "      <td>Sedan</td>\n",
       "      <td>automatic</td>\n",
       "      <td>wba6b2c57ed129731</td>\n",
       "      <td>ca</td>\n",
       "      <td>4.3</td>\n",
       "      <td>2641.0</td>\n",
       "      <td>gray</td>\n",
       "      <td>black</td>\n",
       "      <td>financial services remarketing (lease)</td>\n",
       "      <td>66000</td>\n",
       "      <td>67000</td>\n",
       "      <td>Thu Dec 18 2014 12:30:00 GMT-0800 (PST)</td>\n",
       "    </tr>\n",
       "    <tr>\n",
       "      <th>...</th>\n",
       "      <td>...</td>\n",
       "      <td>...</td>\n",
       "      <td>...</td>\n",
       "      <td>...</td>\n",
       "      <td>...</td>\n",
       "      <td>...</td>\n",
       "      <td>...</td>\n",
       "      <td>...</td>\n",
       "      <td>...</td>\n",
       "      <td>...</td>\n",
       "      <td>...</td>\n",
       "      <td>...</td>\n",
       "      <td>...</td>\n",
       "      <td>...</td>\n",
       "      <td>...</td>\n",
       "      <td>...</td>\n",
       "    </tr>\n",
       "    <tr>\n",
       "      <th>558832</th>\n",
       "      <td>2015</td>\n",
       "      <td>Kia</td>\n",
       "      <td>K900</td>\n",
       "      <td>Luxury</td>\n",
       "      <td>Sedan</td>\n",
       "      <td>NaN</td>\n",
       "      <td>knalw4d4xf6019304</td>\n",
       "      <td>in</td>\n",
       "      <td>4.5</td>\n",
       "      <td>18255.0</td>\n",
       "      <td>silver</td>\n",
       "      <td>black</td>\n",
       "      <td>avis corporation</td>\n",
       "      <td>35300</td>\n",
       "      <td>33000</td>\n",
       "      <td>Thu Jul 09 2015 07:00:00 GMT-0700 (PDT)</td>\n",
       "    </tr>\n",
       "    <tr>\n",
       "      <th>558833</th>\n",
       "      <td>2012</td>\n",
       "      <td>Ram</td>\n",
       "      <td>2500</td>\n",
       "      <td>Power Wagon</td>\n",
       "      <td>Crew Cab</td>\n",
       "      <td>automatic</td>\n",
       "      <td>3c6td5et6cg112407</td>\n",
       "      <td>wa</td>\n",
       "      <td>5.0</td>\n",
       "      <td>54393.0</td>\n",
       "      <td>white</td>\n",
       "      <td>black</td>\n",
       "      <td>i -5 uhlmann rv</td>\n",
       "      <td>30200</td>\n",
       "      <td>30800</td>\n",
       "      <td>Wed Jul 08 2015 09:30:00 GMT-0700 (PDT)</td>\n",
       "    </tr>\n",
       "    <tr>\n",
       "      <th>558834</th>\n",
       "      <td>2012</td>\n",
       "      <td>BMW</td>\n",
       "      <td>X5</td>\n",
       "      <td>xDrive35d</td>\n",
       "      <td>SUV</td>\n",
       "      <td>automatic</td>\n",
       "      <td>5uxzw0c58cl668465</td>\n",
       "      <td>ca</td>\n",
       "      <td>4.8</td>\n",
       "      <td>50561.0</td>\n",
       "      <td>black</td>\n",
       "      <td>black</td>\n",
       "      <td>financial services remarketing (lease)</td>\n",
       "      <td>29800</td>\n",
       "      <td>34000</td>\n",
       "      <td>Wed Jul 08 2015 09:30:00 GMT-0700 (PDT)</td>\n",
       "    </tr>\n",
       "    <tr>\n",
       "      <th>558835</th>\n",
       "      <td>2015</td>\n",
       "      <td>Nissan</td>\n",
       "      <td>Altima</td>\n",
       "      <td>2.5 S</td>\n",
       "      <td>sedan</td>\n",
       "      <td>automatic</td>\n",
       "      <td>1n4al3ap0fc216050</td>\n",
       "      <td>ga</td>\n",
       "      <td>3.8</td>\n",
       "      <td>16658.0</td>\n",
       "      <td>white</td>\n",
       "      <td>black</td>\n",
       "      <td>enterprise vehicle exchange / tra / rental / t...</td>\n",
       "      <td>15100</td>\n",
       "      <td>11100</td>\n",
       "      <td>Thu Jul 09 2015 06:45:00 GMT-0700 (PDT)</td>\n",
       "    </tr>\n",
       "    <tr>\n",
       "      <th>558836</th>\n",
       "      <td>2014</td>\n",
       "      <td>Ford</td>\n",
       "      <td>F-150</td>\n",
       "      <td>XLT</td>\n",
       "      <td>SuperCrew</td>\n",
       "      <td>automatic</td>\n",
       "      <td>1ftfw1et2eke87277</td>\n",
       "      <td>ca</td>\n",
       "      <td>3.4</td>\n",
       "      <td>15008.0</td>\n",
       "      <td>gray</td>\n",
       "      <td>gray</td>\n",
       "      <td>ford motor credit company,llc pd</td>\n",
       "      <td>29600</td>\n",
       "      <td>26700</td>\n",
       "      <td>Thu May 28 2015 05:30:00 GMT-0700 (PDT)</td>\n",
       "    </tr>\n",
       "  </tbody>\n",
       "</table>\n",
       "<p>558837 rows × 16 columns</p>\n",
       "</div>"
      ],
      "text/plain": [
       "        year    make                model         trim       body  \\\n",
       "0       2015     Kia              Sorento           LX        SUV   \n",
       "1       2015     Kia              Sorento           LX        SUV   \n",
       "2       2014     BMW             3 Series   328i SULEV      Sedan   \n",
       "3       2015   Volvo                  S60           T5      Sedan   \n",
       "4       2014     BMW  6 Series Gran Coupe         650i      Sedan   \n",
       "...      ...     ...                  ...          ...        ...   \n",
       "558832  2015     Kia                 K900       Luxury      Sedan   \n",
       "558833  2012     Ram                 2500  Power Wagon   Crew Cab   \n",
       "558834  2012     BMW                   X5    xDrive35d        SUV   \n",
       "558835  2015  Nissan               Altima        2.5 S      sedan   \n",
       "558836  2014    Ford                F-150          XLT  SuperCrew   \n",
       "\n",
       "       transmission                vin state  condition  odometer   color  \\\n",
       "0         automatic  5xyktca69fg566472    ca        5.0   16639.0   white   \n",
       "1         automatic  5xyktca69fg561319    ca        5.0    9393.0   white   \n",
       "2         automatic  wba3c1c51ek116351    ca        4.5    1331.0    gray   \n",
       "3         automatic  yv1612tb4f1310987    ca        4.1   14282.0   white   \n",
       "4         automatic  wba6b2c57ed129731    ca        4.3    2641.0    gray   \n",
       "...             ...                ...   ...        ...       ...     ...   \n",
       "558832          NaN  knalw4d4xf6019304    in        4.5   18255.0  silver   \n",
       "558833    automatic  3c6td5et6cg112407    wa        5.0   54393.0   white   \n",
       "558834    automatic  5uxzw0c58cl668465    ca        4.8   50561.0   black   \n",
       "558835    automatic  1n4al3ap0fc216050    ga        3.8   16658.0   white   \n",
       "558836    automatic  1ftfw1et2eke87277    ca        3.4   15008.0    gray   \n",
       "\n",
       "       interior                                             seller    mmr  \\\n",
       "0         black                            kia motors america, inc  20500   \n",
       "1         beige                            kia motors america, inc  20800   \n",
       "2         black             financial services remarketing (lease)  31900   \n",
       "3         black                            volvo na rep/world omni  27500   \n",
       "4         black             financial services remarketing (lease)  66000   \n",
       "...         ...                                                ...    ...   \n",
       "558832    black                                   avis corporation  35300   \n",
       "558833    black                                    i -5 uhlmann rv  30200   \n",
       "558834    black             financial services remarketing (lease)  29800   \n",
       "558835    black  enterprise vehicle exchange / tra / rental / t...  15100   \n",
       "558836     gray                   ford motor credit company,llc pd  29600   \n",
       "\n",
       "        sellingprice                                 saledate  \n",
       "0              21500  Tue Dec 16 2014 12:30:00 GMT-0800 (PST)  \n",
       "1              21500  Tue Dec 16 2014 12:30:00 GMT-0800 (PST)  \n",
       "2              30000  Thu Jan 15 2015 04:30:00 GMT-0800 (PST)  \n",
       "3              27750  Thu Jan 29 2015 04:30:00 GMT-0800 (PST)  \n",
       "4              67000  Thu Dec 18 2014 12:30:00 GMT-0800 (PST)  \n",
       "...              ...                                      ...  \n",
       "558832         33000  Thu Jul 09 2015 07:00:00 GMT-0700 (PDT)  \n",
       "558833         30800  Wed Jul 08 2015 09:30:00 GMT-0700 (PDT)  \n",
       "558834         34000  Wed Jul 08 2015 09:30:00 GMT-0700 (PDT)  \n",
       "558835         11100  Thu Jul 09 2015 06:45:00 GMT-0700 (PDT)  \n",
       "558836         26700  Thu May 28 2015 05:30:00 GMT-0700 (PDT)  \n",
       "\n",
       "[558837 rows x 16 columns]"
      ]
     },
     "execution_count": 2,
     "metadata": {},
     "output_type": "execute_result"
    }
   ],
   "source": [
    "import pandas as pd\n",
    "cp=pd.read_csv('car_prices.csv')\n",
    "cp"
   ]
  },
  {
   "cell_type": "code",
   "execution_count": 8,
   "id": "7b5fee30",
   "metadata": {},
   "outputs": [
    {
     "name": "stdout",
     "output_type": "stream",
     "text": [
      "The 5 manufacturers with lowest average selling price are:\n"
     ]
    },
    {
     "data": {
      "text/plain": [
       "make\n",
       "smart          8620.000000\n",
       "FIAT          12585.109290\n",
       "Mitsubishi    13502.323838\n",
       "Kia           14341.490037\n",
       "Volkswagen    14840.196850\n",
       "Name: sellingprice, dtype: float64"
      ]
     },
     "execution_count": 8,
     "metadata": {},
     "output_type": "execute_result"
    }
   ],
   "source": [
    "# TASK 1\n",
    "cp1=cp[cp.year==2014]\n",
    "asp=cp1.groupby(by='make')['sellingprice'].mean()\n",
    "print('The 5 manufacturers with lowest average selling price are:')\n",
    "asp.sort_values()[0:5]"
   ]
  },
  {
   "cell_type": "code",
   "execution_count": 7,
   "id": "5e957046",
   "metadata": {},
   "outputs": [
    {
     "data": {
      "text/plain": [
       "year\n",
       "2010    23572.222222\n",
       "2015    42994.685990\n",
       "Name: sellingprice, dtype: float64"
      ]
     },
     "execution_count": 7,
     "metadata": {},
     "output_type": "execute_result"
    }
   ],
   "source": [
    "# TASK 2\n",
    "cp2=cp[(cp.condition>4.5)&(cp.make=='BMW')&((cp.year==2015)|(cp.year==2010))]\n",
    "cp2.groupby(by='year')['sellingprice'].mean()"
   ]
  },
  {
   "cell_type": "code",
   "execution_count": 8,
   "id": "231bb14c",
   "metadata": {},
   "outputs": [
    {
     "name": "stdout",
     "output_type": "stream",
     "text": [
      "As we can see here the average selling price of BMW cars selling in 2010 is less than that in 2015.\n"
     ]
    }
   ],
   "source": [
    "print('As we can see here the average selling price of BMW cars selling in 2010 is less than that in 2015.')"
   ]
  },
  {
   "cell_type": "code",
   "execution_count": 18,
   "id": "62d3f73d",
   "metadata": {},
   "outputs": [
    {
     "name": "stdout",
     "output_type": "stream",
     "text": [
      "The difference between the average wholesale price of cars with black and gray interior colours is 4668.743510266328\n"
     ]
    }
   ],
   "source": [
    "# TASK 3\n",
    "cp3=cp[(cp.interior=='black')|(cp.interior=='gray')]\n",
    "x=cp3.groupby(by='interior')['mmr'].mean()\n",
    "x\n",
    "print('The difference between the average wholesale price of cars with black and gray interior colours is',(x['black']-x['gray']))"
   ]
  },
  {
   "cell_type": "code",
   "execution_count": 22,
   "id": "c42118af",
   "metadata": {},
   "outputs": [
    {
     "name": "stdout",
     "output_type": "stream",
     "text": [
      "The color-wise count of cars of each manufacturer are as follows:\n",
      " make        color   \n",
      "Acura       black       170\n",
      "            blue         19\n",
      "            brown         5\n",
      "            burgundy     20\n",
      "            charcoal      2\n",
      "                       ... \n",
      "volkswagen  —             1\n",
      "vw          black         1\n",
      "            gray          1\n",
      "            white         1\n",
      "            —            10\n",
      "Length: 550, dtype: int64\n"
     ]
    }
   ],
   "source": [
    "# Task 4\n",
    "cp4=cp[(cp.year>=2013)&(cp.year<=2015)]\n",
    "y=cp4.groupby(by=['make','color']).size()\n",
    "print('The color-wise count of cars of each manufacturer are as follows:\\n',y)"
   ]
  },
  {
   "cell_type": "code",
   "execution_count": 43,
   "id": "ca859b21",
   "metadata": {},
   "outputs": [
    {
     "name": "stdout",
     "output_type": "stream",
     "text": [
      "The sale in Jan with respect to the sale in Dec decreased by 45.518453427065026 %\n"
     ]
    }
   ],
   "source": [
    "# TASK 5\n",
    "cp5=cp[(cp.body=='SUV')&((cp.saledate=='Fri Dec 19 2014 09:00:00 GMT-0800 (PST)')|(cp.saledate=='Thu Jan 15 2015 04:30:00 GMT-0800 (PST)'))]\n",
    "z=cp5.groupby(by='saledate').size()\n",
    "print('The sale in Jan with respect to the sale in Dec decreased by',(((z['Fri Dec 19 2014 09:00:00 GMT-0800 (PST)']-z['Thu Jan 15 2015 04:30:00 GMT-0800 (PST)'])/z['Fri Dec 19 2014 09:00:00 GMT-0800 (PST)'])*100),'%')"
   ]
  },
  {
   "cell_type": "code",
   "execution_count": 61,
   "id": "d7dfbd0a",
   "metadata": {},
   "outputs": [
    {
     "data": {
      "text/plain": [
       "7          8820.0\n",
       "9         15750.0\n",
       "12        10800.0\n",
       "14         9540.0\n",
       "18        15300.0\n",
       "           ...   \n",
       "558817    20070.0\n",
       "558818    19800.0\n",
       "558821    10260.0\n",
       "558823    20700.0\n",
       "558836    24030.0\n",
       "Name: sellingprice, Length: 153751, dtype: float64"
      ]
     },
     "execution_count": 61,
     "metadata": {},
     "output_type": "execute_result"
    }
   ],
   "source": [
    "# TASK 6\n",
    "discount1=(cp[(cp.make=='Ford')|(cp.make=='Chevrolet')]['sellingprice'])*0.9\n",
    "discount1"
   ]
  },
  {
   "cell_type": "code",
   "execution_count": 51,
   "id": "70ac891f",
   "metadata": {},
   "outputs": [
    {
     "data": {
      "text/plain": [
       "0         17200.0\n",
       "1         17200.0\n",
       "2         24000.0\n",
       "3         22200.0\n",
       "4         53600.0\n",
       "           ...   \n",
       "558831    18240.0\n",
       "558832    26400.0\n",
       "558833    24640.0\n",
       "558834    27200.0\n",
       "558835     8880.0\n",
       "Name: sellingprice, Length: 405086, dtype: float64"
      ]
     },
     "execution_count": 51,
     "metadata": {},
     "output_type": "execute_result"
    }
   ],
   "source": [
    "discount2=(cp[(cp.make!='Ford')&(cp.make!='Chevrolet')]['sellingprice'])*0.8\n",
    "discount2"
   ]
  },
  {
   "cell_type": "code",
   "execution_count": 52,
   "id": "35cf7058",
   "metadata": {},
   "outputs": [],
   "source": [
    "cp.insert(15,'Discounted_Price',0)"
   ]
  },
  {
   "cell_type": "code",
   "execution_count": 65,
   "id": "bc0a12ce",
   "metadata": {},
   "outputs": [],
   "source": [
    "ind1=cp.index[(cp.make=='Ford')|(cp.make=='Chevrolet')]"
   ]
  },
  {
   "cell_type": "code",
   "execution_count": 66,
   "id": "5c92d4ce",
   "metadata": {},
   "outputs": [],
   "source": [
    "ind2=cp.index[(cp.make!='Ford')&(cp.make!='Chevrolet')]"
   ]
  },
  {
   "cell_type": "code",
   "execution_count": 67,
   "id": "936636db",
   "metadata": {},
   "outputs": [],
   "source": [
    "cp.at[ind1,'Discounted_Price']=discount1"
   ]
  },
  {
   "cell_type": "code",
   "execution_count": 70,
   "id": "61d25b23",
   "metadata": {},
   "outputs": [],
   "source": [
    "cp.at[ind2,'Discounted_Price']=discount2"
   ]
  },
  {
   "cell_type": "code",
   "execution_count": 73,
   "id": "3b1334e7",
   "metadata": {},
   "outputs": [],
   "source": [
    "# TASK 7\n",
    "del cp['vin']"
   ]
  },
  {
   "cell_type": "code",
   "execution_count": 74,
   "id": "7a1136bd",
   "metadata": {},
   "outputs": [],
   "source": [
    "del cp['saledate']"
   ]
  },
  {
   "cell_type": "code",
   "execution_count": 79,
   "id": "345321dc",
   "metadata": {},
   "outputs": [
    {
     "name": "stdout",
     "output_type": "stream",
     "text": [
      "year                    0\n",
      "make                10301\n",
      "model               10399\n",
      "trim                10651\n",
      "body                13195\n",
      "transmission        65353\n",
      "state                   1\n",
      "condition           11794\n",
      "odometer               94\n",
      "color                 749\n",
      "interior              749\n",
      "seller                  0\n",
      "mmr                     0\n",
      "sellingprice            0\n",
      "Discounted_Price        0\n",
      "dtype: int64\n",
      "<class 'pandas.core.frame.DataFrame'>\n",
      "RangeIndex: 558837 entries, 0 to 558836\n",
      "Data columns (total 15 columns):\n",
      " #   Column            Non-Null Count   Dtype  \n",
      "---  ------            --------------   -----  \n",
      " 0   year              558837 non-null  int64  \n",
      " 1   make              548536 non-null  object \n",
      " 2   model             548438 non-null  object \n",
      " 3   trim              548186 non-null  object \n",
      " 4   body              545642 non-null  object \n",
      " 5   transmission      493484 non-null  object \n",
      " 6   state             558836 non-null  object \n",
      " 7   condition         547043 non-null  float64\n",
      " 8   odometer          558743 non-null  float64\n",
      " 9   color             558088 non-null  object \n",
      " 10  interior          558088 non-null  object \n",
      " 11  seller            558837 non-null  object \n",
      " 12  mmr               558837 non-null  int64  \n",
      " 13  sellingprice      558837 non-null  int64  \n",
      " 14  Discounted_Price  558837 non-null  float64\n",
      "dtypes: float64(3), int64(3), object(9)\n",
      "memory usage: 64.0+ MB\n",
      "None\n"
     ]
    }
   ],
   "source": [
    "print(cp.isnull().sum())\n",
    "print(cp.info())"
   ]
  },
  {
   "cell_type": "code",
   "execution_count": 80,
   "id": "82b1db93",
   "metadata": {},
   "outputs": [],
   "source": [
    "condition_avg=cp['condition'].mean()"
   ]
  },
  {
   "cell_type": "code",
   "execution_count": 81,
   "id": "b5f5fdf0",
   "metadata": {},
   "outputs": [],
   "source": [
    "cp['condition']= cp['condition'].fillna(condition_avg)"
   ]
  },
  {
   "cell_type": "code",
   "execution_count": 82,
   "id": "2fc0ce39",
   "metadata": {},
   "outputs": [],
   "source": [
    "odometer_avg=cp['odometer'].mean()"
   ]
  },
  {
   "cell_type": "code",
   "execution_count": 83,
   "id": "6194092f",
   "metadata": {},
   "outputs": [],
   "source": [
    "cp['odometer']= cp['odometer'].fillna(odometer_avg)"
   ]
  },
  {
   "cell_type": "code",
   "execution_count": 85,
   "id": "045a0413",
   "metadata": {},
   "outputs": [
    {
     "data": {
      "text/plain": [
       "0    fl\n",
       "dtype: object"
      ]
     },
     "execution_count": 85,
     "metadata": {},
     "output_type": "execute_result"
    }
   ],
   "source": [
    "state=cp['state'].mode()\n",
    "state"
   ]
  },
  {
   "cell_type": "code",
   "execution_count": 104,
   "id": "65e6b4c1",
   "metadata": {},
   "outputs": [],
   "source": [
    "cp['state']=cp['state'].fillna('fl')"
   ]
  },
  {
   "cell_type": "code",
   "execution_count": 87,
   "id": "4509037d",
   "metadata": {},
   "outputs": [
    {
     "data": {
      "text/plain": [
       "0    black\n",
       "dtype: object"
      ]
     },
     "execution_count": 87,
     "metadata": {},
     "output_type": "execute_result"
    }
   ],
   "source": [
    "color=cp['color'].mode()\n",
    "color"
   ]
  },
  {
   "cell_type": "code",
   "execution_count": 106,
   "id": "b0dfb420",
   "metadata": {},
   "outputs": [],
   "source": [
    "cp['color']=cp['color'].fillna('black')"
   ]
  },
  {
   "cell_type": "code",
   "execution_count": 89,
   "id": "7bb2a86d",
   "metadata": {},
   "outputs": [
    {
     "data": {
      "text/plain": [
       "0    black\n",
       "dtype: object"
      ]
     },
     "execution_count": 89,
     "metadata": {},
     "output_type": "execute_result"
    }
   ],
   "source": [
    "interior=cp['interior'].mode()\n",
    "interior"
   ]
  },
  {
   "cell_type": "code",
   "execution_count": 107,
   "id": "54ecab94",
   "metadata": {},
   "outputs": [],
   "source": [
    "cp['interior']=cp['interior'].fillna('black')"
   ]
  },
  {
   "cell_type": "code",
   "execution_count": 91,
   "id": "abf8cbb9",
   "metadata": {},
   "outputs": [
    {
     "data": {
      "text/plain": [
       "0    Sedan\n",
       "dtype: object"
      ]
     },
     "execution_count": 91,
     "metadata": {},
     "output_type": "execute_result"
    }
   ],
   "source": [
    "body=cp['body'].mode()\n",
    "body"
   ]
  },
  {
   "cell_type": "code",
   "execution_count": 108,
   "id": "e251b1a4",
   "metadata": {},
   "outputs": [],
   "source": [
    "cp['body']=cp['body'].fillna('Sedan')"
   ]
  },
  {
   "cell_type": "code",
   "execution_count": 93,
   "id": "b71d37de",
   "metadata": {},
   "outputs": [
    {
     "data": {
      "text/plain": [
       "0    automatic\n",
       "dtype: object"
      ]
     },
     "execution_count": 93,
     "metadata": {},
     "output_type": "execute_result"
    }
   ],
   "source": [
    "tran=cp['transmission'].mode()\n",
    "tran"
   ]
  },
  {
   "cell_type": "code",
   "execution_count": 109,
   "id": "676b0bbc",
   "metadata": {},
   "outputs": [],
   "source": [
    "cp['transmission']=cp['transmission'].fillna('automatic')"
   ]
  },
  {
   "cell_type": "code",
   "execution_count": 95,
   "id": "41e14c85",
   "metadata": {},
   "outputs": [
    {
     "data": {
      "text/plain": [
       "0    Ford\n",
       "dtype: object"
      ]
     },
     "execution_count": 95,
     "metadata": {},
     "output_type": "execute_result"
    }
   ],
   "source": [
    "make=cp['make'].mode()\n",
    "make"
   ]
  },
  {
   "cell_type": "code",
   "execution_count": 110,
   "id": "ae693717",
   "metadata": {},
   "outputs": [],
   "source": [
    "cp['make']=cp['make'].fillna('Ford')"
   ]
  },
  {
   "cell_type": "code",
   "execution_count": 97,
   "id": "4806aaa9",
   "metadata": {},
   "outputs": [
    {
     "data": {
      "text/plain": [
       "0    Altima\n",
       "dtype: object"
      ]
     },
     "execution_count": 97,
     "metadata": {},
     "output_type": "execute_result"
    }
   ],
   "source": [
    "model=cp['model'].mode()\n",
    "model"
   ]
  },
  {
   "cell_type": "code",
   "execution_count": 111,
   "id": "fc6c382a",
   "metadata": {},
   "outputs": [],
   "source": [
    "cp['model']=cp['model'].fillna('Altima')"
   ]
  },
  {
   "cell_type": "code",
   "execution_count": 112,
   "id": "fe9320af",
   "metadata": {},
   "outputs": [
    {
     "data": {
      "text/plain": [
       "0    Base\n",
       "dtype: object"
      ]
     },
     "execution_count": 112,
     "metadata": {},
     "output_type": "execute_result"
    }
   ],
   "source": [
    "trim=cp['trim'].mode()\n",
    "trim"
   ]
  },
  {
   "cell_type": "code",
   "execution_count": 113,
   "id": "8a7adcc4",
   "metadata": {},
   "outputs": [],
   "source": [
    "cp['trim']=cp['trim'].fillna('Base')"
   ]
  },
  {
   "cell_type": "code",
   "execution_count": 114,
   "id": "69dd1d6e",
   "metadata": {},
   "outputs": [
    {
     "name": "stdout",
     "output_type": "stream",
     "text": [
      "year                0\n",
      "make                0\n",
      "model               0\n",
      "trim                0\n",
      "body                0\n",
      "transmission        0\n",
      "state               0\n",
      "condition           0\n",
      "odometer            0\n",
      "color               0\n",
      "interior            0\n",
      "seller              0\n",
      "mmr                 0\n",
      "sellingprice        0\n",
      "Discounted_Price    0\n",
      "dtype: int64\n"
     ]
    }
   ],
   "source": [
    "print(cp.isnull().sum())"
   ]
  },
  {
   "cell_type": "code",
   "execution_count": null,
   "id": "6e554836",
   "metadata": {},
   "outputs": [],
   "source": []
  }
 ],
 "metadata": {
  "kernelspec": {
   "display_name": "Python 3 (ipykernel)",
   "language": "python",
   "name": "python3"
  },
  "language_info": {
   "codemirror_mode": {
    "name": "ipython",
    "version": 3
   },
   "file_extension": ".py",
   "mimetype": "text/x-python",
   "name": "python",
   "nbconvert_exporter": "python",
   "pygments_lexer": "ipython3",
   "version": "3.9.7"
  }
 },
 "nbformat": 4,
 "nbformat_minor": 5
}
