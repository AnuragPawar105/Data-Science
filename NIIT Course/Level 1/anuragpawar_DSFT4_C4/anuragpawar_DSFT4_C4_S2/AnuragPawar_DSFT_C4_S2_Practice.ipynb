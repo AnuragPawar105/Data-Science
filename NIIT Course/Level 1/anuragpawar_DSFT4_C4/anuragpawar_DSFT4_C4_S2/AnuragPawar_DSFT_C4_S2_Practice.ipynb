{
 "cells": [
  {
   "cell_type": "code",
   "execution_count": 45,
   "id": "eb8864c3",
   "metadata": {},
   "outputs": [
    {
     "name": "stdout",
     "output_type": "stream",
     "text": [
      "[[  1.   337.   118.   ...   9.65   1.     0.92]\n",
      " [  2.   324.   107.   ...   8.87   1.     0.76]\n",
      " [  3.   316.   104.   ...   8.     1.     0.72]\n",
      " ...\n",
      " [398.   330.   116.   ...   9.45   1.     0.91]\n",
      " [399.   312.   103.   ...   8.78   0.     0.67]\n",
      " [400.   333.   117.   ...   9.66   1.     0.95]]\n"
     ]
    }
   ],
   "source": [
    "import numpy as np\n",
    "ad=np.genfromtxt('DS1_C4_S2_Admission_Predict_Practice.csv',delimiter=',',skip_header=1)\n",
    "print(ad)"
   ]
  },
  {
   "cell_type": "code",
   "execution_count": 46,
   "id": "aab9fa68",
   "metadata": {},
   "outputs": [
    {
     "name": "stdout",
     "output_type": "stream",
     "text": [
      "The total number of students with GRE score greater than 320 is 163\n"
     ]
    }
   ],
   "source": [
    "# TASK 1\n",
    "ind=np.where(ad[:,1]>320)\n",
    "print(\"The total number of students with GRE score greater than 320 is\",np.size(ind))"
   ]
  },
  {
   "cell_type": "code",
   "execution_count": 47,
   "id": "ef62f795",
   "metadata": {},
   "outputs": [
    {
     "name": "stdout",
     "output_type": "stream",
     "text": [
      "The admission possibilities of students with TOEFL score greater than 110 are:\n",
      " [[0.92 0.9  0.84 0.78 0.7  0.94 0.95 0.97 0.94 0.91 0.9  0.94 0.87 0.91\n",
      "  0.86 0.89 0.78 0.78 0.72 0.52 0.55 0.61 0.78 0.94 0.96 0.93 0.72 0.74\n",
      "  0.96 0.92 0.94 0.86 0.9  0.79 0.74 0.87 0.91 0.93 0.94 0.94 0.85 0.78\n",
      "  0.84 0.92 0.96 0.79 0.89 0.8  0.9  0.92 0.97 0.8  0.81 0.83 0.96 0.93\n",
      "  0.94 0.86 0.81 0.89 0.89 0.87 0.85 0.9  0.89 0.93 0.93 0.88 0.9  0.86\n",
      "  0.94 0.97 0.97 0.95 0.96 0.94 0.93 0.91 0.76 0.71 0.82 0.91 0.88 0.85\n",
      "  0.86 0.7  0.76 0.77 0.93 0.85 0.9  0.7  0.83 0.89 0.8  0.94 0.93 0.92\n",
      "  0.89 0.86 0.9  0.71 0.8  0.79 0.8  0.81 0.8  0.8  0.83 0.94 0.93 0.91\n",
      "  0.86 0.95 0.96 0.96 0.84 0.89 0.91 0.95]]\n"
     ]
    }
   ],
   "source": [
    "# TASK 2\n",
    "ind1=np.where(ad[:,2]>110)\n",
    "print(\"The admission possibilities of students with TOEFL score greater than 110 are:\\n\",ad[ind1,8])"
   ]
  },
  {
   "cell_type": "code",
   "execution_count": 48,
   "id": "7039b4c4",
   "metadata": {
    "scrolled": true
   },
   "outputs": [
    {
     "name": "stdout",
     "output_type": "stream",
     "text": [
      "[340. 340. 340. 340. 340. 340. 340. 340. 339. 339. 339.]\n",
      "The list of top 11 GRE scorer students is\n",
      " [[ 26.   340.   120.     5.     4.5    4.5    9.6    1.     0.94]\n",
      " [ 34.   340.   114.     5.     4.     4.     9.6    1.     0.9 ]\n",
      " [ 48.   339.   119.     5.     4.5    4.     9.7    0.     0.89]\n",
      " [ 82.   340.   120.     4.     5.     5.     9.5    1.     0.96]\n",
      " [ 85.   340.   115.     5.     4.5    4.5    9.45   1.     0.94]\n",
      " [131.   339.   114.     5.     4.     4.5    9.76   1.     0.96]\n",
      " [144.   340.   120.     4.     4.5    4.     9.92   1.     0.97]\n",
      " [149.   339.   116.     4.     4.     3.5    9.8    1.     0.96]\n",
      " [203.   340.   120.     5.     4.5    4.5    9.91   1.     0.97]\n",
      " [285.   340.   112.     4.     5.     4.5    9.66   1.     0.94]\n",
      " [385.   340.   113.     4.     5.     5.     9.74   1.     0.96]]\n",
      "[120. 120. 120. 120. 120. 120. 120. 120.]\n",
      "The list of top 8 TOEFL scorer students is\n",
      " [[ 26.   340.   120.     5.     4.5    4.5    9.6    1.     0.94]\n",
      " [ 82.   340.   120.     4.     5.     5.     9.5    1.     0.96]\n",
      " [ 98.   331.   120.     3.     4.     4.     8.96   1.     0.86]\n",
      " [144.   340.   120.     4.     4.5    4.     9.92   1.     0.97]\n",
      " [203.   340.   120.     5.     4.5    4.5    9.91   1.     0.97]\n",
      " [204.   334.   120.     5.     4.     5.     9.87   1.     0.97]\n",
      " [213.   338.   120.     4.     5.     5.     9.66   1.     0.95]\n",
      " [298.   320.   120.     3.     4.     4.5    9.11   0.     0.86]]\n"
     ]
    }
   ],
   "source": [
    "# TASK 3\n",
    "ad1=np.sort(ad[:,1])[:-12:-1]\n",
    "print(ad1)\n",
    "ind2=np.where(ad[:,1]>=339)\n",
    "print('The list of top 11 GRE scorer students is\\n',ad[ind2])\n",
    "gre2=np.sort(ad[:,2])[:-9:-1]\n",
    "print(gre2)\n",
    "ind3=np.where(ad[:,2]==120)\n",
    "print('The list of top 8 TOEFL scorer students is\\n',gre[ind3])"
   ]
  },
  {
   "cell_type": "code",
   "execution_count": 49,
   "id": "da856038",
   "metadata": {},
   "outputs": [
    {
     "name": "stdout",
     "output_type": "stream",
     "text": [
      "The students who qualify for fellowship are:\n",
      " [[113.   301.   107.     3.     3.5    3.5    8.34   1.     0.62]\n",
      " [210.   301.   104.     3.     3.5    4.     8.12   1.     0.68]\n",
      " [358.   301.   104.     2.     3.5    3.5    7.89   1.     0.68]]\n"
     ]
    }
   ],
   "source": [
    "# TASK 4\n",
    "ind4=np.where((ad[:,1]>300)&(ad[:,1]<305)&(ad[:,4]==3.5)&(ad[:,7]==1))\n",
    "print('The students who qualify for fellowship are:\\n',ad[ind4])"
   ]
  },
  {
   "cell_type": "code",
   "execution_count": 57,
   "id": "5ab69a89",
   "metadata": {},
   "outputs": [
    {
     "name": "stdout",
     "output_type": "stream",
     "text": [
      "[7768 7146 9500 8296 9038 9011 9902 8375 9691 7721 9641 9080 7326 7969\n",
      " 6449 7156 8238 6329 8826 5126 9987 6485 7462 6966 5449 9042 9626 8589\n",
      " 6550 5799 9492 5646 6968 7208 6398 9697 6412 7717 7138 8049 7468 5274\n",
      " 6305 6007 7528 9568 9021 5928 5950 7382 7443 9503 8635 5279 7533 5273\n",
      " 6220 7580 9751 8883 7560 7560 6409 9555 6613 8291 9215 9089 9144 6620\n",
      " 8034 7877 5306 8596 8623 7927 7364 8522 7323 6839 9108 6392 7291 8405\n",
      " 7426 5904 9821 9025 9398 8873 5970 7902 7952 7101 7782 8489 9174 6089\n",
      " 6794 5582 9475 5488 6840 7076 7185 9927 6388 5558 8907 6598 9565 5262\n",
      " 6241 5026 8915 7222 8780 7424 6741 8446 8067 7431 5589 8090 7881 8948\n",
      " 7275 8497 7244 8722 7147 8124 9087 5244 8243 5211 5968 6277 9187 8969\n",
      " 6712 6471 6603 8534 7031 5553 7372 8154 5737 5044 8317 6249 9001 8306\n",
      " 7348 8531 7956 5591 7550 6920 6301 9429 5391 5912 6419 6036 7020 9781\n",
      " 7796 8330 8602 9296 7828 9989 7296 6039 5639 9413 5047 6454 7809 9257\n",
      " 9579 5797 7927 9312 6551 8854 7340 7392 9915 9733 9303 6963 5626 7981\n",
      " 7581 7945 6526 5948 7247 8305 7799 5666 8075 9746 9670 9200 5143 8642\n",
      " 5674 9515 8543 5387 8973 8850 5625 8102 8370 8501 7301 7992 5280 6881\n",
      " 7103 8121 5823 9698 9191 8286 5140 5183 8255 9828 9904 9421 9980 5077\n",
      " 9368 5541 8014 6680 6275 9553 7284 7002 5381 8562 7039 9749 9352 7268\n",
      " 7093 7530 5372 6409 9902 9654 7670 7935 5120 7585 8527 8472 7335 8681\n",
      " 7080 7135 8310 6267 9848 5638 8731 6045 6822 6806 7313 8961 6779 5836\n",
      " 6311 8930 7176 9273 9032 6398 9895 5835 6374 9943 6338 6919 9150 8913\n",
      " 9010 9067 6838 7803 7967 7974 8402 9013 6082 8660 8108 6525 9096 6843\n",
      " 8426 6487 7663 8350 7885 9247 8445 5733 9424 9789 6422 7320 7728 6528\n",
      " 9610 8350 6567 6445 5029 8418 7144 5513 5523 9827 6067 9102 8226 5685\n",
      " 7042 7701 7318 8203 7248 8336 5069 5629 7060 9753 6466 6868 6655 6230\n",
      " 6494 6783 6660 7007 5454 6945 6813 6406 5657 6755 7813 9739 8604 9612\n",
      " 8079 6869 7329 9060 6748 5874 5435 7558 7223 9736 8880 6636 8600 5944\n",
      " 7366 7939 6113 8601 8639 9144 9502 5639 8474 8977 5890 6487 6917 5666\n",
      " 8808 5482 8692 6840 5825 8012 5382 7652]\n"
     ]
    }
   ],
   "source": [
    "# TASK 5\n",
    "scholarship=np.random.randint(5000,10000,400)\n",
    "sch=np.atleast_1d(scholarship)\n",
    "print(sch)"
   ]
  },
  {
   "cell_type": "code",
   "execution_count": 66,
   "id": "2a585731",
   "metadata": {},
   "outputs": [
    {
     "data": {
      "text/plain": [
       "array([[1.000e+00, 3.370e+02, 1.180e+02, ..., 1.000e+00, 9.200e-01,\n",
       "        7.768e+03],\n",
       "       [2.000e+00, 3.240e+02, 1.070e+02, ..., 1.000e+00, 7.600e-01,\n",
       "        7.146e+03],\n",
       "       [3.000e+00, 3.160e+02, 1.040e+02, ..., 1.000e+00, 7.200e-01,\n",
       "        9.500e+03],\n",
       "       ...,\n",
       "       [3.980e+02, 3.300e+02, 1.160e+02, ..., 1.000e+00, 9.100e-01,\n",
       "        8.012e+03],\n",
       "       [3.990e+02, 3.120e+02, 1.030e+02, ..., 0.000e+00, 6.700e-01,\n",
       "        5.382e+03],\n",
       "       [4.000e+02, 3.330e+02, 1.170e+02, ..., 1.000e+00, 9.500e-01,\n",
       "        7.652e+03]])"
      ]
     },
     "execution_count": 66,
     "metadata": {},
     "output_type": "execute_result"
    }
   ],
   "source": [
    "ad = np.insert(ad, 9, sch,axis=1)\n",
    "ad"
   ]
  },
  {
   "cell_type": "code",
   "execution_count": 69,
   "id": "a8456a8b",
   "metadata": {},
   "outputs": [
    {
     "name": "stdout",
     "output_type": "stream",
     "text": [
      "The SOP scores of students who recieved more than $9000 scholarship are\n",
      " [[3.  2.  4.5 3.  2.  3.5 4.  3.  4.5 4.5 3.  5.  5.  4.  1.5 3.  4.  3.\n",
      "  3.5 3.5 2.  4.5 3.5 4.5 3.  3.5 4.  3.  3.5 4.5 5.  1.5 2.  4.  4.  3.5\n",
      "  2.5 3.  4.5 4.5 4.  4.5 2.5 3.5 3.5 5.  3.5 4.  2.5 5.  4.5 4.  2.  3.5\n",
      "  3.5 3.  4.  4.  2.5 2.5 5.  4.5 4.  1.  2.5 3.  2.5 4.  3.5 1.5 1.  2.5\n",
      "  3.  3.  1.5 4.  2.5 1.  3.  3.  5. ]]\n",
      "The SOP scores of students who recieved more than $9000 scholarship are\n",
      " [[3.5 3.  3.  4.  1.5 4.  4.5 2.  4.5 3.5 3.  5.  4.  5.  3.5 2.  3.  3.\n",
      "  3.5 4.  3.  3.5 3.  3.5 3.  3.5 4.5 3.  3.5 3.  5.  3.  3.  4.5 4.5 3.5\n",
      "  2.5 3.5 4.5 4.  5.  4.  3.  3.  4.  4.  3.  3.5 3.5 4.  4.  4.5 3.5 3.\n",
      "  4.  2.5 4.  5.  3.  3.  4.5 4.  3.5 2.  2.  2.5 3.  3.5 3.  2.  2.5 4.\n",
      "  2.  3.5 2.  3.5 3.  2.5 3.  3.5 5. ]]\n"
     ]
    }
   ],
   "source": [
    "# TASK 6\n",
    "ind5 = np.where(ad[:,9]>9000)\n",
    "print('The SOP scores of students who recieved more than $9000 scholarship are\\n',ad[ind5,4])\n",
    "print('The LOR scores of students who recieved more than $9000 scholarship are\\n',ad[ind5,5])"
   ]
  },
  {
   "cell_type": "code",
   "execution_count": 70,
   "id": "86a5e938",
   "metadata": {},
   "outputs": [
    {
     "data": {
      "text/plain": [
       "(array([  0,  22,  23,  24,  25,  32,  52,  70,  81,  97,  98, 107, 108,\n",
       "        120, 121, 129, 138, 141, 143, 148, 151, 171, 176, 187, 193, 202,\n",
       "        203, 212, 213, 214, 215, 259, 285, 286, 325, 337, 361, 372, 385,\n",
       "        397, 399], dtype=int64),)"
      ]
     },
     "execution_count": 70,
     "metadata": {},
     "output_type": "execute_result"
    }
   ],
   "source": [
    "# TASK 7\n",
    "ind6 = np.where((ad[:,1]>315)&(ad[:,2]>115)&(ad[:,7]==1))\n",
    "ind6"
   ]
  },
  {
   "cell_type": "code",
   "execution_count": 72,
   "id": "79aca61d",
   "metadata": {},
   "outputs": [
    {
     "name": "stdout",
     "output_type": "stream",
     "text": [
      "The serial numbers of the student eligible for scholsrship are:\n",
      " [[  1.  23.  24.  25.  26.  33.  53.  71.  82.  98.  99. 108. 109. 121.\n",
      "  122. 130. 139. 142. 144. 149. 152. 172. 177. 188. 194. 203. 204. 213.\n",
      "  214. 215. 216. 260. 286. 287. 326. 338. 362. 373. 386. 398. 400.]]\n"
     ]
    }
   ],
   "source": [
    "print('The serial numbers of the student eligible for scholsrship are:\\n',ad[ind6,0])"
   ]
  },
  {
   "cell_type": "code",
   "execution_count": 73,
   "id": "1e597c44",
   "metadata": {},
   "outputs": [
    {
     "name": "stdout",
     "output_type": "stream",
     "text": [
      "There are 41 such students.\n"
     ]
    }
   ],
   "source": [
    "print(\"There are\",np.size(ind6),\"such students.\")"
   ]
  },
  {
   "cell_type": "code",
   "execution_count": 74,
   "id": "79c04ebc",
   "metadata": {},
   "outputs": [
    {
     "data": {
      "text/plain": [
       "array([[ 8768.,  8462.,  7966.,  6449., 10042.,  7968.,  9635.,  9034.,\n",
       "         7392.,  7089.,  7794.,  6558.,  9907.,  9067.,  8431.,  9722.,\n",
       "        10187.,  7471.,  9534.,  6737.,  7249., 10296.,  6639.,  9854.,\n",
       "         7963.,  8799.,  6666.,  9543.,  6387.,  9973.,  9850.,  8935.,\n",
       "         7398., 10895.,  7445.,  8701., 10739.,  8223.,  6639.,  9012.,\n",
       "         8652.]])"
      ]
     },
     "execution_count": 74,
     "metadata": {},
     "output_type": "execute_result"
    }
   ],
   "source": [
    "ad[ind6,9]+1000"
   ]
  },
  {
   "cell_type": "code",
   "execution_count": 75,
   "id": "bd3203fa",
   "metadata": {},
   "outputs": [],
   "source": [
    "ad[ind6,9]=ad[ind6,9]+1000"
   ]
  },
  {
   "cell_type": "code",
   "execution_count": 76,
   "id": "1672cd17",
   "metadata": {},
   "outputs": [
    {
     "data": {
      "text/plain": [
       "array([[1.000e+00, 3.370e+02, 1.180e+02, ..., 1.000e+00, 9.200e-01,\n",
       "        8.768e+03],\n",
       "       [2.000e+00, 3.240e+02, 1.070e+02, ..., 1.000e+00, 7.600e-01,\n",
       "        7.146e+03],\n",
       "       [3.000e+00, 3.160e+02, 1.040e+02, ..., 1.000e+00, 7.200e-01,\n",
       "        9.500e+03],\n",
       "       ...,\n",
       "       [3.980e+02, 3.300e+02, 1.160e+02, ..., 1.000e+00, 9.100e-01,\n",
       "        9.012e+03],\n",
       "       [3.990e+02, 3.120e+02, 1.030e+02, ..., 0.000e+00, 6.700e-01,\n",
       "        5.382e+03],\n",
       "       [4.000e+02, 3.330e+02, 1.170e+02, ..., 1.000e+00, 9.500e-01,\n",
       "        8.652e+03]])"
      ]
     },
     "execution_count": 76,
     "metadata": {},
     "output_type": "execute_result"
    }
   ],
   "source": [
    "ad"
   ]
  },
  {
   "cell_type": "code",
   "execution_count": null,
   "id": "68412418",
   "metadata": {},
   "outputs": [],
   "source": []
  }
 ],
 "metadata": {
  "kernelspec": {
   "display_name": "Python 3 (ipykernel)",
   "language": "python",
   "name": "python3"
  },
  "language_info": {
   "codemirror_mode": {
    "name": "ipython",
    "version": 3
   },
   "file_extension": ".py",
   "mimetype": "text/x-python",
   "name": "python",
   "nbconvert_exporter": "python",
   "pygments_lexer": "ipython3",
   "version": "3.9.7"
  }
 },
 "nbformat": 4,
 "nbformat_minor": 5
}
