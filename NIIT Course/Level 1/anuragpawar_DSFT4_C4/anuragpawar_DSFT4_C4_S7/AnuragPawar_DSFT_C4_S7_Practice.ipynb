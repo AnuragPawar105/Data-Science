{
 "cells": [
  {
   "cell_type": "code",
   "execution_count": 1,
   "id": "75fbcecf",
   "metadata": {},
   "outputs": [],
   "source": [
    "import mysql.connector as sql"
   ]
  },
  {
   "cell_type": "code",
   "execution_count": 36,
   "id": "6ea993d3",
   "metadata": {},
   "outputs": [],
   "source": [
    "db = sql.connect(host='localhost',user='root',password='12ka442ka1',database='hr')"
   ]
  },
  {
   "cell_type": "code",
   "execution_count": 40,
   "id": "0055c255",
   "metadata": {},
   "outputs": [],
   "source": [
    "mycursor = db.cursor()"
   ]
  },
  {
   "cell_type": "code",
   "execution_count": 42,
   "id": "7a136115",
   "metadata": {},
   "outputs": [],
   "source": [
    "mycursor.execute(\"SELECT VERSION()\")"
   ]
  },
  {
   "cell_type": "code",
   "execution_count": 39,
   "id": "a5091c22",
   "metadata": {},
   "outputs": [
    {
     "name": "stdout",
     "output_type": "stream",
     "text": [
      "('Roma', 'Italy', 'IT')\n",
      "('Venice', 'Italy', 'IT')\n",
      "('Tokyo', 'Japan', 'JP')\n",
      "('Hiroshima', 'Japan', 'JP')\n",
      "('Southlake', 'United States of America', 'US')\n",
      "('South San Francisco', 'United States of America', 'US')\n",
      "('South Brunswick', 'United States of America', 'US')\n",
      "('Seattle', 'United States of America', 'US')\n",
      "('Toronto', 'Canada', 'CA')\n",
      "('Whitehorse', 'Canada', 'CA')\n",
      "('Beijing', 'China', 'CN')\n",
      "('Bombay', 'India', 'IN')\n",
      "('Sydney', 'Australia', 'AU')\n",
      "('Singapore', 'Singapore', 'SG')\n",
      "('London', 'United Kingdom', 'UK')\n",
      "('Oxford', 'United Kingdom', 'UK')\n",
      "('Stretford', 'United Kingdom', 'UK')\n",
      "('Munich', 'Germany', 'DE')\n",
      "('Sao Paulo', 'Brazil', 'BR')\n",
      "('Geneva', 'Switzerland', 'CH')\n",
      "('Bern', 'Switzerland', 'CH')\n",
      "('Utrecht', 'Netherlands', 'NL')\n",
      "('Mexico City', 'Mexico', 'MX')\n"
     ]
    }
   ],
   "source": [
    "# TASK 1\n",
    "query=\"select locations.city, countries.country_name, countries.country_id from locations join countries on locations.country_id= countries.country_id\"\n",
    "mycursor.execute(query)\n",
    "data1= mycursor.fetchall()\n",
    "for x in data1:\n",
    "    print(x)"
   ]
  },
  {
   "cell_type": "code",
   "execution_count": 11,
   "id": "dce033f2",
   "metadata": {},
   "outputs": [
    {
     "name": "stdout",
     "output_type": "stream",
     "text": [
      "     employee_id first_name last_name  department_id\n",
      "0            100     Steven      King           90.0\n",
      "1            101      Neena   Kochhar           90.0\n",
      "2            102        Lex   De Haan           90.0\n",
      "3            103  Alexander    Hunold           60.0\n",
      "4            104      Bruce     Ernst           60.0\n",
      "..           ...        ...       ...            ...\n",
      "102          202        Pat       Fay           20.0\n",
      "103          203      Susan    Mavris           40.0\n",
      "104          204    Hermann      Baer           70.0\n",
      "105          205    Shelley   Higgins          110.0\n",
      "106          206    William     Gietz          110.0\n",
      "\n",
      "[107 rows x 4 columns]\n"
     ]
    }
   ],
   "source": [
    "# TASK 2\n",
    "import pandas as pd\n",
    "emp_data=pd.read_sql_query('select employee_id, first_name, last_name, department_id from employees',db)\n",
    "print(emp_data)"
   ]
  },
  {
   "cell_type": "code",
   "execution_count": 13,
   "id": "6fc31a7a",
   "metadata": {},
   "outputs": [
    {
     "name": "stdout",
     "output_type": "stream",
     "text": [
      "    location_id                 city country_id\n",
      "0          1000                 Roma         IT\n",
      "1          1100               Venice         IT\n",
      "2          1200                Tokyo         JP\n",
      "3          1300            Hiroshima         JP\n",
      "4          1400            Southlake         US\n",
      "5          1500  South San Francisco         US\n",
      "6          1600      South Brunswick         US\n",
      "7          1700              Seattle         US\n",
      "8          1800              Toronto         CA\n",
      "9          1900           Whitehorse         CA\n",
      "10         2000              Beijing         CN\n",
      "11         2100               Bombay         IN\n",
      "12         2200               Sydney         AU\n",
      "13         2300            Singapore         SG\n",
      "14         2400               London         UK\n",
      "15         2500               Oxford         UK\n",
      "16         2600            Stretford         UK\n",
      "17         2700               Munich         DE\n",
      "18         2800            Sao Paulo         BR\n",
      "19         2900               Geneva         CH\n",
      "20         3000                 Bern         CH\n",
      "21         3100              Utrecht         NL\n",
      "22         3200          Mexico City         MX\n"
     ]
    }
   ],
   "source": [
    "loc_data=pd.read_sql_query('select location_id, city, country_id from locations',db)\n",
    "print(loc_data)"
   ]
  },
  {
   "cell_type": "code",
   "execution_count": 14,
   "id": "9e5cf22c",
   "metadata": {},
   "outputs": [
    {
     "name": "stdout",
     "output_type": "stream",
     "text": [
      "    department_id  location_id\n",
      "0              60         1400\n",
      "1              50         1500\n",
      "2              10         1700\n",
      "3              30         1700\n",
      "4              90         1700\n",
      "5             100         1700\n",
      "6             110         1700\n",
      "7             120         1700\n",
      "8             130         1700\n",
      "9             140         1700\n",
      "10            150         1700\n",
      "11            160         1700\n",
      "12            170         1700\n",
      "13            180         1700\n",
      "14            190         1700\n",
      "15            200         1700\n",
      "16            210         1700\n",
      "17            220         1700\n",
      "18            230         1700\n",
      "19            240         1700\n",
      "20            250         1700\n",
      "21            260         1700\n",
      "22            270         1700\n",
      "23             20         1800\n",
      "24             40         2400\n",
      "25             80         2500\n",
      "26             70         2700\n"
     ]
    }
   ],
   "source": [
    "dep_data=pd.read_sql_query('select department_id, location_id from departments',db)\n",
    "print(dep_data)"
   ]
  },
  {
   "cell_type": "code",
   "execution_count": 16,
   "id": "df0a0524",
   "metadata": {},
   "outputs": [
    {
     "name": "stdout",
     "output_type": "stream",
     "text": [
      "   country_id              country_name\n",
      "0          AR                 Argentina\n",
      "1          AU                 Australia\n",
      "2          BE                   Belgium\n",
      "3          BR                    Brazil\n",
      "4          CA                    Canada\n",
      "5          CH               Switzerland\n",
      "6          CN                     China\n",
      "7          DE                   Germany\n",
      "8          DK                   Denmark\n",
      "9          EG                     Egypt\n",
      "10         FR                    France\n",
      "11         HK                  HongKong\n",
      "12         IL                    Israel\n",
      "13         IN                     India\n",
      "14         IT                     Italy\n",
      "15         JP                     Japan\n",
      "16         KW                    Kuwait\n",
      "17         MX                    Mexico\n",
      "18         NG                   Nigeria\n",
      "19         NL               Netherlands\n",
      "20         SG                 Singapore\n",
      "21         UK            United Kingdom\n",
      "22         US  United States of America\n",
      "23         ZM                    Zambia\n",
      "24         ZW                  Zimbabwe\n"
     ]
    }
   ],
   "source": [
    "con_data=pd.read_sql_query('select country_id, country_name from countries',db)\n",
    "print(con_data)"
   ]
  },
  {
   "cell_type": "code",
   "execution_count": 17,
   "id": "99c47609",
   "metadata": {},
   "outputs": [
    {
     "data": {
      "text/html": [
       "<div>\n",
       "<style scoped>\n",
       "    .dataframe tbody tr th:only-of-type {\n",
       "        vertical-align: middle;\n",
       "    }\n",
       "\n",
       "    .dataframe tbody tr th {\n",
       "        vertical-align: top;\n",
       "    }\n",
       "\n",
       "    .dataframe thead th {\n",
       "        text-align: right;\n",
       "    }\n",
       "</style>\n",
       "<table border=\"1\" class=\"dataframe\">\n",
       "  <thead>\n",
       "    <tr style=\"text-align: right;\">\n",
       "      <th></th>\n",
       "      <th>employee_id</th>\n",
       "      <th>first_name</th>\n",
       "      <th>last_name</th>\n",
       "      <th>department_id</th>\n",
       "      <th>location_id</th>\n",
       "    </tr>\n",
       "  </thead>\n",
       "  <tbody>\n",
       "    <tr>\n",
       "      <th>0</th>\n",
       "      <td>100</td>\n",
       "      <td>Steven</td>\n",
       "      <td>King</td>\n",
       "      <td>90.0</td>\n",
       "      <td>1700</td>\n",
       "    </tr>\n",
       "    <tr>\n",
       "      <th>1</th>\n",
       "      <td>101</td>\n",
       "      <td>Neena</td>\n",
       "      <td>Kochhar</td>\n",
       "      <td>90.0</td>\n",
       "      <td>1700</td>\n",
       "    </tr>\n",
       "    <tr>\n",
       "      <th>2</th>\n",
       "      <td>102</td>\n",
       "      <td>Lex</td>\n",
       "      <td>De Haan</td>\n",
       "      <td>90.0</td>\n",
       "      <td>1700</td>\n",
       "    </tr>\n",
       "    <tr>\n",
       "      <th>3</th>\n",
       "      <td>103</td>\n",
       "      <td>Alexander</td>\n",
       "      <td>Hunold</td>\n",
       "      <td>60.0</td>\n",
       "      <td>1400</td>\n",
       "    </tr>\n",
       "    <tr>\n",
       "      <th>4</th>\n",
       "      <td>104</td>\n",
       "      <td>Bruce</td>\n",
       "      <td>Ernst</td>\n",
       "      <td>60.0</td>\n",
       "      <td>1400</td>\n",
       "    </tr>\n",
       "    <tr>\n",
       "      <th>...</th>\n",
       "      <td>...</td>\n",
       "      <td>...</td>\n",
       "      <td>...</td>\n",
       "      <td>...</td>\n",
       "      <td>...</td>\n",
       "    </tr>\n",
       "    <tr>\n",
       "      <th>101</th>\n",
       "      <td>202</td>\n",
       "      <td>Pat</td>\n",
       "      <td>Fay</td>\n",
       "      <td>20.0</td>\n",
       "      <td>1800</td>\n",
       "    </tr>\n",
       "    <tr>\n",
       "      <th>102</th>\n",
       "      <td>203</td>\n",
       "      <td>Susan</td>\n",
       "      <td>Mavris</td>\n",
       "      <td>40.0</td>\n",
       "      <td>2400</td>\n",
       "    </tr>\n",
       "    <tr>\n",
       "      <th>103</th>\n",
       "      <td>204</td>\n",
       "      <td>Hermann</td>\n",
       "      <td>Baer</td>\n",
       "      <td>70.0</td>\n",
       "      <td>2700</td>\n",
       "    </tr>\n",
       "    <tr>\n",
       "      <th>104</th>\n",
       "      <td>205</td>\n",
       "      <td>Shelley</td>\n",
       "      <td>Higgins</td>\n",
       "      <td>110.0</td>\n",
       "      <td>1700</td>\n",
       "    </tr>\n",
       "    <tr>\n",
       "      <th>105</th>\n",
       "      <td>206</td>\n",
       "      <td>William</td>\n",
       "      <td>Gietz</td>\n",
       "      <td>110.0</td>\n",
       "      <td>1700</td>\n",
       "    </tr>\n",
       "  </tbody>\n",
       "</table>\n",
       "<p>106 rows × 5 columns</p>\n",
       "</div>"
      ],
      "text/plain": [
       "     employee_id first_name last_name  department_id  location_id\n",
       "0            100     Steven      King           90.0         1700\n",
       "1            101      Neena   Kochhar           90.0         1700\n",
       "2            102        Lex   De Haan           90.0         1700\n",
       "3            103  Alexander    Hunold           60.0         1400\n",
       "4            104      Bruce     Ernst           60.0         1400\n",
       "..           ...        ...       ...            ...          ...\n",
       "101          202        Pat       Fay           20.0         1800\n",
       "102          203      Susan    Mavris           40.0         2400\n",
       "103          204    Hermann      Baer           70.0         2700\n",
       "104          205    Shelley   Higgins          110.0         1700\n",
       "105          206    William     Gietz          110.0         1700\n",
       "\n",
       "[106 rows x 5 columns]"
      ]
     },
     "execution_count": 17,
     "metadata": {},
     "output_type": "execute_result"
    }
   ],
   "source": [
    "df1=pd.merge(emp_data,dep_data, on='department_id')\n",
    "df1"
   ]
  },
  {
   "cell_type": "code",
   "execution_count": 19,
   "id": "42afce4c",
   "metadata": {},
   "outputs": [
    {
     "data": {
      "text/html": [
       "<div>\n",
       "<style scoped>\n",
       "    .dataframe tbody tr th:only-of-type {\n",
       "        vertical-align: middle;\n",
       "    }\n",
       "\n",
       "    .dataframe tbody tr th {\n",
       "        vertical-align: top;\n",
       "    }\n",
       "\n",
       "    .dataframe thead th {\n",
       "        text-align: right;\n",
       "    }\n",
       "</style>\n",
       "<table border=\"1\" class=\"dataframe\">\n",
       "  <thead>\n",
       "    <tr style=\"text-align: right;\">\n",
       "      <th></th>\n",
       "      <th>employee_id</th>\n",
       "      <th>first_name</th>\n",
       "      <th>last_name</th>\n",
       "      <th>department_id</th>\n",
       "      <th>location_id</th>\n",
       "      <th>city</th>\n",
       "      <th>country_id</th>\n",
       "    </tr>\n",
       "  </thead>\n",
       "  <tbody>\n",
       "    <tr>\n",
       "      <th>0</th>\n",
       "      <td>100</td>\n",
       "      <td>Steven</td>\n",
       "      <td>King</td>\n",
       "      <td>90.0</td>\n",
       "      <td>1700</td>\n",
       "      <td>Seattle</td>\n",
       "      <td>US</td>\n",
       "    </tr>\n",
       "    <tr>\n",
       "      <th>1</th>\n",
       "      <td>101</td>\n",
       "      <td>Neena</td>\n",
       "      <td>Kochhar</td>\n",
       "      <td>90.0</td>\n",
       "      <td>1700</td>\n",
       "      <td>Seattle</td>\n",
       "      <td>US</td>\n",
       "    </tr>\n",
       "    <tr>\n",
       "      <th>2</th>\n",
       "      <td>102</td>\n",
       "      <td>Lex</td>\n",
       "      <td>De Haan</td>\n",
       "      <td>90.0</td>\n",
       "      <td>1700</td>\n",
       "      <td>Seattle</td>\n",
       "      <td>US</td>\n",
       "    </tr>\n",
       "    <tr>\n",
       "      <th>3</th>\n",
       "      <td>108</td>\n",
       "      <td>Nancy</td>\n",
       "      <td>Greenberg</td>\n",
       "      <td>100.0</td>\n",
       "      <td>1700</td>\n",
       "      <td>Seattle</td>\n",
       "      <td>US</td>\n",
       "    </tr>\n",
       "    <tr>\n",
       "      <th>4</th>\n",
       "      <td>109</td>\n",
       "      <td>Daniel</td>\n",
       "      <td>Faviet</td>\n",
       "      <td>100.0</td>\n",
       "      <td>1700</td>\n",
       "      <td>Seattle</td>\n",
       "      <td>US</td>\n",
       "    </tr>\n",
       "    <tr>\n",
       "      <th>...</th>\n",
       "      <td>...</td>\n",
       "      <td>...</td>\n",
       "      <td>...</td>\n",
       "      <td>...</td>\n",
       "      <td>...</td>\n",
       "      <td>...</td>\n",
       "      <td>...</td>\n",
       "    </tr>\n",
       "    <tr>\n",
       "      <th>101</th>\n",
       "      <td>179</td>\n",
       "      <td>Charles</td>\n",
       "      <td>Johnson</td>\n",
       "      <td>80.0</td>\n",
       "      <td>2500</td>\n",
       "      <td>Oxford</td>\n",
       "      <td>UK</td>\n",
       "    </tr>\n",
       "    <tr>\n",
       "      <th>102</th>\n",
       "      <td>201</td>\n",
       "      <td>Michael</td>\n",
       "      <td>Hartstein</td>\n",
       "      <td>20.0</td>\n",
       "      <td>1800</td>\n",
       "      <td>Toronto</td>\n",
       "      <td>CA</td>\n",
       "    </tr>\n",
       "    <tr>\n",
       "      <th>103</th>\n",
       "      <td>202</td>\n",
       "      <td>Pat</td>\n",
       "      <td>Fay</td>\n",
       "      <td>20.0</td>\n",
       "      <td>1800</td>\n",
       "      <td>Toronto</td>\n",
       "      <td>CA</td>\n",
       "    </tr>\n",
       "    <tr>\n",
       "      <th>104</th>\n",
       "      <td>203</td>\n",
       "      <td>Susan</td>\n",
       "      <td>Mavris</td>\n",
       "      <td>40.0</td>\n",
       "      <td>2400</td>\n",
       "      <td>London</td>\n",
       "      <td>UK</td>\n",
       "    </tr>\n",
       "    <tr>\n",
       "      <th>105</th>\n",
       "      <td>204</td>\n",
       "      <td>Hermann</td>\n",
       "      <td>Baer</td>\n",
       "      <td>70.0</td>\n",
       "      <td>2700</td>\n",
       "      <td>Munich</td>\n",
       "      <td>DE</td>\n",
       "    </tr>\n",
       "  </tbody>\n",
       "</table>\n",
       "<p>106 rows × 7 columns</p>\n",
       "</div>"
      ],
      "text/plain": [
       "     employee_id first_name  last_name  department_id  location_id     city  \\\n",
       "0            100     Steven       King           90.0         1700  Seattle   \n",
       "1            101      Neena    Kochhar           90.0         1700  Seattle   \n",
       "2            102        Lex    De Haan           90.0         1700  Seattle   \n",
       "3            108      Nancy  Greenberg          100.0         1700  Seattle   \n",
       "4            109     Daniel     Faviet          100.0         1700  Seattle   \n",
       "..           ...        ...        ...            ...          ...      ...   \n",
       "101          179    Charles    Johnson           80.0         2500   Oxford   \n",
       "102          201    Michael  Hartstein           20.0         1800  Toronto   \n",
       "103          202        Pat        Fay           20.0         1800  Toronto   \n",
       "104          203      Susan     Mavris           40.0         2400   London   \n",
       "105          204    Hermann       Baer           70.0         2700   Munich   \n",
       "\n",
       "    country_id  \n",
       "0           US  \n",
       "1           US  \n",
       "2           US  \n",
       "3           US  \n",
       "4           US  \n",
       "..         ...  \n",
       "101         UK  \n",
       "102         CA  \n",
       "103         CA  \n",
       "104         UK  \n",
       "105         DE  \n",
       "\n",
       "[106 rows x 7 columns]"
      ]
     },
     "execution_count": 19,
     "metadata": {},
     "output_type": "execute_result"
    }
   ],
   "source": [
    "df2=pd.merge(df1,loc_data, on='location_id')\n",
    "df2"
   ]
  },
  {
   "cell_type": "code",
   "execution_count": 21,
   "id": "83d37683",
   "metadata": {},
   "outputs": [
    {
     "data": {
      "text/html": [
       "<div>\n",
       "<style scoped>\n",
       "    .dataframe tbody tr th:only-of-type {\n",
       "        vertical-align: middle;\n",
       "    }\n",
       "\n",
       "    .dataframe tbody tr th {\n",
       "        vertical-align: top;\n",
       "    }\n",
       "\n",
       "    .dataframe thead th {\n",
       "        text-align: right;\n",
       "    }\n",
       "</style>\n",
       "<table border=\"1\" class=\"dataframe\">\n",
       "  <thead>\n",
       "    <tr style=\"text-align: right;\">\n",
       "      <th></th>\n",
       "      <th>employee_id</th>\n",
       "      <th>first_name</th>\n",
       "      <th>last_name</th>\n",
       "      <th>department_id</th>\n",
       "      <th>location_id</th>\n",
       "      <th>city</th>\n",
       "      <th>country_id</th>\n",
       "      <th>country_name</th>\n",
       "    </tr>\n",
       "  </thead>\n",
       "  <tbody>\n",
       "    <tr>\n",
       "      <th>0</th>\n",
       "      <td>100</td>\n",
       "      <td>Steven</td>\n",
       "      <td>King</td>\n",
       "      <td>90.0</td>\n",
       "      <td>1700</td>\n",
       "      <td>Seattle</td>\n",
       "      <td>US</td>\n",
       "      <td>United States of America</td>\n",
       "    </tr>\n",
       "    <tr>\n",
       "      <th>1</th>\n",
       "      <td>101</td>\n",
       "      <td>Neena</td>\n",
       "      <td>Kochhar</td>\n",
       "      <td>90.0</td>\n",
       "      <td>1700</td>\n",
       "      <td>Seattle</td>\n",
       "      <td>US</td>\n",
       "      <td>United States of America</td>\n",
       "    </tr>\n",
       "    <tr>\n",
       "      <th>2</th>\n",
       "      <td>102</td>\n",
       "      <td>Lex</td>\n",
       "      <td>De Haan</td>\n",
       "      <td>90.0</td>\n",
       "      <td>1700</td>\n",
       "      <td>Seattle</td>\n",
       "      <td>US</td>\n",
       "      <td>United States of America</td>\n",
       "    </tr>\n",
       "    <tr>\n",
       "      <th>3</th>\n",
       "      <td>108</td>\n",
       "      <td>Nancy</td>\n",
       "      <td>Greenberg</td>\n",
       "      <td>100.0</td>\n",
       "      <td>1700</td>\n",
       "      <td>Seattle</td>\n",
       "      <td>US</td>\n",
       "      <td>United States of America</td>\n",
       "    </tr>\n",
       "    <tr>\n",
       "      <th>4</th>\n",
       "      <td>109</td>\n",
       "      <td>Daniel</td>\n",
       "      <td>Faviet</td>\n",
       "      <td>100.0</td>\n",
       "      <td>1700</td>\n",
       "      <td>Seattle</td>\n",
       "      <td>US</td>\n",
       "      <td>United States of America</td>\n",
       "    </tr>\n",
       "    <tr>\n",
       "      <th>...</th>\n",
       "      <td>...</td>\n",
       "      <td>...</td>\n",
       "      <td>...</td>\n",
       "      <td>...</td>\n",
       "      <td>...</td>\n",
       "      <td>...</td>\n",
       "      <td>...</td>\n",
       "      <td>...</td>\n",
       "    </tr>\n",
       "    <tr>\n",
       "      <th>101</th>\n",
       "      <td>179</td>\n",
       "      <td>Charles</td>\n",
       "      <td>Johnson</td>\n",
       "      <td>80.0</td>\n",
       "      <td>2500</td>\n",
       "      <td>Oxford</td>\n",
       "      <td>UK</td>\n",
       "      <td>United Kingdom</td>\n",
       "    </tr>\n",
       "    <tr>\n",
       "      <th>102</th>\n",
       "      <td>203</td>\n",
       "      <td>Susan</td>\n",
       "      <td>Mavris</td>\n",
       "      <td>40.0</td>\n",
       "      <td>2400</td>\n",
       "      <td>London</td>\n",
       "      <td>UK</td>\n",
       "      <td>United Kingdom</td>\n",
       "    </tr>\n",
       "    <tr>\n",
       "      <th>103</th>\n",
       "      <td>201</td>\n",
       "      <td>Michael</td>\n",
       "      <td>Hartstein</td>\n",
       "      <td>20.0</td>\n",
       "      <td>1800</td>\n",
       "      <td>Toronto</td>\n",
       "      <td>CA</td>\n",
       "      <td>Canada</td>\n",
       "    </tr>\n",
       "    <tr>\n",
       "      <th>104</th>\n",
       "      <td>202</td>\n",
       "      <td>Pat</td>\n",
       "      <td>Fay</td>\n",
       "      <td>20.0</td>\n",
       "      <td>1800</td>\n",
       "      <td>Toronto</td>\n",
       "      <td>CA</td>\n",
       "      <td>Canada</td>\n",
       "    </tr>\n",
       "    <tr>\n",
       "      <th>105</th>\n",
       "      <td>204</td>\n",
       "      <td>Hermann</td>\n",
       "      <td>Baer</td>\n",
       "      <td>70.0</td>\n",
       "      <td>2700</td>\n",
       "      <td>Munich</td>\n",
       "      <td>DE</td>\n",
       "      <td>Germany</td>\n",
       "    </tr>\n",
       "  </tbody>\n",
       "</table>\n",
       "<p>106 rows × 8 columns</p>\n",
       "</div>"
      ],
      "text/plain": [
       "     employee_id first_name  last_name  department_id  location_id     city  \\\n",
       "0            100     Steven       King           90.0         1700  Seattle   \n",
       "1            101      Neena    Kochhar           90.0         1700  Seattle   \n",
       "2            102        Lex    De Haan           90.0         1700  Seattle   \n",
       "3            108      Nancy  Greenberg          100.0         1700  Seattle   \n",
       "4            109     Daniel     Faviet          100.0         1700  Seattle   \n",
       "..           ...        ...        ...            ...          ...      ...   \n",
       "101          179    Charles    Johnson           80.0         2500   Oxford   \n",
       "102          203      Susan     Mavris           40.0         2400   London   \n",
       "103          201    Michael  Hartstein           20.0         1800  Toronto   \n",
       "104          202        Pat        Fay           20.0         1800  Toronto   \n",
       "105          204    Hermann       Baer           70.0         2700   Munich   \n",
       "\n",
       "    country_id              country_name  \n",
       "0           US  United States of America  \n",
       "1           US  United States of America  \n",
       "2           US  United States of America  \n",
       "3           US  United States of America  \n",
       "4           US  United States of America  \n",
       "..         ...                       ...  \n",
       "101         UK            United Kingdom  \n",
       "102         UK            United Kingdom  \n",
       "103         CA                    Canada  \n",
       "104         CA                    Canada  \n",
       "105         DE                   Germany  \n",
       "\n",
       "[106 rows x 8 columns]"
      ]
     },
     "execution_count": 21,
     "metadata": {},
     "output_type": "execute_result"
    }
   ],
   "source": [
    "df=pd.merge(df2,con_data,on ='country_id')\n",
    "df"
   ]
  },
  {
   "cell_type": "code",
   "execution_count": 44,
   "id": "dce2bea2",
   "metadata": {},
   "outputs": [
    {
     "ename": "ValueError",
     "evalue": "Table 'emp_info' already exists.",
     "output_type": "error",
     "traceback": [
      "\u001b[1;31m---------------------------------------------------------------------------\u001b[0m",
      "\u001b[1;31mValueError\u001b[0m                                Traceback (most recent call last)",
      "\u001b[1;32m~\\AppData\\Local\\Temp/ipykernel_1476/1055670632.py\u001b[0m in \u001b[0;36m<module>\u001b[1;34m\u001b[0m\n\u001b[0;32m      6\u001b[0m engine= create_engine(\"mysql+pymysql://{user}:{pw}@{host}/{db}\"\n\u001b[0;32m      7\u001b[0m .format(host=\"localhost\",db=\"hr\",user=\"root\",pw=\"12ka442ka1\"))\n\u001b[1;32m----> 8\u001b[1;33m \u001b[0mdf\u001b[0m\u001b[1;33m.\u001b[0m\u001b[0mto_sql\u001b[0m\u001b[1;33m(\u001b[0m\u001b[1;34m'emp_info'\u001b[0m\u001b[1;33m,\u001b[0m\u001b[0mengine\u001b[0m\u001b[1;33m)\u001b[0m\u001b[1;33m\u001b[0m\u001b[1;33m\u001b[0m\u001b[0m\n\u001b[0m",
      "\u001b[1;32m~\\anaconda3\\lib\\site-packages\\pandas\\core\\generic.py\u001b[0m in \u001b[0;36mto_sql\u001b[1;34m(self, name, con, schema, if_exists, index, index_label, chunksize, dtype, method)\u001b[0m\n\u001b[0;32m   2870\u001b[0m         \u001b[1;32mfrom\u001b[0m \u001b[0mpandas\u001b[0m\u001b[1;33m.\u001b[0m\u001b[0mio\u001b[0m \u001b[1;32mimport\u001b[0m \u001b[0msql\u001b[0m\u001b[1;33m\u001b[0m\u001b[1;33m\u001b[0m\u001b[0m\n\u001b[0;32m   2871\u001b[0m \u001b[1;33m\u001b[0m\u001b[0m\n\u001b[1;32m-> 2872\u001b[1;33m         sql.to_sql(\n\u001b[0m\u001b[0;32m   2873\u001b[0m             \u001b[0mself\u001b[0m\u001b[1;33m,\u001b[0m\u001b[1;33m\u001b[0m\u001b[1;33m\u001b[0m\u001b[0m\n\u001b[0;32m   2874\u001b[0m             \u001b[0mname\u001b[0m\u001b[1;33m,\u001b[0m\u001b[1;33m\u001b[0m\u001b[1;33m\u001b[0m\u001b[0m\n",
      "\u001b[1;32m~\\anaconda3\\lib\\site-packages\\pandas\\io\\sql.py\u001b[0m in \u001b[0;36mto_sql\u001b[1;34m(frame, name, con, schema, if_exists, index, index_label, chunksize, dtype, method, engine, **engine_kwargs)\u001b[0m\n\u001b[0;32m    715\u001b[0m         )\n\u001b[0;32m    716\u001b[0m \u001b[1;33m\u001b[0m\u001b[0m\n\u001b[1;32m--> 717\u001b[1;33m     pandas_sql.to_sql(\n\u001b[0m\u001b[0;32m    718\u001b[0m         \u001b[0mframe\u001b[0m\u001b[1;33m,\u001b[0m\u001b[1;33m\u001b[0m\u001b[1;33m\u001b[0m\u001b[0m\n\u001b[0;32m    719\u001b[0m         \u001b[0mname\u001b[0m\u001b[1;33m,\u001b[0m\u001b[1;33m\u001b[0m\u001b[1;33m\u001b[0m\u001b[0m\n",
      "\u001b[1;32m~\\anaconda3\\lib\\site-packages\\pandas\\io\\sql.py\u001b[0m in \u001b[0;36mto_sql\u001b[1;34m(self, frame, name, if_exists, index, index_label, schema, chunksize, dtype, method, engine, **engine_kwargs)\u001b[0m\n\u001b[0;32m   1749\u001b[0m         \u001b[0msql_engine\u001b[0m \u001b[1;33m=\u001b[0m \u001b[0mget_engine\u001b[0m\u001b[1;33m(\u001b[0m\u001b[0mengine\u001b[0m\u001b[1;33m)\u001b[0m\u001b[1;33m\u001b[0m\u001b[1;33m\u001b[0m\u001b[0m\n\u001b[0;32m   1750\u001b[0m \u001b[1;33m\u001b[0m\u001b[0m\n\u001b[1;32m-> 1751\u001b[1;33m         table = self.prep_table(\n\u001b[0m\u001b[0;32m   1752\u001b[0m             \u001b[0mframe\u001b[0m\u001b[1;33m=\u001b[0m\u001b[0mframe\u001b[0m\u001b[1;33m,\u001b[0m\u001b[1;33m\u001b[0m\u001b[1;33m\u001b[0m\u001b[0m\n\u001b[0;32m   1753\u001b[0m             \u001b[0mname\u001b[0m\u001b[1;33m=\u001b[0m\u001b[0mname\u001b[0m\u001b[1;33m,\u001b[0m\u001b[1;33m\u001b[0m\u001b[1;33m\u001b[0m\u001b[0m\n",
      "\u001b[1;32m~\\anaconda3\\lib\\site-packages\\pandas\\io\\sql.py\u001b[0m in \u001b[0;36mprep_table\u001b[1;34m(self, frame, name, if_exists, index, index_label, schema, dtype)\u001b[0m\n\u001b[0;32m   1648\u001b[0m             \u001b[0mdtype\u001b[0m\u001b[1;33m=\u001b[0m\u001b[0mdtype\u001b[0m\u001b[1;33m,\u001b[0m\u001b[1;33m\u001b[0m\u001b[1;33m\u001b[0m\u001b[0m\n\u001b[0;32m   1649\u001b[0m         )\n\u001b[1;32m-> 1650\u001b[1;33m         \u001b[0mtable\u001b[0m\u001b[1;33m.\u001b[0m\u001b[0mcreate\u001b[0m\u001b[1;33m(\u001b[0m\u001b[1;33m)\u001b[0m\u001b[1;33m\u001b[0m\u001b[1;33m\u001b[0m\u001b[0m\n\u001b[0m\u001b[0;32m   1651\u001b[0m         \u001b[1;32mreturn\u001b[0m \u001b[0mtable\u001b[0m\u001b[1;33m\u001b[0m\u001b[1;33m\u001b[0m\u001b[0m\n\u001b[0;32m   1652\u001b[0m \u001b[1;33m\u001b[0m\u001b[0m\n",
      "\u001b[1;32m~\\anaconda3\\lib\\site-packages\\pandas\\io\\sql.py\u001b[0m in \u001b[0;36mcreate\u001b[1;34m(self)\u001b[0m\n\u001b[0;32m    856\u001b[0m         \u001b[1;32mif\u001b[0m \u001b[0mself\u001b[0m\u001b[1;33m.\u001b[0m\u001b[0mexists\u001b[0m\u001b[1;33m(\u001b[0m\u001b[1;33m)\u001b[0m\u001b[1;33m:\u001b[0m\u001b[1;33m\u001b[0m\u001b[1;33m\u001b[0m\u001b[0m\n\u001b[0;32m    857\u001b[0m             \u001b[1;32mif\u001b[0m \u001b[0mself\u001b[0m\u001b[1;33m.\u001b[0m\u001b[0mif_exists\u001b[0m \u001b[1;33m==\u001b[0m \u001b[1;34m\"fail\"\u001b[0m\u001b[1;33m:\u001b[0m\u001b[1;33m\u001b[0m\u001b[1;33m\u001b[0m\u001b[0m\n\u001b[1;32m--> 858\u001b[1;33m                 \u001b[1;32mraise\u001b[0m \u001b[0mValueError\u001b[0m\u001b[1;33m(\u001b[0m\u001b[1;34mf\"Table '{self.name}' already exists.\"\u001b[0m\u001b[1;33m)\u001b[0m\u001b[1;33m\u001b[0m\u001b[1;33m\u001b[0m\u001b[0m\n\u001b[0m\u001b[0;32m    859\u001b[0m             \u001b[1;32melif\u001b[0m \u001b[0mself\u001b[0m\u001b[1;33m.\u001b[0m\u001b[0mif_exists\u001b[0m \u001b[1;33m==\u001b[0m \u001b[1;34m\"replace\"\u001b[0m\u001b[1;33m:\u001b[0m\u001b[1;33m\u001b[0m\u001b[1;33m\u001b[0m\u001b[0m\n\u001b[0;32m    860\u001b[0m                 \u001b[0mself\u001b[0m\u001b[1;33m.\u001b[0m\u001b[0mpd_sql\u001b[0m\u001b[1;33m.\u001b[0m\u001b[0mdrop_table\u001b[0m\u001b[1;33m(\u001b[0m\u001b[0mself\u001b[0m\u001b[1;33m.\u001b[0m\u001b[0mname\u001b[0m\u001b[1;33m,\u001b[0m \u001b[0mself\u001b[0m\u001b[1;33m.\u001b[0m\u001b[0mschema\u001b[0m\u001b[1;33m)\u001b[0m\u001b[1;33m\u001b[0m\u001b[1;33m\u001b[0m\u001b[0m\n",
      "\u001b[1;31mValueError\u001b[0m: Table 'emp_info' already exists."
     ]
    }
   ],
   "source": [
    "from sqlalchemy import create_engine\n",
    "hostname=\"localhost\"\n",
    "dbname=\"hr\"\n",
    "uname=\"root\"\n",
    "pwd=\"12ka442ka1\"\n",
    "engine= create_engine(\"mysql+pymysql://{user}:{pw}@{host}/{db}\"\n",
    ".format(host=\"localhost\",db=\"hr\",user=\"root\",pw=\"12ka442ka1\"))\n",
    "df.to_sql('emp_info',engine)"
   ]
  },
  {
   "cell_type": "code",
   "execution_count": 24,
   "id": "0034ff93",
   "metadata": {},
   "outputs": [
    {
     "data": {
      "text/plain": [
       "country_name\n",
       "Canada                       2\n",
       "Germany                      1\n",
       "United Kingdom              35\n",
       "United States of America    68\n",
       "Name: employee_id, dtype: int64"
      ]
     },
     "execution_count": 24,
     "metadata": {},
     "output_type": "execute_result"
    }
   ],
   "source": [
    "# TASK 3\n",
    "import matplotlib.pyplot as plt\n",
    "df3=df.groupby(by='country_name')['employee_id'].count()\n",
    "df3"
   ]
  },
  {
   "cell_type": "code",
   "execution_count": 27,
   "id": "ba926188",
   "metadata": {},
   "outputs": [
    {
     "data": {
      "text/plain": [
       "Text(0.5, 1.0, 'Country-wise Distribution of employees')"
      ]
     },
     "execution_count": 27,
     "metadata": {},
     "output_type": "execute_result"
    },
    {
     "data": {
      "image/png": "[encoded data removed]",
      "text/plain": [
       "<Figure size 576x576 with 1 Axes>"
      ]
     },
     "metadata": {
      "needs_background": "light"
     },
     "output_type": "display_data"
    }
   ],
   "source": [
    "df3.plot(kind='bar',figsize=(8,8))\n",
    "plt.title('Country-wise Distribution of employees')"
   ]
  },
  {
   "cell_type": "code",
   "execution_count": 28,
   "id": "1adf554b",
   "metadata": {},
   "outputs": [
    {
     "data": {
      "text/plain": [
       "city\n",
       "London                  1\n",
       "Munich                  1\n",
       "Oxford                 34\n",
       "Seattle                18\n",
       "South San Francisco    45\n",
       "Southlake               5\n",
       "Toronto                 2\n",
       "Name: employee_id, dtype: int64"
      ]
     },
     "execution_count": 28,
     "metadata": {},
     "output_type": "execute_result"
    }
   ],
   "source": [
    "df4=df.groupby(by='city')['employee_id'].count()\n",
    "df4"
   ]
  },
  {
   "cell_type": "code",
   "execution_count": 30,
   "id": "a780671f",
   "metadata": {},
   "outputs": [
    {
     "data": {
      "text/plain": [
       "Text(0.5, 1.0, 'City-wise Employee Distribution')"
      ]
     },
     "execution_count": 30,
     "metadata": {},
     "output_type": "execute_result"
    },
    {
     "data": {
      "image/png": "[encoded data removed]",
      "text/plain": [
       "<Figure size 432x288 with 1 Axes>"
      ]
     },
     "metadata": {
      "needs_background": "light"
     },
     "output_type": "display_data"
    }
   ],
   "source": [
    "plt.barh(df4.index,df4.values)\n",
    "plt.title('City-wise Employee Distribution')"
   ]
  },
  {
   "cell_type": "code",
   "execution_count": 45,
   "id": "b42ed926",
   "metadata": {},
   "outputs": [],
   "source": [
    "db = sql.connect(host='localhost',user='root',password='12ka442ka1',database='hr')"
   ]
  },
  {
   "cell_type": "code",
   "execution_count": 46,
   "id": "623c3bff",
   "metadata": {},
   "outputs": [],
   "source": [
    "mycursor = db.cursor()"
   ]
  },
  {
   "cell_type": "code",
   "execution_count": 48,
   "id": "c03fc020",
   "metadata": {},
   "outputs": [
    {
     "data": {
      "text/plain": [
       "[('United States of America', 68),\n",
       " ('United Kingdom', 35),\n",
       " ('Canada', 2),\n",
       " ('Germany', 1)]"
      ]
     },
     "execution_count": 48,
     "metadata": {},
     "output_type": "execute_result"
    }
   ],
   "source": [
    "query1=\"select country_name , count(employee_id) from emp_info group by country_name\"\n",
    "mycursor.execute(query1)\n",
    "data1=mycursor.fetchall()\n",
    "data1"
   ]
  },
  {
   "cell_type": "code",
   "execution_count": null,
   "id": "1787ef77",
   "metadata": {},
   "outputs": [],
   "source": [
    "query1=\"select city , count(employee_id) from emp_info group by country_name\"\n",
    "mycursor.execute(query1)\n",
    "data1=mycursor.fetchall()\n",
    "data1"
   ]
  }
 ],
 "metadata": {
  "kernelspec": {
   "display_name": "Python 3 (ipykernel)",
   "language": "python",
   "name": "python3"
  },
  "language_info": {
   "codemirror_mode": {
    "name": "ipython",
    "version": 3
   },
   "file_extension": ".py",
   "mimetype": "text/x-python",
   "name": "python",
   "nbconvert_exporter": "python",
   "pygments_lexer": "ipython3",
   "version": "3.9.7"
  }
 },
 "nbformat": 4,
 "nbformat_minor": 5
}
