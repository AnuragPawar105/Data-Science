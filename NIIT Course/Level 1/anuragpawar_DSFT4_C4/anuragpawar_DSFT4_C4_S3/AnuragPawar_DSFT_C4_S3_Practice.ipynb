{
 "cells": [
  {
   "cell_type": "code",
   "execution_count": 3,
   "id": "fa8f063d",
   "metadata": {},
   "outputs": [
    {
     "data": {
      "text/plain": [
       "1      80\n",
       "2      90\n",
       "3      60\n",
       "4      90\n",
       "5      50\n",
       "6      80\n",
       "7      70\n",
       "8      90\n",
       "9      60\n",
       "10    100\n",
       "dtype: int64"
      ]
     },
     "execution_count": 3,
     "metadata": {},
     "output_type": "execute_result"
    }
   ],
   "source": [
    "import pandas as pd\n",
    "import numpy as np\n",
    "# TASK 1\n",
    "math_marks=pd.Series([80,90,60,90,50,80,70,90,60,100])\n",
    "math_marks.index=np.arange(1,11)\n",
    "math_marks"
   ]
  },
  {
   "cell_type": "code",
   "execution_count": 4,
   "id": "f979dedf",
   "metadata": {},
   "outputs": [
    {
     "data": {
      "text/plain": [
       "1      50\n",
       "2      80\n",
       "3      40\n",
       "4      90\n",
       "5      70\n",
       "6      90\n",
       "7      70\n",
       "8     100\n",
       "9      80\n",
       "10    100\n",
       "dtype: int64"
      ]
     },
     "execution_count": 4,
     "metadata": {},
     "output_type": "execute_result"
    }
   ],
   "source": [
    "# TASK 2\n",
    "phy_marks=pd.Series([50,80,40,90,70,90,70,100,80,100],index=np.arange(1,11))\n",
    "phy_marks"
   ]
  },
  {
   "cell_type": "code",
   "execution_count": 5,
   "id": "25ea516d",
   "metadata": {},
   "outputs": [
    {
     "data": {
      "text/plain": [
       "2     170\n",
       "4     180\n",
       "6     170\n",
       "8     190\n",
       "10    200\n",
       "dtype: int64"
      ]
     },
     "execution_count": 5,
     "metadata": {},
     "output_type": "execute_result"
    }
   ],
   "source": [
    "total_score=math_marks+phy_marks\n",
    "total_score[total_score>=150]\n",
    "# These are the five students qualifying for the science olympiad."
   ]
  },
  {
   "cell_type": "code",
   "execution_count": 6,
   "id": "5c2c5797",
   "metadata": {},
   "outputs": [
    {
     "data": {
      "text/plain": [
       "1     30\n",
       "2     10\n",
       "3     20\n",
       "4      0\n",
       "5    -20\n",
       "6    -10\n",
       "7      0\n",
       "8    -10\n",
       "9    -20\n",
       "10     0\n",
       "dtype: int64"
      ]
     },
     "execution_count": 6,
     "metadata": {},
     "output_type": "execute_result"
    }
   ],
   "source": [
    "# TASK 3\n",
    "score_diff=math_marks-phy_marks\n",
    "score_diff"
   ]
  },
  {
   "cell_type": "code",
   "execution_count": 7,
   "id": "ac362d77",
   "metadata": {},
   "outputs": [
    {
     "data": {
      "text/plain": [
       "array([43126, 38509, 49823, 36348, 47983, 37943, 35347, 43237, 32771,\n",
       "       33879, 48251, 47460, 33255, 49733, 44194, 30545, 37523, 37223,\n",
       "       47214, 47968])"
      ]
     },
     "execution_count": 7,
     "metadata": {},
     "output_type": "execute_result"
    }
   ],
   "source": [
    "# TASK 4\n",
    "car_price=np.random.randint(30000,50000,20)\n",
    "car_price"
   ]
  },
  {
   "cell_type": "code",
   "execution_count": 8,
   "id": "a3e85021",
   "metadata": {},
   "outputs": [
    {
     "data": {
      "text/plain": [
       "101    43126\n",
       "102    38509\n",
       "103    49823\n",
       "104    36348\n",
       "105    47983\n",
       "106    37943\n",
       "107    35347\n",
       "108    43237\n",
       "109    32771\n",
       "110    33879\n",
       "111    48251\n",
       "112    47460\n",
       "113    33255\n",
       "114    49733\n",
       "115    44194\n",
       "116    30545\n",
       "117    37523\n",
       "118    37223\n",
       "119    47214\n",
       "120    47968\n",
       "dtype: int32"
      ]
     },
     "execution_count": 8,
     "metadata": {},
     "output_type": "execute_result"
    }
   ],
   "source": [
    "car_data=pd.Series(car_price,index=np.arange(101,121))\n",
    "car_data"
   ]
  },
  {
   "cell_type": "code",
   "execution_count": 9,
   "id": "a83ac913",
   "metadata": {},
   "outputs": [
    {
     "data": {
      "text/plain": [
       "101    43126\n",
       "103    49823\n",
       "105    47983\n",
       "108    43237\n",
       "111    48251\n",
       "112    47460\n",
       "114    49733\n",
       "115    44194\n",
       "119    47214\n",
       "120    47968\n",
       "dtype: int32"
      ]
     },
     "execution_count": 9,
     "metadata": {},
     "output_type": "execute_result"
    }
   ],
   "source": [
    "#TASK 5\n",
    "car_data_40k=car_data[car_data>40000]\n",
    "car_data_40k\n",
    "#These are the cars priced higher than $40000."
   ]
  },
  {
   "cell_type": "code",
   "execution_count": 10,
   "id": "16aaad4e",
   "metadata": {},
   "outputs": [
    {
     "name": "stdout",
     "output_type": "stream",
     "text": [
      "111    48251\n",
      "112    47460\n",
      "113    33255\n",
      "114    49733\n",
      "115    44194\n",
      "116    30545\n",
      "dtype: int32\n",
      "The highest price of the car between 111 to 116 is  49733\n"
     ]
    }
   ],
   "source": [
    "#TASK 6\n",
    "car_data0=car_data[10:16]\n",
    "print(car_data0)\n",
    "car_data0.max()\n",
    "print('The highest price of the car between 111 to 116 is ',car_data0.max())"
   ]
  },
  {
   "cell_type": "code",
   "execution_count": 11,
   "id": "18d96ee4",
   "metadata": {},
   "outputs": [
    {
     "name": "stdout",
     "output_type": "stream",
     "text": [
      "There are  10  cars in the range of $30000 to $40000.\n"
     ]
    }
   ],
   "source": [
    "# TASK 7\n",
    "car_data1=car_data[(car_data>30000)&(car_data<40000)]\n",
    "print('There are ',car_data1.size,' cars in the range of $30000 to $40000.')"
   ]
  },
  {
   "cell_type": "code",
   "execution_count": 12,
   "id": "00e18f31",
   "metadata": {},
   "outputs": [
    {
     "name": "stdout",
     "output_type": "stream",
     "text": [
      "There are  10  cars priced above the average price.\n",
      "These cars are\n",
      " 101    43126\n",
      "103    49823\n",
      "105    47983\n",
      "108    43237\n",
      "111    48251\n",
      "112    47460\n",
      "114    49733\n",
      "115    44194\n",
      "119    47214\n",
      "120    47968\n",
      "dtype: int32\n"
     ]
    }
   ],
   "source": [
    "# TASK 8\n",
    "avg=car_data.mean()\n",
    "avg\n",
    "car_data2=car_data[car_data>avg]\n",
    "print('There are ',car_data2.size,' cars priced above the average price.')\n",
    "print('These cars are\\n',car_data2)"
   ]
  },
  {
   "cell_type": "code",
   "execution_count": 82,
   "id": "114b4e2a",
   "metadata": {},
   "outputs": [
    {
     "data": {
      "text/plain": [
       "101    40095.0\n",
       "102    36200.0\n",
       "103    38209.5\n",
       "104    36284.0\n",
       "105    41306.4\n",
       "106    35193.0\n",
       "107    35985.0\n",
       "108    38814.3\n",
       "109    43181.1\n",
       "110    36366.0\n",
       "111    39910.0\n",
       "112    42342.3\n",
       "113    32547.0\n",
       "114    43663.5\n",
       "115    36323.0\n",
       "116    44062.2\n",
       "117    33501.0\n",
       "118    36516.0\n",
       "119    35450.0\n",
       "120    34080.0\n",
       "201    34000.0\n",
       "202    40500.0\n",
       "203    48600.0\n",
       "201    34000.0\n",
       "202    45000.0\n",
       "203    54000.0\n",
       "dtype: float64"
      ]
     },
     "execution_count": 82,
     "metadata": {},
     "output_type": "execute_result"
    }
   ],
   "source": [
    "# TASK 9\n",
    "car_data3=pd.Series([34000,45000,54000],index=np.arange(201,204))\n",
    "car_data=car_data.append(car_data3)\n",
    "car_data"
   ]
  },
  {
   "cell_type": "code",
   "execution_count": 88,
   "id": "a9c1ebdc",
   "metadata": {},
   "outputs": [
    {
     "name": "stdout",
     "output_type": "stream",
     "text": [
      "The old price list\n",
      " 101    40095.0\n",
      "102    36200.0\n",
      "103    38209.5\n",
      "104    36284.0\n",
      "105    41306.4\n",
      "106    35193.0\n",
      "107    35985.0\n",
      "108    38814.3\n",
      "109    43181.1\n",
      "110    36366.0\n",
      "111    39910.0\n",
      "112    42342.3\n",
      "113    32547.0\n",
      "114    43663.5\n",
      "115    36323.0\n",
      "116    44062.2\n",
      "117    33501.0\n",
      "118    36516.0\n",
      "119    35450.0\n",
      "120    34080.0\n",
      "201    34000.0\n",
      "202    40500.0\n",
      "203    48600.0\n",
      "201    34000.0\n",
      "202    45000.0\n",
      "203    54000.0\n",
      "dtype: float64\n",
      "The new discounted price list,\n",
      " 101    36085.50\n",
      "102    36200.00\n",
      "103    38209.50\n",
      "104    36284.00\n",
      "105    37175.76\n",
      "106    35193.00\n",
      "107    35985.00\n",
      "108    38814.30\n",
      "109    38862.99\n",
      "110    36366.00\n",
      "111    39910.00\n",
      "112    38108.07\n",
      "113    32547.00\n",
      "114    39297.15\n",
      "115    36323.00\n",
      "116    39655.98\n",
      "117    33501.00\n",
      "118    36516.00\n",
      "119    35450.00\n",
      "120    34080.00\n",
      "201    34000.00\n",
      "202    36450.00\n",
      "203    43740.00\n",
      "201    34000.00\n",
      "202    40500.00\n",
      "203    48600.00\n",
      "dtype: float64\n"
     ]
    }
   ],
   "source": [
    "# TASK 10\n",
    "print('The old price list\\n',car_data)\n",
    "car_data4=car_data.copy()\n",
    "car_data4[car_data4>40000]=car_data4[car_data4>40000]*0.9\n",
    "print('The new discounted price list,\\n',car_data4)"
   ]
  },
  {
   "cell_type": "code",
   "execution_count": 89,
   "id": "68d8e9b7",
   "metadata": {},
   "outputs": [
    {
     "name": "stdout",
     "output_type": "stream",
     "text": [
      "There are  16  cars in the range of $30000 to $40000 before discount.\n",
      "There are  23  cars in the range of $30000 to $40000 after discount.\n"
     ]
    }
   ],
   "source": [
    "# TASK 11\n",
    "car_data1=car_data[(car_data>30000)&(car_data<40000)]\n",
    "print('There are ',car_data1.size,' cars in the range of $30000 to $40000 before discount.')\n",
    "car_data5=car_data4[(car_data4>30000)&(car_data4<40000)]\n",
    "print('There are ',car_data5.size,' cars in the range of $30000 to $40000 after discount.')"
   ]
  },
  {
   "cell_type": "code",
   "execution_count": 92,
   "id": "65baeffe",
   "metadata": {},
   "outputs": [
    {
     "data": {
      "text/plain": [
       "113    32547.0\n",
       "117    33501.0\n",
       "201    34000.0\n",
       "201    34000.0\n",
       "120    34080.0\n",
       "dtype: float64"
      ]
     },
     "execution_count": 92,
     "metadata": {},
     "output_type": "execute_result"
    }
   ],
   "source": [
    "# TASK 12\n",
    "car_data6=car_data4.sort_values()\n",
    "car_data6.head()"
   ]
  },
  {
   "cell_type": "code",
   "execution_count": null,
   "id": "3041ee3c",
   "metadata": {},
   "outputs": [],
   "source": []
  }
 ],
 "metadata": {
  "kernelspec": {
   "display_name": "Python 3 (ipykernel)",
   "language": "python",
   "name": "python3"
  },
  "language_info": {
   "codemirror_mode": {
    "name": "ipython",
    "version": 3
   },
   "file_extension": ".py",
   "mimetype": "text/x-python",
   "name": "python",
   "nbconvert_exporter": "python",
   "pygments_lexer": "ipython3",
   "version": "3.9.7"
  }
 },
 "nbformat": 4,
 "nbformat_minor": 5
}
