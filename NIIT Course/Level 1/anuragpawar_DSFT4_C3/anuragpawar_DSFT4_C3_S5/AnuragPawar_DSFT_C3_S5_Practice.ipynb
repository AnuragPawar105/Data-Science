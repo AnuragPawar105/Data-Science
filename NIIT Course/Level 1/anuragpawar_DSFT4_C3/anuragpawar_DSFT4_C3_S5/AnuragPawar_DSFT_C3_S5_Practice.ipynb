{
 "cells": [
  {
   "cell_type": "code",
   "execution_count": 1,
   "id": "2f634e7e",
   "metadata": {},
   "outputs": [
    {
     "name": "stdout",
     "output_type": "stream",
     "text": [
      "Enter the string: laal\n",
      "laal is a palindrome.\n"
     ]
    }
   ],
   "source": [
    "# practice 1\n",
    "def palindrome(s):\n",
    "    return s == s[::-1]\n",
    "s= input(\"Enter the string: \")\n",
    "ans= palindrome(s)\n",
    "if ans:\n",
    "    print(s,'is a palindrome.')\n",
    "else:\n",
    "    print(s,'is not a palindrome')\n",
    "    "
   ]
  },
  {
   "cell_type": "code",
   "execution_count": 15,
   "id": "3a484579",
   "metadata": {},
   "outputs": [
    {
     "name": "stdout",
     "output_type": "stream",
     "text": [
      "is it sunny today weather "
     ]
    }
   ],
   "source": [
    "# practice 2\n",
    "def sorting(str1):\n",
    "    x=str1.split()\n",
    "    y=sorted(x)\n",
    "    for t in y:\n",
    "        print(t,end=' ')\n",
    "sorting(\"it is sunny weather today\")\n",
    "    "
   ]
  },
  {
   "cell_type": "code",
   "execution_count": 11,
   "id": "ed51484f",
   "metadata": {},
   "outputs": [],
   "source": [
    "# practice 3\n",
    "def convert(s):\n",
    "    str1= \"\"\n",
    "    return(str1.join(s))"
   ]
  },
  {
   "cell_type": "code",
   "execution_count": 13,
   "id": "981f9087",
   "metadata": {},
   "outputs": [
    {
     "name": "stdout",
     "output_type": "stream",
     "text": [
      "wednesday\n"
     ]
    }
   ],
   "source": [
    "s=['w','e','d','n','e','s','d','a','y']\n",
    "print(convert(s))"
   ]
  },
  {
   "cell_type": "code",
   "execution_count": 20,
   "id": "2901d8de",
   "metadata": {},
   "outputs": [
    {
     "name": "stdout",
     "output_type": "stream",
     "text": [
      "enter number of entries in the list: 4\n",
      "Enter a number:1\n",
      "Enter a number:2\n",
      "Enter a number:3\n",
      "Enter a number:4\n",
      "The minimum value is  1\n",
      "The maximun value is  4\n"
     ]
    }
   ],
   "source": [
    "# practice 4\n",
    "def num_list():\n",
    "    l = []\n",
    "    n =int(input('enter number of entries in the list: '))\n",
    "    for i in range(n):\n",
    "        num= int(input(\"Enter a number:\"))\n",
    "        l.append(num)\n",
    "    print('The minimum value is ',min(l))\n",
    "    print('The maximun value is ',max(l))\n",
    "num_list()"
   ]
  },
  {
   "cell_type": "code",
   "execution_count": 21,
   "id": "1e01d1de",
   "metadata": {},
   "outputs": [
    {
     "name": "stdout",
     "output_type": "stream",
     "text": [
      "Enter number of elements in dictionary: 3\n",
      "Enter key value: 4\n",
      "Enter value of corresponding key:67\n",
      "Enter key value: 5\n",
      "Enter value of corresponding key:87\n",
      "Enter key value: 6\n",
      "Enter value of corresponding key:34\n",
      "The max value in dictionary is  87.0\n",
      "The min value in dictionary is  34.0\n"
     ]
    }
   ],
   "source": [
    "# practice 5\n",
    "def min_max_func():\n",
    "    d={}\n",
    "    n=int(input(\"Enter number of elements in dictionary: \"))\n",
    "    for i in range(n):\n",
    "        keys= input(\"Enter key value: \")\n",
    "        value=float(input(\"Enter value of corresponding key:\"))\n",
    "        d[keys]=value\n",
    "    print('The max value in dictionary is ',max(d.values()))\n",
    "    print('The min value in dictionary is ',min(d.values()))\n",
    "min_max_func()"
   ]
  },
  {
   "cell_type": "code",
   "execution_count": 22,
   "id": "bc810726",
   "metadata": {},
   "outputs": [
    {
     "name": "stdout",
     "output_type": "stream",
     "text": [
      "Enter your name: Anurag Pawar\n",
      "Enter your age: 23\n",
      "Enter your gender: Male\n",
      "Profile Card: \n",
      "name:    Anurag Pawar\n",
      "Age:     23\n",
      "Gender:  Male\n"
     ]
    }
   ],
   "source": [
    "# practice 6\n",
    "def func():\n",
    "    name=input('Enter your name: ')\n",
    "    age=int(input('Enter your age: '))\n",
    "    gender=input('Enter your gender: ')\n",
    "    return name,age,gender\n",
    "def main():\n",
    "    l1=func()\n",
    "    print('Profile Card: ')\n",
    "    print('name:   ',l1[0])\n",
    "    print('Age:    ',l1[1])\n",
    "    print('Gender: ',l1[2])\n",
    "main()"
   ]
  },
  {
   "cell_type": "code",
   "execution_count": 24,
   "id": "d1a095d2",
   "metadata": {},
   "outputs": [
    {
     "name": "stdout",
     "output_type": "stream",
     "text": [
      "Enter a number: 2\n",
      "Enter another number: 2\n",
      "Final Value:  8\n"
     ]
    }
   ],
   "source": [
    "# practice 7\n",
    "def main():\n",
    "    x=int(input('Enter a number: '))\n",
    "    y=int(input('Enter another number: '))\n",
    "    def calc(a,b):\n",
    "        c=a**2*b\n",
    "        return c\n",
    "    print('Final Value: ',calc(x,y))\n",
    "main()"
   ]
  },
  {
   "cell_type": "code",
   "execution_count": 27,
   "id": "8b8b2e63",
   "metadata": {},
   "outputs": [
    {
     "name": "stdout",
     "output_type": "stream",
     "text": [
      "[('green', 1), ('blue', 2), ('yellow', 3), ('black', 4), ('red', 5)]\n"
     ]
    }
   ],
   "source": [
    "# practice 8\n",
    "def sort(color):\n",
    "    color.sort(key= lambda x:x[1])\n",
    "    print(color)\n",
    "color= [('black',4),('green',1),('red',5),('blue',2),('yellow',3)]\n",
    "sort(color)"
   ]
  },
  {
   "cell_type": "code",
   "execution_count": 25,
   "id": "03d808c1",
   "metadata": {},
   "outputs": [
    {
     "name": "stdout",
     "output_type": "stream",
     "text": [
      "['Andy', 'Mandy', 'Sandy']\n",
      "['Handy', 'Brandy', 'Mandy']\n",
      "intersection is  ['Mandy']\n"
     ]
    }
   ],
   "source": [
    "# practice 9\n",
    "a=[\"Andy\",\"Mandy\",\"Sandy\"]\n",
    "b=[\"Handy\",\"Brandy\",\"Mandy\"]\n",
    "print(a)\n",
    "print(b)\n",
    "c= list(filter(lambda s:s in a,b))\n",
    "print(\"intersection is \",c)"
   ]
  },
  {
   "cell_type": "code",
   "execution_count": 26,
   "id": "b021c6ee",
   "metadata": {},
   "outputs": [
    {
     "name": "stdout",
     "output_type": "stream",
     "text": [
      "[12, 13, 14]\n",
      "[17, 16, 15]\n",
      "After adding two lists\n",
      "[29, 29, 29]\n"
     ]
    }
   ],
   "source": [
    "# practice 10\n",
    "c= [12,13,14]\n",
    "d= [17,16,15]\n",
    "print(c)\n",
    "print(d)\n",
    "f = map(lambda x,y: x+y, c, d)\n",
    "print('After adding two lists')\n",
    "print(list(f))"
   ]
  },
  {
   "cell_type": "code",
   "execution_count": null,
   "id": "11e5b5c8",
   "metadata": {},
   "outputs": [],
   "source": []
  }
 ],
 "metadata": {
  "kernelspec": {
   "display_name": "Python 3 (ipykernel)",
   "language": "python",
   "name": "python3"
  },
  "language_info": {
   "codemirror_mode": {
    "name": "ipython",
    "version": 3
   },
   "file_extension": ".py",
   "mimetype": "text/x-python",
   "name": "python",
   "nbconvert_exporter": "python",
   "pygments_lexer": "ipython3",
   "version": "3.9.7"
  }
 },
 "nbformat": 4,
 "nbformat_minor": 5
}
