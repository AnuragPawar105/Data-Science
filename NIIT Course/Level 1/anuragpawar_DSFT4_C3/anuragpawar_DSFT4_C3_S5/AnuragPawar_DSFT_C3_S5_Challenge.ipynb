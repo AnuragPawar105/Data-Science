{
 "cells": [
  {
   "cell_type": "code",
   "execution_count": 93,
   "id": "14199ae2",
   "metadata": {},
   "outputs": [],
   "source": [
    "# THE CONVERSION APP\n",
    "#defining the functions\n",
    "#Radians to Degrees\n",
    "def rad_to_deg():\n",
    "    x=float(input('Enter angle in radians: '))\n",
    "    y= x * 57.296\n",
    "    print(x,' Radians = ',y,' Degrees')"
   ]
  },
  {
   "cell_type": "code",
   "execution_count": 94,
   "id": "fca61e1d",
   "metadata": {},
   "outputs": [],
   "source": [
    "#Degrees to Radians\n",
    "def deg_to_rad():\n",
    "    x=float(input('Enter angle of degrees: '))\n",
    "    y= x / 57.296\n",
    "    print(x,' Degrees = ',y,' Radians')"
   ]
  },
  {
   "cell_type": "code",
   "execution_count": 95,
   "id": "5e535407",
   "metadata": {},
   "outputs": [],
   "source": [
    "#Number to factorial\n",
    "def num_to_fac():\n",
    "    x=int(input('Enter a number: '))\n",
    "    z=x\n",
    "    y = 1\n",
    "    while x >= 1:\n",
    "        y = y * x\n",
    "        x = x - 1\n",
    "    print(z,'! = ',y) "
   ]
  },
  {
   "cell_type": "code",
   "execution_count": 96,
   "id": "6c3d3249",
   "metadata": {},
   "outputs": [],
   "source": [
    "#Number to square root\n",
    "def num_to_sqrt():\n",
    "    x=float(input('Enter a number: '))\n",
    "    if x < 0:\n",
    "        print('Square root of negative number does not exist!')\n",
    "        return\n",
    "    else:\n",
    "        print('Square root of', x,'=',x**0.5)\n",
    "        return"
   ]
  },
  {
   "cell_type": "code",
   "execution_count": 97,
   "id": "bcd23310",
   "metadata": {},
   "outputs": [],
   "source": [
    "# Megabyte to nibble\n",
    "def mb_to_nib():\n",
    "    x=int(input('Enter number of MB: '))\n",
    "    y= x * 2000000\n",
    "    print(x,'MB =',y,'nibble')"
   ]
  },
  {
   "cell_type": "code",
   "execution_count": 98,
   "id": "c7ee0866",
   "metadata": {},
   "outputs": [],
   "source": [
    "# Fraction to decimal\n",
    "def frac_to_dec():\n",
    "    x=int(input('Enter the numerator: '))\n",
    "    y=int(input('Enter the denominator: '))\n",
    "    z= x/y\n",
    "    print(x,'/',y,'=',z)"
   ]
  },
  {
   "cell_type": "code",
   "execution_count": 99,
   "id": "9b0ab7d7",
   "metadata": {},
   "outputs": [],
   "source": [
    "# Kilometer/hour to meter/second\n",
    "def kmph_to_mps():\n",
    "    x=int(input('Enter km/h speed: '))\n",
    "    y= x * 5/18\n",
    "    print(x,'km/hr =',y,'m/s')"
   ]
  },
  {
   "cell_type": "code",
   "execution_count": 100,
   "id": "5133124f",
   "metadata": {},
   "outputs": [],
   "source": [
    "# Meter/second to kilometer/hour\n",
    "def mps_to_kmph():\n",
    "    x=int(input('Enter m/sec speed: '))\n",
    "    y= x* 18/5\n",
    "    print(x,'m/s =',y,'km/hr')"
   ]
  },
  {
   "cell_type": "code",
   "execution_count": 101,
   "id": "92373fa7",
   "metadata": {},
   "outputs": [],
   "source": [
    "# Integer to Float\n",
    "def int_to_flt():\n",
    "    x=int(input('Enter a integer: '))\n",
    "    y=float(x)\n",
    "    print(x,'=',y)"
   ]
  },
  {
   "cell_type": "code",
   "execution_count": 102,
   "id": "6feec13b",
   "metadata": {},
   "outputs": [],
   "source": [
    "# Float to Integer\n",
    "def flt_to_int():\n",
    "    x=float(input('Enter a float value: '))\n",
    "    y=int(x)\n",
    "    print(x,'=',y)"
   ]
  },
  {
   "cell_type": "code",
   "execution_count": 103,
   "id": "32e2236f",
   "metadata": {},
   "outputs": [],
   "source": [
    "# Decimal to Octal\n",
    "def dec_to_oct():\n",
    "    x=int(input('Enter a Decimal values: '))\n",
    "    y=oct(x)\n",
    "    print(x,'in dec =',y,'in oct')"
   ]
  },
  {
   "cell_type": "code",
   "execution_count": 104,
   "id": "9494514f",
   "metadata": {},
   "outputs": [],
   "source": [
    "# Octal to Decimal\n",
    "def oct_to_Dec():\n",
    "    x=int(input('Enter a Octal number: '))\n",
    "    num = x\n",
    "    y = 0\n",
    "    base = 1\n",
    " \n",
    "    temp = num\n",
    "    while (temp):\n",
    " \n",
    "        last_digit = temp % 10\n",
    "        temp = int(temp / 10)\n",
    "        y += last_digit * base\n",
    "        base = base * 8\n",
    " \n",
    "    print(x,'in octal =',y,'in decimal')"
   ]
  },
  {
   "cell_type": "code",
   "execution_count": 105,
   "id": "70723b75",
   "metadata": {},
   "outputs": [],
   "source": [
    "# Decimal to Hexadecimal\n",
    "def dec_to_hex():\n",
    "    x=int(input('Enter a decimal number: '))\n",
    "    y=hex(x)\n",
    "    print(x,'in decimal =',y,'in Hexadecimal')"
   ]
  },
  {
   "cell_type": "code",
   "execution_count": 106,
   "id": "aff0ed54",
   "metadata": {},
   "outputs": [],
   "source": [
    "# Hexadecimal to Decimal\n",
    "def hex_to_dec():\n",
    "    x=input('Enter a hexadecimal number: ')\n",
    "    y=int(x,16)\n",
    "    print(x,'in hexadecimal =',y,'in decimal')"
   ]
  },
  {
   "cell_type": "code",
   "execution_count": 107,
   "id": "2a57ef04",
   "metadata": {},
   "outputs": [],
   "source": [
    "# decimal to binary\n",
    "def dec_to_bin():\n",
    "    x= int(input(\"Enter a decimal number: \"))\n",
    "    y= bin(x)\n",
    "    print(x,'in decimal =',y,'in binary')"
   ]
  },
  {
   "cell_type": "code",
   "execution_count": 108,
   "id": "0dd5afc5",
   "metadata": {},
   "outputs": [],
   "source": [
    "# bin to decimal\n",
    "def bin_to_dec():\n",
    "    x=input('Enter a binary number: ')\n",
    "    y=int(x,2)\n",
    "    print(x,'in binary =',y,'in decimal')"
   ]
  },
  {
   "cell_type": "code",
   "execution_count": 109,
   "id": "17c4e94b",
   "metadata": {},
   "outputs": [],
   "source": [
    "# character to ASCII\n",
    "def char_to_ASCII():\n",
    "    x=input('Enter a character: ')\n",
    "    y=ord(x)\n",
    "    print('ASCII code for',x,'is',y)"
   ]
  },
  {
   "cell_type": "code",
   "execution_count": 110,
   "id": "c2ce8ce4",
   "metadata": {},
   "outputs": [],
   "source": [
    "# ASCII to character\n",
    "def ASCII_to_char():\n",
    "    x=int(input('Enter an ASCII code: '))\n",
    "    y=chr(x)\n",
    "    print('The ASCII code:',x,'represents',y)"
   ]
  },
  {
   "cell_type": "code",
   "execution_count": 111,
   "id": "3a09c78f",
   "metadata": {},
   "outputs": [],
   "source": [
    "# Celsius to Fahrenheit\n",
    "def cel_to_far():\n",
    "    x=int(input('Enter temperature in Celsius: '))\n",
    "    y= x*1.8+32\n",
    "    print(x,chr(176),'Celsius =',y,chr(176),'Fahrenheit')"
   ]
  },
  {
   "cell_type": "code",
   "execution_count": 112,
   "id": "4ead92ac",
   "metadata": {},
   "outputs": [],
   "source": [
    "# Fahrenheit to Celsius\n",
    "def far_to_cel():\n",
    "    x=int(input('Enter temperature in Fahrenheit: '))\n",
    "    y=(x-32)/1.8\n",
    "    print(x,chr(176),'Fahrenheit =',y,chr(176),'Celsius')"
   ]
  },
  {
   "cell_type": "code",
   "execution_count": 114,
   "id": "911d8dbe",
   "metadata": {},
   "outputs": [],
   "source": [
    "# Defining a function dictionary\n",
    "func_dic={'1':rad_to_deg, '2':deg_to_rad, '3':num_to_fac, '4':num_to_sqrt,\n",
    "         '5':mb_to_nib, '6':frac_to_dec, '7':kmph_to_mps, '8':mps_to_kmph,\n",
    "         '9':int_to_flt, '10':flt_to_int, '11':dec_to_oct, '12':oct_to_dec,\n",
    "         '13':dec_to_hex, '14':hex_to_dec, '15':dec_to_bin, '16':bin_to_dec,\n",
    "         '17':char_to_ASCII, '18':ASCII_to_char, '19':cel_to_far, '20':far_to_cel}"
   ]
  },
  {
   "cell_type": "code",
   "execution_count": 143,
   "id": "124e2ff1",
   "metadata": {},
   "outputs": [
    {
     "name": "stdout",
     "output_type": "stream",
     "text": [
      "                    THE CONVERSION APP\n",
      "1.Radians to Degree                2.degree to Radians\n",
      "3.Number to its Factorial          4.Number to its Square Root\n",
      "5.Megabyte to Nibble               6.Fraction to Decimal\n",
      "7.Kilometer/Hour to Meter/Second   8.Meter/Second to Kilometer/Hour\n",
      "9.Integer to float                 10.Float to integer\n",
      "11.Decimal to Octal                12.Octal to Decimal\n",
      "13.Decimal to Hexadecimal          14.Hexadecimal to Decimal\n",
      "15.Decimal to Binary               16.Binary to Decimal\n",
      "17.Character to ASCII              18.ASCII to Character\n",
      "19.Celsius to Fahrenheit           20.Fahrenheit to Celsius\n",
      "Select the number corresponding to the operation you want to perform: 13\n",
      "Enter a decimal number: 45\n",
      "45 in decimal = 0x2d in Hexadecimal\n"
     ]
    }
   ],
   "source": [
    "# the app\n",
    "print('                    THE CONVERSION APP')\n",
    "print('1.Radians to Degree                2.degree to Radians\\n3.Number to its Factorial          4.Number to its Square Root\\n5.Megabyte to Nibble               6.Fraction to Decimal\\n7.Kilometer/Hour to Meter/Second   8.Meter/Second to Kilometer/Hour\\n9.Integer to float                 10.Float to integer\\n11.Decimal to Octal                12.Octal to Decimal\\n13.Decimal to Hexadecimal          14.Hexadecimal to Decimal\\n15.Decimal to Binary               16.Binary to Decimal\\n17.Character to ASCII              18.ASCII to Character\\n19.Celsius to Fahrenheit           20.Fahrenheit to Celsius')\n",
    "a=input('Select the number corresponding to the operation you want to perform: ')\n",
    "func_dic[a]()"
   ]
  },
  {
   "cell_type": "code",
   "execution_count": null,
   "id": "30fa22f2",
   "metadata": {},
   "outputs": [],
   "source": []
  }
 ],
 "metadata": {
  "kernelspec": {
   "display_name": "Python 3 (ipykernel)",
   "language": "python",
   "name": "python3"
  },
  "language_info": {
   "codemirror_mode": {
    "name": "ipython",
    "version": 3
   },
   "file_extension": ".py",
   "mimetype": "text/x-python",
   "name": "python",
   "nbconvert_exporter": "python",
   "pygments_lexer": "ipython3",
   "version": "3.9.7"
  }
 },
 "nbformat": 4,
 "nbformat_minor": 5
}
