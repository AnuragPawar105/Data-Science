{
 "cells": [
  {
   "cell_type": "code",
   "execution_count": 3,
   "id": "ab0acca7",
   "metadata": {},
   "outputs": [
    {
     "name": "stdout",
     "output_type": "stream",
     "text": [
      "Enter the number: 5\n",
      "5 ! = 120\n"
     ]
    }
   ],
   "source": [
    "#practice 1\n",
    "i=2\n",
    "n=int(input(\"Enter the number: \"))\n",
    "factorial=1\n",
    "while i<=n:\n",
    "    factorial= factorial * i\n",
    "    i= i+1\n",
    "print(n,\"! =\",factorial)"
   ]
  },
  {
   "cell_type": "code",
   "execution_count": 4,
   "id": "eab7709c",
   "metadata": {},
   "outputs": [
    {
     "name": "stdout",
     "output_type": "stream",
     "text": [
      "2 3 5 7 11 13 17 19 "
     ]
    }
   ],
   "source": [
    "#practice 2\n",
    "i=1\n",
    "while i<=20:\n",
    "    count =0\n",
    "    n=2\n",
    "    while(n<=i//2):\n",
    "        if(i%n == 0):\n",
    "            count=count+1\n",
    "            break\n",
    "        n=n+1\n",
    "    if (count == 0 and i!=1):\n",
    "        print(\"%d\"%i, end=' ')\n",
    "    i=i+1"
   ]
  },
  {
   "cell_type": "code",
   "execution_count": 5,
   "id": "5557c0d9",
   "metadata": {},
   "outputs": [
    {
     "name": "stdout",
     "output_type": "stream",
     "text": [
      "Enter a 5-digit number: 12345\n",
      "The sum of the digits is  15\n"
     ]
    }
   ],
   "source": [
    "#practice 3\n",
    "n=int(input(\"Enter a 5-digit number: \"))\n",
    "mysum=0\n",
    "while n>0:\n",
    "    digit=n%10\n",
    "    mysum= mysum + digit\n",
    "    n=n//10\n",
    "print(\"The sum of the digits is \",mysum)"
   ]
  },
  {
   "cell_type": "code",
   "execution_count": 8,
   "id": "0a2d8cb3",
   "metadata": {},
   "outputs": [
    {
     "name": "stdout",
     "output_type": "stream",
     "text": [
      "1 2 3 5 8 13 21 "
     ]
    }
   ],
   "source": [
    "#practice 4\n",
    "i=1\n",
    "n=2\n",
    "count=1\n",
    "print(i,n,end=' ')\n",
    "while count<=5:\n",
    "    s=i+n\n",
    "    i=n\n",
    "    n=s\n",
    "    print(s,end=' ')\n",
    "    count=count+1\n",
    "    "
   ]
  },
  {
   "cell_type": "code",
   "execution_count": 14,
   "id": "88f2320d",
   "metadata": {},
   "outputs": [
    {
     "name": "stdout",
     "output_type": "stream",
     "text": [
      "ID of t1= 2853056987280\n",
      "ID of t2= 2853056988000\n",
      "ID of new t1= 2853027714320\n"
     ]
    }
   ],
   "source": [
    "#practice 5\n",
    "t1=(1,2,3,4)\n",
    "t2=(5,6,7,8)\n",
    "print('ID of t1=',id(t1))\n",
    "print('ID of t2=',id(t2))\n",
    "t1=t1+t2\n",
    "print('ID of new t1=',id(t1))\n",
    "#here the ID of the concatenated tuple is changed."
   ]
  },
  {
   "cell_type": "code",
   "execution_count": 16,
   "id": "a293d04e",
   "metadata": {},
   "outputs": [
    {
     "name": "stdout",
     "output_type": "stream",
     "text": [
      "{70, 40, 10, 50, 20, 60, 30}\n"
     ]
    }
   ],
   "source": [
    "#practice 6\n",
    "m={10,20,30,40,50}\n",
    "n={30,40,50,60,70}\n",
    "m.update(n)\n",
    "print(m)\n",
    "#Here the common elements are getting removed because a set only contains unique values."
   ]
  },
  {
   "cell_type": "code",
   "execution_count": 17,
   "id": "6b1b767e",
   "metadata": {},
   "outputs": [
    {
     "name": "stdout",
     "output_type": "stream",
     "text": [
      "2\n",
      "4\n"
     ]
    }
   ],
   "source": [
    "#practice 7\n",
    "port1={'FTP':1,'SSH':2,'telnet':3,'http':4}\n",
    "n=0\n",
    "temp=list(port1.values())\n",
    "while n<4:\n",
    "    if temp[n]%2 == 0:\n",
    "        print(temp[n])\n",
    "    n= n+1"
   ]
  },
  {
   "cell_type": "code",
   "execution_count": 19,
   "id": "60a9d19c",
   "metadata": {},
   "outputs": [
    {
     "name": "stdout",
     "output_type": "stream",
     "text": [
      "{1: 1, 2: 4, 3: 9, 4: 16, 5: 25, 6: 36, 7: 49, 8: 64, 9: 81, 10: 100, 11: 121, 12: 144, 13: 169, 14: 196, 15: 225}\n",
      "{1: 1, 2: 4, 3: 9, 4: 16, 5: 25, 6: 36, 7: 49, 8: 64, 9: 81, 10: 100, 11: 121, 12: 144, 13: 169, 14: 196, 15: 225, 100: 10000}\n"
     ]
    }
   ],
   "source": [
    "#practice 8\n",
    "dic= dict()\n",
    "for i in range(1,16):\n",
    "    dic[i] = i**2\n",
    "print(dic)\n",
    "dic.update({100:10000})\n",
    "print(dic)"
   ]
  },
  {
   "cell_type": "code",
   "execution_count": 21,
   "id": "0826bb5b",
   "metadata": {},
   "outputs": [
    {
     "name": "stdout",
     "output_type": "stream",
     "text": [
      "{1: 'FTP', 2: 'SSH', 3: 'telnet', 4: 'http'}\n"
     ]
    }
   ],
   "source": [
    "#practice 9\n",
    "port1={'FTP':1,'SSH':2,'telnet':3,'http':4}\n",
    "port2={}\n",
    "for keys,values in port1.items():\n",
    "    temp={values:keys}\n",
    "    port2.update(temp)\n",
    "print(port2)  "
   ]
  },
  {
   "cell_type": "code",
   "execution_count": 22,
   "id": "101a6ef4",
   "metadata": {},
   "outputs": [
    {
     "name": "stdout",
     "output_type": "stream",
     "text": [
      "{'Emp1': {'name': 'Sara', 'Dept': 'IT', 'Designation': 'Team Lead'}, 'Emp2': {'name': 'Anna', 'Dept': 'IT', 'Designation': 'Software Engineer'}, 'Emp3': {'name': 'Andy', 'Dept': 'Biotech', 'Designation': 'Senior Software Engineer'}}\n"
     ]
    }
   ],
   "source": [
    "#practice 10\n",
    "Employee={'Emp1':{'name':'Sara','Dept':'IT','Designation':'Team Lead'},'Emp2':{'name':'Anna','Dept':'IT','Designation':'Software Engineer'},'Emp3':{'name':'Andy','Dept':'Biotech','Designation':'Senior Software Engineer'},'Emp4':{'name':'Andy','Dept':'Biotech','Designation':'Senior Software Engineer'}}\n",
    "del Employee['Emp4']\n",
    "print(Employee)"
   ]
  },
  {
   "cell_type": "code",
   "execution_count": null,
   "id": "e2d60109",
   "metadata": {},
   "outputs": [],
   "source": []
  }
 ],
 "metadata": {
  "kernelspec": {
   "display_name": "Python 3 (ipykernel)",
   "language": "python",
   "name": "python3"
  },
  "language_info": {
   "codemirror_mode": {
    "name": "ipython",
    "version": 3
   },
   "file_extension": ".py",
   "mimetype": "text/x-python",
   "name": "python",
   "nbconvert_exporter": "python",
   "pygments_lexer": "ipython3",
   "version": "3.9.7"
  }
 },
 "nbformat": 4,
 "nbformat_minor": 5
}
