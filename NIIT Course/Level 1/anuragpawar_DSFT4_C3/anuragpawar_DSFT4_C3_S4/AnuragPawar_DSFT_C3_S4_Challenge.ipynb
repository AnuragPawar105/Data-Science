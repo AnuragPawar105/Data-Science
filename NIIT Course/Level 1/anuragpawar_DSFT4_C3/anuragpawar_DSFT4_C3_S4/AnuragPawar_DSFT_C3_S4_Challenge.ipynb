{
 "cells": [
  {
   "cell_type": "code",
   "execution_count": 8,
   "id": "e621dc4e",
   "metadata": {},
   "outputs": [
    {
     "name": "stdout",
     "output_type": "stream",
     "text": [
      "1.What is the capital of india?\n",
      "a.Delhi b.Mumbai c.Patna\n",
      "Enter the answer: a\n",
      "2.Who is the PM of India?\n",
      "a.Shah b.Modi c.Jaitley\n",
      "Enter the answer: b\n",
      "3.What is the national bird of india?\n",
      "a.Sparrow b.Eagle c.Peacock\n",
      "Enter the answer: c\n",
      "4.What is the national animal of india?\n",
      "a.Lion b.Tiger c.Deer\n",
      "Enter the answer: b\n",
      "5.Which is the easiest prog language?\n",
      "a.Python b.C c.Java\n",
      "Enter the answer: a\n",
      "6.Which is a spreadsheet tool?\n",
      "a.SQL b.Python c.Excel\n",
      "Enter the answer: c\n",
      "7.Which data structure has square brackets?\n",
      "a.List b.Set c.Tuple\n",
      "Enter the answer: a\n",
      "8.Which is the last month of year?\n",
      "a.January b.May c.December\n",
      "Enter the answer: c\n",
      "9.Which is the first month of year?\n",
      "a.January b.May c.December\n",
      "Enter the answer: a\n",
      "10.Which is the coldest season?\n",
      "a.Summer b.Monsoon c.Winter\n",
      "Enter the answer: a\n",
      "You have scored  9 /10\n",
      "The answer key is as follows:\n",
      "Question 1  :  a\n",
      "Question 2  :  b\n",
      "Question 3  :  c\n",
      "Question 4  :  b\n",
      "Question 5  :  a\n",
      "Question 6  :  c\n",
      "Question 7  :  a\n",
      "Question 8  :  c\n",
      "Question 9  :  a\n",
      "Question 10  :  c\n"
     ]
    }
   ],
   "source": [
    "question_set={'1.What is the capital of india?':'a.Delhi b.Mumbai c.Patna',\n",
    "           '2.Who is the PM of India?':'a.Shah b.Modi c.Jaitley',\n",
    "           '3.What is the national bird of india?':'a.Sparrow b.Eagle c.Peacock',\n",
    "           '4.What is the national animal of india?':'a.Lion b.Tiger c.Deer',\n",
    "           '5.Which is the easiest prog language?':'a.Python b.C c.Java',\n",
    "           '6.Which is a spreadsheet tool?':'a.SQL b.Python c.Excel',\n",
    "           '7.Which data structure has square brackets?':'a.List b.Set c.Tuple',\n",
    "           '8.Which is the last month of year?':'a.January b.May c.December',\n",
    "           '9.Which is the first month of year?':'a.January b.May c.December',\n",
    "           '10.Which is the coldest season?':'a.Summer b.Monsoon c.Winter'}\n",
    "questions=list(question_set.keys())\n",
    "options=list(question_set.values())\n",
    "answers=['a','b','c','b','a','c','a','c','a','c']\n",
    "marks = 0\n",
    "for i in range(10):\n",
    "    print(questions[i])\n",
    "    print(options[i])\n",
    "    x=(input(\"Enter the answer: \"))\n",
    "    if x==(answers[i]):\n",
    "        marks= marks+1\n",
    "    else:\n",
    "        marks= marks+0\n",
    "print(\"You have scored \",marks,\"/10\")\n",
    "#for answer key\n",
    "print('The answer key is as follows:')\n",
    "for j in range(10):\n",
    "    k= j+1\n",
    "    print(\"Question\",k,\" : \",(answers[j]))"
   ]
  },
  {
   "cell_type": "code",
   "execution_count": null,
   "id": "416bcbae",
   "metadata": {},
   "outputs": [],
   "source": []
  }
 ],
 "metadata": {
  "kernelspec": {
   "display_name": "Python 3 (ipykernel)",
   "language": "python",
   "name": "python3"
  },
  "language_info": {
   "codemirror_mode": {
    "name": "ipython",
    "version": 3
   },
   "file_extension": ".py",
   "mimetype": "text/x-python",
   "name": "python",
   "nbconvert_exporter": "python",
   "pygments_lexer": "ipython3",
   "version": "3.9.7"
  }
 },
 "nbformat": 4,
 "nbformat_minor": 5
}
