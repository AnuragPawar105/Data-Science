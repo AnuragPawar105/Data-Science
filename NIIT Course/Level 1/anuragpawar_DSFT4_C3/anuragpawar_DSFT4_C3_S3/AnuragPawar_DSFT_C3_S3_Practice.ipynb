{
 "cells": [
  {
   "cell_type": "code",
   "execution_count": 11,
   "id": "513f3a86",
   "metadata": {},
   "outputs": [
    {
     "data": {
      "text/plain": [
       "False"
      ]
     },
     "execution_count": 11,
     "metadata": {},
     "output_type": "execute_result"
    }
   ],
   "source": [
    "#practice 1\n",
    "mynames= [\"Joe\",\"Zoe\",\"world\",\"Brad\",\"Angelina\",\"world\",\"Zuki\",\"Tom\",\"Paris\",\"world\",\"magic\"]\n",
    "\"USA\" in mynames"
   ]
  },
  {
   "cell_type": "code",
   "execution_count": null,
   "id": "05421912",
   "metadata": {},
   "outputs": [],
   "source": [
    "#practice 2\n",
    "mynames= [\"Joe\",\"Zoe\",\"world\",\"Brad\",\"Angelina\",\"world\",\"Zuki\",\"Tom\",\"Paris\",\"world\",\"magic\"]\n",
    "count=0\n",
    "for x in mynames:\n",
    "    if(x == \"world\"):\n",
    "        count= count + 1\n",
    "print(count)"
   ]
  },
  {
   "cell_type": "code",
   "execution_count": 3,
   "id": "2a25d6ad",
   "metadata": {},
   "outputs": [
    {
     "name": "stdout",
     "output_type": "stream",
     "text": [
      "[1, 2, 3, 4, 5, 6, 7, 8, 9, 10, 11, 12, 13, 14, 15, 16, 17, 18, 19, 20, 21, 22, 23, 24, 25, 26, 27, 28, 29]\n",
      "The list has  14  even numbers.\n",
      "The list has  15  odd numbers\n"
     ]
    }
   ],
   "source": [
    "#practice 3\n",
    "dataset = list(range(1,30))\n",
    "print(dataset)\n",
    "count_even=0\n",
    "count_odd=0\n",
    "for x in dataset:\n",
    "    if (x%2 == 0):\n",
    "        count_even= count_even+1\n",
    "    else:\n",
    "        count_odd= count_odd+1\n",
    "print(\"The list has \",count_even,\" even numbers.\")\n",
    "print(\"The list has \",count_odd,\" odd numbers\")\n"
   ]
  },
  {
   "cell_type": "code",
   "execution_count": 14,
   "id": "53be27e3",
   "metadata": {},
   "outputs": [
    {
     "name": "stdout",
     "output_type": "stream",
     "text": [
      "[2, 4, 6, 8, 10]\n"
     ]
    }
   ],
   "source": [
    "#practice 4\n",
    "L=[]\n",
    "count=0\n",
    "for x in dataset:\n",
    "    if (x%2 == 0):\n",
    "        L.append(x)\n",
    "        count=count+1\n",
    "    if (count==5):\n",
    "        break\n",
    "print(L)        "
   ]
  },
  {
   "cell_type": "code",
   "execution_count": 9,
   "id": "a9f17248",
   "metadata": {},
   "outputs": [
    {
     "name": "stdout",
     "output_type": "stream",
     "text": [
      "The last two odd numbers are: \n",
      "29\n",
      "27\n"
     ]
    }
   ],
   "source": [
    "#practice 5\n",
    "dataset = list(range(1,30))\n",
    "count= 0\n",
    "length=len(dataset)\n",
    "print(\"The last two odd numbers are: \")\n",
    "for x in dataset:\n",
    "    y=dataset[length-1]\n",
    "    if(y%2 !=0):\n",
    "        print(y)\n",
    "        count= count+1\n",
    "        if (count == 2):\n",
    "            break\n",
    "    length=length-1\n"
   ]
  },
  {
   "cell_type": "code",
   "execution_count": 18,
   "id": "f0b20955",
   "metadata": {},
   "outputs": [
    {
     "name": "stdout",
     "output_type": "stream",
     "text": [
      "enter value in x:1\n",
      "enter value in y:2\n",
      "enter value in x:3\n",
      "enter value in y:4\n",
      "enter value in x:5\n",
      "enter value in y:6\n",
      "enter value in x:7\n",
      "enter value in y:8\n",
      "enter value in x:9\n",
      "enter value in y:0\n",
      "x=  ['hello', 1, 3, 5, 7, 9, 2, 4, 6, 8, 0]\n",
      "y=  [2, 4, 6, 8, 0]\n"
     ]
    }
   ],
   "source": [
    "#practice 6\n",
    "x=[]\n",
    "y=[]\n",
    "for z in range(1,6):\n",
    "    j= int(input(\"enter value in x:\"))\n",
    "    x.append(j)\n",
    "    k= int(input(\"enter value in y:\"))\n",
    "    y.append(k)\n",
    "x.extend(y)\n",
    "x.insert(0,\"hello\")\n",
    "print(\"x= \",x)\n",
    "print(\"y= \",y)\n",
    "    "
   ]
  },
  {
   "cell_type": "code",
   "execution_count": 22,
   "id": "1d409b1c",
   "metadata": {},
   "outputs": [
    {
     "name": "stdout",
     "output_type": "stream",
     "text": [
      "first 10 elements are  [1, 4, 9, 16, 25, 36, 49, 64, 81, 100]\n",
      "last 10 elements are  [961, 1024, 1089, 1156, 1225, 1296, 1369, 1444, 1521, 1600]\n"
     ]
    }
   ],
   "source": [
    "#practice 7\n",
    "L1=[]\n",
    "for r in range(1,41):\n",
    "    h= r**2\n",
    "    L1.append(h)\n",
    "first_10 = L1[0:10]\n",
    "print(\"first 10 elements are \",first_10)\n",
    "last_10 = L1[-10:]\n",
    "print(\"last 10 elements are \",last_10)"
   ]
  },
  {
   "cell_type": "code",
   "execution_count": 1,
   "id": "ade5dd27",
   "metadata": {},
   "outputs": [
    {
     "name": "stdout",
     "output_type": "stream",
     "text": [
      "Enter the number:5\n",
      "5 * 1 = 5\n",
      "5 * 2 = 10\n",
      "5 * 3 = 15\n",
      "5 * 4 = 20\n",
      "5 * 5 = 25\n",
      "5 * 6 = 30\n",
      "5 * 7 = 35\n",
      "5 * 8 = 40\n",
      "5 * 9 = 45\n",
      "5 * 10 = 50\n"
     ]
    }
   ],
   "source": [
    "#practice 8\n",
    "f=int(input(\"Enter the number:\"))\n",
    "for w in range(1,11):\n",
    "    s= w*f\n",
    "    print(f,\"*\",w,\"=\",s)\n",
    "    \n",
    "    \n",
    "    "
   ]
  },
  {
   "cell_type": "code",
   "execution_count": null,
   "id": "de14fceb",
   "metadata": {},
   "outputs": [],
   "source": []
  }
 ],
 "metadata": {
  "kernelspec": {
   "display_name": "Python 3 (ipykernel)",
   "language": "python",
   "name": "python3"
  },
  "language_info": {
   "codemirror_mode": {
    "name": "ipython",
    "version": 3
   },
   "file_extension": ".py",
   "mimetype": "text/x-python",
   "name": "python",
   "nbconvert_exporter": "python",
   "pygments_lexer": "ipython3",
   "version": "3.9.7"
  }
 },
 "nbformat": 4,
 "nbformat_minor": 5
}
