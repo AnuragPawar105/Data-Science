{
 "cells": [
  {
   "cell_type": "code",
   "execution_count": 1,
   "id": "727a2241",
   "metadata": {},
   "outputs": [
    {
     "name": "stdout",
     "output_type": "stream",
     "text": [
      "Enter the elements: hi\n",
      "Enter the elements: hello\n",
      "Enter the elements: bye\n",
      "Enter the elements: good\n",
      "Enter the elements: bad\n",
      "Enter the elements: okay\n",
      "Enter the elements: yes\n",
      "Enter the elements: no\n",
      "Enter the elements: bell\n",
      "Enter the elements: well\n",
      "['hi', 'hello', 'bye', 'good', 'bad', 'okay', 'yes', 'no', 'bell', 'well']\n",
      "ih olleh eyb doog dab yako sey on lleb llew "
     ]
    }
   ],
   "source": [
    "#Question 1\n",
    "L1=[]\n",
    "for x in range(1,11):\n",
    "    y=input(\"Enter the elements: \")\n",
    "    L1.append(y)\n",
    "print(L1)\n",
    "for x in L1:\n",
    "    print(x[::-1],end=' ')"
   ]
  },
  {
   "cell_type": "code",
   "execution_count": 2,
   "id": "da545d05",
   "metadata": {},
   "outputs": [
    {
     "name": "stdout",
     "output_type": "stream",
     "text": [
      "Enter the elements: hi\n",
      "Enter the elements: hello\n",
      "Enter the elements: bye\n",
      "Enter the elements: good\n",
      "Enter the elements: bad\n",
      "Enter the elements: okay\n",
      "Enter the elements: yes\n",
      "Enter the elements: no\n",
      "Enter the elements: bell\n",
      "Enter the elements: well\n",
      "['hi', 'hello', 'bye', 'good', 'bad', 'okay', 'yes', 'no', 'bell', 'well']\n",
      "['well', 'bell', 'no', 'yes', 'okay', 'bad', 'good', 'bye', 'hello', 'hi']\n"
     ]
    }
   ],
   "source": [
    "#Question 2\n",
    "L2=[]\n",
    "for x in range(1,11):\n",
    "    y=input(\"Enter the elements: \")\n",
    "    L2.append(y)\n",
    "print(L2)\n",
    "print(L2[::-1])"
   ]
  },
  {
   "cell_type": "code",
   "execution_count": 3,
   "id": "a8cd9c2d",
   "metadata": {},
   "outputs": [
    {
     "name": "stdout",
     "output_type": "stream",
     "text": [
      "Enter the elements: hi\n",
      "Enter the elements: hello\n",
      "Enter the elements: bye\n",
      "Enter the elements: hi\n",
      "Enter the elements: hello\n",
      "Enter the elements: bye\n",
      "Enter the elements: yes\n",
      "Enter the elements: okay\n",
      "Enter the elements: hi\n",
      "Enter the elements: good\n",
      "['hi', 'hello', 'bye', 'hi', 'hello', 'bye', 'yes', 'okay', 'hi', 'good']\n"
     ]
    }
   ],
   "source": [
    "#Question 3\n",
    "alist=[]\n",
    "for x in range(1,11):\n",
    "    y=input(\"Enter the elements: \")\n",
    "    alist.append(y)\n",
    "print(alist)\n"
   ]
  },
  {
   "cell_type": "code",
   "execution_count": 26,
   "id": "01b62500",
   "metadata": {},
   "outputs": [
    {
     "name": "stdout",
     "output_type": "stream",
     "text": [
      "['bye', 'hi', 'good', 'hello', 'yes', 'okay']\n"
     ]
    }
   ],
   "source": [
    "#Question 4\n",
    "blist= list(set(alist))\n",
    "print(blist)"
   ]
  },
  {
   "cell_type": "code",
   "execution_count": 18,
   "id": "516b76db",
   "metadata": {},
   "outputs": [
    {
     "name": "stdout",
     "output_type": "stream",
     "text": [
      "['bye', 'good', 'hello', 'hi', 'okay', 'yes']\n"
     ]
    }
   ],
   "source": [
    "#Question 5\n",
    "blist.sort()\n",
    "print(blist)"
   ]
  },
  {
   "cell_type": "code",
   "execution_count": 27,
   "id": "aa7cf97b",
   "metadata": {},
   "outputs": [
    {
     "name": "stdout",
     "output_type": "stream",
     "text": [
      "['hi', 'good', 'hello', 'yes', 'okay']\n",
      "['good', 'hello', 'yes', 'okay']\n",
      "['hello', 'yes', 'okay']\n",
      "['yes', 'okay']\n",
      "['okay']\n",
      "[]\n"
     ]
    }
   ],
   "source": [
    "#Question 6\n",
    "for x in range(6):\n",
    "    blist.pop(0)\n",
    "    print(blist)"
   ]
  },
  {
   "cell_type": "code",
   "execution_count": 30,
   "id": "1a70b711",
   "metadata": {},
   "outputs": [
    {
     "name": "stdout",
     "output_type": "stream",
     "text": [
      "1505 1540 1575 1610 1645 1680 1715 1750 1785 1820 1855 1890 1925 1960 1995 2030 2065 2100 2135 2170 2205 2240 2275 2310 2345 2380 2415 2450 2485 2520 2555 2590 2625 2660 2695 "
     ]
    }
   ],
   "source": [
    "#Question 7\n",
    "for x in range(1500,2701):\n",
    "    if (x % 7 ==0) and (x % 5 ==0):\n",
    "        print(x, end=' ')"
   ]
  },
  {
   "cell_type": "code",
   "execution_count": 35,
   "id": "cd2b9cf8",
   "metadata": {},
   "outputs": [
    {
     "name": "stdout",
     "output_type": "stream",
     "text": [
      "Enter the number: 7\n",
      "1 2 3 4 5 6 8 9 10 11 12 13 15 16 17 18 19 20 22 23 24 25 26 27 29 30 "
     ]
    }
   ],
   "source": [
    "#Question 8\n",
    "n= int(input(\"Enter the number: \"))\n",
    "for x in range (1,31):\n",
    "    if(x % n == 0):\n",
    "        continue\n",
    "    print(x,end=' ')"
   ]
  },
  {
   "cell_type": "code",
   "execution_count": 37,
   "id": "52e2f5e6",
   "metadata": {},
   "outputs": [
    {
     "name": "stdout",
     "output_type": "stream",
     "text": [
      "[[1, 2, 3], [4, 5, 6], [7, 8, 9], [19, 18, 17], [16, 15, 14], [13, 12, 11]]\n"
     ]
    }
   ],
   "source": [
    "#Question 9\n",
    "firstlist=[[1,2,3],[4,5,6],[7,8,9]]\n",
    "secondlist=[[19,18,17],[16,15,14],[13,12,11]]\n",
    "thirdlist=firstlist+secondlist\n",
    "print(thirdlist)"
   ]
  },
  {
   "cell_type": "code",
   "execution_count": null,
   "id": "0657b7f5",
   "metadata": {},
   "outputs": [],
   "source": [
    "flist = []\n",
    "slist = []\n",
    "for i in range (3): #first list values\n",
    "    f = []\n",
    "    for j in range(3):\n",
    "        f.append(int(input(\"Enter value for first list:\")))\n",
    "    flist.append(f)\n",
    "print(flist)\n",
    "\n",
    "for i in range (3): # second list values\n",
    "    s = []\n",
    "    for j in range(3):\n",
    "        s.append(int(input(\"Enter value for second list:\")))\n",
    "    slist.append(s)\n",
    "print(slist)"
   ]
  }
 ],
 "metadata": {
  "kernelspec": {
   "display_name": "Python 3 (ipykernel)",
   "language": "python",
   "name": "python3"
  },
  "language_info": {
   "codemirror_mode": {
    "name": "ipython",
    "version": 3
   },
   "file_extension": ".py",
   "mimetype": "text/x-python",
   "name": "python",
   "nbconvert_exporter": "python",
   "pygments_lexer": "ipython3",
   "version": "3.9.7"
  }
 },
 "nbformat": 4,
 "nbformat_minor": 5
}
