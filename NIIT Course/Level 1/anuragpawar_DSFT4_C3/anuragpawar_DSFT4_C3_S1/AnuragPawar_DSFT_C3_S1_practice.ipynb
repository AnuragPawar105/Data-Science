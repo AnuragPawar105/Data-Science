{
 "cells": [
  {
   "cell_type": "code",
   "execution_count": 9,
   "id": "cf5b47fe",
   "metadata": {},
   "outputs": [
    {
     "name": "stdout",
     "output_type": "stream",
     "text": [
      "10\n",
      "<class 'int'>\n",
      "1649029376592\n"
     ]
    }
   ],
   "source": [
    "rollno = 10   #practice 1a\n",
    "print(rollno)\n",
    "print(type(rollno))\n",
    "print(id(rollno))"
   ]
  },
  {
   "cell_type": "code",
   "execution_count": 6,
   "id": "1e4743ab",
   "metadata": {},
   "outputs": [
    {
     "name": "stdout",
     "output_type": "stream",
     "text": [
      "anurag\n",
      "<class 'str'>\n",
      "1649109881008\n"
     ]
    }
   ],
   "source": [
    "firstname= 'anurag'  #practice 1b\n",
    "print(firstname)\n",
    "print(type(firstname))\n",
    "print(id(firstname))"
   ]
  },
  {
   "cell_type": "code",
   "execution_count": 7,
   "id": "f46a5ba8",
   "metadata": {},
   "outputs": [
    {
     "name": "stdout",
     "output_type": "stream",
     "text": [
      "pawar\n",
      "<class 'str'>\n",
      "1649110327856\n"
     ]
    }
   ],
   "source": [
    "lastname= 'pawar'  #practice 1c\n",
    "print(lastname)\n",
    "print(type(lastname))\n",
    "print(id(lastname))"
   ]
  },
  {
   "cell_type": "code",
   "execution_count": 8,
   "id": "ac10d6b9",
   "metadata": {},
   "outputs": [
    {
     "name": "stdout",
     "output_type": "stream",
     "text": [
      "50\n",
      "<class 'int'>\n",
      "1649029377872\n"
     ]
    }
   ],
   "source": [
    "maxmarks = 50   #pactice 1d\n",
    "print(maxmarks)\n",
    "print(type(maxmarks))\n",
    "print(id(maxmarks))"
   ]
  },
  {
   "cell_type": "code",
   "execution_count": 10,
   "id": "733515b1",
   "metadata": {},
   "outputs": [],
   "source": [
    "#practice 2a\n",
    "var1 = 2 # code run successfully because variable is acceptable."
   ]
  },
  {
   "cell_type": "code",
   "execution_count": 11,
   "id": "830d2ef8",
   "metadata": {},
   "outputs": [
    {
     "ename": "SyntaxError",
     "evalue": "invalid syntax (Temp/ipykernel_2160/2646558462.py, line 2)",
     "output_type": "error",
     "traceback": [
      "\u001b[1;36m  File \u001b[1;32m\"C:\\Users\\anura\\AppData\\Local\\Temp/ipykernel_2160/2646558462.py\"\u001b[1;36m, line \u001b[1;32m2\u001b[0m\n\u001b[1;33m    2var = 2 #This code will give the error because here variable name is starting with a number. Variable name should not start with number.\u001b[0m\n\u001b[1;37m     ^\u001b[0m\n\u001b[1;31mSyntaxError\u001b[0m\u001b[1;31m:\u001b[0m invalid syntax\n"
     ]
    }
   ],
   "source": [
    "#practice 2b\n",
    "2var = 2 #This code will give the error because here variable name is starting with a number. Variable name should not start with number."
   ]
  },
  {
   "cell_type": "code",
   "execution_count": 12,
   "id": "618b6f37",
   "metadata": {},
   "outputs": [
    {
     "ename": "SyntaxError",
     "evalue": "invalid syntax (Temp/ipykernel_2160/3099375595.py, line 2)",
     "output_type": "error",
     "traceback": [
      "\u001b[1;36m  File \u001b[1;32m\"C:\\Users\\anura\\AppData\\Local\\Temp/ipykernel_2160/3099375595.py\"\u001b[1;36m, line \u001b[1;32m2\u001b[0m\n\u001b[1;33m    var 1=2 #this code will give the error here because variable contains space. Variable should not contain any space.\u001b[0m\n\u001b[1;37m        ^\u001b[0m\n\u001b[1;31mSyntaxError\u001b[0m\u001b[1;31m:\u001b[0m invalid syntax\n"
     ]
    }
   ],
   "source": [
    "#practice 2c\n",
    "var 1=2 #this code will give the error here because variable contains space. Variable should not contain any space. "
   ]
  },
  {
   "cell_type": "code",
   "execution_count": 13,
   "id": "17d940c2",
   "metadata": {},
   "outputs": [
    {
     "ename": "SyntaxError",
     "evalue": "invalid syntax (Temp/ipykernel_2160/516795971.py, line 2)",
     "output_type": "error",
     "traceback": [
      "\u001b[1;36m  File \u001b[1;32m\"C:\\Users\\anura\\AppData\\Local\\Temp/ipykernel_2160/516795971.py\"\u001b[1;36m, line \u001b[1;32m2\u001b[0m\n\u001b[1;33m    var$2=2 # this code will give the error here because variable contains special charactors. Variable name should not contain special charactors.\u001b[0m\n\u001b[1;37m       ^\u001b[0m\n\u001b[1;31mSyntaxError\u001b[0m\u001b[1;31m:\u001b[0m invalid syntax\n"
     ]
    }
   ],
   "source": [
    "#practice 2d\n",
    "var$2=2 # this code will give the error here because variable contains special charactors. Variable name should not contain special charactors. "
   ]
  },
  {
   "cell_type": "code",
   "execution_count": 14,
   "id": "d5d3baaa",
   "metadata": {},
   "outputs": [],
   "source": [
    "#practice 3a\n",
    "Class = 15\n"
   ]
  },
  {
   "cell_type": "code",
   "execution_count": 16,
   "id": "03ac514b",
   "metadata": {},
   "outputs": [
    {
     "ename": "SyntaxError",
     "evalue": "invalid syntax (Temp/ipykernel_2160/974335821.py, line 2)",
     "output_type": "error",
     "traceback": [
      "\u001b[1;36m  File \u001b[1;32m\"C:\\Users\\anura\\AppData\\Local\\Temp/ipykernel_2160/974335821.py\"\u001b[1;36m, line \u001b[1;32m2\u001b[0m\n\u001b[1;33m    class = 14 # this code will give the error here because variable name is a python keyword. Variable name should not be a keyword.\u001b[0m\n\u001b[1;37m          ^\u001b[0m\n\u001b[1;31mSyntaxError\u001b[0m\u001b[1;31m:\u001b[0m invalid syntax\n"
     ]
    }
   ],
   "source": [
    "#practice 3b\n",
    "class = 14 # this code will give the error here because variable name is a python keyword. Variable name should not be a keyword."
   ]
  },
  {
   "cell_type": "code",
   "execution_count": 17,
   "id": "b988f647",
   "metadata": {},
   "outputs": [],
   "source": [
    "#practice 3c\n",
    "DEF = 13"
   ]
  },
  {
   "cell_type": "code",
   "execution_count": 18,
   "id": "e324d731",
   "metadata": {},
   "outputs": [
    {
     "ename": "SyntaxError",
     "evalue": "invalid syntax (Temp/ipykernel_2160/815113518.py, line 2)",
     "output_type": "error",
     "traceback": [
      "\u001b[1;36m  File \u001b[1;32m\"C:\\Users\\anura\\AppData\\Local\\Temp/ipykernel_2160/815113518.py\"\u001b[1;36m, line \u001b[1;32m2\u001b[0m\n\u001b[1;33m    def = 12\u001b[0m\n\u001b[1;37m        ^\u001b[0m\n\u001b[1;31mSyntaxError\u001b[0m\u001b[1;31m:\u001b[0m invalid syntax\n"
     ]
    }
   ],
   "source": [
    "#practice 3d\n",
    "def = 12 #this code will give the error here because variable name is a python keyword. Variable name should not be a keyword. "
   ]
  },
  {
   "cell_type": "code",
   "execution_count": 19,
   "id": "1439bcad",
   "metadata": {},
   "outputs": [
    {
     "ename": "NameError",
     "evalue": "name 'TRUE' is not defined",
     "output_type": "error",
     "traceback": [
      "\u001b[1;31m---------------------------------------------------------------------------\u001b[0m",
      "\u001b[1;31mNameError\u001b[0m                                 Traceback (most recent call last)",
      "\u001b[1;32m~\\AppData\\Local\\Temp/ipykernel_2160/2598238171.py\u001b[0m in \u001b[0;36m<module>\u001b[1;34m\u001b[0m\n\u001b[0;32m      1\u001b[0m \u001b[1;31m#practice 3e\u001b[0m\u001b[1;33m\u001b[0m\u001b[1;33m\u001b[0m\u001b[0m\n\u001b[1;32m----> 2\u001b[1;33m \u001b[0ma\u001b[0m\u001b[1;33m=\u001b[0m\u001b[0mTRUE\u001b[0m\u001b[1;33m\u001b[0m\u001b[1;33m\u001b[0m\u001b[0m\n\u001b[0m",
      "\u001b[1;31mNameError\u001b[0m: name 'TRUE' is not defined"
     ]
    }
   ],
   "source": [
    "#practice 3e\n",
    "a=TRUE #this code will give the error here because string should be in single or double quotation symbols."
   ]
  },
  {
   "cell_type": "code",
   "execution_count": 20,
   "id": "00d2b177",
   "metadata": {},
   "outputs": [
    {
     "ename": "NameError",
     "evalue": "name 'false' is not defined",
     "output_type": "error",
     "traceback": [
      "\u001b[1;31m---------------------------------------------------------------------------\u001b[0m",
      "\u001b[1;31mNameError\u001b[0m                                 Traceback (most recent call last)",
      "\u001b[1;32m~\\AppData\\Local\\Temp/ipykernel_2160/1631876651.py\u001b[0m in \u001b[0;36m<module>\u001b[1;34m\u001b[0m\n\u001b[0;32m      1\u001b[0m \u001b[1;31m#practice 3f\u001b[0m\u001b[1;33m\u001b[0m\u001b[1;33m\u001b[0m\u001b[0m\n\u001b[1;32m----> 2\u001b[1;33m \u001b[0mb\u001b[0m\u001b[1;33m=\u001b[0m\u001b[0mfalse\u001b[0m\u001b[1;33m\u001b[0m\u001b[1;33m\u001b[0m\u001b[0m\n\u001b[0m",
      "\u001b[1;31mNameError\u001b[0m: name 'false' is not defined"
     ]
    }
   ],
   "source": [
    "#practice 3f\n",
    "b=false #this code will give the error here because string should be in single or double quotation symbols."
   ]
  },
  {
   "cell_type": "code",
   "execution_count": 21,
   "id": "cc74be62",
   "metadata": {},
   "outputs": [
    {
     "name": "stdout",
     "output_type": "stream",
     "text": [
      "25.5\n",
      "<class 'float'>\n",
      "1649110517040\n"
     ]
    }
   ],
   "source": [
    "#practice 4a\n",
    "marks = 25.5\n",
    "print(marks)\n",
    "print(type(marks))\n",
    "print(id(marks))"
   ]
  },
  {
   "cell_type": "code",
   "execution_count": 22,
   "id": "c380dd62",
   "metadata": {},
   "outputs": [
    {
     "name": "stdout",
     "output_type": "stream",
     "text": [
      "35.5\n",
      "<class 'float'>\n",
      "1649110517264\n"
     ]
    }
   ],
   "source": [
    "#practice 4b\n",
    "marks = 35.5\n",
    "print(marks)\n",
    "print(type(marks))\n",
    "print(id(marks))\n",
    "#practice 4c\n",
    "#Here the ID is not same because the ID is always unique."
   ]
  },
  {
   "cell_type": "code",
   "execution_count": 23,
   "id": "d8f4761f",
   "metadata": {},
   "outputs": [
    {
     "name": "stdout",
     "output_type": "stream",
     "text": [
      "71.0 %\n"
     ]
    }
   ],
   "source": [
    "#practice 5a\n",
    "print(marks/maxmarks*100,'%')"
   ]
  },
  {
   "cell_type": "code",
   "execution_count": 26,
   "id": "2e2e33ef",
   "metadata": {},
   "outputs": [
    {
     "name": "stdout",
     "output_type": "stream",
     "text": [
      "anurag pawar\n"
     ]
    }
   ],
   "source": [
    "#practice 5b\n",
    "fullname = firstname+' '+lastname\n",
    "print(fullname)"
   ]
  },
  {
   "cell_type": "code",
   "execution_count": 28,
   "id": "d90b00d2",
   "metadata": {},
   "outputs": [
    {
     "name": "stdout",
     "output_type": "stream",
     "text": [
      "anurag pawar scored  71.0 %\n"
     ]
    }
   ],
   "source": [
    "#practice 5c\n",
    "print(fullname+' scored ',marks/maxmarks*100,'%')"
   ]
  },
  {
   "cell_type": "code",
   "execution_count": 29,
   "id": "3093447b",
   "metadata": {},
   "outputs": [
    {
     "ename": "TypeError",
     "evalue": "unsupported operand type(s) for +: 'int' and 'str'",
     "output_type": "error",
     "traceback": [
      "\u001b[1;31m---------------------------------------------------------------------------\u001b[0m",
      "\u001b[1;31mTypeError\u001b[0m                                 Traceback (most recent call last)",
      "\u001b[1;32m~\\AppData\\Local\\Temp/ipykernel_2160/3294079312.py\u001b[0m in \u001b[0;36m<module>\u001b[1;34m\u001b[0m\n\u001b[0;32m      1\u001b[0m \u001b[1;31m#practice 7a\u001b[0m\u001b[1;33m\u001b[0m\u001b[1;33m\u001b[0m\u001b[0m\n\u001b[1;32m----> 2\u001b[1;33m \u001b[1;36m1\u001b[0m \u001b[1;33m+\u001b[0m \u001b[1;34m\"2\"\u001b[0m\u001b[1;33m\u001b[0m\u001b[1;33m\u001b[0m\u001b[0m\n\u001b[0m",
      "\u001b[1;31mTypeError\u001b[0m: unsupported operand type(s) for +: 'int' and 'str'"
     ]
    }
   ],
   "source": [
    "#practice 7a\n",
    "1 + \"2\" #This code will give us error because here we are adding a string and a integer which are two different datatypes."
   ]
  },
  {
   "cell_type": "code",
   "execution_count": 30,
   "id": "088e5810",
   "metadata": {},
   "outputs": [
    {
     "data": {
      "text/plain": [
       "'12'"
      ]
     },
     "execution_count": 30,
     "metadata": {},
     "output_type": "execute_result"
    }
   ],
   "source": [
    "#practice 7b\n",
    "\"1\"+\"2\""
   ]
  },
  {
   "cell_type": "code",
   "execution_count": 31,
   "id": "c046c25b",
   "metadata": {},
   "outputs": [
    {
     "data": {
      "text/plain": [
       "0.5"
      ]
     },
     "execution_count": 31,
     "metadata": {},
     "output_type": "execute_result"
    }
   ],
   "source": [
    "#practice 7c\n",
    "1/2"
   ]
  },
  {
   "cell_type": "code",
   "execution_count": 33,
   "id": "9847595f",
   "metadata": {},
   "outputs": [
    {
     "data": {
      "text/plain": [
       "0"
      ]
     },
     "execution_count": 33,
     "metadata": {},
     "output_type": "execute_result"
    }
   ],
   "source": [
    "#practice 7d\n",
    "1//2"
   ]
  },
  {
   "cell_type": "code",
   "execution_count": 34,
   "id": "f067e91b",
   "metadata": {},
   "outputs": [
    {
     "data": {
      "text/plain": [
       "True"
      ]
     },
     "execution_count": 34,
     "metadata": {},
     "output_type": "execute_result"
    }
   ],
   "source": [
    "#practice 8a\n",
    "True and True #we will get true because and operator will return true for both trues."
   ]
  },
  {
   "cell_type": "code",
   "execution_count": 35,
   "id": "fde9f23c",
   "metadata": {},
   "outputs": [
    {
     "data": {
      "text/plain": [
       "False"
      ]
     },
     "execution_count": 35,
     "metadata": {},
     "output_type": "execute_result"
    }
   ],
   "source": [
    "#practice 8b\n",
    "True and False #we will get false because here is one false with the and operator."
   ]
  },
  {
   "cell_type": "code",
   "execution_count": 36,
   "id": "4915fb98",
   "metadata": {},
   "outputs": [
    {
     "data": {
      "text/plain": [
       "True"
      ]
     },
     "execution_count": 36,
     "metadata": {},
     "output_type": "execute_result"
    }
   ],
   "source": [
    "#practice 8c\n",
    "False or True #we will get true because here is one true with the or operator."
   ]
  },
  {
   "cell_type": "code",
   "execution_count": 37,
   "id": "79aa39cc",
   "metadata": {},
   "outputs": [
    {
     "data": {
      "text/plain": [
       "False"
      ]
     },
     "execution_count": 37,
     "metadata": {},
     "output_type": "execute_result"
    }
   ],
   "source": [
    "#practice 8d\n",
    "False or False #we will get false because or operator will return false for both falses."
   ]
  },
  {
   "cell_type": "code",
   "execution_count": 44,
   "id": "f7feb0d6",
   "metadata": {},
   "outputs": [
    {
     "name": "stdout",
     "output_type": "stream",
     "text": [
      "False\n"
     ]
    }
   ],
   "source": [
    "#practice 9a\n",
    "firstname = 'Anurag'\n",
    "fullname = 'Anurag Pawar'\n",
    "print(firstname is fullname)"
   ]
  },
  {
   "cell_type": "code",
   "execution_count": 45,
   "id": "04bd6871",
   "metadata": {},
   "outputs": [
    {
     "name": "stdout",
     "output_type": "stream",
     "text": [
      "True\n"
     ]
    }
   ],
   "source": [
    "#practice 9b\n",
    "print(firstname is not fullname)"
   ]
  },
  {
   "cell_type": "code",
   "execution_count": 46,
   "id": "75edf8b9",
   "metadata": {},
   "outputs": [
    {
     "name": "stdout",
     "output_type": "stream",
     "text": [
      "66\n"
     ]
    }
   ],
   "source": [
    "#practice 10a\n",
    "a=4\n",
    "b=3\n",
    "c=2\n",
    "d=a**b+c\n",
    "e=a**(b+c)\n",
    "print(d)"
   ]
  },
  {
   "cell_type": "code",
   "execution_count": 48,
   "id": "6a7de794",
   "metadata": {},
   "outputs": [
    {
     "name": "stdout",
     "output_type": "stream",
     "text": [
      "1024\n"
     ]
    }
   ],
   "source": [
    "#practice 10b\n",
    "print(e)\n",
    "#practice 10c\n",
    "#the values of d and e are different because of the addition of parenthesis in the equation of e."
   ]
  },
  {
   "cell_type": "code",
   "execution_count": 51,
   "id": "65dcbdbb",
   "metadata": {},
   "outputs": [
    {
     "name": "stdout",
     "output_type": "stream",
     "text": [
      "113.03999999999999\n"
     ]
    }
   ],
   "source": [
    "#practice 11\n",
    "radius = 6\n",
    "pi = 3.14\n",
    "area_of_circle = pi* radius* radius\n",
    "print(area_of_circle)"
   ]
  },
  {
   "cell_type": "code",
   "execution_count": 54,
   "id": "0493a1b0",
   "metadata": {},
   "outputs": [
    {
     "name": "stdout",
     "output_type": "stream",
     "text": [
      "15.3\n",
      "100.3\n"
     ]
    }
   ],
   "source": [
    "#practice 12\n",
    "selling_price = 85\n",
    "sales_tax = 18\n",
    "tax = selling_price * sales_tax / 100\n",
    "final_price = selling_price + tax\n",
    "print(tax)\n",
    "print(final_price)"
   ]
  },
  {
   "cell_type": "code",
   "execution_count": 56,
   "id": "3274ba7c",
   "metadata": {},
   "outputs": [
    {
     "name": "stdout",
     "output_type": "stream",
     "text": [
      "44.44 $\n"
     ]
    }
   ],
   "source": [
    "#practice 13\n",
    "print(3333/75,'$')"
   ]
  },
  {
   "cell_type": "code",
   "execution_count": 59,
   "id": "e37389f5",
   "metadata": {},
   "outputs": [
    {
     "name": "stdout",
     "output_type": "stream",
     "text": [
      "The purchasing power for last year was =$ 467.2897196261682\n"
     ]
    }
   ],
   "source": [
    "#practice 14\n",
    "purchasing_power=500/1.07 #1.07x=500 therefore x= 500/1.07\n",
    "print('The purchasing power for last year was =$',purchasing_power)"
   ]
  },
  {
   "cell_type": "code",
   "execution_count": null,
   "id": "1a56acbd",
   "metadata": {},
   "outputs": [],
   "source": []
  }
 ],
 "metadata": {
  "kernelspec": {
   "display_name": "Python 3 (ipykernel)",
   "language": "python",
   "name": "python3"
  },
  "language_info": {
   "codemirror_mode": {
    "name": "ipython",
    "version": 3
   },
   "file_extension": ".py",
   "mimetype": "text/x-python",
   "name": "python",
   "nbconvert_exporter": "python",
   "pygments_lexer": "ipython3",
   "version": "3.9.7"
  }
 },
 "nbformat": 4,
 "nbformat_minor": 5
}
