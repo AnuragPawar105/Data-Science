{
 "cells": [
  {
   "cell_type": "code",
   "execution_count": 1,
   "id": "cc763608",
   "metadata": {},
   "outputs": [
    {
     "name": "stdout",
     "output_type": "stream",
     "text": [
      "Enter a character: a\n",
      "Python\n"
     ]
    }
   ],
   "source": [
    "#practice 1\n",
    "char=input(\"Enter a character: \")\n",
    "if char.upper()=='A':\n",
    "    print('Python')\n",
    "elif char.upper()=='B':\n",
    "    print('MySQL')\n",
    "elif char.upper()=='C':\n",
    "    print('Excel')\n",
    "else:\n",
    "    print('Holiday')"
   ]
  },
  {
   "cell_type": "code",
   "execution_count": 3,
   "id": "aaa81b30",
   "metadata": {},
   "outputs": [
    {
     "name": "stdout",
     "output_type": "stream",
     "text": [
      "Enter a number: 7\n",
      "Enter a number: 4\n",
      "7  is greater than  4\n"
     ]
    }
   ],
   "source": [
    "#practice 2\n",
    "num1=int(input(\"Enter a number: \"))\n",
    "num2=int(input(\"Enter a number: \"))\n",
    "if num1>num2:\n",
    "    print(num1,\" is greater than \",num2)\n",
    "else:\n",
    "    print(num2,\" is greater than \",num1)"
   ]
  },
  {
   "cell_type": "code",
   "execution_count": 4,
   "id": "734bdd80",
   "metadata": {},
   "outputs": [
    {
     "name": "stdout",
     "output_type": "stream",
     "text": [
      "Enter your salary: 5678\n",
      "Net Income=  6529.700000000001\n"
     ]
    }
   ],
   "source": [
    "#practice 3\n",
    "basic_salary= int(input(\"Enter your salary: \"))\n",
    "if basic_salary>0 and basic_salary <= 4000:\n",
    "    hra= basic_salary* 0.1\n",
    "    da= basic_salary* 0.05\n",
    "    tax=0\n",
    "elif basic_salary>= 4001 and basic_salary <=10000:\n",
    "    hra= basic_salary* 0.2\n",
    "    da= basic_salary* 0.1\n",
    "    tax= basic_salary* 0.15\n",
    "else:\n",
    "    hra= basic_salary* 0.25\n",
    "    da= basic_salary* 0.15\n",
    "    tax= basic_salary* 0.2\n",
    "netincome= basic_salary+ hra+ da- tax\n",
    "print('Net Income= ',netincome)"
   ]
  },
  {
   "cell_type": "code",
   "execution_count": 5,
   "id": "c77b214c",
   "metadata": {},
   "outputs": [
    {
     "name": "stdout",
     "output_type": "stream",
     "text": [
      "Enter a word:goat\n",
      "The word does not exist in var variable\n"
     ]
    }
   ],
   "source": [
    "#practice 4\n",
    "var= \"Python is an interpreted high-level general-purpose purpose programming language. Its design philosophy emphasizes code readability with its use of significant indentation. Its language constructs as well as its object-oriented approach aim to help programmers write clear, logical code for small and large-scale projects.\"\n",
    "word= input(\"Enter a word:\")\n",
    "if word in var:\n",
    "    print(\"The word exists in var variable\")\n",
    "else:\n",
    "    print(\"The word does not exist in var variable\")"
   ]
  },
  {
   "cell_type": "code",
   "execution_count": 6,
   "id": "305e4c1f",
   "metadata": {},
   "outputs": [],
   "source": [
    "#practice 5\n",
    "#Not to be done."
   ]
  },
  {
   "cell_type": "code",
   "execution_count": 7,
   "id": "a89d7e73",
   "metadata": {},
   "outputs": [
    {
     "name": "stdout",
     "output_type": "stream",
     "text": [
      "Enter a character:Y\n",
      "Upper Case\n"
     ]
    }
   ],
   "source": [
    "#practice 6\n",
    "char=input(\"Enter a character:\")\n",
    "if char==char.upper():\n",
    "    print(\"Upper Case\")\n",
    "else:\n",
    "    print(\"Lower Case\")"
   ]
  },
  {
   "cell_type": "code",
   "execution_count": 9,
   "id": "84edf990",
   "metadata": {},
   "outputs": [
    {
     "name": "stdout",
     "output_type": "stream",
     "text": [
      "Enter a character: o\n",
      "vowel\n"
     ]
    }
   ],
   "source": [
    "#practice 7\n",
    "char=input(\"Enter a character: \")\n",
    "if (char.lower()=='a') or (char.lower()=='e') or (char.lower()=='i') or (char.lower()=='o') or (char.lower()=='u'):\n",
    "    print(\"vowel\")\n",
    "else:\n",
    "    print(\"consonant\")"
   ]
  },
  {
   "cell_type": "code",
   "execution_count": 11,
   "id": "4c4a3254",
   "metadata": {},
   "outputs": [
    {
     "name": "stdout",
     "output_type": "stream",
     "text": [
      "Enter a year: 2108\n",
      "Invalid Input\n"
     ]
    }
   ],
   "source": [
    "#practice 8\n",
    "year=int(input(\"Enter a year: \"))\n",
    "if year>1900 and year<2100:\n",
    "    if year%4 == 0:\n",
    "        print(\"Leap Year\")\n",
    "    else:\n",
    "        print(\"Not a Leap Year\")\n",
    "else:\n",
    "    print(\"Invalid Input\")"
   ]
  },
  {
   "cell_type": "code",
   "execution_count": 12,
   "id": "d314c58a",
   "metadata": {},
   "outputs": [
    {
     "name": "stdout",
     "output_type": "stream",
     "text": [
      "Enter a number between 1 & 12: 12\n",
      "Name of the month is  December\n",
      "Number of days=  31\n"
     ]
    }
   ],
   "source": [
    "#practice 9\n",
    "x=int(input(\"Enter a number between 1 & 12: \"))\n",
    "if x==1:\n",
    "    name=\"January\"\n",
    "    num_of_days= 31\n",
    "elif x==2:\n",
    "    name=\"February\"\n",
    "    num_of_days= 28\n",
    "elif x==3:\n",
    "    name=\"March\"\n",
    "    num_of_days= 31\n",
    "elif x==4:\n",
    "    name=\"April\"\n",
    "    num_of_days= 30\n",
    "elif x==5:\n",
    "    name=\"May\"\n",
    "    num_of_days= 31\n",
    "elif x==6:\n",
    "    name=\"June\"\n",
    "    num_of_days= 30\n",
    "elif x==7:\n",
    "    name=\"july\"\n",
    "    num_of_days= 31\n",
    "elif x==8:\n",
    "    name=\"August\"\n",
    "    num_of_days= 31\n",
    "elif x==9:\n",
    "    name=\"September\"\n",
    "    num_of_days= 30\n",
    "elif x==10:\n",
    "    name=\"October\"\n",
    "    num_of_days= 31\n",
    "elif x==11:\n",
    "    name=\"November\"\n",
    "    num_of_days= 30\n",
    "else:\n",
    "    name=\"December\"\n",
    "    num_of_days= 31\n",
    "print(\"Name of the month is \",name)\n",
    "print(\"Number of days= \",num_of_days)\n",
    "    "
   ]
  },
  {
   "cell_type": "code",
   "execution_count": 16,
   "id": "84578f52",
   "metadata": {},
   "outputs": [
    {
     "name": "stdout",
     "output_type": "stream",
     "text": [
      "Enter your gender: m\n",
      "No Discount\n"
     ]
    }
   ],
   "source": [
    "#practice 10\n",
    "Gender=input(\"Enter your gender: \")\n",
    "if Gender.lower()==\"f\":\n",
    "    age=int(input(\"Enter your age: \"))\n",
    "    if age>30:\n",
    "        d=30\n",
    "    elif age>=21 and age<=30:\n",
    "        d=20\n",
    "    elif age<=20:\n",
    "        d=10\n",
    "    print(\"Discount is \",d,\"%\")\n",
    "else:\n",
    "    print(\"No Discount\")"
   ]
  },
  {
   "cell_type": "code",
   "execution_count": null,
   "id": "e64f3d90",
   "metadata": {},
   "outputs": [],
   "source": []
  }
 ],
 "metadata": {
  "kernelspec": {
   "display_name": "Python 3 (ipykernel)",
   "language": "python",
   "name": "python3"
  },
  "language_info": {
   "codemirror_mode": {
    "name": "ipython",
    "version": 3
   },
   "file_extension": ".py",
   "mimetype": "text/x-python",
   "name": "python",
   "nbconvert_exporter": "python",
   "pygments_lexer": "ipython3",
   "version": "3.9.7"
  }
 },
 "nbformat": 4,
 "nbformat_minor": 5
}
