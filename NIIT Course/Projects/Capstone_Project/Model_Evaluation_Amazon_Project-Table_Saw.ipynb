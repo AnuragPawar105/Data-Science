{
 "cells": [
  {
   "cell_type": "code",
   "execution_count": 45,
   "id": "281a9f6f",
   "metadata": {},
   "outputs": [],
   "source": [
    "import pandas as pd\n",
    "import numpy as np\n",
    "import matplotlib.pyplot as plt\n",
    "import seaborn as sns\n",
    "\n",
    "from sklearn import preprocessing\n",
    "from statsmodels.tsa.seasonal import seasonal_decompose\n",
    "from statsmodels.tsa.arima.model import ARIMA\n",
    "from statsmodels.tsa.statespace.sarimax import SARIMAX\n",
    "from sklearn.metrics import mean_squared_error\n",
    "from statsmodels.tsa.stattools import adfuller, acf, pacf\n",
    "import statsmodels.api as sm                               # used for in LJung-Box Test"
   ]
  },
  {
   "cell_type": "code",
   "execution_count": 111,
   "id": "35418125",
   "metadata": {},
   "outputs": [
    {
     "name": "stdout",
     "output_type": "stream",
     "text": [
      "(146864, 14)\n"
     ]
    },
    {
     "data": {
      "text/html": [
       "<div>\n",
       "<style scoped>\n",
       "    .dataframe tbody tr th:only-of-type {\n",
       "        vertical-align: middle;\n",
       "    }\n",
       "\n",
       "    .dataframe tbody tr th {\n",
       "        vertical-align: top;\n",
       "    }\n",
       "\n",
       "    .dataframe thead th {\n",
       "        text-align: right;\n",
       "    }\n",
       "</style>\n",
       "<table border=\"1\" class=\"dataframe\">\n",
       "  <thead>\n",
       "    <tr style=\"text-align: right;\">\n",
       "      <th></th>\n",
       "      <th>Unnamed: 0</th>\n",
       "      <th>UserId</th>\n",
       "      <th>ProductId</th>\n",
       "      <th>helpful</th>\n",
       "      <th>OGText</th>\n",
       "      <th>Score</th>\n",
       "      <th>Summary</th>\n",
       "      <th>ReviewDate</th>\n",
       "      <th>Category</th>\n",
       "      <th>ProText</th>\n",
       "      <th>Helpfull</th>\n",
       "      <th>Not Helpfull</th>\n",
       "      <th>Polarity</th>\n",
       "      <th>Sentiment</th>\n",
       "    </tr>\n",
       "  </thead>\n",
       "  <tbody>\n",
       "    <tr>\n",
       "      <th>0</th>\n",
       "      <td>0</td>\n",
       "      <td>A4IL0CLL27Q33</td>\n",
       "      <td>104800001X</td>\n",
       "      <td>[0, 1]</td>\n",
       "      <td>I hate it when my shirt collars, not otherwise...</td>\n",
       "      <td>5</td>\n",
       "      <td>Perfect for collar stay management</td>\n",
       "      <td>2014-01-29</td>\n",
       "      <td>Tools</td>\n",
       "      <td>hate shirt collar otherwise secured place butt...</td>\n",
       "      <td>0</td>\n",
       "      <td>1</td>\n",
       "      <td>-0.200000</td>\n",
       "      <td>Negative</td>\n",
       "    </tr>\n",
       "    <tr>\n",
       "      <th>1</th>\n",
       "      <td>1</td>\n",
       "      <td>A3Q5W5E7TDVLJF</td>\n",
       "      <td>104800001X</td>\n",
       "      <td>[0, 0]</td>\n",
       "      <td>These little magnets are really powerful for t...</td>\n",
       "      <td>5</td>\n",
       "      <td>Neat</td>\n",
       "      <td>2013-05-31</td>\n",
       "      <td>Tools</td>\n",
       "      <td>little magnet really powerful size using make ...</td>\n",
       "      <td>0</td>\n",
       "      <td>0</td>\n",
       "      <td>-0.095833</td>\n",
       "      <td>Negative</td>\n",
       "    </tr>\n",
       "    <tr>\n",
       "      <th>2</th>\n",
       "      <td>2</td>\n",
       "      <td>A37KNOJXE2FU6</td>\n",
       "      <td>104800001X</td>\n",
       "      <td>[0, 0]</td>\n",
       "      <td>I wanted something this small to mount on the ...</td>\n",
       "      <td>5</td>\n",
       "      <td>Very small and thin</td>\n",
       "      <td>2013-03-13</td>\n",
       "      <td>Tools</td>\n",
       "      <td>wanted something small mount back filagree woo...</td>\n",
       "      <td>0</td>\n",
       "      <td>0</td>\n",
       "      <td>0.083333</td>\n",
       "      <td>Positive</td>\n",
       "    </tr>\n",
       "    <tr>\n",
       "      <th>3</th>\n",
       "      <td>3</td>\n",
       "      <td>A3U4AFML9SZPWK</td>\n",
       "      <td>104800001X</td>\n",
       "      <td>[0, 0]</td>\n",
       "      <td>I use these to magnetize my Warhammer 40K mini...</td>\n",
       "      <td>5</td>\n",
       "      <td>Excellent hobby magnets</td>\n",
       "      <td>2013-06-16</td>\n",
       "      <td>Tools</td>\n",
       "      <td>use magnetize warhammer k miniature together a...</td>\n",
       "      <td>0</td>\n",
       "      <td>0</td>\n",
       "      <td>0.287500</td>\n",
       "      <td>Positive</td>\n",
       "    </tr>\n",
       "    <tr>\n",
       "      <th>4</th>\n",
       "      <td>4</td>\n",
       "      <td>A36Y7X194VWVKA</td>\n",
       "      <td>104800001X</td>\n",
       "      <td>[23, 25]</td>\n",
       "      <td>They are soo freaking annoying!!  Why?! You sp...</td>\n",
       "      <td>5</td>\n",
       "      <td>They're annoying... which is why they get five...</td>\n",
       "      <td>2013-08-09</td>\n",
       "      <td>Tools</td>\n",
       "      <td>soo freaking annoying spend time dan near brea...</td>\n",
       "      <td>23</td>\n",
       "      <td>25</td>\n",
       "      <td>-0.077778</td>\n",
       "      <td>Negative</td>\n",
       "    </tr>\n",
       "    <tr>\n",
       "      <th>...</th>\n",
       "      <td>...</td>\n",
       "      <td>...</td>\n",
       "      <td>...</td>\n",
       "      <td>...</td>\n",
       "      <td>...</td>\n",
       "      <td>...</td>\n",
       "      <td>...</td>\n",
       "      <td>...</td>\n",
       "      <td>...</td>\n",
       "      <td>...</td>\n",
       "      <td>...</td>\n",
       "      <td>...</td>\n",
       "      <td>...</td>\n",
       "      <td>...</td>\n",
       "    </tr>\n",
       "    <tr>\n",
       "      <th>146859</th>\n",
       "      <td>13267</td>\n",
       "      <td>AT53ZTTO707MB</td>\n",
       "      <td>B00KS0F4FI</td>\n",
       "      <td>[1, 2]</td>\n",
       "      <td>Simple.  Perfect.  Plenty big enough.  Durable...</td>\n",
       "      <td>5</td>\n",
       "      <td>Great pair of claws</td>\n",
       "      <td>2014-06-27</td>\n",
       "      <td>Garden</td>\n",
       "      <td>simple perfect plenty big enough durable tough...</td>\n",
       "      <td>1</td>\n",
       "      <td>2</td>\n",
       "      <td>0.286111</td>\n",
       "      <td>Positive</td>\n",
       "    </tr>\n",
       "    <tr>\n",
       "      <th>146860</th>\n",
       "      <td>13268</td>\n",
       "      <td>AYB4ELCS5AM8P</td>\n",
       "      <td>B00KS0F4FI</td>\n",
       "      <td>[0, 0]</td>\n",
       "      <td>These claws are fantastic. They are made of ha...</td>\n",
       "      <td>5</td>\n",
       "      <td>Sharp...</td>\n",
       "      <td>2014-07-12</td>\n",
       "      <td>Garden</td>\n",
       "      <td>claw fantastic made hard sturdy plastic whethe...</td>\n",
       "      <td>0</td>\n",
       "      <td>0</td>\n",
       "      <td>0.206481</td>\n",
       "      <td>Positive</td>\n",
       "    </tr>\n",
       "    <tr>\n",
       "      <th>146861</th>\n",
       "      <td>13269</td>\n",
       "      <td>AZMY6E8B52L2T</td>\n",
       "      <td>B00KS0F4FI</td>\n",
       "      <td>[1, 3]</td>\n",
       "      <td>I really like theseOuddy Heat Resistant Meat C...</td>\n",
       "      <td>5</td>\n",
       "      <td>Really Helpful...</td>\n",
       "      <td>2014-07-12</td>\n",
       "      <td>Garden</td>\n",
       "      <td>really like theseouddy heat resistant meat cla...</td>\n",
       "      <td>1</td>\n",
       "      <td>3</td>\n",
       "      <td>0.275926</td>\n",
       "      <td>Positive</td>\n",
       "    </tr>\n",
       "    <tr>\n",
       "      <th>146862</th>\n",
       "      <td>13270</td>\n",
       "      <td>AEC90GPFKLAAW</td>\n",
       "      <td>B00KS0F4FI</td>\n",
       "      <td>[0, 0]</td>\n",
       "      <td>I make pulled pork in the crock pot pretty oft...</td>\n",
       "      <td>5</td>\n",
       "      <td>Shreds meat perfectly!</td>\n",
       "      <td>2014-07-16</td>\n",
       "      <td>Garden</td>\n",
       "      <td>make pulled pork crock pot pretty often always...</td>\n",
       "      <td>0</td>\n",
       "      <td>0</td>\n",
       "      <td>0.036369</td>\n",
       "      <td>Positive</td>\n",
       "    </tr>\n",
       "    <tr>\n",
       "      <th>146863</th>\n",
       "      <td>13271</td>\n",
       "      <td>A3LGT6UZL99IW1</td>\n",
       "      <td>B00KS0F4FI</td>\n",
       "      <td>[1, 2]</td>\n",
       "      <td>When I first saw these, I thought &amp;#34;Hmmm. W...</td>\n",
       "      <td>5</td>\n",
       "      <td>Get all Wolverine on your meat</td>\n",
       "      <td>2014-06-26</td>\n",
       "      <td>Garden</td>\n",
       "      <td>first saw thought hmmm wonder theyre legal wea...</td>\n",
       "      <td>1</td>\n",
       "      <td>2</td>\n",
       "      <td>0.151667</td>\n",
       "      <td>Positive</td>\n",
       "    </tr>\n",
       "  </tbody>\n",
       "</table>\n",
       "<p>146864 rows × 14 columns</p>\n",
       "</div>"
      ],
      "text/plain": [
       "        Unnamed: 0          UserId   ProductId   helpful  \\\n",
       "0                0   A4IL0CLL27Q33  104800001X    [0, 1]   \n",
       "1                1  A3Q5W5E7TDVLJF  104800001X    [0, 0]   \n",
       "2                2   A37KNOJXE2FU6  104800001X    [0, 0]   \n",
       "3                3  A3U4AFML9SZPWK  104800001X    [0, 0]   \n",
       "4                4  A36Y7X194VWVKA  104800001X  [23, 25]   \n",
       "...            ...             ...         ...       ...   \n",
       "146859       13267   AT53ZTTO707MB  B00KS0F4FI    [1, 2]   \n",
       "146860       13268   AYB4ELCS5AM8P  B00KS0F4FI    [0, 0]   \n",
       "146861       13269   AZMY6E8B52L2T  B00KS0F4FI    [1, 3]   \n",
       "146862       13270   AEC90GPFKLAAW  B00KS0F4FI    [0, 0]   \n",
       "146863       13271  A3LGT6UZL99IW1  B00KS0F4FI    [1, 2]   \n",
       "\n",
       "                                                   OGText  Score  \\\n",
       "0       I hate it when my shirt collars, not otherwise...      5   \n",
       "1       These little magnets are really powerful for t...      5   \n",
       "2       I wanted something this small to mount on the ...      5   \n",
       "3       I use these to magnetize my Warhammer 40K mini...      5   \n",
       "4       They are soo freaking annoying!!  Why?! You sp...      5   \n",
       "...                                                   ...    ...   \n",
       "146859  Simple.  Perfect.  Plenty big enough.  Durable...      5   \n",
       "146860  These claws are fantastic. They are made of ha...      5   \n",
       "146861  I really like theseOuddy Heat Resistant Meat C...      5   \n",
       "146862  I make pulled pork in the crock pot pretty oft...      5   \n",
       "146863  When I first saw these, I thought &#34;Hmmm. W...      5   \n",
       "\n",
       "                                                  Summary  ReviewDate  \\\n",
       "0                      Perfect for collar stay management  2014-01-29   \n",
       "1                                                    Neat  2013-05-31   \n",
       "2                                     Very small and thin  2013-03-13   \n",
       "3                                 Excellent hobby magnets  2013-06-16   \n",
       "4       They're annoying... which is why they get five...  2013-08-09   \n",
       "...                                                   ...         ...   \n",
       "146859                                Great pair of claws  2014-06-27   \n",
       "146860                                           Sharp...  2014-07-12   \n",
       "146861                                  Really Helpful...  2014-07-12   \n",
       "146862                             Shreds meat perfectly!  2014-07-16   \n",
       "146863                     Get all Wolverine on your meat  2014-06-26   \n",
       "\n",
       "       Category                                            ProText  Helpfull  \\\n",
       "0         Tools  hate shirt collar otherwise secured place butt...         0   \n",
       "1         Tools  little magnet really powerful size using make ...         0   \n",
       "2         Tools  wanted something small mount back filagree woo...         0   \n",
       "3         Tools  use magnetize warhammer k miniature together a...         0   \n",
       "4         Tools  soo freaking annoying spend time dan near brea...        23   \n",
       "...         ...                                                ...       ...   \n",
       "146859   Garden  simple perfect plenty big enough durable tough...         1   \n",
       "146860   Garden  claw fantastic made hard sturdy plastic whethe...         0   \n",
       "146861   Garden  really like theseouddy heat resistant meat cla...         1   \n",
       "146862   Garden  make pulled pork crock pot pretty often always...         0   \n",
       "146863   Garden  first saw thought hmmm wonder theyre legal wea...         1   \n",
       "\n",
       "        Not Helpfull  Polarity Sentiment  \n",
       "0                  1 -0.200000  Negative  \n",
       "1                  0 -0.095833  Negative  \n",
       "2                  0  0.083333  Positive  \n",
       "3                  0  0.287500  Positive  \n",
       "4                 25 -0.077778  Negative  \n",
       "...              ...       ...       ...  \n",
       "146859             2  0.286111  Positive  \n",
       "146860             0  0.206481  Positive  \n",
       "146861             3  0.275926  Positive  \n",
       "146862             0  0.036369  Positive  \n",
       "146863             2  0.151667  Positive  \n",
       "\n",
       "[146864 rows x 14 columns]"
      ]
     },
     "execution_count": 111,
     "metadata": {},
     "output_type": "execute_result"
    }
   ],
   "source": [
    "reviews = pd.read_csv('reviews_final.csv')\n",
    "print(reviews.shape)\n",
    "reviews"
   ]
  },
  {
   "cell_type": "code",
   "execution_count": 112,
   "id": "3d4a6fc1",
   "metadata": {},
   "outputs": [
    {
     "name": "stdout",
     "output_type": "stream",
     "text": [
      "<class 'pandas.core.frame.DataFrame'>\n",
      "RangeIndex: 146864 entries, 0 to 146863\n",
      "Data columns (total 14 columns):\n",
      " #   Column        Non-Null Count   Dtype  \n",
      "---  ------        --------------   -----  \n",
      " 0   Unnamed: 0    146864 non-null  int64  \n",
      " 1   UserId        146864 non-null  object \n",
      " 2   ProductId     146864 non-null  object \n",
      " 3   helpful       146864 non-null  object \n",
      " 4   OGText        146787 non-null  object \n",
      " 5   Score         146864 non-null  int64  \n",
      " 6   Summary       146864 non-null  object \n",
      " 7   ReviewDate    146864 non-null  object \n",
      " 8   Category      146864 non-null  object \n",
      " 9   ProText       146787 non-null  object \n",
      " 10  Helpfull      146864 non-null  int64  \n",
      " 11  Not Helpfull  146864 non-null  int64  \n",
      " 12  Polarity      146864 non-null  float64\n",
      " 13  Sentiment     146864 non-null  object \n",
      "dtypes: float64(1), int64(4), object(9)\n",
      "memory usage: 15.7+ MB\n"
     ]
    }
   ],
   "source": [
    "reviews.info()"
   ]
  },
  {
   "cell_type": "code",
   "execution_count": 113,
   "id": "a7466494",
   "metadata": {},
   "outputs": [
    {
     "data": {
      "text/plain": [
       "(6, 14)"
      ]
     },
     "execution_count": 113,
     "metadata": {},
     "output_type": "execute_result"
    }
   ],
   "source": [
    "reviews1 = reviews[(reviews.ProductId=='104800001X')]\n",
    "reviews1.shape"
   ]
  },
  {
   "cell_type": "code",
   "execution_count": 49,
   "id": "070be510",
   "metadata": {},
   "outputs": [
    {
     "data": {
      "text/plain": [
       "(170, 14)"
      ]
     },
     "execution_count": 49,
     "metadata": {},
     "output_type": "execute_result"
    }
   ],
   "source": [
    "reviews2 = reviews[(reviews.ProductId=='B001LJKLT4')]\n",
    "reviews2.shape"
   ]
  },
  {
   "cell_type": "code",
   "execution_count": 50,
   "id": "9da3d9e4",
   "metadata": {},
   "outputs": [],
   "source": [
    "reviews = reviews2"
   ]
  },
  {
   "cell_type": "code",
   "execution_count": 51,
   "id": "1a6b36eb",
   "metadata": {},
   "outputs": [],
   "source": [
    "reviews = reviews[['ReviewDate','Sentiment']]"
   ]
  },
  {
   "cell_type": "code",
   "execution_count": 52,
   "id": "87ad7919",
   "metadata": {},
   "outputs": [
    {
     "data": {
      "text/html": [
       "<div>\n",
       "<style scoped>\n",
       "    .dataframe tbody tr th:only-of-type {\n",
       "        vertical-align: middle;\n",
       "    }\n",
       "\n",
       "    .dataframe tbody tr th {\n",
       "        vertical-align: top;\n",
       "    }\n",
       "\n",
       "    .dataframe thead th {\n",
       "        text-align: right;\n",
       "    }\n",
       "</style>\n",
       "<table border=\"1\" class=\"dataframe\">\n",
       "  <thead>\n",
       "    <tr style=\"text-align: right;\">\n",
       "      <th></th>\n",
       "      <th>ReviewDate</th>\n",
       "      <th>Sentiment</th>\n",
       "    </tr>\n",
       "  </thead>\n",
       "  <tbody>\n",
       "    <tr>\n",
       "      <th>74133</th>\n",
       "      <td>2014-04-22</td>\n",
       "      <td>Positive</td>\n",
       "    </tr>\n",
       "    <tr>\n",
       "      <th>74134</th>\n",
       "      <td>2010-09-11</td>\n",
       "      <td>Positive</td>\n",
       "    </tr>\n",
       "    <tr>\n",
       "      <th>74135</th>\n",
       "      <td>2009-11-03</td>\n",
       "      <td>Positive</td>\n",
       "    </tr>\n",
       "    <tr>\n",
       "      <th>74136</th>\n",
       "      <td>2013-05-28</td>\n",
       "      <td>Positive</td>\n",
       "    </tr>\n",
       "    <tr>\n",
       "      <th>74137</th>\n",
       "      <td>2013-03-09</td>\n",
       "      <td>Positive</td>\n",
       "    </tr>\n",
       "  </tbody>\n",
       "</table>\n",
       "</div>"
      ],
      "text/plain": [
       "       ReviewDate Sentiment\n",
       "74133  2014-04-22  Positive\n",
       "74134  2010-09-11  Positive\n",
       "74135  2009-11-03  Positive\n",
       "74136  2013-05-28  Positive\n",
       "74137  2013-03-09  Positive"
      ]
     },
     "execution_count": 52,
     "metadata": {},
     "output_type": "execute_result"
    }
   ],
   "source": [
    "reviews.head()"
   ]
  },
  {
   "cell_type": "code",
   "execution_count": 53,
   "id": "8237883f",
   "metadata": {},
   "outputs": [
    {
     "name": "stderr",
     "output_type": "stream",
     "text": [
      "C:\\Users\\Nitesh\\AppData\\Local\\Temp\\ipykernel_2732\\2019893197.py:3: SettingWithCopyWarning: \n",
      "A value is trying to be set on a copy of a slice from a DataFrame.\n",
      "Try using .loc[row_indexer,col_indexer] = value instead\n",
      "\n",
      "See the caveats in the documentation: https://pandas.pydata.org/pandas-docs/stable/user_guide/indexing.html#returning-a-view-versus-a-copy\n",
      "  reviews['ReviewDate'] = pd.to_datetime(reviews['ReviewDate'])\n"
     ]
    }
   ],
   "source": [
    "# Converting date into date-time format\n",
    "\n",
    "reviews['ReviewDate'] = pd.to_datetime(reviews['ReviewDate'])"
   ]
  },
  {
   "cell_type": "code",
   "execution_count": 54,
   "id": "d224eea2",
   "metadata": {},
   "outputs": [
    {
     "name": "stdout",
     "output_type": "stream",
     "text": [
      "<class 'pandas.core.frame.DataFrame'>\n",
      "Int64Index: 170 entries, 74133 to 74302\n",
      "Data columns (total 2 columns):\n",
      " #   Column      Non-Null Count  Dtype         \n",
      "---  ------      --------------  -----         \n",
      " 0   ReviewDate  170 non-null    datetime64[ns]\n",
      " 1   Sentiment   170 non-null    object        \n",
      "dtypes: datetime64[ns](1), object(1)\n",
      "memory usage: 4.0+ KB\n"
     ]
    }
   ],
   "source": [
    "reviews.info()"
   ]
  },
  {
   "cell_type": "code",
   "execution_count": 55,
   "id": "00efe740",
   "metadata": {
    "scrolled": true
   },
   "outputs": [
    {
     "name": "stdout",
     "output_type": "stream",
     "text": [
      "Showing the Sentiment values :  ['Negative' 'Neutral' 'Positive']\n",
      "\n",
      "After converting Sentiment to numeric column : \n",
      " 74133    2\n",
      "74134    2\n",
      "74135    2\n",
      "74136    2\n",
      "74137    2\n",
      "        ..\n",
      "74298    2\n",
      "74299    2\n",
      "74300    1\n",
      "74301    2\n",
      "74302    2\n",
      "Name: Sentiment, Length: 170, dtype: int32\n"
     ]
    },
    {
     "name": "stderr",
     "output_type": "stream",
     "text": [
      "C:\\Users\\Nitesh\\AppData\\Local\\Temp\\ipykernel_2732\\4257713868.py:7: SettingWithCopyWarning: \n",
      "A value is trying to be set on a copy of a slice from a DataFrame.\n",
      "Try using .loc[row_indexer,col_indexer] = value instead\n",
      "\n",
      "See the caveats in the documentation: https://pandas.pydata.org/pandas-docs/stable/user_guide/indexing.html#returning-a-view-versus-a-copy\n",
      "  reviews['Sentiment'] = sentiment_encoder.transform(reviews['Sentiment'])\n"
     ]
    }
   ],
   "source": [
    "# Converting Sentiment column into Label Encoder\n",
    "\n",
    "sentiment_encoder = preprocessing.LabelEncoder()\n",
    "sentiment_encoder.fit(reviews.Sentiment)\n",
    "print('Showing the Sentiment values : ',sentiment_encoder.classes_)\n",
    "\n",
    "reviews['Sentiment'] = sentiment_encoder.transform(reviews['Sentiment'])\n",
    "print('\\nAfter converting Sentiment to numeric column : \\n',reviews['Sentiment'])"
   ]
  },
  {
   "cell_type": "code",
   "execution_count": 56,
   "id": "596d7964",
   "metadata": {},
   "outputs": [
    {
     "data": {
      "text/html": [
       "<div>\n",
       "<style scoped>\n",
       "    .dataframe tbody tr th:only-of-type {\n",
       "        vertical-align: middle;\n",
       "    }\n",
       "\n",
       "    .dataframe tbody tr th {\n",
       "        vertical-align: top;\n",
       "    }\n",
       "\n",
       "    .dataframe thead th {\n",
       "        text-align: right;\n",
       "    }\n",
       "</style>\n",
       "<table border=\"1\" class=\"dataframe\">\n",
       "  <thead>\n",
       "    <tr style=\"text-align: right;\">\n",
       "      <th></th>\n",
       "      <th>Sentiment</th>\n",
       "    </tr>\n",
       "    <tr>\n",
       "      <th>ReviewDate</th>\n",
       "      <th></th>\n",
       "    </tr>\n",
       "  </thead>\n",
       "  <tbody>\n",
       "    <tr>\n",
       "      <th>2014-04-22</th>\n",
       "      <td>2</td>\n",
       "    </tr>\n",
       "    <tr>\n",
       "      <th>2010-09-11</th>\n",
       "      <td>2</td>\n",
       "    </tr>\n",
       "    <tr>\n",
       "      <th>2009-11-03</th>\n",
       "      <td>2</td>\n",
       "    </tr>\n",
       "    <tr>\n",
       "      <th>2013-05-28</th>\n",
       "      <td>2</td>\n",
       "    </tr>\n",
       "    <tr>\n",
       "      <th>2013-03-09</th>\n",
       "      <td>2</td>\n",
       "    </tr>\n",
       "  </tbody>\n",
       "</table>\n",
       "</div>"
      ],
      "text/plain": [
       "            Sentiment\n",
       "ReviewDate           \n",
       "2014-04-22          2\n",
       "2010-09-11          2\n",
       "2009-11-03          2\n",
       "2013-05-28          2\n",
       "2013-03-09          2"
      ]
     },
     "execution_count": 56,
     "metadata": {},
     "output_type": "execute_result"
    }
   ],
   "source": [
    "reviews = reviews.set_index(['ReviewDate'])\n",
    "reviews.head()"
   ]
  },
  {
   "cell_type": "code",
   "execution_count": 57,
   "id": "c9baacd8",
   "metadata": {},
   "outputs": [
    {
     "data": {
      "text/plain": [
       "array([2, 0, 1])"
      ]
     },
     "execution_count": 57,
     "metadata": {},
     "output_type": "execute_result"
    }
   ],
   "source": [
    "reviews_1 = reviews['Sentiment'].unique()\n",
    "reviews_1"
   ]
  },
  {
   "cell_type": "code",
   "execution_count": 58,
   "id": "127b2e48",
   "metadata": {},
   "outputs": [
    {
     "data": {
      "text/plain": [
       "pandas.core.series.Series"
      ]
     },
     "execution_count": 58,
     "metadata": {},
     "output_type": "execute_result"
    }
   ],
   "source": [
    "reviews = reviews.squeeze()\n",
    "type(reviews)"
   ]
  },
  {
   "cell_type": "code",
   "execution_count": 59,
   "id": "93c4656a",
   "metadata": {},
   "outputs": [],
   "source": [
    "# Resampling into Months \n",
    "\n",
    "reviews = reviews.resample('M').sum()"
   ]
  },
  {
   "cell_type": "code",
   "execution_count": 60,
   "id": "04fa8843",
   "metadata": {},
   "outputs": [
    {
     "data": {
      "text/plain": [
       "ReviewDate\n",
       "2009-03-31     2\n",
       "2009-04-30     2\n",
       "2009-05-31     0\n",
       "2009-06-30     0\n",
       "2009-07-31     0\n",
       "              ..\n",
       "2014-03-31     6\n",
       "2014-04-30    10\n",
       "2014-05-31     8\n",
       "2014-06-30     4\n",
       "2014-07-31     7\n",
       "Freq: M, Name: Sentiment, Length: 65, dtype: int32"
      ]
     },
     "execution_count": 60,
     "metadata": {},
     "output_type": "execute_result"
    }
   ],
   "source": [
    "reviews"
   ]
  },
  {
   "cell_type": "code",
   "execution_count": 61,
   "id": "da204474",
   "metadata": {},
   "outputs": [
    {
     "name": "stdout",
     "output_type": "stream",
     "text": [
      "Train :  45 \t Test :  20\n"
     ]
    }
   ],
   "source": [
    "# Splitting the data into train and test\n",
    "\n",
    "ss = int(0.7 * len(reviews))\n",
    "\n",
    "train = reviews.iloc[:ss]\n",
    "test = reviews.iloc[ss:]\n",
    "\n",
    "print('Train : ',len(train), '\\t Test : ',len(test))"
   ]
  },
  {
   "cell_type": "code",
   "execution_count": 62,
   "id": "93a974b0",
   "metadata": {},
   "outputs": [
    {
     "data": {
      "text/plain": [
       "ReviewDate\n",
       "2009-03-31    2\n",
       "2009-04-30    2\n",
       "2009-05-31    0\n",
       "2009-06-30    0\n",
       "2009-07-31    0\n",
       "Freq: M, Name: Sentiment, dtype: int32"
      ]
     },
     "execution_count": 62,
     "metadata": {},
     "output_type": "execute_result"
    }
   ],
   "source": [
    "train.head()"
   ]
  },
  {
   "cell_type": "code",
   "execution_count": 63,
   "id": "58b979f2",
   "metadata": {},
   "outputs": [
    {
     "data": {
      "text/plain": [
       "ReviewDate\n",
       "2012-12-31     4\n",
       "2013-01-31    20\n",
       "2013-02-28    14\n",
       "2013-03-31    24\n",
       "2013-04-30     8\n",
       "Freq: M, Name: Sentiment, dtype: int32"
      ]
     },
     "execution_count": 63,
     "metadata": {},
     "output_type": "execute_result"
    }
   ],
   "source": [
    "test.head()"
   ]
  },
  {
   "cell_type": "code",
   "execution_count": 64,
   "id": "45c7da29",
   "metadata": {},
   "outputs": [
    {
     "data": {
      "image/png": "[encoded data removed]",
      "text/plain": [
       "<Figure size 936x360 with 1 Axes>"
      ]
     },
     "metadata": {
      "needs_background": "light"
     },
     "output_type": "display_data"
    }
   ],
   "source": [
    "plt.figure(figsize=(13,5))\n",
    "plt.plot(reviews)\n",
    "plt.show()"
   ]
  },
  {
   "cell_type": "code",
   "execution_count": 65,
   "id": "e1cdc3ca",
   "metadata": {},
   "outputs": [],
   "source": [
    "# # visual inspection of data\n",
    "\n",
    "# decomposition = seasonal_decompose(np.asarray(train), freq=5)\n",
    "\n",
    "# d_trend=decomposition.trend\n",
    "# d_seasonal=decomposition.seasonal\n",
    "# d_residual=decomposition.resid\n",
    "\n",
    "# fig,ax = plt.subplots(4,1,figsize=(20,12))\n",
    "\n",
    "# plt.subplot(411)\n",
    "\n",
    "# plt.title('Decomposition Components', fontsize=13)\n",
    "# # plt.plot(df1,label='Sales Data')\n",
    "# reviews.plot(label='Sentiment Data')\n",
    "# plt.legend(loc='best')\n",
    "\n",
    "# plt.subplot(412)\n",
    "# plt.plot(d_trend,label='Trend')\n",
    "# plt.legend(loc='best')\n",
    "\n",
    "# plt.subplot(413)\n",
    "# plt.plot(d_seasonal,label='Seasonal')\n",
    "# plt.legend(loc='best')\n",
    "\n",
    "# plt.subplot(414)\n",
    "# plt.plot(d_residual,label='Residual')\n",
    "# plt.legend(loc='best')\n",
    "\n",
    "# plt.tight_layout()\n",
    "\n",
    "# plt.show()"
   ]
  },
  {
   "cell_type": "code",
   "execution_count": 66,
   "id": "bba0582b",
   "metadata": {},
   "outputs": [],
   "source": [
    "# checking stationarity\n",
    "\n",
    "def stationaritycheck(data):\n",
    "    pvalue = adfuller(data)[1]\n",
    "    if (pvalue < 0.05):\n",
    "        print('P-value =',pvalue,'. Data is stationary now proceed for model building')\n",
    "    else:\n",
    "        print('P-value =',pvalue,'. Data is not stationary now make data stationarity then proceed for model building')"
   ]
  },
  {
   "cell_type": "code",
   "execution_count": 67,
   "id": "548eecee",
   "metadata": {},
   "outputs": [
    {
     "name": "stdout",
     "output_type": "stream",
     "text": [
      "P-value = 0.42982691814799395 . Data is not stationary now make data stationarity then proceed for model building\n",
      "None\n"
     ]
    }
   ],
   "source": [
    "print(stationaritycheck(train))"
   ]
  },
  {
   "cell_type": "code",
   "execution_count": 68,
   "id": "8af84956",
   "metadata": {
    "scrolled": false
   },
   "outputs": [
    {
     "data": {
      "text/plain": [
       "ReviewDate\n",
       "2009-03-31    NaN\n",
       "2009-04-30    0.0\n",
       "2009-05-31   -2.0\n",
       "2009-06-30    0.0\n",
       "2009-07-31    0.0\n",
       "2009-08-31    2.0\n",
       "2009-09-30   -2.0\n",
       "2009-10-31    0.0\n",
       "2009-11-30    2.0\n",
       "2009-12-31   -2.0\n",
       "2010-01-31    2.0\n",
       "2010-02-28   -2.0\n",
       "2010-03-31    0.0\n",
       "2010-04-30    2.0\n",
       "2010-05-31    0.0\n",
       "2010-06-30    0.0\n",
       "2010-07-31    0.0\n",
       "2010-08-31    4.0\n",
       "2010-09-30    2.0\n",
       "2010-10-31   -4.0\n",
       "2010-11-30   -2.0\n",
       "2010-12-31    2.0\n",
       "2011-01-31    0.0\n",
       "2011-02-28    0.0\n",
       "2011-03-31   -4.0\n",
       "2011-04-30    2.0\n",
       "2011-05-31   -2.0\n",
       "2011-06-30    0.0\n",
       "2011-07-31    0.0\n",
       "2011-08-31    2.0\n",
       "2011-09-30    0.0\n",
       "2011-10-31   -2.0\n",
       "2011-11-30    4.0\n",
       "2011-12-31    0.0\n",
       "2012-01-31    2.0\n",
       "2012-02-29    0.0\n",
       "2012-03-31    0.0\n",
       "2012-04-30    0.0\n",
       "2012-05-31    2.0\n",
       "2012-06-30   -6.0\n",
       "2012-07-31    2.0\n",
       "2012-08-31    6.0\n",
       "2012-09-30   -8.0\n",
       "2012-10-31   -2.0\n",
       "2012-11-30    6.0\n",
       "Freq: M, Name: Sentiment, dtype: float64"
      ]
     },
     "execution_count": 68,
     "metadata": {},
     "output_type": "execute_result"
    }
   ],
   "source": [
    "# Make the data stationary for train\n",
    "\n",
    "diff_train = train - train.shift()\n",
    "diff_train"
   ]
  },
  {
   "cell_type": "code",
   "execution_count": 69,
   "id": "1a279ff3",
   "metadata": {},
   "outputs": [
    {
     "name": "stdout",
     "output_type": "stream",
     "text": [
      "Before removing numm values :  45\n",
      "After removing null value :  44\n"
     ]
    },
    {
     "data": {
      "text/plain": [
       "ReviewDate\n",
       "2009-04-30    0.0\n",
       "2009-05-31   -2.0\n",
       "2009-06-30    0.0\n",
       "2009-07-31    0.0\n",
       "2009-08-31    2.0\n",
       "2009-09-30   -2.0\n",
       "2009-10-31    0.0\n",
       "2009-11-30    2.0\n",
       "2009-12-31   -2.0\n",
       "2010-01-31    2.0\n",
       "2010-02-28   -2.0\n",
       "2010-03-31    0.0\n",
       "2010-04-30    2.0\n",
       "2010-05-31    0.0\n",
       "2010-06-30    0.0\n",
       "2010-07-31    0.0\n",
       "2010-08-31    4.0\n",
       "2010-09-30    2.0\n",
       "2010-10-31   -4.0\n",
       "2010-11-30   -2.0\n",
       "2010-12-31    2.0\n",
       "2011-01-31    0.0\n",
       "2011-02-28    0.0\n",
       "2011-03-31   -4.0\n",
       "2011-04-30    2.0\n",
       "2011-05-31   -2.0\n",
       "2011-06-30    0.0\n",
       "2011-07-31    0.0\n",
       "2011-08-31    2.0\n",
       "2011-09-30    0.0\n",
       "2011-10-31   -2.0\n",
       "2011-11-30    4.0\n",
       "2011-12-31    0.0\n",
       "2012-01-31    2.0\n",
       "2012-02-29    0.0\n",
       "2012-03-31    0.0\n",
       "2012-04-30    0.0\n",
       "2012-05-31    2.0\n",
       "2012-06-30   -6.0\n",
       "2012-07-31    2.0\n",
       "2012-08-31    6.0\n",
       "2012-09-30   -8.0\n",
       "2012-10-31   -2.0\n",
       "2012-11-30    6.0\n",
       "Freq: M, Name: Sentiment, dtype: float64"
      ]
     },
     "execution_count": 69,
     "metadata": {},
     "output_type": "execute_result"
    }
   ],
   "source": [
    "# removing null values\n",
    "\n",
    "print('Before removing numm values : ',len(diff_train))\n",
    "diff_train.dropna(inplace=True)\n",
    "print('After removing null value : ',len(diff_train))\n",
    "diff_train"
   ]
  },
  {
   "cell_type": "code",
   "execution_count": 70,
   "id": "536e9880",
   "metadata": {},
   "outputs": [
    {
     "name": "stdout",
     "output_type": "stream",
     "text": [
      "P-value = 1.1992279800323983e-15 . Data is stationary now proceed for model building\n",
      "None\n"
     ]
    }
   ],
   "source": [
    "# Checking Stationarity again after differencing and null value drop\n",
    "\n",
    "print(stationaritycheck(diff_train))"
   ]
  },
  {
   "cell_type": "code",
   "execution_count": 71,
   "id": "0328384d",
   "metadata": {
    "scrolled": true
   },
   "outputs": [
    {
     "data": {
      "text/plain": [
       "ReviewDate\n",
       "2012-12-31     NaN\n",
       "2013-01-31    16.0\n",
       "2013-02-28    -6.0\n",
       "2013-03-31    10.0\n",
       "2013-04-30   -16.0\n",
       "2013-05-31     8.0\n",
       "2013-06-30   -12.0\n",
       "2013-07-31     6.0\n",
       "2013-08-31    -4.0\n",
       "2013-09-30    -2.0\n",
       "2013-10-31     0.0\n",
       "2013-11-30    12.0\n",
       "2013-12-31     8.0\n",
       "2014-01-31   -16.0\n",
       "2014-02-28    -2.0\n",
       "2014-03-31     0.0\n",
       "2014-04-30     4.0\n",
       "2014-05-31    -2.0\n",
       "2014-06-30    -4.0\n",
       "2014-07-31     3.0\n",
       "Freq: M, Name: Sentiment, dtype: float64"
      ]
     },
     "execution_count": 71,
     "metadata": {},
     "output_type": "execute_result"
    }
   ],
   "source": [
    "# Make the data stationary for test\n",
    "\n",
    "diff_test = test - test.shift()\n",
    "diff_test"
   ]
  },
  {
   "cell_type": "code",
   "execution_count": 72,
   "id": "2914914c",
   "metadata": {
    "scrolled": true
   },
   "outputs": [
    {
     "name": "stdout",
     "output_type": "stream",
     "text": [
      "Before removing numm values :  20\n",
      "After removing null value :  19\n"
     ]
    },
    {
     "data": {
      "text/plain": [
       "ReviewDate\n",
       "2013-01-31    16.0\n",
       "2013-02-28    -6.0\n",
       "2013-03-31    10.0\n",
       "2013-04-30   -16.0\n",
       "2013-05-31     8.0\n",
       "2013-06-30   -12.0\n",
       "2013-07-31     6.0\n",
       "2013-08-31    -4.0\n",
       "2013-09-30    -2.0\n",
       "2013-10-31     0.0\n",
       "2013-11-30    12.0\n",
       "2013-12-31     8.0\n",
       "2014-01-31   -16.0\n",
       "2014-02-28    -2.0\n",
       "2014-03-31     0.0\n",
       "2014-04-30     4.0\n",
       "2014-05-31    -2.0\n",
       "2014-06-30    -4.0\n",
       "2014-07-31     3.0\n",
       "Freq: M, Name: Sentiment, dtype: float64"
      ]
     },
     "execution_count": 72,
     "metadata": {},
     "output_type": "execute_result"
    }
   ],
   "source": [
    "# removing null values\n",
    "\n",
    "print('Before removing numm values : ',len(diff_test))\n",
    "diff_test.dropna(inplace=True)\n",
    "print('After removing null value : ',len(diff_test))\n",
    "diff_test"
   ]
  },
  {
   "cell_type": "code",
   "execution_count": 73,
   "id": "3e4a76bc",
   "metadata": {},
   "outputs": [
    {
     "name": "stdout",
     "output_type": "stream",
     "text": [
      "P-value = 0.13415467124997965 . Data is not stationary now make data stationarity then proceed for model building\n",
      "None\n"
     ]
    }
   ],
   "source": [
    "# Checking Stationarity again after differencing and null value drop\n",
    "\n",
    "print(stationaritycheck(diff_test))"
   ]
  },
  {
   "cell_type": "code",
   "execution_count": 74,
   "id": "8ffad5f5",
   "metadata": {
    "scrolled": true
   },
   "outputs": [
    {
     "data": {
      "text/plain": [
       "ReviewDate\n",
       "2013-01-31     NaN\n",
       "2013-02-28   -22.0\n",
       "2013-03-31    16.0\n",
       "2013-04-30   -26.0\n",
       "2013-05-31    24.0\n",
       "2013-06-30   -20.0\n",
       "2013-07-31    18.0\n",
       "2013-08-31   -10.0\n",
       "2013-09-30     2.0\n",
       "2013-10-31     2.0\n",
       "2013-11-30    12.0\n",
       "2013-12-31    -4.0\n",
       "2014-01-31   -24.0\n",
       "2014-02-28    14.0\n",
       "2014-03-31     2.0\n",
       "2014-04-30     4.0\n",
       "2014-05-31    -6.0\n",
       "2014-06-30    -2.0\n",
       "2014-07-31     7.0\n",
       "Freq: M, Name: Sentiment, dtype: float64"
      ]
     },
     "execution_count": 74,
     "metadata": {},
     "output_type": "execute_result"
    }
   ],
   "source": [
    "# Make the data stationary for test\n",
    "\n",
    "diff_test = diff_test - diff_test.shift()\n",
    "diff_test"
   ]
  },
  {
   "cell_type": "code",
   "execution_count": 75,
   "id": "543aeaf5",
   "metadata": {
    "scrolled": true
   },
   "outputs": [
    {
     "name": "stdout",
     "output_type": "stream",
     "text": [
      "Before removing numm values :  19\n",
      "After removing null value :  18\n"
     ]
    },
    {
     "data": {
      "text/plain": [
       "ReviewDate\n",
       "2013-02-28   -22.0\n",
       "2013-03-31    16.0\n",
       "2013-04-30   -26.0\n",
       "2013-05-31    24.0\n",
       "2013-06-30   -20.0\n",
       "2013-07-31    18.0\n",
       "2013-08-31   -10.0\n",
       "2013-09-30     2.0\n",
       "2013-10-31     2.0\n",
       "2013-11-30    12.0\n",
       "2013-12-31    -4.0\n",
       "2014-01-31   -24.0\n",
       "2014-02-28    14.0\n",
       "2014-03-31     2.0\n",
       "2014-04-30     4.0\n",
       "2014-05-31    -6.0\n",
       "2014-06-30    -2.0\n",
       "2014-07-31     7.0\n",
       "Freq: M, Name: Sentiment, dtype: float64"
      ]
     },
     "execution_count": 75,
     "metadata": {},
     "output_type": "execute_result"
    }
   ],
   "source": [
    "# removing null values\n",
    "\n",
    "print('Before removing numm values : ',len(diff_test))\n",
    "diff_test.dropna(inplace=True)\n",
    "print('After removing null value : ',len(diff_test))\n",
    "diff_test"
   ]
  },
  {
   "cell_type": "code",
   "execution_count": 76,
   "id": "eafb1e6c",
   "metadata": {},
   "outputs": [
    {
     "name": "stdout",
     "output_type": "stream",
     "text": [
      "P-value = 0.38144436246513064 . Data is not stationary now make data stationarity then proceed for model building\n",
      "None\n"
     ]
    }
   ],
   "source": [
    "# Checking Stationarity again after differencing and null value drop\n",
    "\n",
    "print(stationaritycheck(diff_test))"
   ]
  },
  {
   "cell_type": "code",
   "execution_count": 77,
   "id": "9eea251f",
   "metadata": {},
   "outputs": [
    {
     "name": "stderr",
     "output_type": "stream",
     "text": [
      "C:\\Users\\Nitesh\\anaconda3\\lib\\site-packages\\statsmodels\\tsa\\stattools.py:667: FutureWarning: fft=True will become the default after the release of the 0.12 release of statsmodels. To suppress this warning, explicitly set fft=False.\n",
      "  warnings.warn(\n"
     ]
    },
    {
     "data": {
      "image/png": "[encoded data removed]",
      "text/plain": [
       "<Figure size 1152x432 with 2 Axes>"
      ]
     },
     "metadata": {
      "needs_background": "light"
     },
     "output_type": "display_data"
    }
   ],
   "source": [
    "# Plotting ACF and PACF\n",
    "\n",
    "lag_pcf = acf(diff_train, nlags=15)\n",
    "lag_pacf = pacf(diff_train, nlags=15, method='ols')\n",
    "\n",
    "# For ACF\n",
    "\n",
    "fig, ax = plt.subplots(figsize=(16,6))\n",
    "plt.subplot(121)\n",
    "plt.plot(lag_pcf)\n",
    "plt.title('Autocorrelation')\n",
    "plt.axhline(y= -1.96/np.sqrt(len(train)), linestyle='--', color='gray')\n",
    "plt.axhline(y= 0 , linestyle='--', color='gray')\n",
    "plt.axhline(y= 1.96/np.sqrt(len(train)), linestyle='--', color='gray')\n",
    "\n",
    "# For PACF\n",
    "plt.subplot(122)\n",
    "plt.plot(lag_pacf)\n",
    "plt.title('Partial Autocorrelation')\n",
    "plt.axhline(y= -1.96/np.sqrt(len(train)), linestyle='--', color='gray')\n",
    "plt.axhline(y= 0, linestyle='--', color='gray')\n",
    "plt.axhline(y= 1.96/np.sqrt(len(train)), linestyle='--', color='gray')\n",
    "plt.show()"
   ]
  },
  {
   "cell_type": "code",
   "execution_count": 78,
   "id": "ca68aadb",
   "metadata": {},
   "outputs": [
    {
     "name": "stderr",
     "output_type": "stream",
     "text": [
      "C:\\Users\\Nitesh\\anaconda3\\lib\\site-packages\\statsmodels\\base\\model.py:566: ConvergenceWarning: Maximum Likelihood optimization failed to converge. Check mle_retvals\n",
      "  warnings.warn(\"Maximum Likelihood optimization failed to \"\n"
     ]
    }
   ],
   "source": [
    "model2_1 = ARIMA(diff_train, order=(1,0,2))\n",
    "results2_1 = model2_1.fit()\n",
    "model2_2 = ARIMA(diff_train, order=(2,0,2))\n",
    "results2_2 = model2_2.fit()\n",
    "model2_3 = ARIMA(diff_train, order=(3,0,1))\n",
    "results2_3 = model2_3.fit()\n",
    "model2_4 = ARIMA(diff_train, order=(4,0,2))\n",
    "results2_4 = model2_4.fit()\n",
    "model2_5 = ARIMA(diff_train, order=(5,0,2))\n",
    "results2_5 = model2_5.fit()"
   ]
  },
  {
   "cell_type": "code",
   "execution_count": 79,
   "id": "5d07c8c0",
   "metadata": {},
   "outputs": [
    {
     "name": "stdout",
     "output_type": "stream",
     "text": [
      "ARIMA(1,0,2)): \t LL =  -95.95015018022832 \t AIC =  201.90030036045664\n",
      "ARIMA(2,0,2):  \t LL =  -94.97217337219618 \t AIC =  201.94434674439236\n",
      "ARIMA(3,0,1):  \t LL =  -95.50881673374423 \t AIC =  203.01763346748845\n",
      "ARIMA(4,0,2):  \t LL =  -93.2539507831743 \t AIC =  202.5079015663486\n",
      "ARIMA(5,0,2):  \t LL =  -94.7415517756337 \t AIC =  207.4831035512674\n"
     ]
    }
   ],
   "source": [
    "print(\"ARIMA(1,0,2)): \\t LL = \", results2_1.llf, \"\\t AIC = \", results2_1.aic)\n",
    "print(\"ARIMA(2,0,2):  \\t LL = \", results2_2.llf, \"\\t AIC = \", results2_2.aic)\n",
    "print(\"ARIMA(3,0,1):  \\t LL = \", results2_3.llf, \"\\t AIC = \", results2_3.aic)\n",
    "print(\"ARIMA(4,0,2):  \\t LL = \", results2_4.llf, \"\\t AIC = \", results2_4.aic)\n",
    "print(\"ARIMA(5,0,2):  \\t LL = \", results2_5.llf, \"\\t AIC = \", results2_5.aic)"
   ]
  },
  {
   "cell_type": "code",
   "execution_count": 80,
   "id": "646e4f4e",
   "metadata": {},
   "outputs": [
    {
     "name": "stdout",
     "output_type": "stream",
     "text": [
      "Order - (5,0,2) is giving high liklihood and minimum AIC & BIC\n"
     ]
    }
   ],
   "source": [
    "print('Order - (5,0,2) is giving high liklihood and minimum AIC & BIC')"
   ]
  },
  {
   "cell_type": "markdown",
   "id": "9ce1ac38",
   "metadata": {},
   "source": [
    "# Building ARMA model"
   ]
  },
  {
   "cell_type": "code",
   "execution_count": 81,
   "id": "35c168af",
   "metadata": {},
   "outputs": [
    {
     "name": "stdout",
     "output_type": "stream",
     "text": [
      "                               SARIMAX Results                                \n",
      "==============================================================================\n",
      "Dep. Variable:              Sentiment   No. Observations:                   44\n",
      "Model:                 ARIMA(5, 0, 2)   Log Likelihood                 -94.742\n",
      "Date:                Thu, 09 Jun 2022   AIC                            207.483\n",
      "Time:                        23:14:22   BIC                            223.541\n",
      "Sample:                    04-30-2009   HQIC                           213.438\n",
      "                         - 11-30-2012                                         \n",
      "Covariance Type:                  opg                                         \n",
      "==============================================================================\n",
      "                 coef    std err          z      P>|z|      [0.025      0.975]\n",
      "------------------------------------------------------------------------------\n",
      "const          0.0418      0.207      0.201      0.840      -0.365       0.448\n",
      "ar.L1         -0.2460      2.111     -0.117      0.907      -4.382       3.891\n",
      "ar.L2         -0.7328      0.596     -1.230      0.219      -1.900       0.435\n",
      "ar.L3          0.0415      0.756      0.055      0.956      -1.440       1.523\n",
      "ar.L4         -0.0006      0.725     -0.001      0.999      -1.421       1.420\n",
      "ar.L5          0.1320      0.483      0.274      0.784      -0.814       1.078\n",
      "ma.L1         -0.2670      2.135     -0.125      0.900      -4.452       3.918\n",
      "ma.L2          0.3227      1.112      0.290      0.772      -1.857       2.502\n",
      "sigma2         4.2321      0.985      4.295      0.000       2.301       6.164\n",
      "===================================================================================\n",
      "Ljung-Box (L1) (Q):                   0.00   Jarque-Bera (JB):                 0.38\n",
      "Prob(Q):                              0.97   Prob(JB):                         0.83\n",
      "Heteroskedasticity (H):               4.11   Skew:                            -0.22\n",
      "Prob(H) (two-sided):                  0.01   Kurtosis:                         2.90\n",
      "===================================================================================\n",
      "\n",
      "Warnings:\n",
      "[1] Covariance matrix calculated using the outer product of gradients (complex-step).\n"
     ]
    }
   ],
   "source": [
    "p=5; q=2\n",
    "\n",
    "m1 = ARIMA(diff_train, order=(p,0,q)).fit()\n",
    "print(m1.summary())"
   ]
  },
  {
   "cell_type": "code",
   "execution_count": 82,
   "id": "eb25c226",
   "metadata": {
    "scrolled": true
   },
   "outputs": [
    {
     "name": "stdout",
     "output_type": "stream",
     "text": [
      "Start :  44 End :  61\n"
     ]
    },
    {
     "data": {
      "text/plain": [
       "2012-12-31   -0.933797\n",
       "2013-01-31   -3.121441\n",
       "2013-02-28    0.721415\n",
       "2013-03-31    1.878666\n",
       "2013-04-30   -0.252056\n",
       "2013-05-31   -1.330627\n",
       "2013-06-30    0.252738\n",
       "2013-07-31    1.071888\n",
       "2013-08-31   -0.180451\n",
       "2013-09-30   -0.687628\n",
       "2013-10-31    0.245385\n",
       "2013-11-30    0.544123\n",
       "2013-12-31   -0.125143\n",
       "2014-01-31   -0.305754\n",
       "2014-02-28    0.173934\n",
       "2014-03-31    0.283527\n",
       "2014-04-30   -0.062560\n",
       "2014-05-31   -0.126091\n",
       "Freq: M, Name: predicted_mean, dtype: float64"
      ]
     },
     "execution_count": 82,
     "metadata": {},
     "output_type": "execute_result"
    }
   ],
   "source": [
    "strt = len(diff_train)\n",
    "end = len(diff_train) + len(diff_test) - 1\n",
    "\n",
    "print('Start : ',strt,'End : ',end)\n",
    "\n",
    "prediction1 = m1.predict(strt, end)\n",
    "prediction1"
   ]
  },
  {
   "cell_type": "code",
   "execution_count": 83,
   "id": "d67d2e51",
   "metadata": {},
   "outputs": [
    {
     "data": {
      "text/plain": [
       "array([-0.93379719, -3.12144085,  0.72141487,  1.87866644, -0.25205593,\n",
       "       -1.33062684,  0.25273764,  1.07188793, -0.18045103, -0.68762771,\n",
       "        0.24538462,  0.54412341, -0.12514272, -0.30575421,  0.1739335 ,\n",
       "        0.28352675, -0.06256046, -0.12609142])"
      ]
     },
     "execution_count": 83,
     "metadata": {},
     "output_type": "execute_result"
    }
   ],
   "source": [
    "prediction1.values"
   ]
  },
  {
   "cell_type": "code",
   "execution_count": 84,
   "id": "cbd98ae7",
   "metadata": {},
   "outputs": [
    {
     "name": "stdout",
     "output_type": "stream",
     "text": [
      "Fail-to-Reject H0. Good model\n"
     ]
    }
   ],
   "source": [
    "# Performing the LJung-Box test\n",
    "\n",
    "pvalue = sm.stats.acorr_ljungbox(m1.resid, lags=[1], return_df=True)['lb_pvalue'].values\n",
    "if pvalue < 0.05:\n",
    "    print(\"Reject H0. Bad model\")\n",
    "else:\n",
    "    print(\"Fail-to-Reject H0. Good model\")"
   ]
  },
  {
   "cell_type": "code",
   "execution_count": 85,
   "id": "3a87d3be",
   "metadata": {
    "scrolled": true
   },
   "outputs": [
    {
     "data": {
      "text/html": [
       "<div>\n",
       "<style scoped>\n",
       "    .dataframe tbody tr th:only-of-type {\n",
       "        vertical-align: middle;\n",
       "    }\n",
       "\n",
       "    .dataframe tbody tr th {\n",
       "        vertical-align: top;\n",
       "    }\n",
       "\n",
       "    .dataframe thead th {\n",
       "        text-align: right;\n",
       "    }\n",
       "</style>\n",
       "<table border=\"1\" class=\"dataframe\">\n",
       "  <thead>\n",
       "    <tr style=\"text-align: right;\">\n",
       "      <th></th>\n",
       "      <th>Actual</th>\n",
       "      <th>Predicted</th>\n",
       "      <th>Error</th>\n",
       "    </tr>\n",
       "  </thead>\n",
       "  <tbody>\n",
       "    <tr>\n",
       "      <th>2012-12-31</th>\n",
       "      <td>NaN</td>\n",
       "      <td>-0.933797</td>\n",
       "      <td>NaN</td>\n",
       "    </tr>\n",
       "    <tr>\n",
       "      <th>2013-01-31</th>\n",
       "      <td>NaN</td>\n",
       "      <td>-3.121441</td>\n",
       "      <td>NaN</td>\n",
       "    </tr>\n",
       "    <tr>\n",
       "      <th>2013-02-28</th>\n",
       "      <td>-22.0</td>\n",
       "      <td>0.721415</td>\n",
       "      <td>-22.721415</td>\n",
       "    </tr>\n",
       "    <tr>\n",
       "      <th>2013-03-31</th>\n",
       "      <td>16.0</td>\n",
       "      <td>1.878666</td>\n",
       "      <td>14.121334</td>\n",
       "    </tr>\n",
       "    <tr>\n",
       "      <th>2013-04-30</th>\n",
       "      <td>-26.0</td>\n",
       "      <td>-0.252056</td>\n",
       "      <td>-25.747944</td>\n",
       "    </tr>\n",
       "    <tr>\n",
       "      <th>2013-05-31</th>\n",
       "      <td>24.0</td>\n",
       "      <td>-1.330627</td>\n",
       "      <td>25.330627</td>\n",
       "    </tr>\n",
       "    <tr>\n",
       "      <th>2013-06-30</th>\n",
       "      <td>-20.0</td>\n",
       "      <td>0.252738</td>\n",
       "      <td>-20.252738</td>\n",
       "    </tr>\n",
       "    <tr>\n",
       "      <th>2013-07-31</th>\n",
       "      <td>18.0</td>\n",
       "      <td>1.071888</td>\n",
       "      <td>16.928112</td>\n",
       "    </tr>\n",
       "    <tr>\n",
       "      <th>2013-08-31</th>\n",
       "      <td>-10.0</td>\n",
       "      <td>-0.180451</td>\n",
       "      <td>-9.819549</td>\n",
       "    </tr>\n",
       "    <tr>\n",
       "      <th>2013-09-30</th>\n",
       "      <td>2.0</td>\n",
       "      <td>-0.687628</td>\n",
       "      <td>2.687628</td>\n",
       "    </tr>\n",
       "    <tr>\n",
       "      <th>2013-10-31</th>\n",
       "      <td>2.0</td>\n",
       "      <td>0.245385</td>\n",
       "      <td>1.754615</td>\n",
       "    </tr>\n",
       "    <tr>\n",
       "      <th>2013-11-30</th>\n",
       "      <td>12.0</td>\n",
       "      <td>0.544123</td>\n",
       "      <td>11.455877</td>\n",
       "    </tr>\n",
       "    <tr>\n",
       "      <th>2013-12-31</th>\n",
       "      <td>-4.0</td>\n",
       "      <td>-0.125143</td>\n",
       "      <td>-3.874857</td>\n",
       "    </tr>\n",
       "    <tr>\n",
       "      <th>2014-01-31</th>\n",
       "      <td>-24.0</td>\n",
       "      <td>-0.305754</td>\n",
       "      <td>-23.694246</td>\n",
       "    </tr>\n",
       "    <tr>\n",
       "      <th>2014-02-28</th>\n",
       "      <td>14.0</td>\n",
       "      <td>0.173934</td>\n",
       "      <td>13.826066</td>\n",
       "    </tr>\n",
       "    <tr>\n",
       "      <th>2014-03-31</th>\n",
       "      <td>2.0</td>\n",
       "      <td>0.283527</td>\n",
       "      <td>1.716473</td>\n",
       "    </tr>\n",
       "    <tr>\n",
       "      <th>2014-04-30</th>\n",
       "      <td>4.0</td>\n",
       "      <td>-0.062560</td>\n",
       "      <td>4.062560</td>\n",
       "    </tr>\n",
       "    <tr>\n",
       "      <th>2014-05-31</th>\n",
       "      <td>-6.0</td>\n",
       "      <td>-0.126091</td>\n",
       "      <td>-5.873909</td>\n",
       "    </tr>\n",
       "    <tr>\n",
       "      <th>2014-06-30</th>\n",
       "      <td>-2.0</td>\n",
       "      <td>NaN</td>\n",
       "      <td>NaN</td>\n",
       "    </tr>\n",
       "    <tr>\n",
       "      <th>2014-07-31</th>\n",
       "      <td>7.0</td>\n",
       "      <td>NaN</td>\n",
       "      <td>NaN</td>\n",
       "    </tr>\n",
       "  </tbody>\n",
       "</table>\n",
       "</div>"
      ],
      "text/plain": [
       "            Actual  Predicted      Error\n",
       "2012-12-31     NaN  -0.933797        NaN\n",
       "2013-01-31     NaN  -3.121441        NaN\n",
       "2013-02-28   -22.0   0.721415 -22.721415\n",
       "2013-03-31    16.0   1.878666  14.121334\n",
       "2013-04-30   -26.0  -0.252056 -25.747944\n",
       "2013-05-31    24.0  -1.330627  25.330627\n",
       "2013-06-30   -20.0   0.252738 -20.252738\n",
       "2013-07-31    18.0   1.071888  16.928112\n",
       "2013-08-31   -10.0  -0.180451  -9.819549\n",
       "2013-09-30     2.0  -0.687628   2.687628\n",
       "2013-10-31     2.0   0.245385   1.754615\n",
       "2013-11-30    12.0   0.544123  11.455877\n",
       "2013-12-31    -4.0  -0.125143  -3.874857\n",
       "2014-01-31   -24.0  -0.305754 -23.694246\n",
       "2014-02-28    14.0   0.173934  13.826066\n",
       "2014-03-31     2.0   0.283527   1.716473\n",
       "2014-04-30     4.0  -0.062560   4.062560\n",
       "2014-05-31    -6.0  -0.126091  -5.873909\n",
       "2014-06-30    -2.0        NaN        NaN\n",
       "2014-07-31     7.0        NaN        NaN"
      ]
     },
     "execution_count": 85,
     "metadata": {},
     "output_type": "execute_result"
    }
   ],
   "source": [
    "# Calculating actual, predicted, and error values together\n",
    "\n",
    "actual=[]; pred=[]\n",
    "\n",
    "# for i in range(len(prediction1)):\n",
    "#     actual.append(test[i])\n",
    "#     pred.append(prediction1[i])\n",
    "\n",
    "reviews_1 = pd.DataFrame({'Actual':diff_test, 'Predicted':prediction1})\n",
    "reviews_1['Error'] = reviews_1['Actual'] - reviews_1['Predicted']\n",
    "reviews_1"
   ]
  },
  {
   "cell_type": "code",
   "execution_count": 86,
   "id": "a9132250",
   "metadata": {},
   "outputs": [
    {
     "name": "stdout",
     "output_type": "stream",
     "text": [
      "ARIMA model - Order = ( 5 , 2 )\n",
      "\n",
      "MSE :  221.22757298382356\n",
      "\n",
      "RMSE :  14.873720885636638\n"
     ]
    }
   ],
   "source": [
    "# finding the MSE and RMSE of model\n",
    "\n",
    "p=5; q=2\n",
    "\n",
    "print('ARIMA model - Order = (',p,',',q,')')\n",
    "\n",
    "mse = mean_squared_error(diff_test.values, prediction1.values)\n",
    "\n",
    "print(\"\\nMSE : \",mse)\n",
    "print('\\nRMSE : ',np.sqrt(mse))"
   ]
  },
  {
   "cell_type": "code",
   "execution_count": 87,
   "id": "fb72ac6f",
   "metadata": {},
   "outputs": [
    {
     "data": {
      "text/plain": [
       "[<matplotlib.lines.Line2D at 0x1500e69c820>]"
      ]
     },
     "execution_count": 87,
     "metadata": {},
     "output_type": "execute_result"
    },
    {
     "data": {
      "image/png": "[encoded data removed]",
      "text/plain": [
       "<Figure size 432x288 with 1 Axes>"
      ]
     },
     "metadata": {
      "needs_background": "light"
     },
     "output_type": "display_data"
    }
   ],
   "source": [
    "error = diff_test.values - prediction1.values\n",
    "plt.plot(error)"
   ]
  },
  {
   "cell_type": "code",
   "execution_count": 88,
   "id": "3d6d8881",
   "metadata": {},
   "outputs": [
    {
     "data": {
      "image/png": "[encoded data removed]",
      "text/plain": [
       "<Figure size 432x288 with 1 Axes>"
      ]
     },
     "metadata": {
      "needs_background": "light"
     },
     "output_type": "display_data"
    }
   ],
   "source": [
    "# Plotting the actual and Predicted values\n",
    "\n",
    "plt.subplots(figsize=(6,4))\n",
    "plt.plot(diff_test, label='Actual')  \n",
    "plt.plot(prediction1, label='Predicted')\n",
    "plt.tight_layout()\n",
    "plt.legend(fontsize=14)\n",
    "#plt.xlabel('Days', fontsize=14)\n",
    "plt.title('Actual vs Predicted Values for Sentiment Data', fontsize=12)\n",
    "plt.ylabel('Sum of reviews')\n",
    "plt.xlabel('Review Date')\n",
    "plt.show()"
   ]
  },
  {
   "cell_type": "markdown",
   "id": "2768f5fd",
   "metadata": {},
   "source": [
    "# Building ARIMA Model"
   ]
  },
  {
   "cell_type": "code",
   "execution_count": 89,
   "id": "7df891bf",
   "metadata": {},
   "outputs": [
    {
     "name": "stdout",
     "output_type": "stream",
     "text": [
      "Train :  45 \t Test :  20\n"
     ]
    }
   ],
   "source": [
    "# Splitting the data into train and test\n",
    "\n",
    "ss = int(0.7 * len(reviews))\n",
    "\n",
    "train1 = reviews.iloc[:ss]\n",
    "test1 = reviews.iloc[ss:]\n",
    "\n",
    "print('Train : ',len(train1), '\\t Test : ',len(test1))"
   ]
  },
  {
   "cell_type": "code",
   "execution_count": 90,
   "id": "950338b9",
   "metadata": {},
   "outputs": [
    {
     "name": "stdout",
     "output_type": "stream",
     "text": [
      "ARIMA(1,0,2)): \t LL =  -95.95015018022832 \t AIC =  201.90030036045664\n",
      "ARIMA(2,0,2):  \t LL =  -94.97217337219618 \t AIC =  201.94434674439236\n",
      "ARIMA(3,0,1):  \t LL =  -95.50881673374423 \t AIC =  203.01763346748845\n",
      "ARIMA(4,0,2):  \t LL =  -93.2539507831743 \t AIC =  202.5079015663486\n",
      "ARIMA(5,0,2):  \t LL =  -94.7415517756337 \t AIC =  207.4831035512674\n"
     ]
    }
   ],
   "source": [
    "print(\"ARIMA(1,0,2)): \\t LL = \", results2_1.llf, \"\\t AIC = \", results2_1.aic)\n",
    "print(\"ARIMA(2,0,2):  \\t LL = \", results2_2.llf, \"\\t AIC = \", results2_2.aic)\n",
    "print(\"ARIMA(3,0,1):  \\t LL = \", results2_3.llf, \"\\t AIC = \", results2_3.aic)\n",
    "print(\"ARIMA(4,0,2):  \\t LL = \", results2_4.llf, \"\\t AIC = \", results2_4.aic)\n",
    "print(\"ARIMA(5,0,2):  \\t LL = \", results2_5.llf, \"\\t AIC = \", results2_5.aic)"
   ]
  },
  {
   "cell_type": "code",
   "execution_count": 91,
   "id": "c80aaa89",
   "metadata": {},
   "outputs": [
    {
     "name": "stderr",
     "output_type": "stream",
     "text": [
      "C:\\Users\\Nitesh\\anaconda3\\lib\\site-packages\\statsmodels\\tsa\\statespace\\sarimax.py:966: UserWarning: Non-stationary starting autoregressive parameters found. Using zeros as starting parameters.\n",
      "  warn('Non-stationary starting autoregressive parameters'\n",
      "C:\\Users\\Nitesh\\anaconda3\\lib\\site-packages\\statsmodels\\tsa\\statespace\\sarimax.py:978: UserWarning: Non-invertible starting MA parameters found. Using zeros as starting parameters.\n",
      "  warn('Non-invertible starting MA parameters found.'\n"
     ]
    },
    {
     "data": {
      "text/html": [
       "<table class=\"simpletable\">\n",
       "<caption>SARIMAX Results</caption>\n",
       "<tr>\n",
       "  <th>Dep. Variable:</th>       <td>Sentiment</td>    <th>  No. Observations:  </th>    <td>65</td>   \n",
       "</tr>\n",
       "<tr>\n",
       "  <th>Model:</th>            <td>ARIMA(5, 1, 2)</td>  <th>  Log Likelihood     </th> <td>-181.414</td>\n",
       "</tr>\n",
       "<tr>\n",
       "  <th>Date:</th>            <td>Thu, 09 Jun 2022</td> <th>  AIC                </th>  <td>378.827</td>\n",
       "</tr>\n",
       "<tr>\n",
       "  <th>Time:</th>                <td>23:14:23</td>     <th>  BIC                </th>  <td>396.098</td>\n",
       "</tr>\n",
       "<tr>\n",
       "  <th>Sample:</th>             <td>03-31-2009</td>    <th>  HQIC               </th>  <td>385.631</td>\n",
       "</tr>\n",
       "<tr>\n",
       "  <th></th>                   <td>- 07-31-2014</td>   <th>                     </th>     <td> </td>   \n",
       "</tr>\n",
       "<tr>\n",
       "  <th>Covariance Type:</th>        <td>opg</td>       <th>                     </th>     <td> </td>   \n",
       "</tr>\n",
       "</table>\n",
       "<table class=\"simpletable\">\n",
       "<tr>\n",
       "     <td></td>       <th>coef</th>     <th>std err</th>      <th>z</th>      <th>P>|z|</th>  <th>[0.025</th>    <th>0.975]</th>  \n",
       "</tr>\n",
       "<tr>\n",
       "  <th>ar.L1</th>  <td>    0.8797</td> <td>    0.366</td> <td>    2.401</td> <td> 0.016</td> <td>    0.162</td> <td>    1.598</td>\n",
       "</tr>\n",
       "<tr>\n",
       "  <th>ar.L2</th>  <td>   -0.1707</td> <td>    0.176</td> <td>   -0.967</td> <td> 0.333</td> <td>   -0.517</td> <td>    0.175</td>\n",
       "</tr>\n",
       "<tr>\n",
       "  <th>ar.L3</th>  <td>   -0.3929</td> <td>    0.149</td> <td>   -2.638</td> <td> 0.008</td> <td>   -0.685</td> <td>   -0.101</td>\n",
       "</tr>\n",
       "<tr>\n",
       "  <th>ar.L4</th>  <td>    0.3232</td> <td>    0.303</td> <td>    1.066</td> <td> 0.287</td> <td>   -0.271</td> <td>    0.918</td>\n",
       "</tr>\n",
       "<tr>\n",
       "  <th>ar.L5</th>  <td>   -0.3255</td> <td>    0.187</td> <td>   -1.741</td> <td> 0.082</td> <td>   -0.692</td> <td>    0.041</td>\n",
       "</tr>\n",
       "<tr>\n",
       "  <th>ma.L1</th>  <td>   -1.4308</td> <td>    0.392</td> <td>   -3.650</td> <td> 0.000</td> <td>   -2.199</td> <td>   -0.663</td>\n",
       "</tr>\n",
       "<tr>\n",
       "  <th>ma.L2</th>  <td>    0.6071</td> <td>    0.352</td> <td>    1.724</td> <td> 0.085</td> <td>   -0.083</td> <td>    1.297</td>\n",
       "</tr>\n",
       "<tr>\n",
       "  <th>sigma2</th> <td>   16.5821</td> <td>    2.338</td> <td>    7.093</td> <td> 0.000</td> <td>   12.000</td> <td>   21.164</td>\n",
       "</tr>\n",
       "</table>\n",
       "<table class=\"simpletable\">\n",
       "<tr>\n",
       "  <th>Ljung-Box (L1) (Q):</th>     <td>0.19</td>  <th>  Jarque-Bera (JB):  </th> <td>22.61</td>\n",
       "</tr>\n",
       "<tr>\n",
       "  <th>Prob(Q):</th>                <td>0.67</td>  <th>  Prob(JB):          </th> <td>0.00</td> \n",
       "</tr>\n",
       "<tr>\n",
       "  <th>Heteroskedasticity (H):</th> <td>11.03</td> <th>  Skew:              </th> <td>0.69</td> \n",
       "</tr>\n",
       "<tr>\n",
       "  <th>Prob(H) (two-sided):</th>    <td>0.00</td>  <th>  Kurtosis:          </th> <td>5.56</td> \n",
       "</tr>\n",
       "</table><br/><br/>Warnings:<br/>[1] Covariance matrix calculated using the outer product of gradients (complex-step)."
      ],
      "text/plain": [
       "<class 'statsmodels.iolib.summary.Summary'>\n",
       "\"\"\"\n",
       "                               SARIMAX Results                                \n",
       "==============================================================================\n",
       "Dep. Variable:              Sentiment   No. Observations:                   65\n",
       "Model:                 ARIMA(5, 1, 2)   Log Likelihood                -181.414\n",
       "Date:                Thu, 09 Jun 2022   AIC                            378.827\n",
       "Time:                        23:14:23   BIC                            396.098\n",
       "Sample:                    03-31-2009   HQIC                           385.631\n",
       "                         - 07-31-2014                                         \n",
       "Covariance Type:                  opg                                         \n",
       "==============================================================================\n",
       "                 coef    std err          z      P>|z|      [0.025      0.975]\n",
       "------------------------------------------------------------------------------\n",
       "ar.L1          0.8797      0.366      2.401      0.016       0.162       1.598\n",
       "ar.L2         -0.1707      0.176     -0.967      0.333      -0.517       0.175\n",
       "ar.L3         -0.3929      0.149     -2.638      0.008      -0.685      -0.101\n",
       "ar.L4          0.3232      0.303      1.066      0.287      -0.271       0.918\n",
       "ar.L5         -0.3255      0.187     -1.741      0.082      -0.692       0.041\n",
       "ma.L1         -1.4308      0.392     -3.650      0.000      -2.199      -0.663\n",
       "ma.L2          0.6071      0.352      1.724      0.085      -0.083       1.297\n",
       "sigma2        16.5821      2.338      7.093      0.000      12.000      21.164\n",
       "===================================================================================\n",
       "Ljung-Box (L1) (Q):                   0.19   Jarque-Bera (JB):                22.61\n",
       "Prob(Q):                              0.67   Prob(JB):                         0.00\n",
       "Heteroskedasticity (H):              11.03   Skew:                             0.69\n",
       "Prob(H) (two-sided):                  0.00   Kurtosis:                         5.56\n",
       "===================================================================================\n",
       "\n",
       "Warnings:\n",
       "[1] Covariance matrix calculated using the outer product of gradients (complex-step).\n",
       "\"\"\""
      ]
     },
     "execution_count": 91,
     "metadata": {},
     "output_type": "execute_result"
    }
   ],
   "source": [
    "p=5; q=2; d=1\n",
    "m2 = ARIMA(reviews, order=(p,d,q)).fit()\n",
    "m2.summary()   "
   ]
  },
  {
   "cell_type": "code",
   "execution_count": 92,
   "id": "03aa62b1",
   "metadata": {
    "scrolled": true
   },
   "outputs": [
    {
     "name": "stdout",
     "output_type": "stream",
     "text": [
      "Start :  45 End :  64\n"
     ]
    },
    {
     "data": {
      "text/plain": [
       "ReviewDate\n",
       "2012-12-31     7.369733\n",
       "2013-01-31     4.964430\n",
       "2013-02-28    10.457361\n",
       "2013-03-31    13.425862\n",
       "2013-04-30    11.955932\n",
       "2013-05-31    12.477250\n",
       "2013-06-30     7.250494\n",
       "2013-07-31    10.339371\n",
       "2013-08-31     4.269570\n",
       "2013-09-30    11.283547\n",
       "2013-10-31     5.555813\n",
       "2013-11-30     9.562266\n",
       "2013-12-31    13.940799\n",
       "2014-01-31    19.160129\n",
       "2014-02-28    10.570090\n",
       "2014-03-31     7.470084\n",
       "2014-04-30    10.636955\n",
       "2014-05-31     6.548699\n",
       "2014-06-30     7.655913\n",
       "2014-07-31     6.013948\n",
       "Freq: M, Name: predicted_mean, dtype: float64"
      ]
     },
     "execution_count": 92,
     "metadata": {},
     "output_type": "execute_result"
    }
   ],
   "source": [
    "# Predicting the test data\n",
    "\n",
    "strt = len(train1)\n",
    "end = len(train1) + len(test1) - 1\n",
    "\n",
    "print('Start : ',strt,'End : ',end)\n",
    "\n",
    "prediction2 = m2.predict(strt, end, typ='levels')\n",
    "prediction2"
   ]
  },
  {
   "cell_type": "code",
   "execution_count": 93,
   "id": "89d906d7",
   "metadata": {
    "scrolled": true
   },
   "outputs": [
    {
     "data": {
      "text/html": [
       "<div>\n",
       "<style scoped>\n",
       "    .dataframe tbody tr th:only-of-type {\n",
       "        vertical-align: middle;\n",
       "    }\n",
       "\n",
       "    .dataframe tbody tr th {\n",
       "        vertical-align: top;\n",
       "    }\n",
       "\n",
       "    .dataframe thead th {\n",
       "        text-align: right;\n",
       "    }\n",
       "</style>\n",
       "<table border=\"1\" class=\"dataframe\">\n",
       "  <thead>\n",
       "    <tr style=\"text-align: right;\">\n",
       "      <th></th>\n",
       "      <th>Actual</th>\n",
       "      <th>Predicted</th>\n",
       "      <th>Error</th>\n",
       "    </tr>\n",
       "    <tr>\n",
       "      <th>ReviewDate</th>\n",
       "      <th></th>\n",
       "      <th></th>\n",
       "      <th></th>\n",
       "    </tr>\n",
       "  </thead>\n",
       "  <tbody>\n",
       "    <tr>\n",
       "      <th>2012-12-31</th>\n",
       "      <td>4</td>\n",
       "      <td>7.369733</td>\n",
       "      <td>-3.369733</td>\n",
       "    </tr>\n",
       "    <tr>\n",
       "      <th>2013-01-31</th>\n",
       "      <td>20</td>\n",
       "      <td>4.964430</td>\n",
       "      <td>15.035570</td>\n",
       "    </tr>\n",
       "    <tr>\n",
       "      <th>2013-02-28</th>\n",
       "      <td>14</td>\n",
       "      <td>10.457361</td>\n",
       "      <td>3.542639</td>\n",
       "    </tr>\n",
       "    <tr>\n",
       "      <th>2013-03-31</th>\n",
       "      <td>24</td>\n",
       "      <td>13.425862</td>\n",
       "      <td>10.574138</td>\n",
       "    </tr>\n",
       "    <tr>\n",
       "      <th>2013-04-30</th>\n",
       "      <td>8</td>\n",
       "      <td>11.955932</td>\n",
       "      <td>-3.955932</td>\n",
       "    </tr>\n",
       "    <tr>\n",
       "      <th>2013-05-31</th>\n",
       "      <td>16</td>\n",
       "      <td>12.477250</td>\n",
       "      <td>3.522750</td>\n",
       "    </tr>\n",
       "    <tr>\n",
       "      <th>2013-06-30</th>\n",
       "      <td>4</td>\n",
       "      <td>7.250494</td>\n",
       "      <td>-3.250494</td>\n",
       "    </tr>\n",
       "    <tr>\n",
       "      <th>2013-07-31</th>\n",
       "      <td>10</td>\n",
       "      <td>10.339371</td>\n",
       "      <td>-0.339371</td>\n",
       "    </tr>\n",
       "    <tr>\n",
       "      <th>2013-08-31</th>\n",
       "      <td>6</td>\n",
       "      <td>4.269570</td>\n",
       "      <td>1.730430</td>\n",
       "    </tr>\n",
       "    <tr>\n",
       "      <th>2013-09-30</th>\n",
       "      <td>4</td>\n",
       "      <td>11.283547</td>\n",
       "      <td>-7.283547</td>\n",
       "    </tr>\n",
       "    <tr>\n",
       "      <th>2013-10-31</th>\n",
       "      <td>4</td>\n",
       "      <td>5.555813</td>\n",
       "      <td>-1.555813</td>\n",
       "    </tr>\n",
       "    <tr>\n",
       "      <th>2013-11-30</th>\n",
       "      <td>16</td>\n",
       "      <td>9.562266</td>\n",
       "      <td>6.437734</td>\n",
       "    </tr>\n",
       "    <tr>\n",
       "      <th>2013-12-31</th>\n",
       "      <td>24</td>\n",
       "      <td>13.940799</td>\n",
       "      <td>10.059201</td>\n",
       "    </tr>\n",
       "    <tr>\n",
       "      <th>2014-01-31</th>\n",
       "      <td>8</td>\n",
       "      <td>19.160129</td>\n",
       "      <td>-11.160129</td>\n",
       "    </tr>\n",
       "    <tr>\n",
       "      <th>2014-02-28</th>\n",
       "      <td>6</td>\n",
       "      <td>10.570090</td>\n",
       "      <td>-4.570090</td>\n",
       "    </tr>\n",
       "    <tr>\n",
       "      <th>2014-03-31</th>\n",
       "      <td>6</td>\n",
       "      <td>7.470084</td>\n",
       "      <td>-1.470084</td>\n",
       "    </tr>\n",
       "    <tr>\n",
       "      <th>2014-04-30</th>\n",
       "      <td>10</td>\n",
       "      <td>10.636955</td>\n",
       "      <td>-0.636955</td>\n",
       "    </tr>\n",
       "    <tr>\n",
       "      <th>2014-05-31</th>\n",
       "      <td>8</td>\n",
       "      <td>6.548699</td>\n",
       "      <td>1.451301</td>\n",
       "    </tr>\n",
       "    <tr>\n",
       "      <th>2014-06-30</th>\n",
       "      <td>4</td>\n",
       "      <td>7.655913</td>\n",
       "      <td>-3.655913</td>\n",
       "    </tr>\n",
       "    <tr>\n",
       "      <th>2014-07-31</th>\n",
       "      <td>7</td>\n",
       "      <td>6.013948</td>\n",
       "      <td>0.986052</td>\n",
       "    </tr>\n",
       "  </tbody>\n",
       "</table>\n",
       "</div>"
      ],
      "text/plain": [
       "            Actual  Predicted      Error\n",
       "ReviewDate                              \n",
       "2012-12-31       4   7.369733  -3.369733\n",
       "2013-01-31      20   4.964430  15.035570\n",
       "2013-02-28      14  10.457361   3.542639\n",
       "2013-03-31      24  13.425862  10.574138\n",
       "2013-04-30       8  11.955932  -3.955932\n",
       "2013-05-31      16  12.477250   3.522750\n",
       "2013-06-30       4   7.250494  -3.250494\n",
       "2013-07-31      10  10.339371  -0.339371\n",
       "2013-08-31       6   4.269570   1.730430\n",
       "2013-09-30       4  11.283547  -7.283547\n",
       "2013-10-31       4   5.555813  -1.555813\n",
       "2013-11-30      16   9.562266   6.437734\n",
       "2013-12-31      24  13.940799  10.059201\n",
       "2014-01-31       8  19.160129 -11.160129\n",
       "2014-02-28       6  10.570090  -4.570090\n",
       "2014-03-31       6   7.470084  -1.470084\n",
       "2014-04-30      10  10.636955  -0.636955\n",
       "2014-05-31       8   6.548699   1.451301\n",
       "2014-06-30       4   7.655913  -3.655913\n",
       "2014-07-31       7   6.013948   0.986052"
      ]
     },
     "execution_count": 93,
     "metadata": {},
     "output_type": "execute_result"
    }
   ],
   "source": [
    "reviews_2 = pd.DataFrame({'Actual':test, 'Predicted':prediction2})\n",
    "reviews_2['Error'] = reviews_2['Actual'] - reviews_2['Predicted']\n",
    "reviews_2"
   ]
  },
  {
   "cell_type": "code",
   "execution_count": 94,
   "id": "b2dfa704",
   "metadata": {},
   "outputs": [
    {
     "name": "stdout",
     "output_type": "stream",
     "text": [
      "ARIMA model - Order = ( 4 , 2 )\n",
      "\n",
      "MSE :  38.30342479356594\n",
      "\n",
      "RMSE :  6.188976069881506\n"
     ]
    }
   ],
   "source": [
    "p=4; q=2\n",
    "\n",
    "print('ARIMA model - Order = (',p,',',q,')')\n",
    "\n",
    "mse = mean_squared_error(test1, prediction2)\n",
    "\n",
    "print(\"\\nMSE : \",mse)\n",
    "print('\\nRMSE : ',np.sqrt(mse))"
   ]
  },
  {
   "cell_type": "code",
   "execution_count": 95,
   "id": "a2938491",
   "metadata": {},
   "outputs": [
    {
     "data": {
      "image/png": "[encoded data removed]",
      "text/plain": [
       "<Figure size 864x288 with 1 Axes>"
      ]
     },
     "metadata": {
      "needs_background": "light"
     },
     "output_type": "display_data"
    }
   ],
   "source": [
    "# plotting the errors\n",
    "\n",
    "plt.subplots(figsize=(12,4))\n",
    "plt.plot(reviews_2.Error)\n",
    "plt.title('Error')\n",
    "plt.show()"
   ]
  },
  {
   "cell_type": "code",
   "execution_count": 96,
   "id": "47f23f3b",
   "metadata": {},
   "outputs": [
    {
     "data": {
      "image/png": "[encoded data removed]",
      "text/plain": [
       "<Figure size 432x288 with 1 Axes>"
      ]
     },
     "metadata": {
      "needs_background": "light"
     },
     "output_type": "display_data"
    }
   ],
   "source": [
    "# Plotting the actual and Predicted values\n",
    "\n",
    "plt.subplots(figsize=(6,4))\n",
    "plt.plot(reviews_2.Actual, label='Actual')  \n",
    "plt.plot(reviews_2.Predicted, label='Predicted')\n",
    "plt.tight_layout()\n",
    "plt.legend(fontsize=14)\n",
    "#plt.xlabel('Days', fontsize=14)\n",
    "plt.title('Actual vs Predicted Values for Sentiment Data', fontsize=14)\n",
    "plt.ylabel('Sum of reviews')\n",
    "plt.xlabel('Review Date')\n",
    "plt.show()"
   ]
  },
  {
   "cell_type": "code",
   "execution_count": 97,
   "id": "e259dbee",
   "metadata": {},
   "outputs": [
    {
     "name": "stdout",
     "output_type": "stream",
     "text": [
      "2014-08-31     8.770135\n",
      "2014-09-30    10.037301\n",
      "2014-10-31     9.029248\n",
      "2014-11-30     9.502070\n",
      "2014-12-31     9.187783\n",
      "2015-01-31     9.060054\n",
      "2015-02-28     8.077310\n",
      "2015-03-31     7.839005\n",
      "2015-04-30     7.591860\n",
      "2015-05-31     7.862313\n",
      "2015-06-30     7.960036\n",
      "2015-07-31     8.339808\n",
      "Freq: M, Name: predicted_mean, dtype: float64\n"
     ]
    }
   ],
   "source": [
    "fcast = m2.predict(start=len(reviews), end=len(reviews)+11, typ='levels')\n",
    "print(fcast)"
   ]
  },
  {
   "cell_type": "code",
   "execution_count": 98,
   "id": "d6464f7e",
   "metadata": {},
   "outputs": [
    {
     "data": {
      "image/png": "[encoded data removed]",
      "text/plain": [
       "<Figure size 1008x360 with 1 Axes>"
      ]
     },
     "metadata": {
      "needs_background": "light"
     },
     "output_type": "display_data"
    }
   ],
   "source": [
    "# Forcasting the future values \n",
    "\n",
    "plt.subplots(figsize=(14,5))\n",
    "plt.plot(test1, color='blue', label='Sentiment')\n",
    "plt.plot(fcast, color='orange', label='Forecast')\n",
    "plt.legend()\n",
    "plt.xlabel('Year', fontsize=14)\n",
    "plt.title('ARIMA')\n",
    "plt.show()"
   ]
  },
  {
   "cell_type": "markdown",
   "id": "d3eb3938",
   "metadata": {},
   "source": [
    "# Building Sarima model"
   ]
  },
  {
   "cell_type": "code",
   "execution_count": 99,
   "id": "cc3ce826",
   "metadata": {},
   "outputs": [
    {
     "name": "stderr",
     "output_type": "stream",
     "text": [
      "C:\\Users\\Nitesh\\anaconda3\\lib\\site-packages\\statsmodels\\tsa\\statespace\\sarimax.py:866: UserWarning: Too few observations to estimate starting parameters for seasonal ARMA. All parameters except for variances will be set to zeros.\n",
      "  warn('Too few observations to estimate starting parameters%s.'\n",
      "C:\\Users\\Nitesh\\anaconda3\\lib\\site-packages\\statsmodels\\base\\model.py:566: ConvergenceWarning: Maximum Likelihood optimization failed to converge. Check mle_retvals\n",
      "  warnings.warn(\"Maximum Likelihood optimization failed to \"\n"
     ]
    },
    {
     "data": {
      "text/html": [
       "<table class=\"simpletable\">\n",
       "<caption>SARIMAX Results</caption>\n",
       "<tr>\n",
       "  <th>Dep. Variable:</th>              <td>Sentiment</td>           <th>  No. Observations:  </th>   <td>45</td>   \n",
       "</tr>\n",
       "<tr>\n",
       "  <th>Model:</th>           <td>SARIMAX(5, 1, 2)x(5, 1, 2, 12)</td> <th>  Log Likelihood     </th> <td>-71.977</td>\n",
       "</tr>\n",
       "<tr>\n",
       "  <th>Date:</th>                   <td>Thu, 09 Jun 2022</td>        <th>  AIC                </th> <td>173.954</td>\n",
       "</tr>\n",
       "<tr>\n",
       "  <th>Time:</th>                       <td>23:14:33</td>            <th>  BIC                </th> <td>195.940</td>\n",
       "</tr>\n",
       "<tr>\n",
       "  <th>Sample:</th>                    <td>03-31-2009</td>           <th>  HQIC               </th> <td>181.242</td>\n",
       "</tr>\n",
       "<tr>\n",
       "  <th></th>                          <td>- 11-30-2012</td>          <th>                     </th>    <td> </td>   \n",
       "</tr>\n",
       "<tr>\n",
       "  <th>Covariance Type:</th>               <td>opg</td>              <th>                     </th>    <td> </td>   \n",
       "</tr>\n",
       "</table>\n",
       "<table class=\"simpletable\">\n",
       "<tr>\n",
       "      <td></td>        <th>coef</th>     <th>std err</th>      <th>z</th>      <th>P>|z|</th>  <th>[0.025</th>    <th>0.975]</th>  \n",
       "</tr>\n",
       "<tr>\n",
       "  <th>ar.L1</th>    <td>    0.6344</td> <td>    2.862</td> <td>    0.222</td> <td> 0.825</td> <td>   -4.975</td> <td>    6.244</td>\n",
       "</tr>\n",
       "<tr>\n",
       "  <th>ar.L2</th>    <td>   -0.5455</td> <td>    0.924</td> <td>   -0.590</td> <td> 0.555</td> <td>   -2.357</td> <td>    1.266</td>\n",
       "</tr>\n",
       "<tr>\n",
       "  <th>ar.L3</th>    <td>    0.5858</td> <td>    1.113</td> <td>    0.526</td> <td> 0.599</td> <td>   -1.596</td> <td>    2.767</td>\n",
       "</tr>\n",
       "<tr>\n",
       "  <th>ar.L4</th>    <td>   -0.6581</td> <td>    3.778</td> <td>   -0.174</td> <td> 0.862</td> <td>   -8.062</td> <td>    6.746</td>\n",
       "</tr>\n",
       "<tr>\n",
       "  <th>ar.L5</th>    <td>    0.1079</td> <td>    0.972</td> <td>    0.111</td> <td> 0.912</td> <td>   -1.797</td> <td>    2.012</td>\n",
       "</tr>\n",
       "<tr>\n",
       "  <th>ma.L1</th>    <td>   -1.3057</td> <td>    1.307</td> <td>   -0.999</td> <td> 0.318</td> <td>   -3.867</td> <td>    1.255</td>\n",
       "</tr>\n",
       "<tr>\n",
       "  <th>ma.L2</th>    <td>    0.9873</td> <td>    4.252</td> <td>    0.232</td> <td> 0.816</td> <td>   -7.347</td> <td>    9.321</td>\n",
       "</tr>\n",
       "<tr>\n",
       "  <th>ar.S.L12</th> <td>   -0.0558</td> <td>  909.675</td> <td>-6.13e-05</td> <td> 1.000</td> <td>-1782.985</td> <td> 1782.874</td>\n",
       "</tr>\n",
       "<tr>\n",
       "  <th>ar.S.L24</th> <td>    0.4874</td> <td> 1378.066</td> <td>    0.000</td> <td> 1.000</td> <td>-2700.473</td> <td> 2701.447</td>\n",
       "</tr>\n",
       "<tr>\n",
       "  <th>ar.S.L36</th> <td>    0.3650</td> <td>  842.391</td> <td>    0.000</td> <td> 1.000</td> <td>-1650.691</td> <td> 1651.421</td>\n",
       "</tr>\n",
       "<tr>\n",
       "  <th>ar.S.L48</th> <td>   -0.5064</td> <td>  139.800</td> <td>   -0.004</td> <td> 0.997</td> <td> -274.509</td> <td>  273.496</td>\n",
       "</tr>\n",
       "<tr>\n",
       "  <th>ar.S.L60</th> <td>    0.2124</td> <td>  621.589</td> <td>    0.000</td> <td> 1.000</td> <td>-1218.079</td> <td> 1218.504</td>\n",
       "</tr>\n",
       "<tr>\n",
       "  <th>ma.S.L12</th> <td>    0.0296</td> <td>  954.630</td> <td>  3.1e-05</td> <td> 1.000</td> <td>-1871.010</td> <td> 1871.069</td>\n",
       "</tr>\n",
       "<tr>\n",
       "  <th>ma.S.L24</th> <td>   -0.6994</td> <td> 3135.086</td> <td>   -0.000</td> <td> 1.000</td> <td>-6145.355</td> <td> 6143.956</td>\n",
       "</tr>\n",
       "<tr>\n",
       "  <th>sigma2</th>   <td>    0.7652</td> <td> 1279.896</td> <td>    0.001</td> <td> 1.000</td> <td>-2507.785</td> <td> 2509.315</td>\n",
       "</tr>\n",
       "</table>\n",
       "<table class=\"simpletable\">\n",
       "<tr>\n",
       "  <th>Ljung-Box (L1) (Q):</th>     <td>0.03</td> <th>  Jarque-Bera (JB):  </th> <td>2.99</td> \n",
       "</tr>\n",
       "<tr>\n",
       "  <th>Prob(Q):</th>                <td>0.86</td> <th>  Prob(JB):          </th> <td>0.22</td> \n",
       "</tr>\n",
       "<tr>\n",
       "  <th>Heteroskedasticity (H):</th> <td>1.33</td> <th>  Skew:              </th> <td>-0.64</td>\n",
       "</tr>\n",
       "<tr>\n",
       "  <th>Prob(H) (two-sided):</th>    <td>0.65</td> <th>  Kurtosis:          </th> <td>3.77</td> \n",
       "</tr>\n",
       "</table><br/><br/>Warnings:<br/>[1] Covariance matrix calculated using the outer product of gradients (complex-step)."
      ],
      "text/plain": [
       "<class 'statsmodels.iolib.summary.Summary'>\n",
       "\"\"\"\n",
       "                                     SARIMAX Results                                      \n",
       "==========================================================================================\n",
       "Dep. Variable:                          Sentiment   No. Observations:                   45\n",
       "Model:             SARIMAX(5, 1, 2)x(5, 1, 2, 12)   Log Likelihood                 -71.977\n",
       "Date:                            Thu, 09 Jun 2022   AIC                            173.954\n",
       "Time:                                    23:14:33   BIC                            195.940\n",
       "Sample:                                03-31-2009   HQIC                           181.242\n",
       "                                     - 11-30-2012                                         \n",
       "Covariance Type:                              opg                                         \n",
       "==============================================================================\n",
       "                 coef    std err          z      P>|z|      [0.025      0.975]\n",
       "------------------------------------------------------------------------------\n",
       "ar.L1          0.6344      2.862      0.222      0.825      -4.975       6.244\n",
       "ar.L2         -0.5455      0.924     -0.590      0.555      -2.357       1.266\n",
       "ar.L3          0.5858      1.113      0.526      0.599      -1.596       2.767\n",
       "ar.L4         -0.6581      3.778     -0.174      0.862      -8.062       6.746\n",
       "ar.L5          0.1079      0.972      0.111      0.912      -1.797       2.012\n",
       "ma.L1         -1.3057      1.307     -0.999      0.318      -3.867       1.255\n",
       "ma.L2          0.9873      4.252      0.232      0.816      -7.347       9.321\n",
       "ar.S.L12      -0.0558    909.675  -6.13e-05      1.000   -1782.985    1782.874\n",
       "ar.S.L24       0.4874   1378.066      0.000      1.000   -2700.473    2701.447\n",
       "ar.S.L36       0.3650    842.391      0.000      1.000   -1650.691    1651.421\n",
       "ar.S.L48      -0.5064    139.800     -0.004      0.997    -274.509     273.496\n",
       "ar.S.L60       0.2124    621.589      0.000      1.000   -1218.079    1218.504\n",
       "ma.S.L12       0.0296    954.630    3.1e-05      1.000   -1871.010    1871.069\n",
       "ma.S.L24      -0.6994   3135.086     -0.000      1.000   -6145.355    6143.956\n",
       "sigma2         0.7652   1279.896      0.001      1.000   -2507.785    2509.315\n",
       "===================================================================================\n",
       "Ljung-Box (L1) (Q):                   0.03   Jarque-Bera (JB):                 2.99\n",
       "Prob(Q):                              0.86   Prob(JB):                         0.22\n",
       "Heteroskedasticity (H):               1.33   Skew:                            -0.64\n",
       "Prob(H) (two-sided):                  0.65   Kurtosis:                         3.77\n",
       "===================================================================================\n",
       "\n",
       "Warnings:\n",
       "[1] Covariance matrix calculated using the outer product of gradients (complex-step).\n",
       "\"\"\""
      ]
     },
     "execution_count": 99,
     "metadata": {},
     "output_type": "execute_result"
    }
   ],
   "source": [
    "p=5; q=2; d=1\n",
    "\n",
    "m3 = sm.tsa.statespace.SARIMAX(train1, order=(p,d,q), seasonal_order=(p,d,q,12)).fit()\n",
    "m3.summary()"
   ]
  },
  {
   "cell_type": "code",
   "execution_count": 100,
   "id": "c21cec13",
   "metadata": {
    "scrolled": true
   },
   "outputs": [
    {
     "name": "stdout",
     "output_type": "stream",
     "text": [
      "Start :  45 End :  64\n"
     ]
    },
    {
     "data": {
      "text/plain": [
       "2012-12-31   -0.980383\n",
       "2013-01-31   -0.948182\n",
       "2013-02-28    3.884182\n",
       "2013-03-31   -1.930072\n",
       "2013-04-30   -0.356704\n",
       "2013-05-31    2.958482\n",
       "2013-06-30   -0.000396\n",
       "2013-07-31   -1.169130\n",
       "2013-08-31    5.233001\n",
       "2013-09-30    4.898645\n",
       "2013-10-31   -0.823671\n",
       "2013-11-30    3.613206\n",
       "2013-12-31    4.180136\n",
       "2014-01-31    3.444991\n",
       "2014-02-28    7.156803\n",
       "2014-03-31    3.584063\n",
       "2014-04-30    2.378381\n",
       "2014-05-31    4.693599\n",
       "2014-06-30   -0.143242\n",
       "2014-07-31   -0.285863\n",
       "Freq: M, Name: predicted_mean, dtype: float64"
      ]
     },
     "execution_count": 100,
     "metadata": {},
     "output_type": "execute_result"
    }
   ],
   "source": [
    "# Predicting the test data                                \n",
    "\n",
    "strt = len(train1)\n",
    "end = len(train1) + len(test1) - 1\n",
    "\n",
    "print('Start : ',strt,'End : ',end)\n",
    "\n",
    "prediction3 = m3.predict(strt, end, typ='levels')             # another wat to do -> prediction5 = m5.predict(33, 48)                        \n",
    "prediction3"
   ]
  },
  {
   "cell_type": "code",
   "execution_count": 101,
   "id": "74b81011",
   "metadata": {
    "scrolled": true
   },
   "outputs": [
    {
     "data": {
      "text/html": [
       "<div>\n",
       "<style scoped>\n",
       "    .dataframe tbody tr th:only-of-type {\n",
       "        vertical-align: middle;\n",
       "    }\n",
       "\n",
       "    .dataframe tbody tr th {\n",
       "        vertical-align: top;\n",
       "    }\n",
       "\n",
       "    .dataframe thead th {\n",
       "        text-align: right;\n",
       "    }\n",
       "</style>\n",
       "<table border=\"1\" class=\"dataframe\">\n",
       "  <thead>\n",
       "    <tr style=\"text-align: right;\">\n",
       "      <th></th>\n",
       "      <th>Actual</th>\n",
       "      <th>Predicted</th>\n",
       "      <th>Error</th>\n",
       "    </tr>\n",
       "  </thead>\n",
       "  <tbody>\n",
       "    <tr>\n",
       "      <th>2012-12-31</th>\n",
       "      <td>4</td>\n",
       "      <td>-0.980383</td>\n",
       "      <td>4.980383</td>\n",
       "    </tr>\n",
       "    <tr>\n",
       "      <th>2013-01-31</th>\n",
       "      <td>20</td>\n",
       "      <td>-0.948182</td>\n",
       "      <td>20.948182</td>\n",
       "    </tr>\n",
       "    <tr>\n",
       "      <th>2013-02-28</th>\n",
       "      <td>14</td>\n",
       "      <td>3.884182</td>\n",
       "      <td>10.115818</td>\n",
       "    </tr>\n",
       "    <tr>\n",
       "      <th>2013-03-31</th>\n",
       "      <td>24</td>\n",
       "      <td>-1.930072</td>\n",
       "      <td>25.930072</td>\n",
       "    </tr>\n",
       "    <tr>\n",
       "      <th>2013-04-30</th>\n",
       "      <td>8</td>\n",
       "      <td>-0.356704</td>\n",
       "      <td>8.356704</td>\n",
       "    </tr>\n",
       "    <tr>\n",
       "      <th>2013-05-31</th>\n",
       "      <td>16</td>\n",
       "      <td>2.958482</td>\n",
       "      <td>13.041518</td>\n",
       "    </tr>\n",
       "    <tr>\n",
       "      <th>2013-06-30</th>\n",
       "      <td>4</td>\n",
       "      <td>-0.000396</td>\n",
       "      <td>4.000396</td>\n",
       "    </tr>\n",
       "    <tr>\n",
       "      <th>2013-07-31</th>\n",
       "      <td>10</td>\n",
       "      <td>-1.169130</td>\n",
       "      <td>11.169130</td>\n",
       "    </tr>\n",
       "    <tr>\n",
       "      <th>2013-08-31</th>\n",
       "      <td>6</td>\n",
       "      <td>5.233001</td>\n",
       "      <td>0.766999</td>\n",
       "    </tr>\n",
       "    <tr>\n",
       "      <th>2013-09-30</th>\n",
       "      <td>4</td>\n",
       "      <td>4.898645</td>\n",
       "      <td>-0.898645</td>\n",
       "    </tr>\n",
       "    <tr>\n",
       "      <th>2013-10-31</th>\n",
       "      <td>4</td>\n",
       "      <td>-0.823671</td>\n",
       "      <td>4.823671</td>\n",
       "    </tr>\n",
       "    <tr>\n",
       "      <th>2013-11-30</th>\n",
       "      <td>16</td>\n",
       "      <td>3.613206</td>\n",
       "      <td>12.386794</td>\n",
       "    </tr>\n",
       "    <tr>\n",
       "      <th>2013-12-31</th>\n",
       "      <td>24</td>\n",
       "      <td>4.180136</td>\n",
       "      <td>19.819864</td>\n",
       "    </tr>\n",
       "    <tr>\n",
       "      <th>2014-01-31</th>\n",
       "      <td>8</td>\n",
       "      <td>3.444991</td>\n",
       "      <td>4.555009</td>\n",
       "    </tr>\n",
       "    <tr>\n",
       "      <th>2014-02-28</th>\n",
       "      <td>6</td>\n",
       "      <td>7.156803</td>\n",
       "      <td>-1.156803</td>\n",
       "    </tr>\n",
       "    <tr>\n",
       "      <th>2014-03-31</th>\n",
       "      <td>6</td>\n",
       "      <td>3.584063</td>\n",
       "      <td>2.415937</td>\n",
       "    </tr>\n",
       "    <tr>\n",
       "      <th>2014-04-30</th>\n",
       "      <td>10</td>\n",
       "      <td>2.378381</td>\n",
       "      <td>7.621619</td>\n",
       "    </tr>\n",
       "    <tr>\n",
       "      <th>2014-05-31</th>\n",
       "      <td>8</td>\n",
       "      <td>4.693599</td>\n",
       "      <td>3.306401</td>\n",
       "    </tr>\n",
       "    <tr>\n",
       "      <th>2014-06-30</th>\n",
       "      <td>4</td>\n",
       "      <td>-0.143242</td>\n",
       "      <td>4.143242</td>\n",
       "    </tr>\n",
       "    <tr>\n",
       "      <th>2014-07-31</th>\n",
       "      <td>7</td>\n",
       "      <td>-0.285863</td>\n",
       "      <td>7.285863</td>\n",
       "    </tr>\n",
       "  </tbody>\n",
       "</table>\n",
       "</div>"
      ],
      "text/plain": [
       "            Actual  Predicted      Error\n",
       "2012-12-31       4  -0.980383   4.980383\n",
       "2013-01-31      20  -0.948182  20.948182\n",
       "2013-02-28      14   3.884182  10.115818\n",
       "2013-03-31      24  -1.930072  25.930072\n",
       "2013-04-30       8  -0.356704   8.356704\n",
       "2013-05-31      16   2.958482  13.041518\n",
       "2013-06-30       4  -0.000396   4.000396\n",
       "2013-07-31      10  -1.169130  11.169130\n",
       "2013-08-31       6   5.233001   0.766999\n",
       "2013-09-30       4   4.898645  -0.898645\n",
       "2013-10-31       4  -0.823671   4.823671\n",
       "2013-11-30      16   3.613206  12.386794\n",
       "2013-12-31      24   4.180136  19.819864\n",
       "2014-01-31       8   3.444991   4.555009\n",
       "2014-02-28       6   7.156803  -1.156803\n",
       "2014-03-31       6   3.584063   2.415937\n",
       "2014-04-30      10   2.378381   7.621619\n",
       "2014-05-31       8   4.693599   3.306401\n",
       "2014-06-30       4  -0.143242   4.143242\n",
       "2014-07-31       7  -0.285863   7.285863"
      ]
     },
     "execution_count": 101,
     "metadata": {},
     "output_type": "execute_result"
    }
   ],
   "source": [
    "# Calculating actual, predicted, and error values together\n",
    "\n",
    "actual=[]; pred=[]\n",
    "\n",
    "for i in range(len(prediction3)):\n",
    "    actual.append(test1[i])\n",
    "    pred.append(prediction3[i])\n",
    "\n",
    "reviews_3 = pd.DataFrame({'Actual':actual, 'Predicted':prediction3})\n",
    "reviews_3['Error'] = reviews_3['Actual'] - reviews_3['Predicted']\n",
    "reviews_3"
   ]
  },
  {
   "cell_type": "code",
   "execution_count": 102,
   "id": "ac57f936",
   "metadata": {},
   "outputs": [
    {
     "name": "stdout",
     "output_type": "stream",
     "text": [
      "ARIMA model - Order = ( 5 , 2 )\n",
      "\n",
      "MSE :  117.8557615376177\n",
      "\n",
      "RMSE :  10.856139347743179\n"
     ]
    }
   ],
   "source": [
    "p=5; q=2\n",
    "\n",
    "print('ARIMA model - Order = (',p,',',q,')')\n",
    "\n",
    "mse = mean_squared_error(test1, prediction3)\n",
    "\n",
    "print(\"\\nMSE : \",mse)\n",
    "print('\\nRMSE : ',np.sqrt(mse))"
   ]
  },
  {
   "cell_type": "code",
   "execution_count": 103,
   "id": "55221128",
   "metadata": {},
   "outputs": [
    {
     "data": {
      "image/png": "[encoded data removed]",
      "text/plain": [
       "<Figure size 504x288 with 1 Axes>"
      ]
     },
     "metadata": {
      "needs_background": "light"
     },
     "output_type": "display_data"
    }
   ],
   "source": [
    "# Plotting the actual and Predicted values\n",
    "\n",
    "plt.subplots(figsize=(7,4))\n",
    "plt.plot(reviews_3.Actual, label='Actual')  \n",
    "plt.plot(reviews_3.Predicted, label='Predicted')\n",
    "plt.tight_layout()\n",
    "plt.legend(fontsize=14)\n",
    "plt.xlabel('Days', fontsize=14)\n",
    "plt.title('Actual vs Predicted Values for Sentiment Data', fontsize=14)\n",
    "plt.ylabel('Sum of reviews')\n",
    "plt.xlabel('Review Date')\n",
    "plt.show()"
   ]
  },
  {
   "cell_type": "code",
   "execution_count": 104,
   "id": "7a3a578b",
   "metadata": {},
   "outputs": [
    {
     "name": "stdout",
     "output_type": "stream",
     "text": [
      "2014-08-31    5.319034\n",
      "2014-09-30   -1.674211\n",
      "2014-10-31   -3.592043\n",
      "2014-11-30    5.192825\n",
      "2014-12-31   -0.761829\n",
      "2015-01-31   -0.253727\n",
      "2015-02-28    3.413442\n",
      "2015-03-31    1.377862\n",
      "2015-04-30    1.087519\n",
      "2015-05-31    5.816540\n",
      "2015-06-30    1.076780\n",
      "2015-07-31    0.503281\n",
      "Freq: M, Name: predicted_mean, dtype: float64\n"
     ]
    }
   ],
   "source": [
    "fcast = m3.predict(start=len(reviews), end=len(reviews)+11, typ='levels')\n",
    "print(fcast)"
   ]
  },
  {
   "cell_type": "code",
   "execution_count": 105,
   "id": "43c69afe",
   "metadata": {},
   "outputs": [
    {
     "data": {
      "image/png": "[encoded data removed]",
      "text/plain": [
       "<Figure size 1080x288 with 1 Axes>"
      ]
     },
     "metadata": {
      "needs_background": "light"
     },
     "output_type": "display_data"
    }
   ],
   "source": [
    "# Forcasting the future values \n",
    "\n",
    "plt.subplots(figsize=(15,4))\n",
    "plt.plot(test1, color='blue', label='Sale')\n",
    "plt.plot(fcast, color='orange', label='Forecast')\n",
    "plt.legend()\n",
    "plt.xlabel('Year', fontsize=14)\n",
    "plt.show()"
   ]
  },
  {
   "cell_type": "code",
   "execution_count": null,
   "id": "bc463030",
   "metadata": {},
   "outputs": [],
   "source": []
  }
 ],
 "metadata": {
  "kernelspec": {
   "display_name": "Python 3 (ipykernel)",
   "language": "python",
   "name": "python3"
  },
  "language_info": {
   "codemirror_mode": {
    "name": "ipython",
    "version": 3
   },
   "file_extension": ".py",
   "mimetype": "text/x-python",
   "name": "python",
   "nbconvert_exporter": "python",
   "pygments_lexer": "ipython3",
   "version": "3.9.7"
  }
 },
 "nbformat": 4,
 "nbformat_minor": 5
}
