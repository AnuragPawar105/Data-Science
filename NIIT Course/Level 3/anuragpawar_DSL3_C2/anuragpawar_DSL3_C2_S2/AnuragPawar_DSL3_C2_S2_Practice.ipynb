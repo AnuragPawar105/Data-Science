{
  "nbformat": 4,
  "nbformat_minor": 0,
  "metadata": {
    "colab": {
      "name": "Untitled0.ipynb",
      "provenance": []
    },
    "kernelspec": {
      "name": "python3",
      "display_name": "Python 3"
    },
    "language_info": {
      "name": "python"
    }
  },
  "cells": [
    {
      "cell_type": "code",
      "execution_count": 1,
      "metadata": {
        "id": "gxnFToBhoJxJ"
      },
      "outputs": [],
      "source": [
        "# TASK 1\n",
        "import tensorflow as tf\n",
        "from tensorflow import keras\n",
        "import numpy as np\n",
        "import pandas as pd"
      ]
    },
    {
      "cell_type": "code",
      "source": [
        "tf.strings.join(['401642','Anurag','anurag@abc.com','9404000904','Maharashtra','M','10/05/1998'],separator=\"~\")"
      ],
      "metadata": {
        "colab": {
          "base_uri": "https://localhost:8080/"
        },
        "id": "2VMUUjmmOhuD",
        "outputId": "31ca7760-8a41-418f-a331-df4dfdd1758d"
      },
      "execution_count": 17,
      "outputs": [
        {
          "output_type": "execute_result",
          "data": {
            "text/plain": [
              "<tf.Tensor: shape=(), dtype=string, numpy=b'401642~Anurag~anurag@abc.com~9404000904~Maharashtra~M~10/05/1998'>"
            ]
          },
          "metadata": {},
          "execution_count": 17
        }
      ]
    },
    {
      "cell_type": "code",
      "source": [
        "# TASK 2\n",
        "matrix = [['Indigo','violet','programmer', 'computer','training', 'kitchen', 'array', 'instagram', 'bluetooth']]\n",
        "matrix= np.array(matrix)\n",
        "print(matrix[0].reshape(3,3))"
      ],
      "metadata": {
        "colab": {
          "base_uri": "https://localhost:8080/"
        },
        "id": "3eIlsPGyPUBk",
        "outputId": "9bea0f2b-a707-4651-cafb-bdc2b3655a20"
      },
      "execution_count": 2,
      "outputs": [
        {
          "output_type": "stream",
          "name": "stdout",
          "text": [
            "[['Indigo' 'violet' 'programmer']\n",
            " ['computer' 'training' 'kitchen']\n",
            " ['array' 'instagram' 'bluetooth']]\n"
          ]
        }
      ]
    },
    {
      "cell_type": "code",
      "source": [
        "matrix = tf.constant([['Indigo','violet','programmer'],[ 'computer','training', 'kitchen'],['array', 'instagram', 'bluetooth']])\n",
        "matrix"
      ],
      "metadata": {
        "colab": {
          "base_uri": "https://localhost:8080/"
        },
        "id": "qX9WDQvbiLhy",
        "outputId": "84b1e24b-d12c-4b27-b028-f08b64752655"
      },
      "execution_count": 20,
      "outputs": [
        {
          "output_type": "execute_result",
          "data": {
            "text/plain": [
              "<tf.Tensor: shape=(3, 3), dtype=string, numpy=\n",
              "array([[b'Indigo', b'violet', b'programmer'],\n",
              "       [b'computer', b'training', b'kitchen'],\n",
              "       [b'array', b'instagram', b'bluetooth']], dtype=object)>"
            ]
          },
          "metadata": {},
          "execution_count": 20
        }
      ]
    },
    {
      "cell_type": "code",
      "source": [
        "# TASK 3\n",
        "price = tf.constant(1895.2)\n",
        "print(price)"
      ],
      "metadata": {
        "colab": {
          "base_uri": "https://localhost:8080/"
        },
        "id": "d-fcquLkPmAd",
        "outputId": "9ceb0d7e-3845-448d-a347-3464457d7fc6"
      },
      "execution_count": 3,
      "outputs": [
        {
          "output_type": "stream",
          "name": "stdout",
          "text": [
            "tf.Tensor(1895.2, shape=(), dtype=float32)\n"
          ]
        }
      ]
    },
    {
      "cell_type": "code",
      "source": [
        "price1 = tf.constant(1895.2, tf.float16)                       \n",
        "print(price1)"
      ],
      "metadata": {
        "colab": {
          "base_uri": "https://localhost:8080/"
        },
        "id": "_Wutc2yaP5qY",
        "outputId": "a7bbd820-b246-4545-a74d-ede4a36a293e"
      },
      "execution_count": 4,
      "outputs": [
        {
          "output_type": "stream",
          "name": "stdout",
          "text": [
            "tf.Tensor(1895.0, shape=(), dtype=float16)\n"
          ]
        }
      ]
    },
    {
      "cell_type": "code",
      "source": [
        "# TASK 4\n",
        "marks = np.round(np.random.uniform(50,100,15).reshape(-1,3),3)             \n",
        "marks"
      ],
      "metadata": {
        "colab": {
          "base_uri": "https://localhost:8080/"
        },
        "id": "nGWVFxh2QGwz",
        "outputId": "d6603542-f135-43c2-e7a6-648984378ae9"
      },
      "execution_count": 5,
      "outputs": [
        {
          "output_type": "execute_result",
          "data": {
            "text/plain": [
              "array([[72.222, 92.953, 81.947],\n",
              "       [67.225, 70.57 , 83.68 ],\n",
              "       [94.57 , 71.729, 86.736],\n",
              "       [86.8  , 73.677, 76.018],\n",
              "       [96.955, 64.168, 69.517]])"
            ]
          },
          "metadata": {},
          "execution_count": 5
        }
      ]
    },
    {
      "cell_type": "code",
      "source": [
        "marks1 = tf.Variable(marks, tf.int16)   \n",
        "marks1"
      ],
      "metadata": {
        "colab": {
          "base_uri": "https://localhost:8080/"
        },
        "id": "g7hOCeFhRA5r",
        "outputId": "411dfae3-cd15-4c7a-b552-1830b19f800c"
      },
      "execution_count": 18,
      "outputs": [
        {
          "output_type": "execute_result",
          "data": {
            "text/plain": [
              "<tf.Variable 'Variable:0' shape=(5, 3) dtype=float64, numpy=\n",
              "array([[72.222, 92.953, 81.947],\n",
              "       [67.225, 70.57 , 83.68 ],\n",
              "       [94.57 , 71.729, 86.736],\n",
              "       [86.8  , 73.677, 76.018],\n",
              "       [96.955, 64.168, 69.517]])>"
            ]
          },
          "metadata": {},
          "execution_count": 18
        }
      ]
    },
    {
      "cell_type": "code",
      "source": [
        "for x in range(len(marks)):\n",
        "  for y in range(len(marks[x])):\n",
        "    marks1[x,y].assign(np.random.randint(50,100))\n",
        "print(marks1)"
      ],
      "metadata": {
        "colab": {
          "base_uri": "https://localhost:8080/"
        },
        "id": "r_mZagJ6SDRh",
        "outputId": "0c6177a0-6c29-4300-d218-c888edfdd72a"
      },
      "execution_count": 19,
      "outputs": [
        {
          "output_type": "stream",
          "name": "stdout",
          "text": [
            "<tf.Variable 'Variable:0' shape=(5, 3) dtype=float64, numpy=\n",
            "array([[62., 52., 85.],\n",
            "       [79., 58., 92.],\n",
            "       [97., 53., 56.],\n",
            "       [88., 59., 80.],\n",
            "       [67., 71., 74.]])>\n"
          ]
        }
      ]
    },
    {
      "cell_type": "code",
      "source": [
        "# TASK 5\n"
      ],
      "metadata": {
        "id": "bu3fp6hXSJHx"
      },
      "execution_count": 9,
      "outputs": []
    },
    {
      "cell_type": "code",
      "source": [
        ""
      ],
      "metadata": {
        "id": "9e1jGngDSrkH"
      },
      "execution_count": 9,
      "outputs": []
    },
    {
      "cell_type": "code",
      "source": [
        "# TASK 6\n",
        "currency = {'India':'Rupee', 'USA':'Dollar','China':'Yuan'}\n",
        "currency"
      ],
      "metadata": {
        "colab": {
          "base_uri": "https://localhost:8080/"
        },
        "id": "XXEdGh47St50",
        "outputId": "73762f69-2e2f-41dd-a0c2-010bc180fd71"
      },
      "execution_count": 10,
      "outputs": [
        {
          "output_type": "execute_result",
          "data": {
            "text/plain": [
              "{'China': 'Yuan', 'India': 'Rupee', 'USA': 'Dollar'}"
            ]
          },
          "metadata": {},
          "execution_count": 10
        }
      ]
    },
    {
      "cell_type": "code",
      "source": [
        "t_currency = tf.convert_to_tensor(list(currency.items()))\n",
        "print(t_currency)"
      ],
      "metadata": {
        "colab": {
          "base_uri": "https://localhost:8080/"
        },
        "id": "0mlphi5AU8Sg",
        "outputId": "9cc9ce4f-b7ea-4683-d838-903594e09b5c"
      },
      "execution_count": 11,
      "outputs": [
        {
          "output_type": "stream",
          "name": "stdout",
          "text": [
            "tf.Tensor(\n",
            "[[b'India' b'Rupee']\n",
            " [b'USA' b'Dollar']\n",
            " [b'China' b'Yuan']], shape=(3, 2), dtype=string)\n"
          ]
        }
      ]
    },
    {
      "cell_type": "code",
      "source": [
        "print('Shape : ',tf.shape(t_currency))\n",
        "print('Size : ',tf.size(t_currency))"
      ],
      "metadata": {
        "colab": {
          "base_uri": "https://localhost:8080/"
        },
        "id": "ZEWTHLvpVnVR",
        "outputId": "556b236f-a811-47a4-fefc-11e342d0bec9"
      },
      "execution_count": 12,
      "outputs": [
        {
          "output_type": "stream",
          "name": "stdout",
          "text": [
            "Shape :  tf.Tensor([3 2], shape=(2,), dtype=int32)\n",
            "Size :  tf.Tensor(6, shape=(), dtype=int32)\n"
          ]
        }
      ]
    },
    {
      "cell_type": "code",
      "source": [
        "key = currency.keys()\n",
        "value = currency.values()\n",
        "\n",
        "print('Key : ',key)\n",
        "print('Value :',value)"
      ],
      "metadata": {
        "colab": {
          "base_uri": "https://localhost:8080/"
        },
        "id": "8KIAEjn4V39s",
        "outputId": "895ad515-3140-40f1-f097-e22b75ea2012"
      },
      "execution_count": 14,
      "outputs": [
        {
          "output_type": "stream",
          "name": "stdout",
          "text": [
            "Key :  dict_keys(['India', 'USA', 'China'])\n",
            "Value : dict_values(['Rupee', 'Dollar', 'Yuan'])\n"
          ]
        }
      ]
    },
    {
      "cell_type": "code",
      "source": [
        "# TASK 7\n",
        "unit = tf.constant(np.random.randint(1,10,4))\n",
        "unit_price = tf.constant(np.random.randint(100,300,4))\n",
        "\n",
        "print(unit)\n",
        "print(unit_price)"
      ],
      "metadata": {
        "colab": {
          "base_uri": "https://localhost:8080/"
        },
        "id": "fG-DaMOPV8vI",
        "outputId": "199f181e-c3f6-42b2-e25a-fb0f2e461614"
      },
      "execution_count": 15,
      "outputs": [
        {
          "output_type": "stream",
          "name": "stdout",
          "text": [
            "tf.Tensor([1 1 7 2], shape=(4,), dtype=int64)\n",
            "tf.Tensor([273 237 232 181], shape=(4,), dtype=int64)\n"
          ]
        }
      ]
    },
    {
      "cell_type": "code",
      "source": [
        "final_price = sum(unit * unit_price)\n",
        "print('Total Price : ',final_price)\n"
      ],
      "metadata": {
        "colab": {
          "base_uri": "https://localhost:8080/"
        },
        "id": "Ha8MDuuyWVMx",
        "outputId": "449f3317-8c20-48ce-d32f-9ddcaa919ce8"
      },
      "execution_count": 16,
      "outputs": [
        {
          "output_type": "stream",
          "name": "stdout",
          "text": [
            "Total Price :  tf.Tensor(2496, shape=(), dtype=int64)\n"
          ]
        }
      ]
    },
    {
      "cell_type": "code",
      "source": [
        ""
      ],
      "metadata": {
        "id": "fL_-hp9SWZeG"
      },
      "execution_count": null,
      "outputs": []
    }
  ]
}