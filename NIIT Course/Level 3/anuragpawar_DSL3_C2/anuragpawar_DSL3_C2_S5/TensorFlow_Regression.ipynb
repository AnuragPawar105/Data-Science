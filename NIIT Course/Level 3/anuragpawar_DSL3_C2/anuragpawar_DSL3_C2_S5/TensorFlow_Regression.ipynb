{
  "nbformat": 4,
  "nbformat_minor": 0,
  "metadata": {
    "colab": {
      "name": "TensorFlow_Regression.ipynb",
      "provenance": [],
      "collapsed_sections": []
    },
    "kernelspec": {
      "name": "python3",
      "display_name": "Python 3"
    },
    "language_info": {
      "name": "python"
    }
  },
  "cells": [
    {
      "cell_type": "markdown",
      "source": [
        "**Regression with Neural Network**"
      ],
      "metadata": {
        "id": "gZaOtRKZ4bfb"
      }
    },
    {
      "cell_type": "code",
      "source": [
        "import tensorflow as tf\n",
        "import numpy as np\n",
        "import matplotlib.pyplot as plt"
      ],
      "metadata": {
        "id": "Iv0IUdnv07AG"
      },
      "execution_count": null,
      "outputs": []
    },
    {
      "cell_type": "markdown",
      "source": [
        "**Create data to view and fit**"
      ],
      "metadata": {
        "id": "NsC_K1Qc44Wa"
      }
    },
    {
      "cell_type": "code",
      "source": [
        "# Create  feature \n",
        "\n",
        "X = np.array([-7.0, -4.0, -1.0, 2.0, 5.0, 8.0, 11.0, 14.0])\n",
        "\n",
        "# Create label\n",
        "\n",
        "Y = np.array([3.0, 6.0, 9.0, 12.0, 15.0, 18.0, 21.0, 24.0 ])\n",
        "\n",
        "# visualize it\n",
        "plt.scatter(X, Y)\n",
        "plt.show()"
      ],
      "metadata": {
        "colab": {
          "base_uri": "https://localhost:8080/",
          "height": 269
        },
        "id": "HgH430Gi07Dg",
        "outputId": "28aa80c7-9aef-4195-bb86-77e515c32caa"
      },
      "execution_count": null,
      "outputs": [
        {
          "output_type": "display_data",
          "data": {
            "text/plain": [
              "<Figure size 432x288 with 1 Axes>"
            ],
            "image/png": "[encoded data removed]"
          },
          "metadata": {
            "needs_background": "light"
          }
        }
      ]
    },
    {
      "cell_type": "markdown",
      "source": [
        "**Regression input shapes and output shapes**"
      ],
      "metadata": {
        "id": "GXxN8xSu6Ii7"
      }
    },
    {
      "cell_type": "markdown",
      "source": [
        "**Input shape** is the shape of your data thatgoes in the model.\n",
        "\n",
        "**Output shape** is the shape of your data you want to come out of your model."
      ],
      "metadata": {
        "id": "k-5jqZxS6PDp"
      }
    },
    {
      "cell_type": "code",
      "source": [
        "# Example of input and output shapes of a model\n",
        "\n",
        "house_info = tf.constant(['Bedroom','Bathroom','Garage'])\n",
        "house_price = tf.constant([939700])\n",
        "house_info, house_price"
      ],
      "metadata": {
        "colab": {
          "base_uri": "https://localhost:8080/"
        },
        "id": "ifNM5y-_07Gt",
        "outputId": "38b033f4-c2d2-468d-ff87-cd4309d870d0"
      },
      "execution_count": null,
      "outputs": [
        {
          "output_type": "execute_result",
          "data": {
            "text/plain": [
              "(<tf.Tensor: shape=(3,), dtype=string, numpy=array([b'Bedroom', b'Bathroom', b'Garage'], dtype=object)>,\n",
              " <tf.Tensor: shape=(1,), dtype=int32, numpy=array([939700], dtype=int32)>)"
            ]
          },
          "metadata": {},
          "execution_count": 177
        }
      ]
    },
    {
      "cell_type": "code",
      "source": [
        "house_info.shape"
      ],
      "metadata": {
        "colab": {
          "base_uri": "https://localhost:8080/"
        },
        "id": "wVligmF507L4",
        "outputId": "a33ea4bd-2d24-46e6-cbbe-c70a54cdee21"
      },
      "execution_count": null,
      "outputs": [
        {
          "output_type": "execute_result",
          "data": {
            "text/plain": [
              "TensorShape([3])"
            ]
          },
          "metadata": {},
          "execution_count": 178
        }
      ]
    },
    {
      "cell_type": "code",
      "source": [
        "# Create  feature \n",
        "\n",
        "X = tf.constant([-7.0, -4.0, -1.0, 2.0, 5.0, 8.0, 11.0, 14.0])\n",
        "\n",
        "# Create label\n",
        "\n",
        "Y = tf.constant([3.0, 6.0, 9.0, 12.0, 15.0, 18.0, 21.0, 24.0 ])\n",
        "\n",
        "# visualize it\n",
        "plt.scatter(X, Y)\n",
        "plt.show()"
      ],
      "metadata": {
        "colab": {
          "base_uri": "https://localhost:8080/",
          "height": 269
        },
        "id": "47Yaie1u07QM",
        "outputId": "14ab4ff2-7b1b-4f42-8df4-23c0790ff671"
      },
      "execution_count": null,
      "outputs": [
        {
          "output_type": "display_data",
          "data": {
            "text/plain": [
              "<Figure size 432x288 with 1 Axes>"
            ],
            "image/png": "[encoded data removed]"
          },
          "metadata": {
            "needs_background": "light"
          }
        }
      ]
    },
    {
      "cell_type": "code",
      "source": [
        "# taking single example of x\n",
        "\n",
        "input_shape = X[0].shape\n",
        "\n",
        "#take a single example of Y\n",
        "output_shape = Y[0].shape\n",
        "\n",
        "input_shape, output_shape       # these are both scaler i.e - no shape , due to short item item in list it's scaler"
      ],
      "metadata": {
        "colab": {
          "base_uri": "https://localhost:8080/"
        },
        "id": "wB98A7Dg7Lqi",
        "outputId": "f5f7c1b7-0010-450e-ea05-cd2b24279a23"
      },
      "execution_count": null,
      "outputs": [
        {
          "output_type": "execute_result",
          "data": {
            "text/plain": [
              "(TensorShape([]), TensorShape([]))"
            ]
          },
          "metadata": {},
          "execution_count": 180
        }
      ]
    },
    {
      "cell_type": "code",
      "source": [
        "X[0], Y[0]"
      ],
      "metadata": {
        "colab": {
          "base_uri": "https://localhost:8080/"
        },
        "id": "cmZrHwZH7LxR",
        "outputId": "bbaa5427-7cee-4a5e-b1cf-71f3ab7c8edb"
      },
      "execution_count": null,
      "outputs": [
        {
          "output_type": "execute_result",
          "data": {
            "text/plain": [
              "(<tf.Tensor: shape=(), dtype=float32, numpy=-7.0>,\n",
              " <tf.Tensor: shape=(), dtype=float32, numpy=3.0>)"
            ]
          },
          "metadata": {},
          "execution_count": 181
        }
      ]
    },
    {
      "cell_type": "markdown",
      "source": [
        "**Steps in Modelling with Tensorflow**"
      ],
      "metadata": {
        "id": "bL6CtZP28vQy"
      }
    },
    {
      "cell_type": "markdown",
      "source": [
        "**Creating a model** :- putting the pieces together of neural *network*"
      ],
      "metadata": {
        "id": "H1lxqRaA86g3"
      }
    },
    {
      "cell_type": "markdown",
      "source": [
        "**Compiling a model** :- Defining a model performance should be measured as well as defining how it should improve."
      ],
      "metadata": {
        "id": "pC2afSwb9Ehc"
      }
    },
    {
      "cell_type": "markdown",
      "source": [
        "**Fitting a model** :- Letting the model try to find patterns in the data"
      ],
      "metadata": {
        "id": "eeoXAxeX9TR9"
      }
    },
    {
      "cell_type": "code",
      "source": [
        "# set the random seed \n",
        "\n",
        "tf.random.set_seed(42)     # global seeding\n",
        "\n",
        "# Create a model using the sequential API\n",
        "model = tf.keras.Sequential([tf.keras.layers.Dense(1)])\n",
        "\n",
        "# Compilig a model\n",
        "model.compile(loss=tf.keras.losses.mae, optimizer=tf.keras.optimizers.SGD(), metrics=['mae'])          # mae = mean_absoluete_error\n",
        "\n",
        "# Fitting a model\n",
        "# model.fit(X,Y, epoche=5)\n",
        "model.fit(tf.expand_dims(X, axis=-1),Y,epochs=5)\n",
        "                           "
      ],
      "metadata": {
        "colab": {
          "base_uri": "https://localhost:8080/"
        },
        "id": "vB2K2Jma7L2t",
        "outputId": "c604b999-29fe-4bae-e1d1-3c3fef310509"
      },
      "execution_count": null,
      "outputs": [
        {
          "output_type": "stream",
          "name": "stdout",
          "text": [
            "Epoch 1/5\n",
            "1/1 [==============================] - 0s 278ms/step - loss: 11.5048 - mae: 11.5048\n",
            "Epoch 2/5\n",
            "1/1 [==============================] - 0s 8ms/step - loss: 11.3723 - mae: 11.3723\n",
            "Epoch 3/5\n",
            "1/1 [==============================] - 0s 12ms/step - loss: 11.2398 - mae: 11.2398\n",
            "Epoch 4/5\n",
            "1/1 [==============================] - 0s 10ms/step - loss: 11.1073 - mae: 11.1073\n",
            "Epoch 5/5\n",
            "1/1 [==============================] - 0s 9ms/step - loss: 10.9748 - mae: 10.9748\n"
          ]
        },
        {
          "output_type": "execute_result",
          "data": {
            "text/plain": [
              "<keras.callbacks.History at 0x7f7a3d921710>"
            ]
          },
          "metadata": {},
          "execution_count": 182
        }
      ]
    },
    {
      "cell_type": "code",
      "source": [
        "# check out X & Y\n",
        "\n",
        "X,Y"
      ],
      "metadata": {
        "colab": {
          "base_uri": "https://localhost:8080/"
        },
        "id": "AueEVTfv07TU",
        "outputId": "6f2e208a-26de-4831-9446-5b5d12d145ef"
      },
      "execution_count": null,
      "outputs": [
        {
          "output_type": "execute_result",
          "data": {
            "text/plain": [
              "(<tf.Tensor: shape=(8,), dtype=float32, numpy=array([-7., -4., -1.,  2.,  5.,  8., 11., 14.], dtype=float32)>,\n",
              " <tf.Tensor: shape=(8,), dtype=float32, numpy=array([ 3.,  6.,  9., 12., 15., 18., 21., 24.], dtype=float32)>)"
            ]
          },
          "metadata": {},
          "execution_count": 183
        }
      ]
    },
    {
      "cell_type": "code",
      "source": [
        "# make a prediction with the model\n",
        "\n",
        "model.predict([17.0])"
      ],
      "metadata": {
        "colab": {
          "base_uri": "https://localhost:8080/"
        },
        "id": "m--qrY1i07Vh",
        "outputId": "525185bd-5d28-43a9-e256-11ae871a00b5"
      },
      "execution_count": null,
      "outputs": [
        {
          "output_type": "execute_result",
          "data": {
            "text/plain": [
              "array([[12.716021]], dtype=float32)"
            ]
          },
          "metadata": {},
          "execution_count": 184
        }
      ]
    },
    {
      "cell_type": "markdown",
      "source": [
        "**Improving a Model**"
      ],
      "metadata": {
        "id": "1d61ILpYCJX8"
      }
    },
    {
      "cell_type": "code",
      "source": [
        "# set the random seed \n",
        "\n",
        "tf.random.set_seed(42)     # global seeding\n",
        "\n",
        "# Create a model using the sequential API\n",
        "model = tf.keras.Sequential([tf.keras.layers.Dense(1)])\n",
        "\n",
        "# Compilig a model\n",
        "model.compile(loss=tf.keras.losses.mae,\n",
        "              optimizer=tf.keras.optimizers.SGD(),\n",
        "              metrics=['mae'])          # mae = mean_absoluete_error\n",
        "\n",
        "# Fitting a model\n",
        "# model.fit(X,Y, epoche=5)\n",
        "model.fit(tf.expand_dims(X, axis=-1),Y,epochs=100)    # train for 100 epoch\n",
        "                           "
      ],
      "metadata": {
        "colab": {
          "base_uri": "https://localhost:8080/"
        },
        "id": "kajjOKlU07Y_",
        "outputId": "4cc45e2f-8bb5-4477-96bf-69e6d5b07c48"
      },
      "execution_count": null,
      "outputs": [
        {
          "output_type": "stream",
          "name": "stdout",
          "text": [
            "Epoch 1/100\n",
            "1/1 [==============================] - 0s 299ms/step - loss: 11.5048 - mae: 11.5048\n",
            "Epoch 2/100\n",
            "1/1 [==============================] - 0s 9ms/step - loss: 11.3723 - mae: 11.3723\n",
            "Epoch 3/100\n",
            "1/1 [==============================] - 0s 13ms/step - loss: 11.2398 - mae: 11.2398\n",
            "Epoch 4/100\n",
            "1/1 [==============================] - 0s 10ms/step - loss: 11.1073 - mae: 11.1073\n",
            "Epoch 5/100\n",
            "1/1 [==============================] - 0s 9ms/step - loss: 10.9748 - mae: 10.9748\n",
            "Epoch 6/100\n",
            "1/1 [==============================] - 0s 10ms/step - loss: 10.8423 - mae: 10.8423\n",
            "Epoch 7/100\n",
            "1/1 [==============================] - 0s 9ms/step - loss: 10.7098 - mae: 10.7098\n",
            "Epoch 8/100\n",
            "1/1 [==============================] - 0s 8ms/step - loss: 10.5773 - mae: 10.5773\n",
            "Epoch 9/100\n",
            "1/1 [==============================] - 0s 8ms/step - loss: 10.4448 - mae: 10.4448\n",
            "Epoch 10/100\n",
            "1/1 [==============================] - 0s 10ms/step - loss: 10.3123 - mae: 10.3123\n",
            "Epoch 11/100\n",
            "1/1 [==============================] - 0s 12ms/step - loss: 10.1798 - mae: 10.1798\n",
            "Epoch 12/100\n",
            "1/1 [==============================] - 0s 9ms/step - loss: 10.0473 - mae: 10.0473\n",
            "Epoch 13/100\n",
            "1/1 [==============================] - 0s 8ms/step - loss: 9.9148 - mae: 9.9148\n",
            "Epoch 14/100\n",
            "1/1 [==============================] - 0s 7ms/step - loss: 9.7823 - mae: 9.7823\n",
            "Epoch 15/100\n",
            "1/1 [==============================] - 0s 9ms/step - loss: 9.6498 - mae: 9.6498\n",
            "Epoch 16/100\n",
            "1/1 [==============================] - 0s 7ms/step - loss: 9.5173 - mae: 9.5173\n",
            "Epoch 17/100\n",
            "1/1 [==============================] - 0s 8ms/step - loss: 9.3848 - mae: 9.3848\n",
            "Epoch 18/100\n",
            "1/1 [==============================] - 0s 8ms/step - loss: 9.2523 - mae: 9.2523\n",
            "Epoch 19/100\n",
            "1/1 [==============================] - 0s 5ms/step - loss: 9.1198 - mae: 9.1198\n",
            "Epoch 20/100\n",
            "1/1 [==============================] - 0s 8ms/step - loss: 8.9873 - mae: 8.9873\n",
            "Epoch 21/100\n",
            "1/1 [==============================] - 0s 8ms/step - loss: 8.8548 - mae: 8.8548\n",
            "Epoch 22/100\n",
            "1/1 [==============================] - 0s 6ms/step - loss: 8.7223 - mae: 8.7223\n",
            "Epoch 23/100\n",
            "1/1 [==============================] - 0s 6ms/step - loss: 8.5898 - mae: 8.5898\n",
            "Epoch 24/100\n",
            "1/1 [==============================] - 0s 8ms/step - loss: 8.4573 - mae: 8.4573\n",
            "Epoch 25/100\n",
            "1/1 [==============================] - 0s 6ms/step - loss: 8.3248 - mae: 8.3248\n",
            "Epoch 26/100\n",
            "1/1 [==============================] - 0s 9ms/step - loss: 8.1923 - mae: 8.1923\n",
            "Epoch 27/100\n",
            "1/1 [==============================] - 0s 6ms/step - loss: 8.0598 - mae: 8.0598\n",
            "Epoch 28/100\n",
            "1/1 [==============================] - 0s 7ms/step - loss: 7.9273 - mae: 7.9273\n",
            "Epoch 29/100\n",
            "1/1 [==============================] - 0s 7ms/step - loss: 7.7948 - mae: 7.7948\n",
            "Epoch 30/100\n",
            "1/1 [==============================] - 0s 8ms/step - loss: 7.6623 - mae: 7.6623\n",
            "Epoch 31/100\n",
            "1/1 [==============================] - 0s 7ms/step - loss: 7.5298 - mae: 7.5298\n",
            "Epoch 32/100\n",
            "1/1 [==============================] - 0s 6ms/step - loss: 7.3973 - mae: 7.3973\n",
            "Epoch 33/100\n",
            "1/1 [==============================] - 0s 7ms/step - loss: 7.2648 - mae: 7.2648\n",
            "Epoch 34/100\n",
            "1/1 [==============================] - 0s 6ms/step - loss: 7.2525 - mae: 7.2525\n",
            "Epoch 35/100\n",
            "1/1 [==============================] - 0s 8ms/step - loss: 7.2469 - mae: 7.2469\n",
            "Epoch 36/100\n",
            "1/1 [==============================] - 0s 8ms/step - loss: 7.2413 - mae: 7.2413\n",
            "Epoch 37/100\n",
            "1/1 [==============================] - 0s 6ms/step - loss: 7.2356 - mae: 7.2356\n",
            "Epoch 38/100\n",
            "1/1 [==============================] - 0s 7ms/step - loss: 7.2300 - mae: 7.2300\n",
            "Epoch 39/100\n",
            "1/1 [==============================] - 0s 12ms/step - loss: 7.2244 - mae: 7.2244\n",
            "Epoch 40/100\n",
            "1/1 [==============================] - 0s 14ms/step - loss: 7.2188 - mae: 7.2188\n",
            "Epoch 41/100\n",
            "1/1 [==============================] - 0s 9ms/step - loss: 7.2131 - mae: 7.2131\n",
            "Epoch 42/100\n",
            "1/1 [==============================] - 0s 12ms/step - loss: 7.2075 - mae: 7.2075\n",
            "Epoch 43/100\n",
            "1/1 [==============================] - 0s 7ms/step - loss: 7.2019 - mae: 7.2019\n",
            "Epoch 44/100\n",
            "1/1 [==============================] - 0s 7ms/step - loss: 7.1963 - mae: 7.1963\n",
            "Epoch 45/100\n",
            "1/1 [==============================] - 0s 7ms/step - loss: 7.1906 - mae: 7.1906\n",
            "Epoch 46/100\n",
            "1/1 [==============================] - 0s 10ms/step - loss: 7.1850 - mae: 7.1850\n",
            "Epoch 47/100\n",
            "1/1 [==============================] - 0s 9ms/step - loss: 7.1794 - mae: 7.1794\n",
            "Epoch 48/100\n",
            "1/1 [==============================] - 0s 12ms/step - loss: 7.1738 - mae: 7.1738\n",
            "Epoch 49/100\n",
            "1/1 [==============================] - 0s 5ms/step - loss: 7.1681 - mae: 7.1681\n",
            "Epoch 50/100\n",
            "1/1 [==============================] - 0s 6ms/step - loss: 7.1625 - mae: 7.1625\n",
            "Epoch 51/100\n",
            "1/1 [==============================] - 0s 6ms/step - loss: 7.1569 - mae: 7.1569\n",
            "Epoch 52/100\n",
            "1/1 [==============================] - 0s 6ms/step - loss: 7.1512 - mae: 7.1512\n",
            "Epoch 53/100\n",
            "1/1 [==============================] - 0s 6ms/step - loss: 7.1456 - mae: 7.1456\n",
            "Epoch 54/100\n",
            "1/1 [==============================] - 0s 6ms/step - loss: 7.1400 - mae: 7.1400\n",
            "Epoch 55/100\n",
            "1/1 [==============================] - 0s 7ms/step - loss: 7.1344 - mae: 7.1344\n",
            "Epoch 56/100\n",
            "1/1 [==============================] - 0s 6ms/step - loss: 7.1287 - mae: 7.1287\n",
            "Epoch 57/100\n",
            "1/1 [==============================] - 0s 6ms/step - loss: 7.1231 - mae: 7.1231\n",
            "Epoch 58/100\n",
            "1/1 [==============================] - 0s 17ms/step - loss: 7.1175 - mae: 7.1175\n",
            "Epoch 59/100\n",
            "1/1 [==============================] - 0s 7ms/step - loss: 7.1119 - mae: 7.1119\n",
            "Epoch 60/100\n",
            "1/1 [==============================] - 0s 9ms/step - loss: 7.1063 - mae: 7.1063\n",
            "Epoch 61/100\n",
            "1/1 [==============================] - 0s 7ms/step - loss: 7.1006 - mae: 7.1006\n",
            "Epoch 62/100\n",
            "1/1 [==============================] - 0s 7ms/step - loss: 7.0950 - mae: 7.0950\n",
            "Epoch 63/100\n",
            "1/1 [==============================] - 0s 7ms/step - loss: 7.0894 - mae: 7.0894\n",
            "Epoch 64/100\n",
            "1/1 [==============================] - 0s 7ms/step - loss: 7.0838 - mae: 7.0838\n",
            "Epoch 65/100\n",
            "1/1 [==============================] - 0s 9ms/step - loss: 7.0781 - mae: 7.0781\n",
            "Epoch 66/100\n",
            "1/1 [==============================] - 0s 13ms/step - loss: 7.0725 - mae: 7.0725\n",
            "Epoch 67/100\n",
            "1/1 [==============================] - 0s 6ms/step - loss: 7.0669 - mae: 7.0669\n",
            "Epoch 68/100\n",
            "1/1 [==============================] - 0s 6ms/step - loss: 7.0613 - mae: 7.0613\n",
            "Epoch 69/100\n",
            "1/1 [==============================] - 0s 6ms/step - loss: 7.0556 - mae: 7.0556\n",
            "Epoch 70/100\n",
            "1/1 [==============================] - 0s 8ms/step - loss: 7.0500 - mae: 7.0500\n",
            "Epoch 71/100\n",
            "1/1 [==============================] - 0s 6ms/step - loss: 7.0444 - mae: 7.0444\n",
            "Epoch 72/100\n",
            "1/1 [==============================] - 0s 6ms/step - loss: 7.0388 - mae: 7.0388\n",
            "Epoch 73/100\n",
            "1/1 [==============================] - 0s 5ms/step - loss: 7.0331 - mae: 7.0331\n",
            "Epoch 74/100\n",
            "1/1 [==============================] - 0s 6ms/step - loss: 7.0275 - mae: 7.0275\n",
            "Epoch 75/100\n",
            "1/1 [==============================] - 0s 8ms/step - loss: 7.0219 - mae: 7.0219\n",
            "Epoch 76/100\n",
            "1/1 [==============================] - 0s 6ms/step - loss: 7.0163 - mae: 7.0163\n",
            "Epoch 77/100\n",
            "1/1 [==============================] - 0s 6ms/step - loss: 7.0106 - mae: 7.0106\n",
            "Epoch 78/100\n",
            "1/1 [==============================] - 0s 7ms/step - loss: 7.0050 - mae: 7.0050\n",
            "Epoch 79/100\n",
            "1/1 [==============================] - 0s 8ms/step - loss: 6.9994 - mae: 6.9994\n",
            "Epoch 80/100\n",
            "1/1 [==============================] - 0s 6ms/step - loss: 6.9938 - mae: 6.9938\n",
            "Epoch 81/100\n",
            "1/1 [==============================] - 0s 7ms/step - loss: 6.9881 - mae: 6.9881\n",
            "Epoch 82/100\n",
            "1/1 [==============================] - 0s 5ms/step - loss: 6.9825 - mae: 6.9825\n",
            "Epoch 83/100\n",
            "1/1 [==============================] - 0s 7ms/step - loss: 6.9769 - mae: 6.9769\n",
            "Epoch 84/100\n",
            "1/1 [==============================] - 0s 6ms/step - loss: 6.9713 - mae: 6.9713\n",
            "Epoch 85/100\n",
            "1/1 [==============================] - 0s 5ms/step - loss: 6.9656 - mae: 6.9656\n",
            "Epoch 86/100\n",
            "1/1 [==============================] - 0s 8ms/step - loss: 6.9600 - mae: 6.9600\n",
            "Epoch 87/100\n",
            "1/1 [==============================] - 0s 6ms/step - loss: 6.9544 - mae: 6.9544\n",
            "Epoch 88/100\n",
            "1/1 [==============================] - 0s 9ms/step - loss: 6.9488 - mae: 6.9488\n",
            "Epoch 89/100\n",
            "1/1 [==============================] - 0s 15ms/step - loss: 6.9431 - mae: 6.9431\n",
            "Epoch 90/100\n",
            "1/1 [==============================] - 0s 8ms/step - loss: 6.9375 - mae: 6.9375\n",
            "Epoch 91/100\n",
            "1/1 [==============================] - 0s 9ms/step - loss: 6.9319 - mae: 6.9319\n",
            "Epoch 92/100\n",
            "1/1 [==============================] - 0s 7ms/step - loss: 6.9263 - mae: 6.9263\n",
            "Epoch 93/100\n",
            "1/1 [==============================] - 0s 8ms/step - loss: 6.9206 - mae: 6.9206\n",
            "Epoch 94/100\n",
            "1/1 [==============================] - 0s 10ms/step - loss: 6.9150 - mae: 6.9150\n",
            "Epoch 95/100\n",
            "1/1 [==============================] - 0s 8ms/step - loss: 6.9094 - mae: 6.9094\n",
            "Epoch 96/100\n",
            "1/1 [==============================] - 0s 9ms/step - loss: 6.9038 - mae: 6.9038\n",
            "Epoch 97/100\n",
            "1/1 [==============================] - 0s 12ms/step - loss: 6.8981 - mae: 6.8981\n",
            "Epoch 98/100\n",
            "1/1 [==============================] - 0s 8ms/step - loss: 6.8925 - mae: 6.8925\n",
            "Epoch 99/100\n",
            "1/1 [==============================] - 0s 8ms/step - loss: 6.8869 - mae: 6.8869\n",
            "Epoch 100/100\n",
            "1/1 [==============================] - 0s 7ms/step - loss: 6.8813 - mae: 6.8813\n"
          ]
        },
        {
          "output_type": "execute_result",
          "data": {
            "text/plain": [
              "<keras.callbacks.History at 0x7f7a3d913410>"
            ]
          },
          "metadata": {},
          "execution_count": 185
        }
      ]
    },
    {
      "cell_type": "code",
      "source": [
        "#  reming ourself of what X and Y are \n",
        "\n",
        "X,Y"
      ],
      "metadata": {
        "colab": {
          "base_uri": "https://localhost:8080/"
        },
        "id": "hrN-WjC507cd",
        "outputId": "ab312add-a9f0-4398-f3b9-5beb5e573ac2"
      },
      "execution_count": null,
      "outputs": [
        {
          "output_type": "execute_result",
          "data": {
            "text/plain": [
              "(<tf.Tensor: shape=(8,), dtype=float32, numpy=array([-7., -4., -1.,  2.,  5.,  8., 11., 14.], dtype=float32)>,\n",
              " <tf.Tensor: shape=(8,), dtype=float32, numpy=array([ 3.,  6.,  9., 12., 15., 18., 21., 24.], dtype=float32)>)"
            ]
          },
          "metadata": {},
          "execution_count": 186
        }
      ]
    },
    {
      "cell_type": "code",
      "source": [
        "# try and predict what Y would be if X was 17\n",
        "\n",
        "model.predict([17.0])    # right answer is 27"
      ],
      "metadata": {
        "colab": {
          "base_uri": "https://localhost:8080/"
        },
        "id": "wYxbgHGz07gV",
        "outputId": "6d7d96da-e292-4f70-f84e-17a0cc33e607"
      },
      "execution_count": null,
      "outputs": [
        {
          "output_type": "execute_result",
          "data": {
            "text/plain": [
              "array([[30.158512]], dtype=float32)"
            ]
          },
          "metadata": {},
          "execution_count": 187
        }
      ]
    },
    {
      "cell_type": "code",
      "source": [
        "# Make a larger dataset\n",
        "\n",
        "X = np.arange(-100,100,4)\n",
        "X"
      ],
      "metadata": {
        "colab": {
          "base_uri": "https://localhost:8080/"
        },
        "id": "HUQvqcmN07kt",
        "outputId": "d22e0635-221d-43e9-9f34-40331846ce8c"
      },
      "execution_count": null,
      "outputs": [
        {
          "output_type": "execute_result",
          "data": {
            "text/plain": [
              "array([-100,  -96,  -92,  -88,  -84,  -80,  -76,  -72,  -68,  -64,  -60,\n",
              "        -56,  -52,  -48,  -44,  -40,  -36,  -32,  -28,  -24,  -20,  -16,\n",
              "        -12,   -8,   -4,    0,    4,    8,   12,   16,   20,   24,   28,\n",
              "         32,   36,   40,   44,   48,   52,   56,   60,   64,   68,   72,\n",
              "         76,   80,   84,   88,   92,   96])"
            ]
          },
          "metadata": {},
          "execution_count": 188
        }
      ]
    },
    {
      "cell_type": "code",
      "source": [
        "# Make the label for the dataset\n",
        "\n",
        "Y= np.arange(-90,110,4)\n",
        "Y"
      ],
      "metadata": {
        "colab": {
          "base_uri": "https://localhost:8080/"
        },
        "id": "9aMOEW-M07oG",
        "outputId": "f85c0584-2605-4456-b0c1-45e65a77bd22"
      },
      "execution_count": null,
      "outputs": [
        {
          "output_type": "execute_result",
          "data": {
            "text/plain": [
              "array([-90, -86, -82, -78, -74, -70, -66, -62, -58, -54, -50, -46, -42,\n",
              "       -38, -34, -30, -26, -22, -18, -14, -10,  -6,  -2,   2,   6,  10,\n",
              "        14,  18,  22,  26,  30,  34,  38,  42,  46,  50,  54,  58,  62,\n",
              "        66,  70,  74,  78,  82,  86,  90,  94,  98, 102, 106])"
            ]
          },
          "metadata": {},
          "execution_count": 189
        }
      ]
    },
    {
      "cell_type": "code",
      "source": [
        "# Same result as above \n",
        "Y = X + 10\n",
        "Y"
      ],
      "metadata": {
        "colab": {
          "base_uri": "https://localhost:8080/"
        },
        "id": "xQpZlUzyEPqv",
        "outputId": "2df307a7-4c01-4d5f-a6fc-b202a3ee7286"
      },
      "execution_count": null,
      "outputs": [
        {
          "output_type": "execute_result",
          "data": {
            "text/plain": [
              "array([-90, -86, -82, -78, -74, -70, -66, -62, -58, -54, -50, -46, -42,\n",
              "       -38, -34, -30, -26, -22, -18, -14, -10,  -6,  -2,   2,   6,  10,\n",
              "        14,  18,  22,  26,  30,  34,  38,  42,  46,  50,  54,  58,  62,\n",
              "        66,  70,  74,  78,  82,  86,  90,  94,  98, 102, 106])"
            ]
          },
          "metadata": {},
          "execution_count": 190
        }
      ]
    },
    {
      "cell_type": "markdown",
      "source": [
        "Split data into training and testing of dataset"
      ],
      "metadata": {
        "id": "W_I-EqfoEXDA"
      }
    },
    {
      "cell_type": "code",
      "source": [
        "# "
      ],
      "metadata": {
        "id": "YRkVWReQEBrT"
      },
      "execution_count": null,
      "outputs": []
    },
    {
      "cell_type": "code",
      "source": [
        "len(X)"
      ],
      "metadata": {
        "colab": {
          "base_uri": "https://localhost:8080/"
        },
        "id": "A4WWi5-ZEBv3",
        "outputId": "0675fe36-2c31-49b3-e63f-e10ac43d02d0"
      },
      "execution_count": null,
      "outputs": [
        {
          "output_type": "execute_result",
          "data": {
            "text/plain": [
              "50"
            ]
          },
          "metadata": {},
          "execution_count": 192
        }
      ]
    },
    {
      "cell_type": "code",
      "source": [
        "# Split the data into train and test dataset\n",
        "\n",
        "X_train = X[:40]\n",
        "Y_train = Y[:40]   # first 40 example(80% of data)\n",
        "\n",
        "X_test = X[40:]    # last 10 example (20% of data)\n",
        "Y_test = Y[40:]\n",
        "\n",
        "len(X_train), len(X_test)"
      ],
      "metadata": {
        "colab": {
          "base_uri": "https://localhost:8080/"
        },
        "id": "_OveyDfmEB1S",
        "outputId": "65961394-60ee-4c3f-beb0-f25fce6f19d5"
      },
      "execution_count": null,
      "outputs": [
        {
          "output_type": "execute_result",
          "data": {
            "text/plain": [
              "(40, 10)"
            ]
          },
          "metadata": {},
          "execution_count": 193
        }
      ]
    },
    {
      "cell_type": "code",
      "source": [
        "plt.figure(figsize=(10,5))\n",
        "plt.scatter(X_train, Y_train, c='b', label='Training Data')\n",
        "plt.scatter(X_test, Y_test, c='r', label='Testing Data')\n",
        "plt.legend()\n",
        "plt.show()"
      ],
      "metadata": {
        "colab": {
          "base_uri": "https://localhost:8080/",
          "height": 320
        },
        "id": "hDsAtemiEB5l",
        "outputId": "060ad44e-cc06-4b30-f488-7787c97edc1b"
      },
      "execution_count": null,
      "outputs": [
        {
          "output_type": "display_data",
          "data": {
            "text/plain": [
              "<Figure size 720x360 with 1 Axes>"
            ],
            "image/png": "[encoded data removed]"
          },
          "metadata": {
            "needs_background": "light"
          }
        }
      ]
    },
    {
      "cell_type": "code",
      "source": [
        "# set the random seed \n",
        "\n",
        "tf.random.set_seed(42)     # global seeding\n",
        "\n",
        "# Create a model using the sequential API\n",
        "model = tf.keras.Sequential([tf.keras.layers.Dense(1, input_shape = [1])])\n",
        "\n",
        "# Compilig a model\n",
        "model.compile(loss=tf.keras.losses.mae,\n",
        "              optimizer=tf.keras.optimizers.SGD(),\n",
        "              metrics=['mae'])          # mae = mean_absoluete_error\n",
        "\n",
        "# Fitting a model\n",
        "# model.fit(X,Y, epoche=5)\n",
        "# model.fit(tf.expand_dims(X, axis=-1),Y,epochs=100)    # train for 100 epoch\n",
        "                           "
      ],
      "metadata": {
        "id": "dvtVf6vCEB_E"
      },
      "execution_count": null,
      "outputs": []
    },
    {
      "cell_type": "code",
      "source": [
        "model.summary()"
      ],
      "metadata": {
        "colab": {
          "base_uri": "https://localhost:8080/"
        },
        "id": "nADxObaQ07sW",
        "outputId": "c12d250a-9ac9-4298-fbc3-dec4fb8b88c2"
      },
      "execution_count": null,
      "outputs": [
        {
          "output_type": "stream",
          "name": "stdout",
          "text": [
            "Model: \"sequential_21\"\n",
            "_________________________________________________________________\n",
            " Layer (type)                Output Shape              Param #   \n",
            "=================================================================\n",
            " dense_31 (Dense)            (None, 1)                 2         \n",
            "                                                                 \n",
            "=================================================================\n",
            "Total params: 2\n",
            "Trainable params: 2\n",
            "Non-trainable params: 0\n",
            "_________________________________________________________________\n"
          ]
        }
      ]
    },
    {
      "cell_type": "code",
      "source": [
        "from tensorflow.keras.utils import plot_model\n",
        "\n",
        "plot_model(model, show_shapes=True)"
      ],
      "metadata": {
        "colab": {
          "base_uri": "https://localhost:8080/",
          "height": 201
        },
        "id": "qefO-xOy07v7",
        "outputId": "353b3eba-1e5f-4b31-9a58-3da7391d0083"
      },
      "execution_count": null,
      "outputs": [
        {
          "output_type": "execute_result",
          "data": {
            "text/plain": [
              "<IPython.core.display.Image object>"
            ],
            "image/png": "[encoded data removed]"
          },
          "metadata": {},
          "execution_count": 197
        }
      ]
    },
    {
      "cell_type": "markdown",
      "source": [
        "**Visualize the prediction**"
      ],
      "metadata": {
        "id": "bKureVelHvJh"
      }
    },
    {
      "cell_type": "code",
      "source": [
        "# Make the prediction \n",
        "\n",
        "Y_pred = model.predict(X_test)\n",
        "Y_pred"
      ],
      "metadata": {
        "colab": {
          "base_uri": "https://localhost:8080/"
        },
        "id": "fwVLmEZ307y3",
        "outputId": "f0b56259-8d8a-45d3-f5ea-a7e23cb66b74"
      },
      "execution_count": null,
      "outputs": [
        {
          "output_type": "execute_result",
          "data": {
            "text/plain": [
              "array([[34.203594],\n",
              "       [36.483833],\n",
              "       [38.764072],\n",
              "       [41.04431 ],\n",
              "       [43.32455 ],\n",
              "       [45.60479 ],\n",
              "       [47.885033],\n",
              "       [50.16527 ],\n",
              "       [52.44551 ],\n",
              "       [54.72575 ]], dtype=float32)"
            ]
          },
          "metadata": {},
          "execution_count": 198
        }
      ]
    },
    {
      "cell_type": "code",
      "source": [
        "def plot_predictions(train_data=X_train,\n",
        "                     train_labels=Y_train,\n",
        "                     test_data=X_test,\n",
        "                     test_labels=Y_test,\n",
        "                     predictions=Y_pred):\n",
        "  plt.figure(figsize=(10,5))\n",
        "  plt.scatter(train_data, train_labels, c='b', label='Training Data')\n",
        "  plt.scatter(test_data, test_labels, c='r', label='Testing Data')\n",
        "  plt.scatter(test_data, predictions, c='g', label='Prediction')\n",
        "  plt.legend()\n",
        "  plt.show()\n"
      ],
      "metadata": {
        "id": "A1kgEvnHIA3n"
      },
      "execution_count": null,
      "outputs": []
    },
    {
      "cell_type": "code",
      "source": [
        "X_train.shape, Y_train.shape"
      ],
      "metadata": {
        "colab": {
          "base_uri": "https://localhost:8080/"
        },
        "id": "umwwP5BpI0c6",
        "outputId": "0fe44a1d-5519-419b-f2dd-e1d2960d6047"
      },
      "execution_count": null,
      "outputs": [
        {
          "output_type": "execute_result",
          "data": {
            "text/plain": [
              "(TensorShape([20]), TensorShape([20]))"
            ]
          },
          "metadata": {},
          "execution_count": 118
        }
      ]
    },
    {
      "cell_type": "code",
      "source": [
        "plot_predictions(train_data=X_train,\n",
        "                     train_labels=Y_train,\n",
        "                     test_data=X_test,\n",
        "                     test_labels=Y_test,\n",
        "                     predictions=Y_pred)"
      ],
      "metadata": {
        "colab": {
          "base_uri": "https://localhost:8080/",
          "height": 320
        },
        "id": "THNJA9KgIA_X",
        "outputId": "39b264b9-5c4e-46b7-c839-82bd60f694ec"
      },
      "execution_count": null,
      "outputs": [
        {
          "output_type": "display_data",
          "data": {
            "text/plain": [
              "<Figure size 720x360 with 1 Axes>"
            ],
            "image/png": "[encoded data removed]"
          },
          "metadata": {
            "needs_background": "light"
          }
        }
      ]
    },
    {
      "cell_type": "code",
      "source": [
        "# Evaluate on test dataset\n",
        "\n",
        "model.evaluate(X_test, Y_test)\n"
      ],
      "metadata": {
        "colab": {
          "base_uri": "https://localhost:8080/"
        },
        "id": "g637MrSDIBFF",
        "outputId": "e6d94b9b-4df9-4c06-e38f-aa080ee66b78"
      },
      "execution_count": null,
      "outputs": [
        {
          "output_type": "stream",
          "name": "stdout",
          "text": [
            "1/1 [==============================] - 0s 181ms/step - loss: 43.5353 - mae: 43.5353\n"
          ]
        },
        {
          "output_type": "execute_result",
          "data": {
            "text/plain": [
              "[43.53532791137695, 43.53532791137695]"
            ]
          },
          "metadata": {},
          "execution_count": 201
        }
      ]
    },
    {
      "cell_type": "code",
      "source": [
        "# Calculate the mean_absoulete _error \n",
        "mae = tf.metrics.mean_absolute_error(y_true = Y_test,\n",
        "                                    y_pred = Y_pred)\n",
        "mae"
      ],
      "metadata": {
        "colab": {
          "base_uri": "https://localhost:8080/"
        },
        "id": "QZNozgVb072c",
        "outputId": "7e6cf48b-dc28-4759-eb86-b3f19b49c0de"
      },
      "execution_count": null,
      "outputs": [
        {
          "output_type": "execute_result",
          "data": {
            "text/plain": [
              "<tf.Tensor: shape=(10,), dtype=float32, numpy=\n",
              "array([53.796406, 51.516167, 49.235928, 46.95569 , 44.67545 , 42.39521 ,\n",
              "       40.114967, 37.83473 , 35.55449 , 33.27425 ], dtype=float32)>"
            ]
          },
          "metadata": {},
          "execution_count": 202
        }
      ]
    },
    {
      "cell_type": "code",
      "source": [
        "Y_test"
      ],
      "metadata": {
        "colab": {
          "base_uri": "https://localhost:8080/"
        },
        "id": "niz-O85CKd0a",
        "outputId": "80963a18-b104-4723-93e2-db837e65c354"
      },
      "execution_count": null,
      "outputs": [
        {
          "output_type": "execute_result",
          "data": {
            "text/plain": [
              "array([ 70,  74,  78,  82,  86,  90,  94,  98, 102, 106])"
            ]
          },
          "metadata": {},
          "execution_count": 203
        }
      ]
    },
    {
      "cell_type": "code",
      "source": [
        "Y_pred"
      ],
      "metadata": {
        "colab": {
          "base_uri": "https://localhost:8080/"
        },
        "id": "VOwtss-xKd68",
        "outputId": "ec104dbe-de51-4d93-f666-6441c7f0cac3"
      },
      "execution_count": null,
      "outputs": [
        {
          "output_type": "execute_result",
          "data": {
            "text/plain": [
              "array([[34.203594],\n",
              "       [36.483833],\n",
              "       [38.764072],\n",
              "       [41.04431 ],\n",
              "       [43.32455 ],\n",
              "       [45.60479 ],\n",
              "       [47.885033],\n",
              "       [50.16527 ],\n",
              "       [52.44551 ],\n",
              "       [54.72575 ]], dtype=float32)"
            ]
          },
          "metadata": {},
          "execution_count": 204
        }
      ]
    },
    {
      "cell_type": "code",
      "source": [
        "# Check the tensor shape\n",
        "Y_test.shape, Y_pred.shape"
      ],
      "metadata": {
        "colab": {
          "base_uri": "https://localhost:8080/"
        },
        "id": "ps3vtm7XLDLU",
        "outputId": "bda3d784-3293-4637-b132-92ecafc17d02"
      },
      "execution_count": null,
      "outputs": [
        {
          "output_type": "execute_result",
          "data": {
            "text/plain": [
              "((10,), (10, 1))"
            ]
          },
          "metadata": {},
          "execution_count": 205
        }
      ]
    },
    {
      "cell_type": "code",
      "source": [
        "# shape before squeeze\n",
        "Y_pred.shape"
      ],
      "metadata": {
        "id": "Z26PuZnBLDQz",
        "colab": {
          "base_uri": "https://localhost:8080/"
        },
        "outputId": "30c10496-6c09-40c0-e7df-65ff61b0c55e"
      },
      "execution_count": null,
      "outputs": [
        {
          "output_type": "execute_result",
          "data": {
            "text/plain": [
              "(10, 1)"
            ]
          },
          "metadata": {},
          "execution_count": 206
        }
      ]
    },
    {
      "cell_type": "code",
      "source": [
        "# shape after squeeze\n",
        "\n",
        "Y_pred.squeeze().shape"
      ],
      "metadata": {
        "id": "dNUf5UYjLUcB",
        "colab": {
          "base_uri": "https://localhost:8080/"
        },
        "outputId": "9cf6c8c7-5da6-4497-c110-d6bde1fe2115"
      },
      "execution_count": null,
      "outputs": [
        {
          "output_type": "execute_result",
          "data": {
            "text/plain": [
              "(10,)"
            ]
          },
          "metadata": {},
          "execution_count": 207
        }
      ]
    },
    {
      "cell_type": "code",
      "source": [
        "# what do they look like\n",
        "Y_test, "
      ],
      "metadata": {
        "id": "tcIKIG1OLUiN",
        "colab": {
          "base_uri": "https://localhost:8080/"
        },
        "outputId": "90b0056f-bbda-4d92-dda3-7883d5119970"
      },
      "execution_count": null,
      "outputs": [
        {
          "output_type": "execute_result",
          "data": {
            "text/plain": [
              "(array([ 70,  74,  78,  82,  86,  90,  94,  98, 102, 106]),)"
            ]
          },
          "metadata": {},
          "execution_count": 208
        }
      ]
    },
    {
      "cell_type": "code",
      "source": [
        "# Calculate the mean_absoulete _error \n",
        "mae = tf.metrics.mean_absolute_error(y_true = Y_test,\n",
        "                                    y_pred = Y_pred.squeeze())\n",
        "mae"
      ],
      "metadata": {
        "colab": {
          "base_uri": "https://localhost:8080/"
        },
        "id": "T-svVcPXjWBa",
        "outputId": "cdf39160-9fea-4910-d834-a713da86b400"
      },
      "execution_count": null,
      "outputs": [
        {
          "output_type": "execute_result",
          "data": {
            "text/plain": [
              "<tf.Tensor: shape=(), dtype=float32, numpy=43.535328>"
            ]
          },
          "metadata": {},
          "execution_count": 209
        }
      ]
    },
    {
      "cell_type": "code",
      "source": [
        "# calculate the mse\n",
        "# Calculate the mean_squared _error \n",
        "mse = tf.metrics.mean_squared_error(y_true = Y_test,\n",
        "                                    y_pred = Y_pred.squeeze())\n",
        "mse"
      ],
      "metadata": {
        "colab": {
          "base_uri": "https://localhost:8080/"
        },
        "id": "uOJpF1QTjjL8",
        "outputId": "28600fff-21ab-4e95-d0f3-10ede3e11da3"
      },
      "execution_count": null,
      "outputs": [
        {
          "output_type": "execute_result",
          "data": {
            "text/plain": [
              "<tf.Tensor: shape=(), dtype=float32, numpy=1919.7249>"
            ]
          },
          "metadata": {},
          "execution_count": 210
        }
      ]
    },
    {
      "cell_type": "code",
      "source": [
        "# retun same as tf.metrics.mean_absoulete _error()\n",
        "tf.reduce_mean(tf.abs(Y_test - Y_pred.squeeze()))"
      ],
      "metadata": {
        "colab": {
          "base_uri": "https://localhost:8080/"
        },
        "id": "ThfSelBfjjQR",
        "outputId": "0889a095-9c2c-410a-9260-41e1209a705c"
      },
      "execution_count": null,
      "outputs": [
        {
          "output_type": "execute_result",
          "data": {
            "text/plain": [
              "<tf.Tensor: shape=(), dtype=float64, numpy=43.53532829284668>"
            ]
          },
          "metadata": {},
          "execution_count": 211
        }
      ]
    },
    {
      "cell_type": "code",
      "source": [
        "def mae(Y_test,Y_pred):\n",
        "  return tf.metrics.mean_absolute_error(Y_test,Y_pred)\n",
        "\n",
        "def mse(Y_test,Y_pred):\n",
        "  return tf.metrics.mean_squared_error(Y_test,Y_pred)"
      ],
      "metadata": {
        "id": "sW4L-v4djjXx"
      },
      "execution_count": null,
      "outputs": []
    },
    {
      "cell_type": "markdown",
      "source": [
        "**Running experiment to improve a model**"
      ],
      "metadata": {
        "id": "KMNxejOxlMQ8"
      }
    },
    {
      "cell_type": "markdown",
      "source": [
        "**Building the model 1**"
      ],
      "metadata": {
        "id": "WKSipqJVlUkw"
      }
    },
    {
      "cell_type": "code",
      "source": [
        "# set random seed (42)\n",
        "tf.random.set_seed(42)\n",
        "# Replicating the original model\n",
        "model_1 = tf.keras.Sequential([\n",
        "                               tf.keras.layers.Dense(1)     # 1 = adding one layer\n",
        "])\n",
        "\n",
        "# Compile a model\n",
        "model_1.compile(loss=tf.keras.losses.mae,\n",
        "                optimizer=tf.keras.optimizers.SGD(),\n",
        "                metrics=['mae'])\n",
        "\n",
        "# Fitting a model\n",
        "model_1.fit(tf.expand_dims(X_train, axis=-1),Y_train, epochs=100)"
      ],
      "metadata": {
        "colab": {
          "base_uri": "https://localhost:8080/"
        },
        "id": "tw76dSu-k-x3",
        "outputId": "95999b79-45de-492d-cd3c-77eb43fd1fd8"
      },
      "execution_count": null,
      "outputs": [
        {
          "output_type": "stream",
          "name": "stdout",
          "text": [
            "Epoch 1/100\n",
            "2/2 [==============================] - 0s 5ms/step - loss: 15.9024 - mae: 15.9024\n",
            "Epoch 2/100\n",
            "2/2 [==============================] - 0s 6ms/step - loss: 11.2837 - mae: 11.2837\n",
            "Epoch 3/100\n",
            "2/2 [==============================] - 0s 6ms/step - loss: 11.1074 - mae: 11.1074\n",
            "Epoch 4/100\n",
            "2/2 [==============================] - 0s 6ms/step - loss: 9.2991 - mae: 9.2991\n",
            "Epoch 5/100\n",
            "2/2 [==============================] - 0s 6ms/step - loss: 10.1677 - mae: 10.1677\n",
            "Epoch 6/100\n",
            "2/2 [==============================] - 0s 5ms/step - loss: 9.4303 - mae: 9.4303\n",
            "Epoch 7/100\n",
            "2/2 [==============================] - 0s 5ms/step - loss: 8.5704 - mae: 8.5704\n",
            "Epoch 8/100\n",
            "2/2 [==============================] - 0s 6ms/step - loss: 9.0442 - mae: 9.0442\n",
            "Epoch 9/100\n",
            "2/2 [==============================] - 0s 6ms/step - loss: 18.7517 - mae: 18.7517\n",
            "Epoch 10/100\n",
            "2/2 [==============================] - 0s 6ms/step - loss: 10.1142 - mae: 10.1142\n",
            "Epoch 11/100\n",
            "2/2 [==============================] - 0s 6ms/step - loss: 8.3980 - mae: 8.3980\n",
            "Epoch 12/100\n",
            "2/2 [==============================] - 0s 8ms/step - loss: 10.6639 - mae: 10.6639\n",
            "Epoch 13/100\n",
            "2/2 [==============================] - 0s 5ms/step - loss: 9.7977 - mae: 9.7977\n",
            "Epoch 14/100\n",
            "2/2 [==============================] - 0s 5ms/step - loss: 16.0103 - mae: 16.0103\n",
            "Epoch 15/100\n",
            "2/2 [==============================] - 0s 5ms/step - loss: 11.4068 - mae: 11.4068\n",
            "Epoch 16/100\n",
            "2/2 [==============================] - 0s 5ms/step - loss: 8.5393 - mae: 8.5393\n",
            "Epoch 17/100\n",
            "2/2 [==============================] - 0s 5ms/step - loss: 13.6348 - mae: 13.6348\n",
            "Epoch 18/100\n",
            "2/2 [==============================] - 0s 7ms/step - loss: 11.4629 - mae: 11.4629\n",
            "Epoch 19/100\n",
            "2/2 [==============================] - 0s 5ms/step - loss: 17.9148 - mae: 17.9148\n",
            "Epoch 20/100\n",
            "2/2 [==============================] - 0s 6ms/step - loss: 15.0494 - mae: 15.0494\n",
            "Epoch 21/100\n",
            "2/2 [==============================] - 0s 5ms/step - loss: 11.0216 - mae: 11.0216\n",
            "Epoch 22/100\n",
            "2/2 [==============================] - 0s 5ms/step - loss: 8.1558 - mae: 8.1558\n",
            "Epoch 23/100\n",
            "2/2 [==============================] - 0s 5ms/step - loss: 9.5138 - mae: 9.5138\n",
            "Epoch 24/100\n",
            "2/2 [==============================] - 0s 8ms/step - loss: 7.6617 - mae: 7.6617\n",
            "Epoch 25/100\n",
            "2/2 [==============================] - 0s 6ms/step - loss: 13.1859 - mae: 13.1859\n",
            "Epoch 26/100\n",
            "2/2 [==============================] - 0s 6ms/step - loss: 16.4211 - mae: 16.4211\n",
            "Epoch 27/100\n",
            "2/2 [==============================] - 0s 5ms/step - loss: 13.1660 - mae: 13.1660\n",
            "Epoch 28/100\n",
            "2/2 [==============================] - 0s 5ms/step - loss: 14.2559 - mae: 14.2559\n",
            "Epoch 29/100\n",
            "2/2 [==============================] - 0s 7ms/step - loss: 10.0670 - mae: 10.0670\n",
            "Epoch 30/100\n",
            "2/2 [==============================] - 0s 6ms/step - loss: 16.3409 - mae: 16.3409\n",
            "Epoch 31/100\n",
            "2/2 [==============================] - 0s 7ms/step - loss: 23.6444 - mae: 23.6444\n",
            "Epoch 32/100\n",
            "2/2 [==============================] - 0s 7ms/step - loss: 7.6215 - mae: 7.6215\n",
            "Epoch 33/100\n",
            "2/2 [==============================] - 0s 6ms/step - loss: 9.3221 - mae: 9.3221\n",
            "Epoch 34/100\n",
            "2/2 [==============================] - 0s 6ms/step - loss: 13.7313 - mae: 13.7313\n",
            "Epoch 35/100\n",
            "2/2 [==============================] - 0s 9ms/step - loss: 11.1276 - mae: 11.1276\n",
            "Epoch 36/100\n",
            "2/2 [==============================] - 0s 8ms/step - loss: 13.3222 - mae: 13.3222\n",
            "Epoch 37/100\n",
            "2/2 [==============================] - 0s 9ms/step - loss: 9.4763 - mae: 9.4763\n",
            "Epoch 38/100\n",
            "2/2 [==============================] - 0s 6ms/step - loss: 10.1381 - mae: 10.1381\n",
            "Epoch 39/100\n",
            "2/2 [==============================] - 0s 5ms/step - loss: 10.1793 - mae: 10.1793\n",
            "Epoch 40/100\n",
            "2/2 [==============================] - 0s 5ms/step - loss: 10.9137 - mae: 10.9137\n",
            "Epoch 41/100\n",
            "2/2 [==============================] - 0s 5ms/step - loss: 7.9063 - mae: 7.9063\n",
            "Epoch 42/100\n",
            "2/2 [==============================] - 0s 6ms/step - loss: 10.0914 - mae: 10.0914\n",
            "Epoch 43/100\n",
            "2/2 [==============================] - 0s 6ms/step - loss: 8.7006 - mae: 8.7006\n",
            "Epoch 44/100\n",
            "2/2 [==============================] - 0s 5ms/step - loss: 12.2047 - mae: 12.2047\n",
            "Epoch 45/100\n",
            "2/2 [==============================] - 0s 5ms/step - loss: 13.7970 - mae: 13.7970\n",
            "Epoch 46/100\n",
            "2/2 [==============================] - 0s 5ms/step - loss: 8.4687 - mae: 8.4687\n",
            "Epoch 47/100\n",
            "2/2 [==============================] - 0s 6ms/step - loss: 9.1330 - mae: 9.1330\n",
            "Epoch 48/100\n",
            "2/2 [==============================] - 0s 7ms/step - loss: 10.6190 - mae: 10.6190\n",
            "Epoch 49/100\n",
            "2/2 [==============================] - 0s 7ms/step - loss: 7.7503 - mae: 7.7503\n",
            "Epoch 50/100\n",
            "2/2 [==============================] - 0s 11ms/step - loss: 9.5407 - mae: 9.5407\n",
            "Epoch 51/100\n",
            "2/2 [==============================] - 0s 6ms/step - loss: 9.1584 - mae: 9.1584\n",
            "Epoch 52/100\n",
            "2/2 [==============================] - 0s 7ms/step - loss: 16.3630 - mae: 16.3630\n",
            "Epoch 53/100\n",
            "2/2 [==============================] - 0s 6ms/step - loss: 14.1299 - mae: 14.1299\n",
            "Epoch 54/100\n",
            "2/2 [==============================] - 0s 7ms/step - loss: 21.1247 - mae: 21.1247\n",
            "Epoch 55/100\n",
            "2/2 [==============================] - 0s 9ms/step - loss: 16.3961 - mae: 16.3961\n",
            "Epoch 56/100\n",
            "2/2 [==============================] - 0s 6ms/step - loss: 9.9806 - mae: 9.9806\n",
            "Epoch 57/100\n",
            "2/2 [==============================] - 0s 4ms/step - loss: 9.9606 - mae: 9.9606\n",
            "Epoch 58/100\n",
            "2/2 [==============================] - 0s 7ms/step - loss: 9.2209 - mae: 9.2209\n",
            "Epoch 59/100\n",
            "2/2 [==============================] - 0s 6ms/step - loss: 8.4239 - mae: 8.4239\n",
            "Epoch 60/100\n",
            "2/2 [==============================] - 0s 4ms/step - loss: 9.4869 - mae: 9.4869\n",
            "Epoch 61/100\n",
            "2/2 [==============================] - 0s 5ms/step - loss: 11.4355 - mae: 11.4355\n",
            "Epoch 62/100\n",
            "2/2 [==============================] - 0s 5ms/step - loss: 11.6887 - mae: 11.6887\n",
            "Epoch 63/100\n",
            "2/2 [==============================] - 0s 5ms/step - loss: 7.0838 - mae: 7.0838\n",
            "Epoch 64/100\n",
            "2/2 [==============================] - 0s 4ms/step - loss: 16.9675 - mae: 16.9675\n",
            "Epoch 65/100\n",
            "2/2 [==============================] - 0s 6ms/step - loss: 12.4599 - mae: 12.4599\n",
            "Epoch 66/100\n",
            "2/2 [==============================] - 0s 6ms/step - loss: 13.0184 - mae: 13.0184\n",
            "Epoch 67/100\n",
            "2/2 [==============================] - 0s 7ms/step - loss: 8.0600 - mae: 8.0600\n",
            "Epoch 68/100\n",
            "2/2 [==============================] - 0s 6ms/step - loss: 10.1888 - mae: 10.1888\n",
            "Epoch 69/100\n",
            "2/2 [==============================] - 0s 9ms/step - loss: 12.3633 - mae: 12.3633\n",
            "Epoch 70/100\n",
            "2/2 [==============================] - 0s 5ms/step - loss: 9.0516 - mae: 9.0516\n",
            "Epoch 71/100\n",
            "2/2 [==============================] - 0s 5ms/step - loss: 10.0378 - mae: 10.0378\n",
            "Epoch 72/100\n",
            "2/2 [==============================] - 0s 4ms/step - loss: 10.0516 - mae: 10.0516\n",
            "Epoch 73/100\n",
            "2/2 [==============================] - 0s 4ms/step - loss: 12.6151 - mae: 12.6151\n",
            "Epoch 74/100\n",
            "2/2 [==============================] - 0s 6ms/step - loss: 10.3819 - mae: 10.3819\n",
            "Epoch 75/100\n",
            "2/2 [==============================] - 0s 5ms/step - loss: 9.7229 - mae: 9.7229\n",
            "Epoch 76/100\n",
            "2/2 [==============================] - 0s 7ms/step - loss: 11.2252 - mae: 11.2252\n",
            "Epoch 77/100\n",
            "2/2 [==============================] - 0s 7ms/step - loss: 8.3642 - mae: 8.3642\n",
            "Epoch 78/100\n",
            "2/2 [==============================] - 0s 5ms/step - loss: 9.1274 - mae: 9.1274\n",
            "Epoch 79/100\n",
            "2/2 [==============================] - 0s 10ms/step - loss: 19.5039 - mae: 19.5039\n",
            "Epoch 80/100\n",
            "2/2 [==============================] - 0s 5ms/step - loss: 14.8945 - mae: 14.8945\n",
            "Epoch 81/100\n",
            "2/2 [==============================] - 0s 5ms/step - loss: 9.0034 - mae: 9.0034\n",
            "Epoch 82/100\n",
            "2/2 [==============================] - 0s 4ms/step - loss: 13.0206 - mae: 13.0206\n",
            "Epoch 83/100\n",
            "2/2 [==============================] - 0s 5ms/step - loss: 7.9299 - mae: 7.9299\n",
            "Epoch 84/100\n",
            "2/2 [==============================] - 0s 5ms/step - loss: 7.6872 - mae: 7.6872\n",
            "Epoch 85/100\n",
            "2/2 [==============================] - 0s 4ms/step - loss: 10.0328 - mae: 10.0328\n",
            "Epoch 86/100\n",
            "2/2 [==============================] - 0s 5ms/step - loss: 9.2433 - mae: 9.2433\n",
            "Epoch 87/100\n",
            "2/2 [==============================] - 0s 4ms/step - loss: 12.0209 - mae: 12.0209\n",
            "Epoch 88/100\n",
            "2/2 [==============================] - 0s 5ms/step - loss: 10.6389 - mae: 10.6389\n",
            "Epoch 89/100\n",
            "2/2 [==============================] - 0s 4ms/step - loss: 7.2667 - mae: 7.2667\n",
            "Epoch 90/100\n",
            "2/2 [==============================] - 0s 4ms/step - loss: 12.7786 - mae: 12.7786\n",
            "Epoch 91/100\n",
            "2/2 [==============================] - 0s 4ms/step - loss: 7.3481 - mae: 7.3481\n",
            "Epoch 92/100\n",
            "2/2 [==============================] - 0s 4ms/step - loss: 7.7175 - mae: 7.7175\n",
            "Epoch 93/100\n",
            "2/2 [==============================] - 0s 4ms/step - loss: 7.1263 - mae: 7.1263\n",
            "Epoch 94/100\n",
            "2/2 [==============================] - 0s 4ms/step - loss: 12.6190 - mae: 12.6190\n",
            "Epoch 95/100\n",
            "2/2 [==============================] - 0s 4ms/step - loss: 10.0912 - mae: 10.0912\n",
            "Epoch 96/100\n",
            "2/2 [==============================] - 0s 4ms/step - loss: 9.3558 - mae: 9.3558\n",
            "Epoch 97/100\n",
            "2/2 [==============================] - 0s 9ms/step - loss: 12.6834 - mae: 12.6834\n",
            "Epoch 98/100\n",
            "2/2 [==============================] - 0s 9ms/step - loss: 8.6762 - mae: 8.6762\n",
            "Epoch 99/100\n",
            "2/2 [==============================] - 0s 9ms/step - loss: 9.4693 - mae: 9.4693\n",
            "Epoch 100/100\n",
            "2/2 [==============================] - 0s 9ms/step - loss: 8.7067 - mae: 8.7067\n"
          ]
        },
        {
          "output_type": "execute_result",
          "data": {
            "text/plain": [
              "<keras.callbacks.History at 0x7f7a3d58d950>"
            ]
          },
          "metadata": {},
          "execution_count": 213
        }
      ]
    },
    {
      "cell_type": "code",
      "source": [
        "# make and plot prediction for model_1\n",
        "Y_pred_1 = model_1.predict(X_test)\n",
        "plot_predictions(predictions=Y_pred_1)"
      ],
      "metadata": {
        "colab": {
          "base_uri": "https://localhost:8080/",
          "height": 320
        },
        "id": "wHCZtClKk-2a",
        "outputId": "2b0477a9-1219-4b80-ada1-b752f6814652"
      },
      "execution_count": null,
      "outputs": [
        {
          "output_type": "display_data",
          "data": {
            "text/plain": [
              "<Figure size 720x360 with 1 Axes>"
            ],
            "image/png": "[encoded data removed]"
          },
          "metadata": {
            "needs_background": "light"
          }
        }
      ]
    },
    {
      "cell_type": "code",
      "source": [
        "# Calculate model_1 matrix \n",
        "mae_1 = mae(Y_test, Y_pred_1.squeeze()).numpy()\n",
        "mse_1 = mse(Y_test, Y_pred_1.squeeze()).numpy()\n",
        "\n",
        "mae_1, mse_1                                           # done with model_1"
      ],
      "metadata": {
        "colab": {
          "base_uri": "https://localhost:8080/"
        },
        "id": "5suTnXkxk-9b",
        "outputId": "964a3035-9501-4bad-cb43-37ad5652cd58"
      },
      "execution_count": null,
      "outputs": [
        {
          "output_type": "execute_result",
          "data": {
            "text/plain": [
              "(18.745327, 353.57336)"
            ]
          },
          "metadata": {},
          "execution_count": 215
        }
      ]
    },
    {
      "cell_type": "markdown",
      "source": [
        "**Building the Model 2**"
      ],
      "metadata": {
        "id": "4QQ5J1mNnvmw"
      }
    },
    {
      "cell_type": "code",
      "source": [
        "# set random seed (42)\n",
        "tf.random.set_seed(42)\n",
        "# Replicating the original model\n",
        "model_2 = tf.keras.Sequential([\n",
        "                               tf.keras.layers.Dense(1),      # 1 = adding one layer\n",
        "                               tf.keras.layers.Dense(1),      #      adding another more layer\n",
        "])\n",
        "\n",
        "# Compile a model\n",
        "model_2.compile(loss=tf.keras.losses.mae,\n",
        "                optimizer=tf.keras.optimizers.SGD(),\n",
        "                metrics=['mae'])\n",
        "\n",
        "# Fitting a model\n",
        "model_2.fit(tf.expand_dims(X_train, axis=-1),Y_train, epochs=100, verbose=0)    # verbose = set verbose=0 for less output"
      ],
      "metadata": {
        "colab": {
          "base_uri": "https://localhost:8080/"
        },
        "id": "y3N2_r-gk_FB",
        "outputId": "31e94dd5-7f36-4bf5-c03f-4b0ff708375c"
      },
      "execution_count": null,
      "outputs": [
        {
          "output_type": "execute_result",
          "data": {
            "text/plain": [
              "<keras.callbacks.History at 0x7f7a3c378a10>"
            ]
          },
          "metadata": {},
          "execution_count": 216
        }
      ]
    },
    {
      "cell_type": "code",
      "source": [
        "# make and plot prediction for model_1\n",
        "Y_pred_2 = model_2.predict(X_test)\n",
        "plot_predictions(predictions=Y_pred_2)"
      ],
      "metadata": {
        "colab": {
          "base_uri": "https://localhost:8080/",
          "height": 320
        },
        "id": "8tm7P9RKk_Lh",
        "outputId": "610eeeb8-88a3-4c65-86de-71842f02252f"
      },
      "execution_count": null,
      "outputs": [
        {
          "output_type": "display_data",
          "data": {
            "text/plain": [
              "<Figure size 720x360 with 1 Axes>"
            ],
            "image/png": "[encoded data removed]"
          },
          "metadata": {
            "needs_background": "light"
          }
        }
      ]
    },
    {
      "cell_type": "code",
      "source": [
        "# Calculate model_1 matrix \n",
        "mae_2 = mae(Y_test, Y_pred_2.squeeze()).numpy()\n",
        "mse_2 = mse(Y_test, Y_pred_2.squeeze()).numpy()\n",
        "\n",
        "mae_2, mse_2                                           # done with model_1"
      ],
      "metadata": {
        "colab": {
          "base_uri": "https://localhost:8080/"
        },
        "id": "6TlFE3z5oW1N",
        "outputId": "8421c37c-21b2-4f18-cbd1-a6156a451f31"
      },
      "execution_count": null,
      "outputs": [
        {
          "output_type": "execute_result",
          "data": {
            "text/plain": [
              "(1.9098114, 5.459232)"
            ]
          },
          "metadata": {},
          "execution_count": 218
        }
      ]
    },
    {
      "cell_type": "markdown",
      "source": [
        "**Building the model 3**"
      ],
      "metadata": {
        "id": "ZIyW4KQepHQ6"
      }
    },
    {
      "cell_type": "code",
      "source": [
        "# set random seed (42)\n",
        "tf.random.set_seed(42)\n",
        "# Replicating the original model\n",
        "model_3 = tf.keras.Sequential([\n",
        "                               tf.keras.layers.Dense(1),      # 1 = adding one layer\n",
        "                               tf.keras.layers.Dense(1),      #      adding another more layer\n",
        "                               tf.keras.layers.Dense(1)       #       adding another more layer\n",
        "])\n",
        "\n",
        "# Compile a model\n",
        "model_3.compile(loss=tf.keras.losses.mae,\n",
        "                optimizer=tf.keras.optimizers.SGD(),\n",
        "                metrics=['mae'])\n",
        "\n",
        "# Fitting a model\n",
        "model_3.fit(tf.expand_dims(X_train, axis=-1),Y_train, epochs=500, verbose=0)    # verbose = set verbose=0 for less output"
      ],
      "metadata": {
        "colab": {
          "base_uri": "https://localhost:8080/"
        },
        "id": "gQOdjqPooXDD",
        "outputId": "3b156879-6ca4-4c22-fc17-c752d8c9092e"
      },
      "execution_count": null,
      "outputs": [
        {
          "output_type": "execute_result",
          "data": {
            "text/plain": [
              "<keras.callbacks.History at 0x7f7a3b9c6610>"
            ]
          },
          "metadata": {},
          "execution_count": 219
        }
      ]
    },
    {
      "cell_type": "code",
      "source": [
        "# make and plot prediction for model_1\n",
        "Y_pred_3 = model_3.predict(X_test)\n",
        "plot_predictions(predictions=Y_pred_3)         # this become overfitted"
      ],
      "metadata": {
        "colab": {
          "base_uri": "https://localhost:8080/",
          "height": 320
        },
        "id": "7t8S8ESnoXNn",
        "outputId": "bde7fbf3-9175-4891-c0f5-0a082ea30536"
      },
      "execution_count": null,
      "outputs": [
        {
          "output_type": "display_data",
          "data": {
            "text/plain": [
              "<Figure size 720x360 with 1 Axes>"
            ],
            "image/png": "[encoded data removed]"
          },
          "metadata": {
            "needs_background": "light"
          }
        }
      ]
    },
    {
      "cell_type": "code",
      "source": [
        "# Calculate model_1 matrix \n",
        "mae_3 = mae(Y_test, Y_pred_3.squeeze()).numpy()\n",
        "mse_3 = mse(Y_test, Y_pred_3.squeeze()).numpy()\n",
        "\n",
        "mae_3, mse_3                                           # done with model_1"
      ],
      "metadata": {
        "colab": {
          "base_uri": "https://localhost:8080/"
        },
        "id": "PCx4iAUKoXb6",
        "outputId": "4a74b41c-ba4e-4c1a-beb8-730f35a83f11"
      },
      "execution_count": null,
      "outputs": [
        {
          "output_type": "execute_result",
          "data": {
            "text/plain": [
              "(79.773605, 6476.596)"
            ]
          },
          "metadata": {},
          "execution_count": 221
        }
      ]
    },
    {
      "cell_type": "markdown",
      "source": [
        "Model 2 gives best result"
      ],
      "metadata": {
        "id": "TaDeYOMRqRrO"
      }
    },
    {
      "cell_type": "markdown",
      "source": [
        "**Comparing the result**"
      ],
      "metadata": {
        "id": "Ca_7HDq-qZvW"
      }
    },
    {
      "cell_type": "code",
      "source": [
        "model_results = [['model_1',mae_1,mse_1],\n",
        "                 ['model_2',mae_2,mse_2],\n",
        "                 ['model_3',mae_3,mse_3]]"
      ],
      "metadata": {
        "id": "0QrEi6xmjjch"
      },
      "execution_count": null,
      "outputs": []
    },
    {
      "cell_type": "code",
      "source": [
        "import pandas as pd\n",
        "\n",
        "all_reslts = pd.DataFrame(model_results, columns=['Model','MAE','MSE'])\n",
        "all_reslts"
      ],
      "metadata": {
        "colab": {
          "base_uri": "https://localhost:8080/",
          "height": 143
        },
        "id": "zzAAULDdqyCR",
        "outputId": "a3fdb63f-b3a6-405d-9f6c-0aa4c063e074"
      },
      "execution_count": null,
      "outputs": [
        {
          "output_type": "execute_result",
          "data": {
            "text/plain": [
              "     Model        MAE          MSE\n",
              "0  model_1  18.745327   353.573364\n",
              "1  model_2   1.909811     5.459232\n",
              "2  model_3  79.773605  6476.596191"
            ],
            "text/html": [
              "\n",
              "  <div id=\"df-c2b4efe9-f515-430a-80de-e42d19e59cde\">\n",
              "    <div class=\"colab-df-container\">\n",
              "      <div>\n",
              "<style scoped>\n",
              "    .dataframe tbody tr th:only-of-type {\n",
              "        vertical-align: middle;\n",
              "    }\n",
              "\n",
              "    .dataframe tbody tr th {\n",
              "        vertical-align: top;\n",
              "    }\n",
              "\n",
              "    .dataframe thead th {\n",
              "        text-align: right;\n",
              "    }\n",
              "</style>\n",
              "<table border=\"1\" class=\"dataframe\">\n",
              "  <thead>\n",
              "    <tr style=\"text-align: right;\">\n",
              "      <th></th>\n",
              "      <th>Model</th>\n",
              "      <th>MAE</th>\n",
              "      <th>MSE</th>\n",
              "    </tr>\n",
              "  </thead>\n",
              "  <tbody>\n",
              "    <tr>\n",
              "      <th>0</th>\n",
              "      <td>model_1</td>\n",
              "      <td>18.745327</td>\n",
              "      <td>353.573364</td>\n",
              "    </tr>\n",
              "    <tr>\n",
              "      <th>1</th>\n",
              "      <td>model_2</td>\n",
              "      <td>1.909811</td>\n",
              "      <td>5.459232</td>\n",
              "    </tr>\n",
              "    <tr>\n",
              "      <th>2</th>\n",
              "      <td>model_3</td>\n",
              "      <td>79.773605</td>\n",
              "      <td>6476.596191</td>\n",
              "    </tr>\n",
              "  </tbody>\n",
              "</table>\n",
              "</div>\n",
              "      <button class=\"colab-df-convert\" onclick=\"convertToInteractive('df-c2b4efe9-f515-430a-80de-e42d19e59cde')\"\n",
              "              title=\"Convert this dataframe to an interactive table.\"\n",
              "              style=\"display:none;\">\n",
              "        \n",
              "  <svg xmlns=\"http://www.w3.org/2000/svg\" height=\"24px\"viewBox=\"0 0 24 24\"\n",
              "       width=\"24px\">\n",
              "    <path d=\"M0 0h24v24H0V0z\" fill=\"none\"/>\n",
              "    <path d=\"M18.56 5.44l.94 2.06.94-2.06 2.06-.94-2.06-.94-.94-2.06-.94 2.06-2.06.94zm-11 1L8.5 8.5l.94-2.06 2.06-.94-2.06-.94L8.5 2.5l-.94 2.06-2.06.94zm10 10l.94 2.06.94-2.06 2.06-.94-2.06-.94-.94-2.06-.94 2.06-2.06.94z\"/><path d=\"M17.41 7.96l-1.37-1.37c-.4-.4-.92-.59-1.43-.59-.52 0-1.04.2-1.43.59L10.3 9.45l-7.72 7.72c-.78.78-.78 2.05 0 2.83L4 21.41c.39.39.9.59 1.41.59.51 0 1.02-.2 1.41-.59l7.78-7.78 2.81-2.81c.8-.78.8-2.07 0-2.86zM5.41 20L4 18.59l7.72-7.72 1.47 1.35L5.41 20z\"/>\n",
              "  </svg>\n",
              "      </button>\n",
              "      \n",
              "  <style>\n",
              "    .colab-df-container {\n",
              "      display:flex;\n",
              "      flex-wrap:wrap;\n",
              "      gap: 12px;\n",
              "    }\n",
              "\n",
              "    .colab-df-convert {\n",
              "      background-color: #E8F0FE;\n",
              "      border: none;\n",
              "      border-radius: 50%;\n",
              "      cursor: pointer;\n",
              "      display: none;\n",
              "      fill: #1967D2;\n",
              "      height: 32px;\n",
              "      padding: 0 0 0 0;\n",
              "      width: 32px;\n",
              "    }\n",
              "\n",
              "    .colab-df-convert:hover {\n",
              "      background-color: #E2EBFA;\n",
              "      box-shadow: 0px 1px 2px rgba(60, 64, 67, 0.3), 0px 1px 3px 1px rgba(60, 64, 67, 0.15);\n",
              "      fill: #174EA6;\n",
              "    }\n",
              "\n",
              "    [theme=dark] .colab-df-convert {\n",
              "      background-color: #3B4455;\n",
              "      fill: #D2E3FC;\n",
              "    }\n",
              "\n",
              "    [theme=dark] .colab-df-convert:hover {\n",
              "      background-color: #434B5C;\n",
              "      box-shadow: 0px 1px 3px 1px rgba(0, 0, 0, 0.15);\n",
              "      filter: drop-shadow(0px 1px 2px rgba(0, 0, 0, 0.3));\n",
              "      fill: #FFFFFF;\n",
              "    }\n",
              "  </style>\n",
              "\n",
              "      <script>\n",
              "        const buttonEl =\n",
              "          document.querySelector('#df-c2b4efe9-f515-430a-80de-e42d19e59cde button.colab-df-convert');\n",
              "        buttonEl.style.display =\n",
              "          google.colab.kernel.accessAllowed ? 'block' : 'none';\n",
              "\n",
              "        async function convertToInteractive(key) {\n",
              "          const element = document.querySelector('#df-c2b4efe9-f515-430a-80de-e42d19e59cde');\n",
              "          const dataTable =\n",
              "            await google.colab.kernel.invokeFunction('convertToInteractive',\n",
              "                                                     [key], {});\n",
              "          if (!dataTable) return;\n",
              "\n",
              "          const docLinkHtml = 'Like what you see? Visit the ' +\n",
              "            '<a target=\"_blank\" href=https://colab.research.google.com/notebooks/data_table.ipynb>data table notebook</a>'\n",
              "            + ' to learn more about interactive tables.';\n",
              "          element.innerHTML = '';\n",
              "          dataTable['output_type'] = 'display_data';\n",
              "          await google.colab.output.renderOutput(dataTable, element);\n",
              "          const docLink = document.createElement('div');\n",
              "          docLink.innerHTML = docLinkHtml;\n",
              "          element.appendChild(docLink);\n",
              "        }\n",
              "      </script>\n",
              "    </div>\n",
              "  </div>\n",
              "  "
            ]
          },
          "metadata": {},
          "execution_count": 223
        }
      ]
    },
    {
      "cell_type": "markdown",
      "source": [
        "**Saving a model**"
      ],
      "metadata": {
        "id": "mqohmWZdr8th"
      }
    },
    {
      "cell_type": "markdown",
      "source": [
        "There are 2 ways to save a model in tensorflow:\n",
        "1. the savedmodel format(default)\n",
        "2. the HDF5 format"
      ],
      "metadata": {
        "id": "lPQNGU7BsHP5"
      }
    },
    {
      "cell_type": "code",
      "source": [
        "# It's only for Tensorflow or Keras model\n",
        "# saving a model using savemodel format\n",
        "\n",
        "model_2.save('Best_model_savemodel_format')"
      ],
      "metadata": {
        "colab": {
          "base_uri": "https://localhost:8080/"
        },
        "id": "seNpwZpPr673",
        "outputId": "8ac2b539-b3b7-4e59-9c46-58488260774a"
      },
      "execution_count": null,
      "outputs": [
        {
          "output_type": "stream",
          "name": "stdout",
          "text": [
            "INFO:tensorflow:Assets written to: Best_model_savemodel_format/assets\n"
          ]
        }
      ]
    },
    {
      "cell_type": "code",
      "source": [
        "# Check it out - output a protobuf binary file (.pb) as well as other files\n",
        "!ls Best_model_savemodel_format\n"
      ],
      "metadata": {
        "colab": {
          "base_uri": "https://localhost:8080/"
        },
        "id": "Y_FebwHmqyKJ",
        "outputId": "cf6f07ed-c97b-45aa-90f7-4882be272429"
      },
      "execution_count": null,
      "outputs": [
        {
          "output_type": "stream",
          "name": "stdout",
          "text": [
            "assets\tkeras_metadata.pb  saved_model.pb  variables\n"
          ]
        }
      ]
    },
    {
      "cell_type": "code",
      "source": [
        "# saving a model using HDF5 format\n",
        "model_2.save('Best_model_HDF5_format.h5')   # Note the addition of .H5 on the end"
      ],
      "metadata": {
        "id": "qEvUyFnbqySY"
      },
      "execution_count": null,
      "outputs": []
    },
    {
      "cell_type": "code",
      "source": [
        "# Check it out \n",
        "!ls Best_model_HDF5_format.h5"
      ],
      "metadata": {
        "colab": {
          "base_uri": "https://localhost:8080/"
        },
        "id": "6p78d6oiqyZz",
        "outputId": "fdba73dd-bd86-46c8-ec8d-d654677a9a12"
      },
      "execution_count": null,
      "outputs": [
        {
          "output_type": "stream",
          "name": "stdout",
          "text": [
            "Best_model_HDF5_format.h5\n"
          ]
        }
      ]
    },
    {
      "cell_type": "markdown",
      "source": [
        "**Loading a model**"
      ],
      "metadata": {
        "id": "Sql1n7Cvt1eo"
      }
    },
    {
      "cell_type": "code",
      "source": [
        "# load a model from the saved model format\n",
        "loaded_saved_model = tf.keras.models.load_model('Best_model_savemodel_format')\n",
        "loaded_saved_model.summary()"
      ],
      "metadata": {
        "colab": {
          "base_uri": "https://localhost:8080/"
        },
        "id": "WZEG97NDjWFH",
        "outputId": "a349d584-9d4e-4538-9e77-1cd4c0301286"
      },
      "execution_count": null,
      "outputs": [
        {
          "output_type": "stream",
          "name": "stdout",
          "text": [
            "Model: \"sequential_23\"\n",
            "_________________________________________________________________\n",
            " Layer (type)                Output Shape              Param #   \n",
            "=================================================================\n",
            " dense_33 (Dense)            (None, 1)                 2         \n",
            "                                                                 \n",
            " dense_34 (Dense)            (None, 1)                 2         \n",
            "                                                                 \n",
            "=================================================================\n",
            "Total params: 4\n",
            "Trainable params: 4\n",
            "Non-trainable params: 0\n",
            "_________________________________________________________________\n"
          ]
        }
      ]
    },
    {
      "cell_type": "code",
      "source": [
        "# if mae is same for saved model and model_2 then they are both same"
      ],
      "metadata": {
        "id": "bz4MoGJAjWKC"
      },
      "execution_count": null,
      "outputs": []
    },
    {
      "cell_type": "code",
      "source": [
        "# Compare model 2 with the saved model version (should return True)\n",
        "model_2_preds = model_2.predict(X_test)\n",
        "saved_model_preds = loaded_saved_model.predict(X_test)\n",
        "\n",
        "mae(Y_test, saved_model_preds.squeeze()).numpy() == mae(Y_test, model_2_preds.squeeze()).numpy()"
      ],
      "metadata": {
        "colab": {
          "base_uri": "https://localhost:8080/"
        },
        "id": "0tyvk2xWjWOd",
        "outputId": "cf6efc85-428e-4a70-8bb1-33abb8176506"
      },
      "execution_count": null,
      "outputs": [
        {
          "output_type": "execute_result",
          "data": {
            "text/plain": [
              "True"
            ]
          },
          "metadata": {},
          "execution_count": 230
        }
      ]
    },
    {
      "cell_type": "code",
      "source": [
        "# load a model from the HDF5 format H5\n",
        "loaded_saved_model_H5 = tf.keras.models.load_model('Best_model_HDF5_format.h5')\n",
        "loaded_saved_model_H5.summary()"
      ],
      "metadata": {
        "colab": {
          "base_uri": "https://localhost:8080/"
        },
        "id": "KPQqtDTljWSW",
        "outputId": "fb8afd71-b241-49e0-ebf4-c3b3de4dcecc"
      },
      "execution_count": null,
      "outputs": [
        {
          "output_type": "stream",
          "name": "stdout",
          "text": [
            "Model: \"sequential_23\"\n",
            "_________________________________________________________________\n",
            " Layer (type)                Output Shape              Param #   \n",
            "=================================================================\n",
            " dense_33 (Dense)            (None, 1)                 2         \n",
            "                                                                 \n",
            " dense_34 (Dense)            (None, 1)                 2         \n",
            "                                                                 \n",
            "=================================================================\n",
            "Total params: 4\n",
            "Trainable params: 4\n",
            "Non-trainable params: 0\n",
            "_________________________________________________________________\n"
          ]
        }
      ]
    },
    {
      "cell_type": "code",
      "source": [
        "# Compare model 2 with the saved model h5 version (should return True)\n",
        "model_2_preds = model_2.predict(X_test)\n",
        "saved_model_preds_H5 = loaded_saved_model_H5.predict(X_test)\n",
        "\n",
        "mae(Y_test, saved_model_preds_H5.squeeze()).numpy() == mae(Y_test, model_2_preds.squeeze()).numpy()"
      ],
      "metadata": {
        "colab": {
          "base_uri": "https://localhost:8080/"
        },
        "id": "pzUwXTzUwWj-",
        "outputId": "5467a3a3-3bec-4c1d-e1dd-377391dfd29c"
      },
      "execution_count": null,
      "outputs": [
        {
          "output_type": "execute_result",
          "data": {
            "text/plain": [
              "True"
            ]
          },
          "metadata": {},
          "execution_count": 232
        }
      ]
    },
    {
      "cell_type": "markdown",
      "source": [
        "**Downloading a model (from Google Colab)**\n",
        "\n",
        "You wanted to get your model from Google Colab to your local machine"
      ],
      "metadata": {
        "id": "WwnSfC8b2AWa"
      }
    },
    {
      "cell_type": "code",
      "source": [
        "# Download a model (or any file) from google colab\n",
        "\n",
        "from google.colab import files\n",
        "files.download('Best_model_HDF5_format.h5')     # it save model in system drive"
      ],
      "metadata": {
        "colab": {
          "base_uri": "https://localhost:8080/",
          "height": 17
        },
        "id": "7DcKEKR42X4i",
        "outputId": "d59dfc5d-f5d2-43a1-9f11-a552f8403a85"
      },
      "execution_count": null,
      "outputs": [
        {
          "output_type": "display_data",
          "data": {
            "text/plain": [
              "<IPython.core.display.Javascript object>"
            ],
            "application/javascript": [
              "\n",
              "    async function download(id, filename, size) {\n",
              "      if (!google.colab.kernel.accessAllowed) {\n",
              "        return;\n",
              "      }\n",
              "      const div = document.createElement('div');\n",
              "      const label = document.createElement('label');\n",
              "      label.textContent = `Downloading \"${filename}\": `;\n",
              "      div.appendChild(label);\n",
              "      const progress = document.createElement('progress');\n",
              "      progress.max = size;\n",
              "      div.appendChild(progress);\n",
              "      document.body.appendChild(div);\n",
              "\n",
              "      const buffers = [];\n",
              "      let downloaded = 0;\n",
              "\n",
              "      const channel = await google.colab.kernel.comms.open(id);\n",
              "      // Send a message to notify the kernel that we're ready.\n",
              "      channel.send({})\n",
              "\n",
              "      for await (const message of channel.messages) {\n",
              "        // Send a message to notify the kernel that we're ready.\n",
              "        channel.send({})\n",
              "        if (message.buffers) {\n",
              "          for (const buffer of message.buffers) {\n",
              "            buffers.push(buffer);\n",
              "            downloaded += buffer.byteLength;\n",
              "            progress.value = downloaded;\n",
              "          }\n",
              "        }\n",
              "      }\n",
              "      const blob = new Blob(buffers, {type: 'application/binary'});\n",
              "      const a = document.createElement('a');\n",
              "      a.href = window.URL.createObjectURL(blob);\n",
              "      a.download = filename;\n",
              "      div.appendChild(a);\n",
              "      a.click();\n",
              "      div.remove();\n",
              "    }\n",
              "  "
            ]
          },
          "metadata": {}
        },
        {
          "output_type": "display_data",
          "data": {
            "text/plain": [
              "<IPython.core.display.Javascript object>"
            ],
            "application/javascript": [
              "download(\"download_56a457a3-db22-44cf-a051-55c6412eba10\", \"Best_model_HDF5_format.h5\", 17872)"
            ]
          },
          "metadata": {}
        }
      ]
    },
    {
      "cell_type": "markdown",
      "source": [
        "**Larger Dataset**"
      ],
      "metadata": {
        "id": "9oYyZ_Ez3L3m"
      }
    },
    {
      "cell_type": "code",
      "source": [
        "# Importing libraries\n",
        "import tensorflow as tf\n",
        "import pandas as pd\n",
        "import numpy as np\n",
        "import matplotlib.pyplot as plt"
      ],
      "metadata": {
        "id": "wOp2CJ6C2X9m"
      },
      "execution_count": null,
      "outputs": []
    },
    {
      "cell_type": "code",
      "source": [
        "# read the insurance data\n",
        "insurance = pd.read_csv('https://raw.githubusercontent.com/stedy/Machine-Learning-with-R-datasets/master/insurance.csv')"
      ],
      "metadata": {
        "id": "CavoDovE2YCw"
      },
      "execution_count": null,
      "outputs": []
    },
    {
      "cell_type": "code",
      "source": [
        "# check out the dataset\n",
        "insurance.head()"
      ],
      "metadata": {
        "colab": {
          "base_uri": "https://localhost:8080/",
          "height": 206
        },
        "id": "K59Rkcu4wWol",
        "outputId": "51c042fd-9cab-4b23-aa68-fecb9c3ad6c2"
      },
      "execution_count": null,
      "outputs": [
        {
          "output_type": "execute_result",
          "data": {
            "text/plain": [
              "   age     sex     bmi  children smoker     region      charges\n",
              "0   19  female  27.900         0    yes  southwest  16884.92400\n",
              "1   18    male  33.770         1     no  southeast   1725.55230\n",
              "2   28    male  33.000         3     no  southeast   4449.46200\n",
              "3   33    male  22.705         0     no  northwest  21984.47061\n",
              "4   32    male  28.880         0     no  northwest   3866.85520"
            ],
            "text/html": [
              "\n",
              "  <div id=\"df-8e0518d7-79d5-4822-b5d6-b86f17ce459d\">\n",
              "    <div class=\"colab-df-container\">\n",
              "      <div>\n",
              "<style scoped>\n",
              "    .dataframe tbody tr th:only-of-type {\n",
              "        vertical-align: middle;\n",
              "    }\n",
              "\n",
              "    .dataframe tbody tr th {\n",
              "        vertical-align: top;\n",
              "    }\n",
              "\n",
              "    .dataframe thead th {\n",
              "        text-align: right;\n",
              "    }\n",
              "</style>\n",
              "<table border=\"1\" class=\"dataframe\">\n",
              "  <thead>\n",
              "    <tr style=\"text-align: right;\">\n",
              "      <th></th>\n",
              "      <th>age</th>\n",
              "      <th>sex</th>\n",
              "      <th>bmi</th>\n",
              "      <th>children</th>\n",
              "      <th>smoker</th>\n",
              "      <th>region</th>\n",
              "      <th>charges</th>\n",
              "    </tr>\n",
              "  </thead>\n",
              "  <tbody>\n",
              "    <tr>\n",
              "      <th>0</th>\n",
              "      <td>19</td>\n",
              "      <td>female</td>\n",
              "      <td>27.900</td>\n",
              "      <td>0</td>\n",
              "      <td>yes</td>\n",
              "      <td>southwest</td>\n",
              "      <td>16884.92400</td>\n",
              "    </tr>\n",
              "    <tr>\n",
              "      <th>1</th>\n",
              "      <td>18</td>\n",
              "      <td>male</td>\n",
              "      <td>33.770</td>\n",
              "      <td>1</td>\n",
              "      <td>no</td>\n",
              "      <td>southeast</td>\n",
              "      <td>1725.55230</td>\n",
              "    </tr>\n",
              "    <tr>\n",
              "      <th>2</th>\n",
              "      <td>28</td>\n",
              "      <td>male</td>\n",
              "      <td>33.000</td>\n",
              "      <td>3</td>\n",
              "      <td>no</td>\n",
              "      <td>southeast</td>\n",
              "      <td>4449.46200</td>\n",
              "    </tr>\n",
              "    <tr>\n",
              "      <th>3</th>\n",
              "      <td>33</td>\n",
              "      <td>male</td>\n",
              "      <td>22.705</td>\n",
              "      <td>0</td>\n",
              "      <td>no</td>\n",
              "      <td>northwest</td>\n",
              "      <td>21984.47061</td>\n",
              "    </tr>\n",
              "    <tr>\n",
              "      <th>4</th>\n",
              "      <td>32</td>\n",
              "      <td>male</td>\n",
              "      <td>28.880</td>\n",
              "      <td>0</td>\n",
              "      <td>no</td>\n",
              "      <td>northwest</td>\n",
              "      <td>3866.85520</td>\n",
              "    </tr>\n",
              "  </tbody>\n",
              "</table>\n",
              "</div>\n",
              "      <button class=\"colab-df-convert\" onclick=\"convertToInteractive('df-8e0518d7-79d5-4822-b5d6-b86f17ce459d')\"\n",
              "              title=\"Convert this dataframe to an interactive table.\"\n",
              "              style=\"display:none;\">\n",
              "        \n",
              "  <svg xmlns=\"http://www.w3.org/2000/svg\" height=\"24px\"viewBox=\"0 0 24 24\"\n",
              "       width=\"24px\">\n",
              "    <path d=\"M0 0h24v24H0V0z\" fill=\"none\"/>\n",
              "    <path d=\"M18.56 5.44l.94 2.06.94-2.06 2.06-.94-2.06-.94-.94-2.06-.94 2.06-2.06.94zm-11 1L8.5 8.5l.94-2.06 2.06-.94-2.06-.94L8.5 2.5l-.94 2.06-2.06.94zm10 10l.94 2.06.94-2.06 2.06-.94-2.06-.94-.94-2.06-.94 2.06-2.06.94z\"/><path d=\"M17.41 7.96l-1.37-1.37c-.4-.4-.92-.59-1.43-.59-.52 0-1.04.2-1.43.59L10.3 9.45l-7.72 7.72c-.78.78-.78 2.05 0 2.83L4 21.41c.39.39.9.59 1.41.59.51 0 1.02-.2 1.41-.59l7.78-7.78 2.81-2.81c.8-.78.8-2.07 0-2.86zM5.41 20L4 18.59l7.72-7.72 1.47 1.35L5.41 20z\"/>\n",
              "  </svg>\n",
              "      </button>\n",
              "      \n",
              "  <style>\n",
              "    .colab-df-container {\n",
              "      display:flex;\n",
              "      flex-wrap:wrap;\n",
              "      gap: 12px;\n",
              "    }\n",
              "\n",
              "    .colab-df-convert {\n",
              "      background-color: #E8F0FE;\n",
              "      border: none;\n",
              "      border-radius: 50%;\n",
              "      cursor: pointer;\n",
              "      display: none;\n",
              "      fill: #1967D2;\n",
              "      height: 32px;\n",
              "      padding: 0 0 0 0;\n",
              "      width: 32px;\n",
              "    }\n",
              "\n",
              "    .colab-df-convert:hover {\n",
              "      background-color: #E2EBFA;\n",
              "      box-shadow: 0px 1px 2px rgba(60, 64, 67, 0.3), 0px 1px 3px 1px rgba(60, 64, 67, 0.15);\n",
              "      fill: #174EA6;\n",
              "    }\n",
              "\n",
              "    [theme=dark] .colab-df-convert {\n",
              "      background-color: #3B4455;\n",
              "      fill: #D2E3FC;\n",
              "    }\n",
              "\n",
              "    [theme=dark] .colab-df-convert:hover {\n",
              "      background-color: #434B5C;\n",
              "      box-shadow: 0px 1px 3px 1px rgba(0, 0, 0, 0.15);\n",
              "      filter: drop-shadow(0px 1px 2px rgba(0, 0, 0, 0.3));\n",
              "      fill: #FFFFFF;\n",
              "    }\n",
              "  </style>\n",
              "\n",
              "      <script>\n",
              "        const buttonEl =\n",
              "          document.querySelector('#df-8e0518d7-79d5-4822-b5d6-b86f17ce459d button.colab-df-convert');\n",
              "        buttonEl.style.display =\n",
              "          google.colab.kernel.accessAllowed ? 'block' : 'none';\n",
              "\n",
              "        async function convertToInteractive(key) {\n",
              "          const element = document.querySelector('#df-8e0518d7-79d5-4822-b5d6-b86f17ce459d');\n",
              "          const dataTable =\n",
              "            await google.colab.kernel.invokeFunction('convertToInteractive',\n",
              "                                                     [key], {});\n",
              "          if (!dataTable) return;\n",
              "\n",
              "          const docLinkHtml = 'Like what you see? Visit the ' +\n",
              "            '<a target=\"_blank\" href=https://colab.research.google.com/notebooks/data_table.ipynb>data table notebook</a>'\n",
              "            + ' to learn more about interactive tables.';\n",
              "          element.innerHTML = '';\n",
              "          dataTable['output_type'] = 'display_data';\n",
              "          await google.colab.output.renderOutput(dataTable, element);\n",
              "          const docLink = document.createElement('div');\n",
              "          docLink.innerHTML = docLinkHtml;\n",
              "          element.appendChild(docLink);\n",
              "        }\n",
              "      </script>\n",
              "    </div>\n",
              "  </div>\n",
              "  "
            ]
          },
          "metadata": {},
          "execution_count": 236
        }
      ]
    },
    {
      "cell_type": "code",
      "source": [
        "# We need to turn all categories into numbers using dummies with ont hot encoding\n",
        "insurance_one_hot = pd.get_dummies(insurance)\n",
        "insurance_one_hot.head()"
      ],
      "metadata": {
        "colab": {
          "base_uri": "https://localhost:8080/",
          "height": 206
        },
        "id": "WmLSagRXwWu2",
        "outputId": "0fdd996a-9381-41f0-a83c-da2fa87d3d3a"
      },
      "execution_count": null,
      "outputs": [
        {
          "output_type": "execute_result",
          "data": {
            "text/plain": [
              "   age     bmi  children      charges  sex_female  sex_male  smoker_no  \\\n",
              "0   19  27.900         0  16884.92400           1         0          0   \n",
              "1   18  33.770         1   1725.55230           0         1          1   \n",
              "2   28  33.000         3   4449.46200           0         1          1   \n",
              "3   33  22.705         0  21984.47061           0         1          1   \n",
              "4   32  28.880         0   3866.85520           0         1          1   \n",
              "\n",
              "   smoker_yes  region_northeast  region_northwest  region_southeast  \\\n",
              "0           1                 0                 0                 0   \n",
              "1           0                 0                 0                 1   \n",
              "2           0                 0                 0                 1   \n",
              "3           0                 0                 1                 0   \n",
              "4           0                 0                 1                 0   \n",
              "\n",
              "   region_southwest  \n",
              "0                 1  \n",
              "1                 0  \n",
              "2                 0  \n",
              "3                 0  \n",
              "4                 0  "
            ],
            "text/html": [
              "\n",
              "  <div id=\"df-411d9aa4-6ace-4e32-bb9f-ab88078e5f17\">\n",
              "    <div class=\"colab-df-container\">\n",
              "      <div>\n",
              "<style scoped>\n",
              "    .dataframe tbody tr th:only-of-type {\n",
              "        vertical-align: middle;\n",
              "    }\n",
              "\n",
              "    .dataframe tbody tr th {\n",
              "        vertical-align: top;\n",
              "    }\n",
              "\n",
              "    .dataframe thead th {\n",
              "        text-align: right;\n",
              "    }\n",
              "</style>\n",
              "<table border=\"1\" class=\"dataframe\">\n",
              "  <thead>\n",
              "    <tr style=\"text-align: right;\">\n",
              "      <th></th>\n",
              "      <th>age</th>\n",
              "      <th>bmi</th>\n",
              "      <th>children</th>\n",
              "      <th>charges</th>\n",
              "      <th>sex_female</th>\n",
              "      <th>sex_male</th>\n",
              "      <th>smoker_no</th>\n",
              "      <th>smoker_yes</th>\n",
              "      <th>region_northeast</th>\n",
              "      <th>region_northwest</th>\n",
              "      <th>region_southeast</th>\n",
              "      <th>region_southwest</th>\n",
              "    </tr>\n",
              "  </thead>\n",
              "  <tbody>\n",
              "    <tr>\n",
              "      <th>0</th>\n",
              "      <td>19</td>\n",
              "      <td>27.900</td>\n",
              "      <td>0</td>\n",
              "      <td>16884.92400</td>\n",
              "      <td>1</td>\n",
              "      <td>0</td>\n",
              "      <td>0</td>\n",
              "      <td>1</td>\n",
              "      <td>0</td>\n",
              "      <td>0</td>\n",
              "      <td>0</td>\n",
              "      <td>1</td>\n",
              "    </tr>\n",
              "    <tr>\n",
              "      <th>1</th>\n",
              "      <td>18</td>\n",
              "      <td>33.770</td>\n",
              "      <td>1</td>\n",
              "      <td>1725.55230</td>\n",
              "      <td>0</td>\n",
              "      <td>1</td>\n",
              "      <td>1</td>\n",
              "      <td>0</td>\n",
              "      <td>0</td>\n",
              "      <td>0</td>\n",
              "      <td>1</td>\n",
              "      <td>0</td>\n",
              "    </tr>\n",
              "    <tr>\n",
              "      <th>2</th>\n",
              "      <td>28</td>\n",
              "      <td>33.000</td>\n",
              "      <td>3</td>\n",
              "      <td>4449.46200</td>\n",
              "      <td>0</td>\n",
              "      <td>1</td>\n",
              "      <td>1</td>\n",
              "      <td>0</td>\n",
              "      <td>0</td>\n",
              "      <td>0</td>\n",
              "      <td>1</td>\n",
              "      <td>0</td>\n",
              "    </tr>\n",
              "    <tr>\n",
              "      <th>3</th>\n",
              "      <td>33</td>\n",
              "      <td>22.705</td>\n",
              "      <td>0</td>\n",
              "      <td>21984.47061</td>\n",
              "      <td>0</td>\n",
              "      <td>1</td>\n",
              "      <td>1</td>\n",
              "      <td>0</td>\n",
              "      <td>0</td>\n",
              "      <td>1</td>\n",
              "      <td>0</td>\n",
              "      <td>0</td>\n",
              "    </tr>\n",
              "    <tr>\n",
              "      <th>4</th>\n",
              "      <td>32</td>\n",
              "      <td>28.880</td>\n",
              "      <td>0</td>\n",
              "      <td>3866.85520</td>\n",
              "      <td>0</td>\n",
              "      <td>1</td>\n",
              "      <td>1</td>\n",
              "      <td>0</td>\n",
              "      <td>0</td>\n",
              "      <td>1</td>\n",
              "      <td>0</td>\n",
              "      <td>0</td>\n",
              "    </tr>\n",
              "  </tbody>\n",
              "</table>\n",
              "</div>\n",
              "      <button class=\"colab-df-convert\" onclick=\"convertToInteractive('df-411d9aa4-6ace-4e32-bb9f-ab88078e5f17')\"\n",
              "              title=\"Convert this dataframe to an interactive table.\"\n",
              "              style=\"display:none;\">\n",
              "        \n",
              "  <svg xmlns=\"http://www.w3.org/2000/svg\" height=\"24px\"viewBox=\"0 0 24 24\"\n",
              "       width=\"24px\">\n",
              "    <path d=\"M0 0h24v24H0V0z\" fill=\"none\"/>\n",
              "    <path d=\"M18.56 5.44l.94 2.06.94-2.06 2.06-.94-2.06-.94-.94-2.06-.94 2.06-2.06.94zm-11 1L8.5 8.5l.94-2.06 2.06-.94-2.06-.94L8.5 2.5l-.94 2.06-2.06.94zm10 10l.94 2.06.94-2.06 2.06-.94-2.06-.94-.94-2.06-.94 2.06-2.06.94z\"/><path d=\"M17.41 7.96l-1.37-1.37c-.4-.4-.92-.59-1.43-.59-.52 0-1.04.2-1.43.59L10.3 9.45l-7.72 7.72c-.78.78-.78 2.05 0 2.83L4 21.41c.39.39.9.59 1.41.59.51 0 1.02-.2 1.41-.59l7.78-7.78 2.81-2.81c.8-.78.8-2.07 0-2.86zM5.41 20L4 18.59l7.72-7.72 1.47 1.35L5.41 20z\"/>\n",
              "  </svg>\n",
              "      </button>\n",
              "      \n",
              "  <style>\n",
              "    .colab-df-container {\n",
              "      display:flex;\n",
              "      flex-wrap:wrap;\n",
              "      gap: 12px;\n",
              "    }\n",
              "\n",
              "    .colab-df-convert {\n",
              "      background-color: #E8F0FE;\n",
              "      border: none;\n",
              "      border-radius: 50%;\n",
              "      cursor: pointer;\n",
              "      display: none;\n",
              "      fill: #1967D2;\n",
              "      height: 32px;\n",
              "      padding: 0 0 0 0;\n",
              "      width: 32px;\n",
              "    }\n",
              "\n",
              "    .colab-df-convert:hover {\n",
              "      background-color: #E2EBFA;\n",
              "      box-shadow: 0px 1px 2px rgba(60, 64, 67, 0.3), 0px 1px 3px 1px rgba(60, 64, 67, 0.15);\n",
              "      fill: #174EA6;\n",
              "    }\n",
              "\n",
              "    [theme=dark] .colab-df-convert {\n",
              "      background-color: #3B4455;\n",
              "      fill: #D2E3FC;\n",
              "    }\n",
              "\n",
              "    [theme=dark] .colab-df-convert:hover {\n",
              "      background-color: #434B5C;\n",
              "      box-shadow: 0px 1px 3px 1px rgba(0, 0, 0, 0.15);\n",
              "      filter: drop-shadow(0px 1px 2px rgba(0, 0, 0, 0.3));\n",
              "      fill: #FFFFFF;\n",
              "    }\n",
              "  </style>\n",
              "\n",
              "      <script>\n",
              "        const buttonEl =\n",
              "          document.querySelector('#df-411d9aa4-6ace-4e32-bb9f-ab88078e5f17 button.colab-df-convert');\n",
              "        buttonEl.style.display =\n",
              "          google.colab.kernel.accessAllowed ? 'block' : 'none';\n",
              "\n",
              "        async function convertToInteractive(key) {\n",
              "          const element = document.querySelector('#df-411d9aa4-6ace-4e32-bb9f-ab88078e5f17');\n",
              "          const dataTable =\n",
              "            await google.colab.kernel.invokeFunction('convertToInteractive',\n",
              "                                                     [key], {});\n",
              "          if (!dataTable) return;\n",
              "\n",
              "          const docLinkHtml = 'Like what you see? Visit the ' +\n",
              "            '<a target=\"_blank\" href=https://colab.research.google.com/notebooks/data_table.ipynb>data table notebook</a>'\n",
              "            + ' to learn more about interactive tables.';\n",
              "          element.innerHTML = '';\n",
              "          dataTable['output_type'] = 'display_data';\n",
              "          await google.colab.output.renderOutput(dataTable, element);\n",
              "          const docLink = document.createElement('div');\n",
              "          docLink.innerHTML = docLinkHtml;\n",
              "          element.appendChild(docLink);\n",
              "        }\n",
              "      </script>\n",
              "    </div>\n",
              "  </div>\n",
              "  "
            ]
          },
          "metadata": {},
          "execution_count": 237
        }
      ]
    },
    {
      "cell_type": "code",
      "source": [
        "# creating x & y values\n",
        "X = insurance_one_hot.drop('charges', axis = 1)\n",
        "y = insurance_one_hot['charges']"
      ],
      "metadata": {
        "id": "7c259OZJwW1V"
      },
      "execution_count": null,
      "outputs": []
    },
    {
      "cell_type": "code",
      "source": [
        "# View feature\n",
        "X.head()"
      ],
      "metadata": {
        "colab": {
          "base_uri": "https://localhost:8080/",
          "height": 206
        },
        "id": "E8lL-H9Z_Emu",
        "outputId": "2a368298-5c4e-4eec-e872-093ba9a9b5ec"
      },
      "execution_count": null,
      "outputs": [
        {
          "output_type": "execute_result",
          "data": {
            "text/plain": [
              "   age     bmi  children  sex_female  sex_male  smoker_no  smoker_yes  \\\n",
              "0   19  27.900         0           1         0          0           1   \n",
              "1   18  33.770         1           0         1          1           0   \n",
              "2   28  33.000         3           0         1          1           0   \n",
              "3   33  22.705         0           0         1          1           0   \n",
              "4   32  28.880         0           0         1          1           0   \n",
              "\n",
              "   region_northeast  region_northwest  region_southeast  region_southwest  \n",
              "0                 0                 0                 0                 1  \n",
              "1                 0                 0                 1                 0  \n",
              "2                 0                 0                 1                 0  \n",
              "3                 0                 1                 0                 0  \n",
              "4                 0                 1                 0                 0  "
            ],
            "text/html": [
              "\n",
              "  <div id=\"df-52116aed-411a-4030-8d76-be67145ba796\">\n",
              "    <div class=\"colab-df-container\">\n",
              "      <div>\n",
              "<style scoped>\n",
              "    .dataframe tbody tr th:only-of-type {\n",
              "        vertical-align: middle;\n",
              "    }\n",
              "\n",
              "    .dataframe tbody tr th {\n",
              "        vertical-align: top;\n",
              "    }\n",
              "\n",
              "    .dataframe thead th {\n",
              "        text-align: right;\n",
              "    }\n",
              "</style>\n",
              "<table border=\"1\" class=\"dataframe\">\n",
              "  <thead>\n",
              "    <tr style=\"text-align: right;\">\n",
              "      <th></th>\n",
              "      <th>age</th>\n",
              "      <th>bmi</th>\n",
              "      <th>children</th>\n",
              "      <th>sex_female</th>\n",
              "      <th>sex_male</th>\n",
              "      <th>smoker_no</th>\n",
              "      <th>smoker_yes</th>\n",
              "      <th>region_northeast</th>\n",
              "      <th>region_northwest</th>\n",
              "      <th>region_southeast</th>\n",
              "      <th>region_southwest</th>\n",
              "    </tr>\n",
              "  </thead>\n",
              "  <tbody>\n",
              "    <tr>\n",
              "      <th>0</th>\n",
              "      <td>19</td>\n",
              "      <td>27.900</td>\n",
              "      <td>0</td>\n",
              "      <td>1</td>\n",
              "      <td>0</td>\n",
              "      <td>0</td>\n",
              "      <td>1</td>\n",
              "      <td>0</td>\n",
              "      <td>0</td>\n",
              "      <td>0</td>\n",
              "      <td>1</td>\n",
              "    </tr>\n",
              "    <tr>\n",
              "      <th>1</th>\n",
              "      <td>18</td>\n",
              "      <td>33.770</td>\n",
              "      <td>1</td>\n",
              "      <td>0</td>\n",
              "      <td>1</td>\n",
              "      <td>1</td>\n",
              "      <td>0</td>\n",
              "      <td>0</td>\n",
              "      <td>0</td>\n",
              "      <td>1</td>\n",
              "      <td>0</td>\n",
              "    </tr>\n",
              "    <tr>\n",
              "      <th>2</th>\n",
              "      <td>28</td>\n",
              "      <td>33.000</td>\n",
              "      <td>3</td>\n",
              "      <td>0</td>\n",
              "      <td>1</td>\n",
              "      <td>1</td>\n",
              "      <td>0</td>\n",
              "      <td>0</td>\n",
              "      <td>0</td>\n",
              "      <td>1</td>\n",
              "      <td>0</td>\n",
              "    </tr>\n",
              "    <tr>\n",
              "      <th>3</th>\n",
              "      <td>33</td>\n",
              "      <td>22.705</td>\n",
              "      <td>0</td>\n",
              "      <td>0</td>\n",
              "      <td>1</td>\n",
              "      <td>1</td>\n",
              "      <td>0</td>\n",
              "      <td>0</td>\n",
              "      <td>1</td>\n",
              "      <td>0</td>\n",
              "      <td>0</td>\n",
              "    </tr>\n",
              "    <tr>\n",
              "      <th>4</th>\n",
              "      <td>32</td>\n",
              "      <td>28.880</td>\n",
              "      <td>0</td>\n",
              "      <td>0</td>\n",
              "      <td>1</td>\n",
              "      <td>1</td>\n",
              "      <td>0</td>\n",
              "      <td>0</td>\n",
              "      <td>1</td>\n",
              "      <td>0</td>\n",
              "      <td>0</td>\n",
              "    </tr>\n",
              "  </tbody>\n",
              "</table>\n",
              "</div>\n",
              "      <button class=\"colab-df-convert\" onclick=\"convertToInteractive('df-52116aed-411a-4030-8d76-be67145ba796')\"\n",
              "              title=\"Convert this dataframe to an interactive table.\"\n",
              "              style=\"display:none;\">\n",
              "        \n",
              "  <svg xmlns=\"http://www.w3.org/2000/svg\" height=\"24px\"viewBox=\"0 0 24 24\"\n",
              "       width=\"24px\">\n",
              "    <path d=\"M0 0h24v24H0V0z\" fill=\"none\"/>\n",
              "    <path d=\"M18.56 5.44l.94 2.06.94-2.06 2.06-.94-2.06-.94-.94-2.06-.94 2.06-2.06.94zm-11 1L8.5 8.5l.94-2.06 2.06-.94-2.06-.94L8.5 2.5l-.94 2.06-2.06.94zm10 10l.94 2.06.94-2.06 2.06-.94-2.06-.94-.94-2.06-.94 2.06-2.06.94z\"/><path d=\"M17.41 7.96l-1.37-1.37c-.4-.4-.92-.59-1.43-.59-.52 0-1.04.2-1.43.59L10.3 9.45l-7.72 7.72c-.78.78-.78 2.05 0 2.83L4 21.41c.39.39.9.59 1.41.59.51 0 1.02-.2 1.41-.59l7.78-7.78 2.81-2.81c.8-.78.8-2.07 0-2.86zM5.41 20L4 18.59l7.72-7.72 1.47 1.35L5.41 20z\"/>\n",
              "  </svg>\n",
              "      </button>\n",
              "      \n",
              "  <style>\n",
              "    .colab-df-container {\n",
              "      display:flex;\n",
              "      flex-wrap:wrap;\n",
              "      gap: 12px;\n",
              "    }\n",
              "\n",
              "    .colab-df-convert {\n",
              "      background-color: #E8F0FE;\n",
              "      border: none;\n",
              "      border-radius: 50%;\n",
              "      cursor: pointer;\n",
              "      display: none;\n",
              "      fill: #1967D2;\n",
              "      height: 32px;\n",
              "      padding: 0 0 0 0;\n",
              "      width: 32px;\n",
              "    }\n",
              "\n",
              "    .colab-df-convert:hover {\n",
              "      background-color: #E2EBFA;\n",
              "      box-shadow: 0px 1px 2px rgba(60, 64, 67, 0.3), 0px 1px 3px 1px rgba(60, 64, 67, 0.15);\n",
              "      fill: #174EA6;\n",
              "    }\n",
              "\n",
              "    [theme=dark] .colab-df-convert {\n",
              "      background-color: #3B4455;\n",
              "      fill: #D2E3FC;\n",
              "    }\n",
              "\n",
              "    [theme=dark] .colab-df-convert:hover {\n",
              "      background-color: #434B5C;\n",
              "      box-shadow: 0px 1px 3px 1px rgba(0, 0, 0, 0.15);\n",
              "      filter: drop-shadow(0px 1px 2px rgba(0, 0, 0, 0.3));\n",
              "      fill: #FFFFFF;\n",
              "    }\n",
              "  </style>\n",
              "\n",
              "      <script>\n",
              "        const buttonEl =\n",
              "          document.querySelector('#df-52116aed-411a-4030-8d76-be67145ba796 button.colab-df-convert');\n",
              "        buttonEl.style.display =\n",
              "          google.colab.kernel.accessAllowed ? 'block' : 'none';\n",
              "\n",
              "        async function convertToInteractive(key) {\n",
              "          const element = document.querySelector('#df-52116aed-411a-4030-8d76-be67145ba796');\n",
              "          const dataTable =\n",
              "            await google.colab.kernel.invokeFunction('convertToInteractive',\n",
              "                                                     [key], {});\n",
              "          if (!dataTable) return;\n",
              "\n",
              "          const docLinkHtml = 'Like what you see? Visit the ' +\n",
              "            '<a target=\"_blank\" href=https://colab.research.google.com/notebooks/data_table.ipynb>data table notebook</a>'\n",
              "            + ' to learn more about interactive tables.';\n",
              "          element.innerHTML = '';\n",
              "          dataTable['output_type'] = 'display_data';\n",
              "          await google.colab.output.renderOutput(dataTable, element);\n",
              "          const docLink = document.createElement('div');\n",
              "          docLink.innerHTML = docLinkHtml;\n",
              "          element.appendChild(docLink);\n",
              "        }\n",
              "      </script>\n",
              "    </div>\n",
              "  </div>\n",
              "  "
            ]
          },
          "metadata": {},
          "execution_count": 239
        }
      ]
    },
    {
      "cell_type": "code",
      "source": [
        "# create a training and testing data set\n",
        "\n",
        "from sklearn.model_selection import train_test_split\n",
        "X_train, X_test, y_train, y_test = train_test_split(X, y, test_size=0.2, random_state=42)   # random state for reproducible split"
      ],
      "metadata": {
        "id": "JjQaICO__Eq0"
      },
      "execution_count": null,
      "outputs": []
    },
    {
      "cell_type": "markdown",
      "source": [
        "**Building Model 1**"
      ],
      "metadata": {
        "id": "DbC_Qlq0EAYQ"
      }
    },
    {
      "cell_type": "code",
      "source": [
        "# \n",
        "# set random seed (42)\n",
        "tf.random.set_seed(42)\n",
        "# Replicating the original model\n",
        "insurance_model = tf.keras.Sequential([\n",
        "                               tf.keras.layers.Dense(1),      # 1 = adding one layer\n",
        "                               tf.keras.layers.Dense(1),      #      adding another more layer\n",
        "])\n",
        "\n",
        "# Compile a model\n",
        "insurance_model.compile(loss=tf.keras.losses.mae,\n",
        "                optimizer=tf.keras.optimizers.SGD(),\n",
        "                metrics=['mae'])\n",
        "\n",
        "# Fitting a model\n",
        "insurance_model.fit(X_train,y_train, epochs=100)    # verbose = set verbose=0 for less output"
      ],
      "metadata": {
        "colab": {
          "base_uri": "https://localhost:8080/"
        },
        "id": "G3Dni4_1_Ev1",
        "outputId": "b856663e-bde6-4ce3-a034-5ae1b2a23333"
      },
      "execution_count": null,
      "outputs": [
        {
          "output_type": "stream",
          "name": "stdout",
          "text": [
            "Epoch 1/100\n",
            "30/30 [==============================] - 0s 2ms/step - loss: 9270.5811 - mae: 9270.5811\n",
            "Epoch 2/100\n",
            "30/30 [==============================] - 0s 1ms/step - loss: 7716.9224 - mae: 7716.9224\n",
            "Epoch 3/100\n",
            "30/30 [==============================] - 0s 1ms/step - loss: 7796.8638 - mae: 7796.8638\n",
            "Epoch 4/100\n",
            "30/30 [==============================] - 0s 1ms/step - loss: 7779.1655 - mae: 7779.1655\n",
            "Epoch 5/100\n",
            "30/30 [==============================] - 0s 1ms/step - loss: 7864.8574 - mae: 7864.8574\n",
            "Epoch 6/100\n",
            "30/30 [==============================] - 0s 2ms/step - loss: 8047.7295 - mae: 8047.7295\n",
            "Epoch 7/100\n",
            "30/30 [==============================] - 0s 1ms/step - loss: 7362.5098 - mae: 7362.5098\n",
            "Epoch 8/100\n",
            "30/30 [==============================] - 0s 2ms/step - loss: 7690.6372 - mae: 7690.6372\n",
            "Epoch 9/100\n",
            "30/30 [==============================] - 0s 1ms/step - loss: 7879.3032 - mae: 7879.3032\n",
            "Epoch 10/100\n",
            "30/30 [==============================] - 0s 1ms/step - loss: 7790.7339 - mae: 7790.7339\n",
            "Epoch 11/100\n",
            "30/30 [==============================] - 0s 1ms/step - loss: 7829.7153 - mae: 7829.7153\n",
            "Epoch 12/100\n",
            "30/30 [==============================] - 0s 1ms/step - loss: 7632.1533 - mae: 7632.1533\n",
            "Epoch 13/100\n",
            "30/30 [==============================] - 0s 1ms/step - loss: 7481.1548 - mae: 7481.1548\n",
            "Epoch 14/100\n",
            "30/30 [==============================] - 0s 1ms/step - loss: 7784.6797 - mae: 7784.6797\n",
            "Epoch 15/100\n",
            "30/30 [==============================] - 0s 2ms/step - loss: 7892.5508 - mae: 7892.5508\n",
            "Epoch 16/100\n",
            "30/30 [==============================] - 0s 1ms/step - loss: 7784.8770 - mae: 7784.8770\n",
            "Epoch 17/100\n",
            "30/30 [==============================] - 0s 1ms/step - loss: 7913.1309 - mae: 7913.1309\n",
            "Epoch 18/100\n",
            "30/30 [==============================] - 0s 1ms/step - loss: 7916.3857 - mae: 7916.3857\n",
            "Epoch 19/100\n",
            "30/30 [==============================] - 0s 1ms/step - loss: 7748.3247 - mae: 7748.3247\n",
            "Epoch 20/100\n",
            "30/30 [==============================] - 0s 1ms/step - loss: 7936.8794 - mae: 7936.8794\n",
            "Epoch 21/100\n",
            "30/30 [==============================] - 0s 1ms/step - loss: 7687.2461 - mae: 7687.2461\n",
            "Epoch 22/100\n",
            "30/30 [==============================] - 0s 1ms/step - loss: 7423.6689 - mae: 7423.6689\n",
            "Epoch 23/100\n",
            "30/30 [==============================] - 0s 2ms/step - loss: 7498.8384 - mae: 7498.8384\n",
            "Epoch 24/100\n",
            "30/30 [==============================] - 0s 1ms/step - loss: 7557.1885 - mae: 7557.1885\n",
            "Epoch 25/100\n",
            "30/30 [==============================] - 0s 1ms/step - loss: 7626.8003 - mae: 7626.8003\n",
            "Epoch 26/100\n",
            "30/30 [==============================] - 0s 1ms/step - loss: 7432.8003 - mae: 7432.8003\n",
            "Epoch 27/100\n",
            "30/30 [==============================] - 0s 1ms/step - loss: 7787.3882 - mae: 7787.3882\n",
            "Epoch 28/100\n",
            "30/30 [==============================] - 0s 1ms/step - loss: 7553.6265 - mae: 7553.6265\n",
            "Epoch 29/100\n",
            "30/30 [==============================] - 0s 2ms/step - loss: 7544.6270 - mae: 7544.6270\n",
            "Epoch 30/100\n",
            "30/30 [==============================] - 0s 1ms/step - loss: 7748.1206 - mae: 7748.1206\n",
            "Epoch 31/100\n",
            "30/30 [==============================] - 0s 1ms/step - loss: 7730.6104 - mae: 7730.6104\n",
            "Epoch 32/100\n",
            "30/30 [==============================] - 0s 1ms/step - loss: 7332.9326 - mae: 7332.9326\n",
            "Epoch 33/100\n",
            "30/30 [==============================] - 0s 1ms/step - loss: 7851.1865 - mae: 7851.1865\n",
            "Epoch 34/100\n",
            "30/30 [==============================] - 0s 1ms/step - loss: 7444.6997 - mae: 7444.6997\n",
            "Epoch 35/100\n",
            "30/30 [==============================] - 0s 2ms/step - loss: 7809.9727 - mae: 7809.9727\n",
            "Epoch 36/100\n",
            "30/30 [==============================] - 0s 1ms/step - loss: 7626.9478 - mae: 7626.9478\n",
            "Epoch 37/100\n",
            "30/30 [==============================] - 0s 2ms/step - loss: 7592.5088 - mae: 7592.5088\n",
            "Epoch 38/100\n",
            "30/30 [==============================] - 0s 1ms/step - loss: 7537.0498 - mae: 7537.0498\n",
            "Epoch 39/100\n",
            "30/30 [==============================] - 0s 1ms/step - loss: 7595.8003 - mae: 7595.8003\n",
            "Epoch 40/100\n",
            "30/30 [==============================] - 0s 1ms/step - loss: 7336.3076 - mae: 7336.3076\n",
            "Epoch 41/100\n",
            "30/30 [==============================] - 0s 1ms/step - loss: 7389.4619 - mae: 7389.4619\n",
            "Epoch 42/100\n",
            "30/30 [==============================] - 0s 1ms/step - loss: 7465.2007 - mae: 7465.2007\n",
            "Epoch 43/100\n",
            "30/30 [==============================] - 0s 1ms/step - loss: 7553.0078 - mae: 7553.0078\n",
            "Epoch 44/100\n",
            "30/30 [==============================] - 0s 1ms/step - loss: 7352.8169 - mae: 7352.8169\n",
            "Epoch 45/100\n",
            "30/30 [==============================] - 0s 1ms/step - loss: 7280.3447 - mae: 7280.3447\n",
            "Epoch 46/100\n",
            "30/30 [==============================] - 0s 2ms/step - loss: 7414.3491 - mae: 7414.3491\n",
            "Epoch 47/100\n",
            "30/30 [==============================] - 0s 1ms/step - loss: 7696.9478 - mae: 7696.9478\n",
            "Epoch 48/100\n",
            "30/30 [==============================] - 0s 1ms/step - loss: 7594.1484 - mae: 7594.1484\n",
            "Epoch 49/100\n",
            "30/30 [==============================] - 0s 1ms/step - loss: 7452.0088 - mae: 7452.0088\n",
            "Epoch 50/100\n",
            "30/30 [==============================] - 0s 1ms/step - loss: 7502.2241 - mae: 7502.2241\n",
            "Epoch 51/100\n",
            "30/30 [==============================] - 0s 1ms/step - loss: 7503.8584 - mae: 7503.8584\n",
            "Epoch 52/100\n",
            "30/30 [==============================] - 0s 1ms/step - loss: 7526.8877 - mae: 7526.8877\n",
            "Epoch 53/100\n",
            "30/30 [==============================] - 0s 1ms/step - loss: 7466.9321 - mae: 7466.9321\n",
            "Epoch 54/100\n",
            "30/30 [==============================] - 0s 1ms/step - loss: 7468.2173 - mae: 7468.2173\n",
            "Epoch 55/100\n",
            "30/30 [==============================] - 0s 2ms/step - loss: 7555.4365 - mae: 7555.4365\n",
            "Epoch 56/100\n",
            "30/30 [==============================] - 0s 1ms/step - loss: 7585.0967 - mae: 7585.0967\n",
            "Epoch 57/100\n",
            "30/30 [==============================] - 0s 1ms/step - loss: 7531.3257 - mae: 7531.3257\n",
            "Epoch 58/100\n",
            "30/30 [==============================] - 0s 1ms/step - loss: 7920.2422 - mae: 7920.2422\n",
            "Epoch 59/100\n",
            "30/30 [==============================] - 0s 2ms/step - loss: 7442.4131 - mae: 7442.4131\n",
            "Epoch 60/100\n",
            "30/30 [==============================] - 0s 1ms/step - loss: 7418.0020 - mae: 7418.0020\n",
            "Epoch 61/100\n",
            "30/30 [==============================] - 0s 1ms/step - loss: 7572.9976 - mae: 7572.9976\n",
            "Epoch 62/100\n",
            "30/30 [==============================] - 0s 1ms/step - loss: 7456.6973 - mae: 7456.6973\n",
            "Epoch 63/100\n",
            "30/30 [==============================] - 0s 1ms/step - loss: 7443.5605 - mae: 7443.5605\n",
            "Epoch 64/100\n",
            "30/30 [==============================] - 0s 1ms/step - loss: 7497.5059 - mae: 7497.5059\n",
            "Epoch 65/100\n",
            "30/30 [==============================] - 0s 1ms/step - loss: 7100.3848 - mae: 7100.3848\n",
            "Epoch 66/100\n",
            "30/30 [==============================] - 0s 2ms/step - loss: 7732.3467 - mae: 7732.3467\n",
            "Epoch 67/100\n",
            "30/30 [==============================] - 0s 1ms/step - loss: 7552.1299 - mae: 7552.1299\n",
            "Epoch 68/100\n",
            "30/30 [==============================] - 0s 1ms/step - loss: 7262.8574 - mae: 7262.8574\n",
            "Epoch 69/100\n",
            "30/30 [==============================] - 0s 1ms/step - loss: 7561.9639 - mae: 7561.9639\n",
            "Epoch 70/100\n",
            "30/30 [==============================] - 0s 1ms/step - loss: 7484.0933 - mae: 7484.0933\n",
            "Epoch 71/100\n",
            "30/30 [==============================] - 0s 2ms/step - loss: 7542.7368 - mae: 7542.7368\n",
            "Epoch 72/100\n",
            "30/30 [==============================] - 0s 2ms/step - loss: 7407.6772 - mae: 7407.6772\n",
            "Epoch 73/100\n",
            "30/30 [==============================] - 0s 1ms/step - loss: 7523.2515 - mae: 7523.2515\n",
            "Epoch 74/100\n",
            "30/30 [==============================] - 0s 1ms/step - loss: 7466.8618 - mae: 7466.8618\n",
            "Epoch 75/100\n",
            "30/30 [==============================] - 0s 2ms/step - loss: 7358.0415 - mae: 7358.0415\n",
            "Epoch 76/100\n",
            "30/30 [==============================] - 0s 1ms/step - loss: 7433.4697 - mae: 7433.4697\n",
            "Epoch 77/100\n",
            "30/30 [==============================] - 0s 1ms/step - loss: 7400.1460 - mae: 7400.1460\n",
            "Epoch 78/100\n",
            "30/30 [==============================] - 0s 1ms/step - loss: 7375.5205 - mae: 7375.5205\n",
            "Epoch 79/100\n",
            "30/30 [==============================] - 0s 1ms/step - loss: 7405.2734 - mae: 7405.2734\n",
            "Epoch 80/100\n",
            "30/30 [==============================] - 0s 1ms/step - loss: 7648.9937 - mae: 7648.9937\n",
            "Epoch 81/100\n",
            "30/30 [==============================] - 0s 1ms/step - loss: 7517.7969 - mae: 7517.7969\n",
            "Epoch 82/100\n",
            "30/30 [==============================] - 0s 2ms/step - loss: 7386.6338 - mae: 7386.6338\n",
            "Epoch 83/100\n",
            "30/30 [==============================] - 0s 1ms/step - loss: 7228.5913 - mae: 7228.5913\n",
            "Epoch 84/100\n",
            "30/30 [==============================] - 0s 1ms/step - loss: 7433.2617 - mae: 7433.2617\n",
            "Epoch 85/100\n",
            "30/30 [==============================] - 0s 1ms/step - loss: 7455.6826 - mae: 7455.6826\n",
            "Epoch 86/100\n",
            "30/30 [==============================] - 0s 1ms/step - loss: 7247.2734 - mae: 7247.2734\n",
            "Epoch 87/100\n",
            "30/30 [==============================] - 0s 2ms/step - loss: 7357.3193 - mae: 7357.3193\n",
            "Epoch 88/100\n",
            "30/30 [==============================] - 0s 1ms/step - loss: 7401.6953 - mae: 7401.6953\n",
            "Epoch 89/100\n",
            "30/30 [==============================] - 0s 1ms/step - loss: 7375.9355 - mae: 7375.9355\n",
            "Epoch 90/100\n",
            "30/30 [==============================] - 0s 2ms/step - loss: 7187.2764 - mae: 7187.2764\n",
            "Epoch 91/100\n",
            "30/30 [==============================] - 0s 1ms/step - loss: 7327.3384 - mae: 7327.3384\n",
            "Epoch 92/100\n",
            "30/30 [==============================] - 0s 1ms/step - loss: 7371.5625 - mae: 7371.5625\n",
            "Epoch 93/100\n",
            "30/30 [==============================] - 0s 1ms/step - loss: 7422.8574 - mae: 7422.8574\n",
            "Epoch 94/100\n",
            "30/30 [==============================] - 0s 1ms/step - loss: 7088.1582 - mae: 7088.1582\n",
            "Epoch 95/100\n",
            "30/30 [==============================] - 0s 2ms/step - loss: 7187.0449 - mae: 7187.0449\n",
            "Epoch 96/100\n",
            "30/30 [==============================] - 0s 1ms/step - loss: 7332.4180 - mae: 7332.4180\n",
            "Epoch 97/100\n",
            "30/30 [==============================] - 0s 1ms/step - loss: 7222.7139 - mae: 7222.7139\n",
            "Epoch 98/100\n",
            "30/30 [==============================] - 0s 1ms/step - loss: 7502.2554 - mae: 7502.2554\n",
            "Epoch 99/100\n",
            "30/30 [==============================] - 0s 1ms/step - loss: 7202.4224 - mae: 7202.4224\n",
            "Epoch 100/100\n",
            "30/30 [==============================] - 0s 2ms/step - loss: 7286.5811 - mae: 7286.5811\n"
          ]
        },
        {
          "output_type": "execute_result",
          "data": {
            "text/plain": [
              "<keras.callbacks.History at 0x7f7a3bf77250>"
            ]
          },
          "metadata": {},
          "execution_count": 247
        }
      ]
    },
    {
      "cell_type": "code",
      "source": [
        "# check the results of the insurance model\n",
        "insurance_model.evaluate(X_test, y_test)"
      ],
      "metadata": {
        "colab": {
          "base_uri": "https://localhost:8080/"
        },
        "id": "yJMqtc6i_Ezo",
        "outputId": "e5a0038a-2b57-4b38-9a17-01e9d429e072"
      },
      "execution_count": null,
      "outputs": [
        {
          "output_type": "stream",
          "name": "stdout",
          "text": [
            "13/13 [==============================] - 0s 2ms/step - loss: 8022.9321 - mae: 8022.9321\n"
          ]
        },
        {
          "output_type": "execute_result",
          "data": {
            "text/plain": [
              "[8022.93212890625, 8022.93212890625]"
            ]
          },
          "metadata": {},
          "execution_count": 249
        }
      ]
    },
    {
      "cell_type": "markdown",
      "source": [
        "**Building model 2**"
      ],
      "metadata": {
        "id": "VWbafLW9D6kz"
      }
    },
    {
      "cell_type": "code",
      "source": [
        "# \n",
        "# set random seed (42)\n",
        "tf.random.set_seed(42)\n",
        "# Replicating the original model\n",
        "insurance_model_2 = tf.keras.Sequential([\n",
        "                               tf.keras.layers.Dense(100),      # 1 = adding one layer\n",
        "                               tf.keras.layers.Dense(10),      #      adding second layer\n",
        "                               tf.keras.layers.Dense(1)        #      adding third layer\n",
        "])\n",
        "\n",
        "# Compile a model\n",
        "insurance_model_2.compile(loss=tf.keras.losses.mae,\n",
        "                optimizer=tf.keras.optimizers.Adam(),\n",
        "                metrics=['mae'])\n",
        "\n",
        "# Fitting a model\n",
        "history = insurance_model_2.fit(X_train,y_train, epochs=100, verbose =0)    # verbose = set verbose=0 for less output"
      ],
      "metadata": {
        "id": "oJANc6bJ_E3o"
      },
      "execution_count": null,
      "outputs": []
    },
    {
      "cell_type": "code",
      "source": [
        "# Evaluate a large model \n",
        "insurance_model_2.evaluate(X_test, y_test)       # this gives better mae "
      ],
      "metadata": {
        "colab": {
          "base_uri": "https://localhost:8080/"
        },
        "id": "IZAw4lKn_CtR",
        "outputId": "dfa3943b-c9bb-44cf-92c2-c3c4021c2743"
      },
      "execution_count": null,
      "outputs": [
        {
          "output_type": "stream",
          "name": "stdout",
          "text": [
            "13/13 [==============================] - 0s 2ms/step - loss: 5442.6792 - mae: 5442.6792\n"
          ]
        },
        {
          "output_type": "execute_result",
          "data": {
            "text/plain": [
              "[5442.67919921875, 5442.67919921875]"
            ]
          },
          "metadata": {},
          "execution_count": 257
        }
      ]
    },
    {
      "cell_type": "code",
      "source": [
        "# plot the history (also known as loss curve)\n",
        "pd.DataFrame(history.history).plot()\n",
        "plt.ylabel('loss')\n",
        "plt.xlabel('Epos')\n",
        "plt.show()"
      ],
      "metadata": {
        "colab": {
          "base_uri": "https://localhost:8080/",
          "height": 279
        },
        "id": "1U94DFRA_Cyu",
        "outputId": "836d81fb-ccb8-4979-e9dd-9d794697a972"
      },
      "execution_count": null,
      "outputs": [
        {
          "output_type": "display_data",
          "data": {
            "text/plain": [
              "<Figure size 432x288 with 1 Axes>"
            ],
            "image/png": "[encoded data removed]"
          },
          "metadata": {
            "needs_background": "light"
          }
        }
      ]
    },
    {
      "cell_type": "code",
      "source": [
        "# till when we use modelling / training -  \n",
        "# early training epoch - "
      ],
      "metadata": {
        "id": "iz88_ctA_C8K"
      },
      "execution_count": null,
      "outputs": []
    },
    {
      "cell_type": "code",
      "source": [
        "# Fit the model\n",
        "history_2 = insurance_model_2.fit(X_train,y_train, epochs=100, verbose =0) "
      ],
      "metadata": {
        "id": "jf6f4yYlwW5X"
      },
      "execution_count": null,
      "outputs": []
    },
    {
      "cell_type": "code",
      "source": [
        "# Evaluate the model trained from 200 total epoch\n",
        "insurance_model_2_loss, insurance_model_2_mae = insurance_model_2.evaluate(X_test, y_test)\n",
        "insurance_model_2_mae                      # now , mae come down "
      ],
      "metadata": {
        "colab": {
          "base_uri": "https://localhost:8080/"
        },
        "id": "gqxDcpX0wW-c",
        "outputId": "0aa7a1ea-08ec-4345-cf1f-3634704da6c3"
      },
      "execution_count": null,
      "outputs": [
        {
          "output_type": "stream",
          "name": "stdout",
          "text": [
            "13/13 [==============================] - 0s 4ms/step - loss: 3398.5330 - mae: 3398.5330\n"
          ]
        },
        {
          "output_type": "execute_result",
          "data": {
            "text/plain": [
              "3398.532958984375"
            ]
          },
          "metadata": {},
          "execution_count": 267
        }
      ]
    },
    {
      "cell_type": "code",
      "source": [
        "# again visualize \n",
        "# plot the history (also known as loss curve)\n",
        "pd.DataFrame(history_2.history).plot()\n",
        "plt.ylabel('loss')\n",
        "plt.xlabel('Epos')\n",
        "plt.show()"
      ],
      "metadata": {
        "colab": {
          "base_uri": "https://localhost:8080/",
          "height": 279
        },
        "id": "KtzGH3geIodt",
        "outputId": "f335deb2-d7e8-44f0-b09a-7fe8915bc072"
      },
      "execution_count": null,
      "outputs": [
        {
          "output_type": "display_data",
          "data": {
            "text/plain": [
              "<Figure size 432x288 with 1 Axes>"
            ],
            "image/png": "[encoded data removed]"
          },
          "metadata": {
            "needs_background": "light"
          }
        }
      ]
    },
    {
      "cell_type": "markdown",
      "source": [
        "**Preprocessing data (Normalization and Standardization)**"
      ],
      "metadata": {
        "id": "gHYPsWQfJsy-"
      }
    },
    {
      "cell_type": "code",
      "source": [
        "# Importing libraries\n",
        "import tensorflow as tf\n",
        "import pandas as pd\n",
        "import numpy as np\n",
        "import matplotlib.pyplot as plt"
      ],
      "metadata": {
        "id": "iQk5Hli1Ioqr"
      },
      "execution_count": null,
      "outputs": []
    },
    {
      "cell_type": "code",
      "source": [
        "# read the insurance data\n",
        "insurance = pd.read_csv('https://raw.githubusercontent.com/stedy/Machine-Learning-with-R-datasets/master/insurance.csv')"
      ],
      "metadata": {
        "id": "8LygIni6J0_M"
      },
      "execution_count": null,
      "outputs": []
    },
    {
      "cell_type": "code",
      "source": [
        "# check out the data\n",
        "insurance.head()"
      ],
      "metadata": {
        "colab": {
          "base_uri": "https://localhost:8080/",
          "height": 206
        },
        "id": "kNXw7D7rJ1Ek",
        "outputId": "bbfe967f-e29b-4a5f-8b89-64ef407688f6"
      },
      "execution_count": null,
      "outputs": [
        {
          "output_type": "execute_result",
          "data": {
            "text/plain": [
              "   age     sex     bmi  children smoker     region      charges\n",
              "0   19  female  27.900         0    yes  southwest  16884.92400\n",
              "1   18    male  33.770         1     no  southeast   1725.55230\n",
              "2   28    male  33.000         3     no  southeast   4449.46200\n",
              "3   33    male  22.705         0     no  northwest  21984.47061\n",
              "4   32    male  28.880         0     no  northwest   3866.85520"
            ],
            "text/html": [
              "\n",
              "  <div id=\"df-c9300596-a592-4b23-a7b6-333798af5d56\">\n",
              "    <div class=\"colab-df-container\">\n",
              "      <div>\n",
              "<style scoped>\n",
              "    .dataframe tbody tr th:only-of-type {\n",
              "        vertical-align: middle;\n",
              "    }\n",
              "\n",
              "    .dataframe tbody tr th {\n",
              "        vertical-align: top;\n",
              "    }\n",
              "\n",
              "    .dataframe thead th {\n",
              "        text-align: right;\n",
              "    }\n",
              "</style>\n",
              "<table border=\"1\" class=\"dataframe\">\n",
              "  <thead>\n",
              "    <tr style=\"text-align: right;\">\n",
              "      <th></th>\n",
              "      <th>age</th>\n",
              "      <th>sex</th>\n",
              "      <th>bmi</th>\n",
              "      <th>children</th>\n",
              "      <th>smoker</th>\n",
              "      <th>region</th>\n",
              "      <th>charges</th>\n",
              "    </tr>\n",
              "  </thead>\n",
              "  <tbody>\n",
              "    <tr>\n",
              "      <th>0</th>\n",
              "      <td>19</td>\n",
              "      <td>female</td>\n",
              "      <td>27.900</td>\n",
              "      <td>0</td>\n",
              "      <td>yes</td>\n",
              "      <td>southwest</td>\n",
              "      <td>16884.92400</td>\n",
              "    </tr>\n",
              "    <tr>\n",
              "      <th>1</th>\n",
              "      <td>18</td>\n",
              "      <td>male</td>\n",
              "      <td>33.770</td>\n",
              "      <td>1</td>\n",
              "      <td>no</td>\n",
              "      <td>southeast</td>\n",
              "      <td>1725.55230</td>\n",
              "    </tr>\n",
              "    <tr>\n",
              "      <th>2</th>\n",
              "      <td>28</td>\n",
              "      <td>male</td>\n",
              "      <td>33.000</td>\n",
              "      <td>3</td>\n",
              "      <td>no</td>\n",
              "      <td>southeast</td>\n",
              "      <td>4449.46200</td>\n",
              "    </tr>\n",
              "    <tr>\n",
              "      <th>3</th>\n",
              "      <td>33</td>\n",
              "      <td>male</td>\n",
              "      <td>22.705</td>\n",
              "      <td>0</td>\n",
              "      <td>no</td>\n",
              "      <td>northwest</td>\n",
              "      <td>21984.47061</td>\n",
              "    </tr>\n",
              "    <tr>\n",
              "      <th>4</th>\n",
              "      <td>32</td>\n",
              "      <td>male</td>\n",
              "      <td>28.880</td>\n",
              "      <td>0</td>\n",
              "      <td>no</td>\n",
              "      <td>northwest</td>\n",
              "      <td>3866.85520</td>\n",
              "    </tr>\n",
              "  </tbody>\n",
              "</table>\n",
              "</div>\n",
              "      <button class=\"colab-df-convert\" onclick=\"convertToInteractive('df-c9300596-a592-4b23-a7b6-333798af5d56')\"\n",
              "              title=\"Convert this dataframe to an interactive table.\"\n",
              "              style=\"display:none;\">\n",
              "        \n",
              "  <svg xmlns=\"http://www.w3.org/2000/svg\" height=\"24px\"viewBox=\"0 0 24 24\"\n",
              "       width=\"24px\">\n",
              "    <path d=\"M0 0h24v24H0V0z\" fill=\"none\"/>\n",
              "    <path d=\"M18.56 5.44l.94 2.06.94-2.06 2.06-.94-2.06-.94-.94-2.06-.94 2.06-2.06.94zm-11 1L8.5 8.5l.94-2.06 2.06-.94-2.06-.94L8.5 2.5l-.94 2.06-2.06.94zm10 10l.94 2.06.94-2.06 2.06-.94-2.06-.94-.94-2.06-.94 2.06-2.06.94z\"/><path d=\"M17.41 7.96l-1.37-1.37c-.4-.4-.92-.59-1.43-.59-.52 0-1.04.2-1.43.59L10.3 9.45l-7.72 7.72c-.78.78-.78 2.05 0 2.83L4 21.41c.39.39.9.59 1.41.59.51 0 1.02-.2 1.41-.59l7.78-7.78 2.81-2.81c.8-.78.8-2.07 0-2.86zM5.41 20L4 18.59l7.72-7.72 1.47 1.35L5.41 20z\"/>\n",
              "  </svg>\n",
              "      </button>\n",
              "      \n",
              "  <style>\n",
              "    .colab-df-container {\n",
              "      display:flex;\n",
              "      flex-wrap:wrap;\n",
              "      gap: 12px;\n",
              "    }\n",
              "\n",
              "    .colab-df-convert {\n",
              "      background-color: #E8F0FE;\n",
              "      border: none;\n",
              "      border-radius: 50%;\n",
              "      cursor: pointer;\n",
              "      display: none;\n",
              "      fill: #1967D2;\n",
              "      height: 32px;\n",
              "      padding: 0 0 0 0;\n",
              "      width: 32px;\n",
              "    }\n",
              "\n",
              "    .colab-df-convert:hover {\n",
              "      background-color: #E2EBFA;\n",
              "      box-shadow: 0px 1px 2px rgba(60, 64, 67, 0.3), 0px 1px 3px 1px rgba(60, 64, 67, 0.15);\n",
              "      fill: #174EA6;\n",
              "    }\n",
              "\n",
              "    [theme=dark] .colab-df-convert {\n",
              "      background-color: #3B4455;\n",
              "      fill: #D2E3FC;\n",
              "    }\n",
              "\n",
              "    [theme=dark] .colab-df-convert:hover {\n",
              "      background-color: #434B5C;\n",
              "      box-shadow: 0px 1px 3px 1px rgba(0, 0, 0, 0.15);\n",
              "      filter: drop-shadow(0px 1px 2px rgba(0, 0, 0, 0.3));\n",
              "      fill: #FFFFFF;\n",
              "    }\n",
              "  </style>\n",
              "\n",
              "      <script>\n",
              "        const buttonEl =\n",
              "          document.querySelector('#df-c9300596-a592-4b23-a7b6-333798af5d56 button.colab-df-convert');\n",
              "        buttonEl.style.display =\n",
              "          google.colab.kernel.accessAllowed ? 'block' : 'none';\n",
              "\n",
              "        async function convertToInteractive(key) {\n",
              "          const element = document.querySelector('#df-c9300596-a592-4b23-a7b6-333798af5d56');\n",
              "          const dataTable =\n",
              "            await google.colab.kernel.invokeFunction('convertToInteractive',\n",
              "                                                     [key], {});\n",
              "          if (!dataTable) return;\n",
              "\n",
              "          const docLinkHtml = 'Like what you see? Visit the ' +\n",
              "            '<a target=\"_blank\" href=https://colab.research.google.com/notebooks/data_table.ipynb>data table notebook</a>'\n",
              "            + ' to learn more about interactive tables.';\n",
              "          element.innerHTML = '';\n",
              "          dataTable['output_type'] = 'display_data';\n",
              "          await google.colab.output.renderOutput(dataTable, element);\n",
              "          const docLink = document.createElement('div');\n",
              "          docLink.innerHTML = docLinkHtml;\n",
              "          element.appendChild(docLink);\n",
              "        }\n",
              "      </script>\n",
              "    </div>\n",
              "  </div>\n",
              "  "
            ]
          },
          "metadata": {},
          "execution_count": 272
        }
      ]
    },
    {
      "cell_type": "code",
      "source": [
        "# doing One hot Encoding "
      ],
      "metadata": {
        "id": "NSrdRiMEJ1Je"
      },
      "execution_count": null,
      "outputs": []
    },
    {
      "cell_type": "code",
      "source": [
        "from sklearn.compose import make_column_transformer\n",
        "from sklearn.preprocessing import MinMaxScaler, OneHotEncoder\n",
        "\n",
        "# Create a column transformation\n",
        "ct = make_column_transformer(\n",
        "    (MinMaxScaler(), ['age','bmi','children']), # get al the value between 0 and 1\n",
        "    (OneHotEncoder(handle_unknown='ignore'), ['sex','smoker','region'])\n",
        ")\n",
        "\n",
        "# Create a X and y\n",
        "X = insurance.drop(['charges'], axis=1)\n",
        "y = insurance['charges']\n",
        "\n",
        "# Build a train and test dataset\n",
        "X_train, X_test, y_train, y_test = train_test_split(X, y, test_size=0.2, random_state=42)\n",
        "\n",
        "# Fitting the column transformer on the training data only\n",
        "ct.fit(X_train)\n",
        "\n",
        "# Transform trainind and test data with normalization\n",
        "X_train_normal = ct.transform(X_train)\n",
        "X_test_normal = ct.transform(X_test)"
      ],
      "metadata": {
        "id": "te2GBimZJ1PI"
      },
      "execution_count": null,
      "outputs": []
    },
    {
      "cell_type": "code",
      "source": [
        "X_train.loc[0]"
      ],
      "metadata": {
        "colab": {
          "base_uri": "https://localhost:8080/"
        },
        "id": "2tte0icHJ1Up",
        "outputId": "e284ce1b-ceb9-4b43-e94e-62e1ab6c51e8"
      },
      "execution_count": null,
      "outputs": [
        {
          "output_type": "execute_result",
          "data": {
            "text/plain": [
              "age                19\n",
              "sex            female\n",
              "bmi              27.9\n",
              "children            0\n",
              "smoker            yes\n",
              "region      southwest\n",
              "Name: 0, dtype: object"
            ]
          },
          "metadata": {},
          "execution_count": 298
        }
      ]
    },
    {
      "cell_type": "code",
      "source": [
        "X_train_normal[0]"
      ],
      "metadata": {
        "colab": {
          "base_uri": "https://localhost:8080/"
        },
        "id": "1wIsjpDQJ1ZB",
        "outputId": "09fbafb7-9ec4-4848-e290-a57a5e94c375"
      },
      "execution_count": null,
      "outputs": [
        {
          "output_type": "execute_result",
          "data": {
            "text/plain": [
              "array([0.60869565, 0.10734463, 0.4       , 1.        , 0.        ,\n",
              "       1.        , 0.        , 0.        , 1.        , 0.        ,\n",
              "       0.        ])"
            ]
          },
          "metadata": {},
          "execution_count": 299
        }
      ]
    },
    {
      "cell_type": "code",
      "source": [
        "X_test_normal[0]"
      ],
      "metadata": {
        "colab": {
          "base_uri": "https://localhost:8080/"
        },
        "id": "vcgwdqLUJ1eC",
        "outputId": "34909c7c-ed22-4e19-9cdd-981e7d8d1c39"
      },
      "execution_count": null,
      "outputs": [
        {
          "output_type": "execute_result",
          "data": {
            "text/plain": [
              "array([0.58695652, 0.24791499, 0.4       , 1.        , 0.        ,\n",
              "       1.        , 0.        , 1.        , 0.        , 0.        ,\n",
              "       0.        ])"
            ]
          },
          "metadata": {},
          "execution_count": 300
        }
      ]
    },
    {
      "cell_type": "code",
      "source": [
        "# notice a normal/ one hot encoded data is larger in shape because of extra column\n",
        "X_train_normal.shape, X_train.shape"
      ],
      "metadata": {
        "colab": {
          "base_uri": "https://localhost:8080/"
        },
        "id": "FmJIsbdzOD4r",
        "outputId": "9e64561b-37d1-4f1d-b712-c26fd820901c"
      },
      "execution_count": null,
      "outputs": [
        {
          "output_type": "execute_result",
          "data": {
            "text/plain": [
              "((1070, 11), (1070, 6))"
            ]
          },
          "metadata": {},
          "execution_count": 301
        }
      ]
    },
    {
      "cell_type": "markdown",
      "source": [
        "**Building model 3**"
      ],
      "metadata": {
        "id": "TXZAfhWiO_N-"
      }
    },
    {
      "cell_type": "code",
      "source": [
        "# \n",
        "# set random seed (42)\n",
        "tf.random.set_seed(42)\n",
        "# Replicating the original model\n",
        "insurance_model_3 = tf.keras.Sequential([\n",
        "                               tf.keras.layers.Dense(100),      #  adding one layer\n",
        "                               tf.keras.layers.Dense(10),      #      adding second layer\n",
        "                               tf.keras.layers.Dense(1)        #      adding third layer\n",
        "])\n",
        "\n",
        "# Compile a model\n",
        "insurance_model_3.compile(loss=tf.keras.losses.mae,\n",
        "                optimizer=tf.keras.optimizers.Adam(),\n",
        "                metrics=['mae'])\n",
        "\n",
        "# Fitting a model\n",
        "insurance_model_3.fit(X_train_normal,y_train, epochs=200, verbose =0)    # verbose = set verbose=0 for less output"
      ],
      "metadata": {
        "colab": {
          "base_uri": "https://localhost:8080/"
        },
        "id": "YNHBZkIzJ1oV",
        "outputId": "1fd5c7bc-3a08-4276-d9f5-8d001a4c5152"
      },
      "execution_count": null,
      "outputs": [
        {
          "output_type": "execute_result",
          "data": {
            "text/plain": [
              "<keras.callbacks.History at 0x7f7a3b277950>"
            ]
          },
          "metadata": {},
          "execution_count": 302
        }
      ]
    },
    {
      "cell_type": "code",
      "source": [
        "# Evaluate the model\n",
        "insutance_model_3_loss, insurance_model_3_mae = insurance_model_3.evaluate(X_test_normal, y_test)"
      ],
      "metadata": {
        "colab": {
          "base_uri": "https://localhost:8080/"
        },
        "id": "SxW_RFwYJ1vT",
        "outputId": "5ddf3c86-6f53-4048-f003-50c40308919b"
      },
      "execution_count": null,
      "outputs": [
        {
          "output_type": "stream",
          "name": "stdout",
          "text": [
            "9/9 [==============================] - 0s 2ms/step - loss: 3171.5771 - mae: 3171.5771\n"
          ]
        }
      ]
    },
    {
      "cell_type": "code",
      "source": [
        "# Compare the model\n",
        "insurance_model_2_mae, insurance_model_3_mae    # normalization gives faster conersion time"
      ],
      "metadata": {
        "colab": {
          "base_uri": "https://localhost:8080/"
        },
        "id": "7vABY4--J118",
        "outputId": "30613d9f-ff34-46fd-a651-6bfe9fe14a7f"
      },
      "execution_count": null,
      "outputs": [
        {
          "output_type": "execute_result",
          "data": {
            "text/plain": [
              "(3398.532958984375, 3171.5771484375)"
            ]
          },
          "metadata": {},
          "execution_count": 304
        }
      ]
    },
    {
      "cell_type": "markdown",
      "source": [
        "model_3 is better\n"
      ],
      "metadata": {
        "id": "lXxB1OQgQAiW"
      }
    },
    {
      "cell_type": "markdown",
      "source": [
        "**Exercises**"
      ],
      "metadata": {
        "id": "4DO2FioDRGYN"
      }
    },
    {
      "cell_type": "markdown",
      "source": [
        "1. Create your own regression dataset and build fit a model to it.\n",
        "2. try building a neural network with 4 dense layer and fitting it to your own regression dataset, how does it perform ?\n",
        "3. Import the Boston pricing dataset from tensorflow and model it.\n",
        "link - https://www.tensorflow.org/api_docs/python/tf/keras/datasets/boston_housing/load_data\n",
        "\n",
        "tf.keras.datasets"
      ],
      "metadata": {
        "id": "uuf1NKvFRPiN"
      }
    },
    {
      "cell_type": "markdown",
      "source": [
        "**1**"
      ],
      "metadata": {
        "id": "inSKUehpgzqq"
      }
    },
    {
      "cell_type": "code",
      "source": [
        "import tensorflow as tf\n",
        "import pandas as pd\n",
        "import numpy as np\n",
        "import matplotlib.pyplot as plt\n",
        "print(tf.__version__)"
      ],
      "metadata": {
        "id": "3whoACxPJ16A",
        "colab": {
          "base_uri": "https://localhost:8080/"
        },
        "outputId": "9f9aa876-236d-4573-dae4-d3c55aa7e4d2"
      },
      "execution_count": null,
      "outputs": [
        {
          "output_type": "stream",
          "name": "stdout",
          "text": [
            "2.8.0\n"
          ]
        }
      ]
    },
    {
      "cell_type": "code",
      "source": [
        "x = tf.constant(np.arange(-50,100,5))\n",
        "y = tf.constant(np.arange(50,200,5))\n",
        "\n",
        "print(x.shape, y.shape)\n",
        "plt.scatter(x, y)\n",
        "plt.show()"
      ],
      "metadata": {
        "colab": {
          "base_uri": "https://localhost:8080/",
          "height": 284
        },
        "id": "2CpnJCkXox8T",
        "outputId": "6d91728d-96aa-4d22-b90e-71f952e67d4f"
      },
      "execution_count": null,
      "outputs": [
        {
          "output_type": "stream",
          "name": "stdout",
          "text": [
            "(30,) (30,)\n"
          ]
        },
        {
          "output_type": "display_data",
          "data": {
            "text/plain": [
              "<Figure size 432x288 with 1 Axes>"
            ],
            "image/png": "[encoded data removed]"
          },
          "metadata": {
            "needs_background": "light"
          }
        }
      ]
    },
    {
      "cell_type": "code",
      "source": [
        "input_shape = x[0].shape\n",
        "\n",
        "#take a single example of Y\n",
        "output_shape = y[0].shape\n",
        "\n",
        "input_shape, output_shape"
      ],
      "metadata": {
        "id": "az3adMy9IovA",
        "colab": {
          "base_uri": "https://localhost:8080/"
        },
        "outputId": "ed205905-bcdd-4090-f9c7-d63fba392029"
      },
      "execution_count": null,
      "outputs": [
        {
          "output_type": "execute_result",
          "data": {
            "text/plain": [
              "(TensorShape([]), TensorShape([]))"
            ]
          },
          "metadata": {},
          "execution_count": 71
        }
      ]
    },
    {
      "cell_type": "code",
      "source": [
        "x[0], y[0]"
      ],
      "metadata": {
        "colab": {
          "base_uri": "https://localhost:8080/"
        },
        "id": "JAJ9leRblNDf",
        "outputId": "588d5302-4fb7-4a78-854e-2d8c6589383f"
      },
      "execution_count": null,
      "outputs": [
        {
          "output_type": "execute_result",
          "data": {
            "text/plain": [
              "(<tf.Tensor: shape=(), dtype=int64, numpy=-50>,\n",
              " <tf.Tensor: shape=(), dtype=int64, numpy=50>)"
            ]
          },
          "metadata": {},
          "execution_count": 58
        }
      ]
    },
    {
      "cell_type": "code",
      "source": [
        "# Building a model\n",
        "\n",
        "tf.random.set_seed(42)\n",
        "\n",
        "# create a model\n",
        "model = tf.keras.Sequential([tf.keras.layers.Dense(1)])\n",
        "\n",
        "# Compile a model\n",
        "model.compile(loss=tf.keras.losses.mae, optimizer=tf.keras.optimizers.SGD(), metrics=['mae'])\n",
        "\n",
        "# Fitting a model\n",
        "model.fit(tf.expand_dims(x, axis=-1), y , epochs=5)"
      ],
      "metadata": {
        "colab": {
          "base_uri": "https://localhost:8080/"
        },
        "id": "e2V-W76-lNFs",
        "outputId": "95c1c722-381f-4e38-cc81-f740a0c5e0e4"
      },
      "execution_count": null,
      "outputs": [
        {
          "output_type": "stream",
          "name": "stdout",
          "text": [
            "Epoch 1/5\n",
            "1/1 [==============================] - 1s 911ms/step - loss: 109.6737 - mae: 109.6737\n",
            "Epoch 2/5\n",
            "1/1 [==============================] - 0s 14ms/step - loss: 104.6012 - mae: 104.6012\n",
            "Epoch 3/5\n",
            "1/1 [==============================] - 0s 12ms/step - loss: 99.5286 - mae: 99.5286\n",
            "Epoch 4/5\n",
            "1/1 [==============================] - 0s 14ms/step - loss: 94.4562 - mae: 94.4562\n",
            "Epoch 5/5\n",
            "1/1 [==============================] - 0s 13ms/step - loss: 89.3837 - mae: 89.3837\n"
          ]
        },
        {
          "output_type": "execute_result",
          "data": {
            "text/plain": [
              "<keras.callbacks.History at 0x7efba12f8050>"
            ]
          },
          "metadata": {},
          "execution_count": 59
        }
      ]
    },
    {
      "cell_type": "markdown",
      "source": [
        "**2**"
      ],
      "metadata": {
        "id": "DjgGn7sunDdA"
      }
    },
    {
      "cell_type": "code",
      "source": [
        "# Split the data into train and test dataset\n",
        "\n",
        "X_train = x[:20]\n",
        "Y_train = y[:20]   # first 30 example(80% of data)\n",
        "\n",
        "X_test = x[20:]    # last 10 example (20% of data)\n",
        "Y_test = y[20:]\n",
        "\n",
        "len(X_train), len(X_test)"
      ],
      "metadata": {
        "colab": {
          "base_uri": "https://localhost:8080/"
        },
        "id": "ZiDTj4D8rGyZ",
        "outputId": "5a330a94-c927-4cb3-98ac-0c9205799e7f"
      },
      "execution_count": null,
      "outputs": [
        {
          "output_type": "execute_result",
          "data": {
            "text/plain": [
              "(20, 10)"
            ]
          },
          "metadata": {},
          "execution_count": 80
        }
      ]
    },
    {
      "cell_type": "code",
      "source": [
        "X_train.shape, Y_train.shape"
      ],
      "metadata": {
        "colab": {
          "base_uri": "https://localhost:8080/"
        },
        "id": "KnWz3umyrG0p",
        "outputId": "5a2335c5-f06b-4024-8330-1a09a1c25afc"
      },
      "execution_count": null,
      "outputs": [
        {
          "output_type": "execute_result",
          "data": {
            "text/plain": [
              "(TensorShape([20]), TensorShape([20]))"
            ]
          },
          "metadata": {},
          "execution_count": 81
        }
      ]
    },
    {
      "cell_type": "code",
      "source": [
        "X_test.shape, Y_test.shape"
      ],
      "metadata": {
        "colab": {
          "base_uri": "https://localhost:8080/"
        },
        "id": "BzAex75LrG9-",
        "outputId": "e4387940-a2cd-4cb5-fc2f-3467abac88e7"
      },
      "execution_count": null,
      "outputs": [
        {
          "output_type": "execute_result",
          "data": {
            "text/plain": [
              "(TensorShape([10]), TensorShape([10]))"
            ]
          },
          "metadata": {},
          "execution_count": 82
        }
      ]
    },
    {
      "cell_type": "code",
      "source": [
        "# Building a model with 4 layer\n",
        "\n",
        "tf.random.set_seed(42)\n",
        "# Replicating the original model\n",
        "model_1 = tf.keras.Sequential([\n",
        "                               tf.keras.layers.Dense(100),      # adding one layer\n",
        "                               tf.keras.layers.Dense(50),      #      adding another 2 layer\n",
        "                               tf.keras.layers.Dense(40),      #       adding another 3 layer\n",
        "                               tf.keras.layers.Dense(10)       #   adding another 4 layer\n",
        "])\n",
        "\n",
        "# Compile a model\n",
        "model_1.compile(loss=tf.keras.losses.mae,\n",
        "                optimizer=tf.keras.optimizers.Adam(),\n",
        "                metrics=['mae'])\n",
        "\n",
        "# Fitting a model\n",
        "hist = model_1.fit(tf.expand_dims(X_train, axis=-1),Y_train, epochs=100)    # verbose = set verbose=0 for less output"
      ],
      "metadata": {
        "id": "pIW26trPlNK4",
        "colab": {
          "base_uri": "https://localhost:8080/"
        },
        "outputId": "476e3976-aa95-48c8-d059-ad32f6876b50"
      },
      "execution_count": null,
      "outputs": [
        {
          "output_type": "stream",
          "name": "stdout",
          "text": [
            "Epoch 1/100\n",
            "1/1 [==============================] - 1s 522ms/step - loss: 97.4958 - mae: 97.4958\n",
            "Epoch 2/100\n",
            "1/1 [==============================] - 0s 13ms/step - loss: 97.3949 - mae: 97.3949\n",
            "Epoch 3/100\n",
            "1/1 [==============================] - 0s 14ms/step - loss: 97.2931 - mae: 97.2931\n",
            "Epoch 4/100\n",
            "1/1 [==============================] - 0s 12ms/step - loss: 97.1894 - mae: 97.1894\n",
            "Epoch 5/100\n",
            "1/1 [==============================] - 0s 14ms/step - loss: 97.0827 - mae: 97.0827\n",
            "Epoch 6/100\n",
            "1/1 [==============================] - 0s 11ms/step - loss: 96.9716 - mae: 96.9716\n",
            "Epoch 7/100\n",
            "1/1 [==============================] - 0s 12ms/step - loss: 96.8548 - mae: 96.8548\n",
            "Epoch 8/100\n",
            "1/1 [==============================] - 0s 14ms/step - loss: 96.7314 - mae: 96.7314\n",
            "Epoch 9/100\n",
            "1/1 [==============================] - 0s 15ms/step - loss: 96.6001 - mae: 96.6001\n",
            "Epoch 10/100\n",
            "1/1 [==============================] - 0s 10ms/step - loss: 96.4599 - mae: 96.4599\n",
            "Epoch 11/100\n",
            "1/1 [==============================] - 0s 9ms/step - loss: 96.3097 - mae: 96.3097\n",
            "Epoch 12/100\n",
            "1/1 [==============================] - 0s 11ms/step - loss: 96.1713 - mae: 96.1713\n",
            "Epoch 13/100\n",
            "1/1 [==============================] - 0s 9ms/step - loss: 96.0433 - mae: 96.0433\n",
            "Epoch 14/100\n",
            "1/1 [==============================] - 0s 9ms/step - loss: 95.9543 - mae: 95.9543\n",
            "Epoch 15/100\n",
            "1/1 [==============================] - 0s 9ms/step - loss: 95.8451 - mae: 95.8451\n",
            "Epoch 16/100\n",
            "1/1 [==============================] - 0s 8ms/step - loss: 95.7647 - mae: 95.7647\n",
            "Epoch 17/100\n",
            "1/1 [==============================] - 0s 10ms/step - loss: 95.6515 - mae: 95.6515\n",
            "Epoch 18/100\n",
            "1/1 [==============================] - 0s 9ms/step - loss: 95.5045 - mae: 95.5045\n",
            "Epoch 19/100\n",
            "1/1 [==============================] - 0s 9ms/step - loss: 95.4146 - mae: 95.4146\n",
            "Epoch 20/100\n",
            "1/1 [==============================] - 0s 10ms/step - loss: 95.3201 - mae: 95.3201\n",
            "Epoch 21/100\n",
            "1/1 [==============================] - 0s 11ms/step - loss: 95.2870 - mae: 95.2870\n",
            "Epoch 22/100\n",
            "1/1 [==============================] - 0s 9ms/step - loss: 95.2801 - mae: 95.2801\n",
            "Epoch 23/100\n",
            "1/1 [==============================] - 0s 11ms/step - loss: 95.2674 - mae: 95.2674\n",
            "Epoch 24/100\n",
            "1/1 [==============================] - 0s 9ms/step - loss: 95.2427 - mae: 95.2427\n",
            "Epoch 25/100\n",
            "1/1 [==============================] - 0s 10ms/step - loss: 95.1996 - mae: 95.1996\n",
            "Epoch 26/100\n",
            "1/1 [==============================] - 0s 10ms/step - loss: 95.1338 - mae: 95.1338\n",
            "Epoch 27/100\n",
            "1/1 [==============================] - 0s 11ms/step - loss: 95.0493 - mae: 95.0493\n",
            "Epoch 28/100\n",
            "1/1 [==============================] - 0s 8ms/step - loss: 94.9815 - mae: 94.9815\n",
            "Epoch 29/100\n",
            "1/1 [==============================] - 0s 8ms/step - loss: 94.9093 - mae: 94.9093\n",
            "Epoch 30/100\n",
            "1/1 [==============================] - 0s 10ms/step - loss: 94.8407 - mae: 94.8407\n",
            "Epoch 31/100\n",
            "1/1 [==============================] - 0s 7ms/step - loss: 94.7880 - mae: 94.7880\n",
            "Epoch 32/100\n",
            "1/1 [==============================] - 0s 7ms/step - loss: 94.7403 - mae: 94.7403\n",
            "Epoch 33/100\n",
            "1/1 [==============================] - 0s 10ms/step - loss: 94.7040 - mae: 94.7040\n",
            "Epoch 34/100\n",
            "1/1 [==============================] - 0s 10ms/step - loss: 94.6533 - mae: 94.6533\n",
            "Epoch 35/100\n",
            "1/1 [==============================] - 0s 12ms/step - loss: 94.6284 - mae: 94.6284\n",
            "Epoch 36/100\n",
            "1/1 [==============================] - 0s 14ms/step - loss: 94.6146 - mae: 94.6146\n",
            "Epoch 37/100\n",
            "1/1 [==============================] - 0s 11ms/step - loss: 94.6374 - mae: 94.6374\n",
            "Epoch 38/100\n",
            "1/1 [==============================] - 0s 12ms/step - loss: 94.6389 - mae: 94.6389\n",
            "Epoch 39/100\n",
            "1/1 [==============================] - 0s 14ms/step - loss: 94.6058 - mae: 94.6058\n",
            "Epoch 40/100\n",
            "1/1 [==============================] - 0s 13ms/step - loss: 94.5544 - mae: 94.5544\n",
            "Epoch 41/100\n",
            "1/1 [==============================] - 0s 11ms/step - loss: 94.5174 - mae: 94.5174\n",
            "Epoch 42/100\n",
            "1/1 [==============================] - 0s 19ms/step - loss: 94.4910 - mae: 94.4910\n",
            "Epoch 43/100\n",
            "1/1 [==============================] - 0s 11ms/step - loss: 94.4559 - mae: 94.4559\n",
            "Epoch 44/100\n",
            "1/1 [==============================] - 0s 7ms/step - loss: 94.4134 - mae: 94.4134\n",
            "Epoch 45/100\n",
            "1/1 [==============================] - 0s 12ms/step - loss: 94.3711 - mae: 94.3711\n",
            "Epoch 46/100\n",
            "1/1 [==============================] - 0s 8ms/step - loss: 94.3400 - mae: 94.3400\n",
            "Epoch 47/100\n",
            "1/1 [==============================] - 0s 10ms/step - loss: 94.3172 - mae: 94.3172\n",
            "Epoch 48/100\n",
            "1/1 [==============================] - 0s 10ms/step - loss: 94.2898 - mae: 94.2898\n",
            "Epoch 49/100\n",
            "1/1 [==============================] - 0s 12ms/step - loss: 94.2631 - mae: 94.2631\n",
            "Epoch 50/100\n",
            "1/1 [==============================] - 0s 7ms/step - loss: 94.2422 - mae: 94.2422\n",
            "Epoch 51/100\n",
            "1/1 [==============================] - 0s 8ms/step - loss: 94.2065 - mae: 94.2065\n",
            "Epoch 52/100\n",
            "1/1 [==============================] - 0s 8ms/step - loss: 94.1672 - mae: 94.1672\n",
            "Epoch 53/100\n",
            "1/1 [==============================] - 0s 9ms/step - loss: 94.1267 - mae: 94.1267\n",
            "Epoch 54/100\n",
            "1/1 [==============================] - 0s 7ms/step - loss: 94.0917 - mae: 94.0917\n",
            "Epoch 55/100\n",
            "1/1 [==============================] - 0s 7ms/step - loss: 94.0726 - mae: 94.0726\n",
            "Epoch 56/100\n",
            "1/1 [==============================] - 0s 8ms/step - loss: 94.0295 - mae: 94.0295\n",
            "Epoch 57/100\n",
            "1/1 [==============================] - 0s 8ms/step - loss: 93.9761 - mae: 93.9761\n",
            "Epoch 58/100\n",
            "1/1 [==============================] - 0s 10ms/step - loss: 93.9425 - mae: 93.9425\n",
            "Epoch 59/100\n",
            "1/1 [==============================] - 0s 7ms/step - loss: 93.9208 - mae: 93.9208\n",
            "Epoch 60/100\n",
            "1/1 [==============================] - 0s 10ms/step - loss: 93.8962 - mae: 93.8962\n",
            "Epoch 61/100\n",
            "1/1 [==============================] - 0s 8ms/step - loss: 93.8553 - mae: 93.8553\n",
            "Epoch 62/100\n",
            "1/1 [==============================] - 0s 12ms/step - loss: 93.7942 - mae: 93.7942\n",
            "Epoch 63/100\n",
            "1/1 [==============================] - 0s 9ms/step - loss: 93.7372 - mae: 93.7372\n",
            "Epoch 64/100\n",
            "1/1 [==============================] - 0s 16ms/step - loss: 93.6930 - mae: 93.6930\n",
            "Epoch 65/100\n",
            "1/1 [==============================] - 0s 8ms/step - loss: 93.6333 - mae: 93.6333\n",
            "Epoch 66/100\n",
            "1/1 [==============================] - 0s 11ms/step - loss: 93.5862 - mae: 93.5862\n",
            "Epoch 67/100\n",
            "1/1 [==============================] - 0s 9ms/step - loss: 93.5452 - mae: 93.5452\n",
            "Epoch 68/100\n",
            "1/1 [==============================] - 0s 12ms/step - loss: 93.4943 - mae: 93.4943\n",
            "Epoch 69/100\n",
            "1/1 [==============================] - 0s 7ms/step - loss: 93.4357 - mae: 93.4357\n",
            "Epoch 70/100\n",
            "1/1 [==============================] - 0s 8ms/step - loss: 93.3693 - mae: 93.3693\n",
            "Epoch 71/100\n",
            "1/1 [==============================] - 0s 10ms/step - loss: 93.3271 - mae: 93.3271\n",
            "Epoch 72/100\n",
            "1/1 [==============================] - 0s 10ms/step - loss: 93.2567 - mae: 93.2567\n",
            "Epoch 73/100\n",
            "1/1 [==============================] - 0s 11ms/step - loss: 93.1750 - mae: 93.1750\n",
            "Epoch 74/100\n",
            "1/1 [==============================] - 0s 11ms/step - loss: 93.1079 - mae: 93.1079\n",
            "Epoch 75/100\n",
            "1/1 [==============================] - 0s 9ms/step - loss: 93.0353 - mae: 93.0353\n",
            "Epoch 76/100\n",
            "1/1 [==============================] - 0s 10ms/step - loss: 92.9612 - mae: 92.9612\n",
            "Epoch 77/100\n",
            "1/1 [==============================] - 0s 11ms/step - loss: 92.8773 - mae: 92.8773\n",
            "Epoch 78/100\n",
            "1/1 [==============================] - 0s 33ms/step - loss: 92.7851 - mae: 92.7851\n",
            "Epoch 79/100\n",
            "1/1 [==============================] - 0s 17ms/step - loss: 92.6997 - mae: 92.6997\n",
            "Epoch 80/100\n",
            "1/1 [==============================] - 0s 21ms/step - loss: 92.6003 - mae: 92.6003\n",
            "Epoch 81/100\n",
            "1/1 [==============================] - 0s 14ms/step - loss: 92.4857 - mae: 92.4857\n",
            "Epoch 82/100\n",
            "1/1 [==============================] - 0s 16ms/step - loss: 92.3748 - mae: 92.3748\n",
            "Epoch 83/100\n",
            "1/1 [==============================] - 0s 11ms/step - loss: 92.2650 - mae: 92.2650\n",
            "Epoch 84/100\n",
            "1/1 [==============================] - 0s 11ms/step - loss: 92.1526 - mae: 92.1526\n",
            "Epoch 85/100\n",
            "1/1 [==============================] - 0s 10ms/step - loss: 92.0253 - mae: 92.0253\n",
            "Epoch 86/100\n",
            "1/1 [==============================] - 0s 9ms/step - loss: 91.8817 - mae: 91.8817\n",
            "Epoch 87/100\n",
            "1/1 [==============================] - 0s 16ms/step - loss: 91.7396 - mae: 91.7396\n",
            "Epoch 88/100\n",
            "1/1 [==============================] - 0s 14ms/step - loss: 91.5863 - mae: 91.5863\n",
            "Epoch 89/100\n",
            "1/1 [==============================] - 0s 8ms/step - loss: 91.4287 - mae: 91.4287\n",
            "Epoch 90/100\n",
            "1/1 [==============================] - 0s 12ms/step - loss: 91.2487 - mae: 91.2487\n",
            "Epoch 91/100\n",
            "1/1 [==============================] - 0s 10ms/step - loss: 91.0610 - mae: 91.0610\n",
            "Epoch 92/100\n",
            "1/1 [==============================] - 0s 10ms/step - loss: 90.8784 - mae: 90.8784\n",
            "Epoch 93/100\n",
            "1/1 [==============================] - 0s 10ms/step - loss: 90.6628 - mae: 90.6628\n",
            "Epoch 94/100\n",
            "1/1 [==============================] - 0s 8ms/step - loss: 90.4625 - mae: 90.4625\n",
            "Epoch 95/100\n",
            "1/1 [==============================] - 0s 10ms/step - loss: 90.1998 - mae: 90.1998\n",
            "Epoch 96/100\n",
            "1/1 [==============================] - 0s 10ms/step - loss: 89.9728 - mae: 89.9728\n",
            "Epoch 97/100\n",
            "1/1 [==============================] - 0s 14ms/step - loss: 89.7001 - mae: 89.7001\n",
            "Epoch 98/100\n",
            "1/1 [==============================] - 0s 9ms/step - loss: 89.3899 - mae: 89.3899\n",
            "Epoch 99/100\n",
            "1/1 [==============================] - 0s 8ms/step - loss: 89.1206 - mae: 89.1206\n",
            "Epoch 100/100\n",
            "1/1 [==============================] - 0s 11ms/step - loss: 88.7500 - mae: 88.7500\n"
          ]
        }
      ]
    },
    {
      "cell_type": "code",
      "source": [
        "# Evaluate a model \n",
        "model_1.evaluate(X_test, Y_test)"
      ],
      "metadata": {
        "id": "22qLvdy8lNNg",
        "colab": {
          "base_uri": "https://localhost:8080/"
        },
        "outputId": "6ebf033b-18f5-4b46-de78-9ce07f603e5a"
      },
      "execution_count": null,
      "outputs": [
        {
          "output_type": "stream",
          "name": "stdout",
          "text": [
            "1/1 [==============================] - 0s 163ms/step - loss: 230.9827 - mae: 230.9827\n"
          ]
        },
        {
          "output_type": "execute_result",
          "data": {
            "text/plain": [
              "[230.982666015625, 230.982666015625]"
            ]
          },
          "metadata": {},
          "execution_count": 84
        }
      ]
    },
    {
      "cell_type": "markdown",
      "source": [
        "**3**"
      ],
      "metadata": {
        "id": "BdXA5VS1wAKb"
      }
    },
    {
      "cell_type": "code",
      "source": [
        "from keras.datasets import boston_housing"
      ],
      "metadata": {
        "id": "uxQnTsCG4LAD"
      },
      "execution_count": null,
      "outputs": []
    },
    {
      "cell_type": "code",
      "source": [
        "(x_train, y_train), (x_test, y_test) = tf.keras.datasets.boston_housing.load_data(path='boston_housing.npz', test_split=0.2, seed=113)\n"
      ],
      "metadata": {
        "id": "uLPPnhqnv_es"
      },
      "execution_count": null,
      "outputs": []
    },
    {
      "cell_type": "code",
      "source": [
        "# Building a model 1\n",
        "\n",
        "tf.random.set_seed(42)\n",
        "\n",
        "# create a model\n",
        "boston_house_1 = tf.keras.Sequential([tf.keras.layers.Dense(1)])\n",
        "\n",
        "# Compile a model\n",
        "boston_house_1.compile(loss=tf.keras.losses.mae, optimizer=tf.keras.optimizers.SGD(), metrics=['mae'])\n",
        "\n",
        "# Fitting a model\n",
        "history_1 = boston_house_1.fit(x_train, y_train, epochs=100)"
      ],
      "metadata": {
        "colab": {
          "base_uri": "https://localhost:8080/"
        },
        "id": "bCsKDhucv_hH",
        "outputId": "def92665-44d9-4959-89a9-adbe9b3a3fc9"
      },
      "execution_count": null,
      "outputs": [
        {
          "output_type": "stream",
          "name": "stdout",
          "text": [
            "Epoch 1/100\n",
            "13/13 [==============================] - 1s 4ms/step - loss: 1400.7137 - mae: 1400.7137\n",
            "Epoch 2/100\n",
            "13/13 [==============================] - 0s 3ms/step - loss: 1493.2344 - mae: 1493.2344\n",
            "Epoch 3/100\n",
            "13/13 [==============================] - 0s 2ms/step - loss: 1495.6243 - mae: 1495.6243\n",
            "Epoch 4/100\n",
            "13/13 [==============================] - 0s 2ms/step - loss: 1473.0265 - mae: 1473.0265\n",
            "Epoch 5/100\n",
            "13/13 [==============================] - 0s 3ms/step - loss: 1487.6387 - mae: 1487.6387\n",
            "Epoch 6/100\n",
            "13/13 [==============================] - 0s 3ms/step - loss: 1378.3380 - mae: 1378.3380\n",
            "Epoch 7/100\n",
            "13/13 [==============================] - 0s 5ms/step - loss: 1517.7684 - mae: 1517.7684\n",
            "Epoch 8/100\n",
            "13/13 [==============================] - 0s 3ms/step - loss: 1508.8787 - mae: 1508.8787\n",
            "Epoch 9/100\n",
            "13/13 [==============================] - 0s 4ms/step - loss: 1436.3755 - mae: 1436.3755\n",
            "Epoch 10/100\n",
            "13/13 [==============================] - 0s 4ms/step - loss: 1550.9109 - mae: 1550.9109\n",
            "Epoch 11/100\n",
            "13/13 [==============================] - 0s 4ms/step - loss: 1458.7786 - mae: 1458.7786\n",
            "Epoch 12/100\n",
            "13/13 [==============================] - 0s 8ms/step - loss: 1499.6093 - mae: 1499.6093\n",
            "Epoch 13/100\n",
            "13/13 [==============================] - 0s 5ms/step - loss: 1476.0994 - mae: 1476.0994\n",
            "Epoch 14/100\n",
            "13/13 [==============================] - 0s 6ms/step - loss: 1474.9894 - mae: 1474.9894\n",
            "Epoch 15/100\n",
            "13/13 [==============================] - 0s 4ms/step - loss: 1518.1871 - mae: 1518.1871\n",
            "Epoch 16/100\n",
            "13/13 [==============================] - 0s 4ms/step - loss: 1471.6715 - mae: 1471.6715\n",
            "Epoch 17/100\n",
            "13/13 [==============================] - 0s 4ms/step - loss: 1476.3420 - mae: 1476.3420\n",
            "Epoch 18/100\n",
            "13/13 [==============================] - 0s 4ms/step - loss: 1500.6077 - mae: 1500.6077\n",
            "Epoch 19/100\n",
            "13/13 [==============================] - 0s 6ms/step - loss: 1492.6804 - mae: 1492.6804\n",
            "Epoch 20/100\n",
            "13/13 [==============================] - 0s 3ms/step - loss: 1471.4382 - mae: 1471.4382\n",
            "Epoch 21/100\n",
            "13/13 [==============================] - 0s 3ms/step - loss: 1482.7434 - mae: 1482.7434\n",
            "Epoch 22/100\n",
            "13/13 [==============================] - 0s 5ms/step - loss: 1474.5387 - mae: 1474.5387\n",
            "Epoch 23/100\n",
            "13/13 [==============================] - 0s 4ms/step - loss: 1506.9847 - mae: 1506.9847\n",
            "Epoch 24/100\n",
            "13/13 [==============================] - 0s 6ms/step - loss: 1459.5580 - mae: 1459.5580\n",
            "Epoch 25/100\n",
            "13/13 [==============================] - 0s 4ms/step - loss: 1510.5099 - mae: 1510.5099\n",
            "Epoch 26/100\n",
            "13/13 [==============================] - 0s 5ms/step - loss: 1419.3097 - mae: 1419.3097\n",
            "Epoch 27/100\n",
            "13/13 [==============================] - 0s 5ms/step - loss: 1459.3569 - mae: 1459.3569\n",
            "Epoch 28/100\n",
            "13/13 [==============================] - 0s 4ms/step - loss: 1473.5389 - mae: 1473.5389\n",
            "Epoch 29/100\n",
            "13/13 [==============================] - 0s 6ms/step - loss: 1520.1633 - mae: 1520.1633\n",
            "Epoch 30/100\n",
            "13/13 [==============================] - 0s 4ms/step - loss: 1481.0096 - mae: 1481.0096\n",
            "Epoch 31/100\n",
            "13/13 [==============================] - 0s 6ms/step - loss: 1504.5305 - mae: 1504.5305\n",
            "Epoch 32/100\n",
            "13/13 [==============================] - 0s 6ms/step - loss: 1487.5828 - mae: 1487.5828\n",
            "Epoch 33/100\n",
            "13/13 [==============================] - 0s 5ms/step - loss: 1497.2218 - mae: 1497.2218\n",
            "Epoch 34/100\n",
            "13/13 [==============================] - 0s 4ms/step - loss: 1488.3358 - mae: 1488.3358\n",
            "Epoch 35/100\n",
            "13/13 [==============================] - 0s 4ms/step - loss: 1469.6451 - mae: 1469.6451\n",
            "Epoch 36/100\n",
            "13/13 [==============================] - 0s 3ms/step - loss: 1491.5450 - mae: 1491.5450\n",
            "Epoch 37/100\n",
            "13/13 [==============================] - 0s 4ms/step - loss: 1473.6841 - mae: 1473.6841\n",
            "Epoch 38/100\n",
            "13/13 [==============================] - 0s 3ms/step - loss: 1499.9000 - mae: 1499.9000\n",
            "Epoch 39/100\n",
            "13/13 [==============================] - 0s 3ms/step - loss: 1434.9391 - mae: 1434.9391\n",
            "Epoch 40/100\n",
            "13/13 [==============================] - 0s 3ms/step - loss: 1529.3719 - mae: 1529.3719\n",
            "Epoch 41/100\n",
            "13/13 [==============================] - 0s 3ms/step - loss: 1400.4816 - mae: 1400.4816\n",
            "Epoch 42/100\n",
            "13/13 [==============================] - 0s 3ms/step - loss: 1531.1494 - mae: 1531.1494\n",
            "Epoch 43/100\n",
            "13/13 [==============================] - 0s 3ms/step - loss: 1424.5403 - mae: 1424.5403\n",
            "Epoch 44/100\n",
            "13/13 [==============================] - 0s 4ms/step - loss: 1492.5085 - mae: 1492.5085\n",
            "Epoch 45/100\n",
            "13/13 [==============================] - 0s 5ms/step - loss: 1476.1171 - mae: 1476.1171\n",
            "Epoch 46/100\n",
            "13/13 [==============================] - 0s 4ms/step - loss: 1410.7278 - mae: 1410.7278\n",
            "Epoch 47/100\n",
            "13/13 [==============================] - 0s 3ms/step - loss: 1500.0280 - mae: 1500.0280\n",
            "Epoch 48/100\n",
            "13/13 [==============================] - 0s 3ms/step - loss: 1506.6722 - mae: 1506.6722\n",
            "Epoch 49/100\n",
            "13/13 [==============================] - 0s 3ms/step - loss: 1472.1619 - mae: 1472.1619\n",
            "Epoch 50/100\n",
            "13/13 [==============================] - 0s 4ms/step - loss: 1524.3757 - mae: 1524.3757\n",
            "Epoch 51/100\n",
            "13/13 [==============================] - 0s 6ms/step - loss: 1481.0345 - mae: 1481.0345\n",
            "Epoch 52/100\n",
            "13/13 [==============================] - 0s 5ms/step - loss: 1460.0378 - mae: 1460.0378\n",
            "Epoch 53/100\n",
            "13/13 [==============================] - 0s 4ms/step - loss: 1520.5162 - mae: 1520.5162\n",
            "Epoch 54/100\n",
            "13/13 [==============================] - 0s 4ms/step - loss: 1489.8420 - mae: 1489.8420\n",
            "Epoch 55/100\n",
            "13/13 [==============================] - 0s 4ms/step - loss: 1507.8420 - mae: 1507.8420\n",
            "Epoch 56/100\n",
            "13/13 [==============================] - 0s 3ms/step - loss: 1460.6989 - mae: 1460.6989\n",
            "Epoch 57/100\n",
            "13/13 [==============================] - 0s 3ms/step - loss: 1507.4282 - mae: 1507.4282\n",
            "Epoch 58/100\n",
            "13/13 [==============================] - 0s 3ms/step - loss: 1400.7720 - mae: 1400.7720\n",
            "Epoch 59/100\n",
            "13/13 [==============================] - 0s 3ms/step - loss: 1483.1100 - mae: 1483.1100\n",
            "Epoch 60/100\n",
            "13/13 [==============================] - 0s 4ms/step - loss: 1483.8928 - mae: 1483.8928\n",
            "Epoch 61/100\n",
            "13/13 [==============================] - 0s 4ms/step - loss: 1481.7292 - mae: 1481.7292\n",
            "Epoch 62/100\n",
            "13/13 [==============================] - 0s 6ms/step - loss: 1425.5040 - mae: 1425.5040\n",
            "Epoch 63/100\n",
            "13/13 [==============================] - 0s 6ms/step - loss: 1439.5363 - mae: 1439.5363\n",
            "Epoch 64/100\n",
            "13/13 [==============================] - 0s 6ms/step - loss: 1507.3975 - mae: 1507.3975\n",
            "Epoch 65/100\n",
            "13/13 [==============================] - 0s 4ms/step - loss: 1467.6458 - mae: 1467.6458\n",
            "Epoch 66/100\n",
            "13/13 [==============================] - 0s 4ms/step - loss: 1453.4657 - mae: 1453.4657\n",
            "Epoch 67/100\n",
            "13/13 [==============================] - 0s 5ms/step - loss: 1454.3494 - mae: 1454.3494\n",
            "Epoch 68/100\n",
            "13/13 [==============================] - 0s 5ms/step - loss: 1492.9044 - mae: 1492.9044\n",
            "Epoch 69/100\n",
            "13/13 [==============================] - 0s 4ms/step - loss: 1450.2919 - mae: 1450.2919\n",
            "Epoch 70/100\n",
            "13/13 [==============================] - 0s 5ms/step - loss: 1509.1205 - mae: 1509.1205\n",
            "Epoch 71/100\n",
            "13/13 [==============================] - 0s 5ms/step - loss: 1430.6256 - mae: 1430.6256\n",
            "Epoch 72/100\n",
            "13/13 [==============================] - 0s 6ms/step - loss: 1508.9773 - mae: 1508.9773\n",
            "Epoch 73/100\n",
            "13/13 [==============================] - 0s 3ms/step - loss: 1482.1140 - mae: 1482.1140\n",
            "Epoch 74/100\n",
            "13/13 [==============================] - 0s 5ms/step - loss: 1463.9036 - mae: 1463.9036\n",
            "Epoch 75/100\n",
            "13/13 [==============================] - 0s 4ms/step - loss: 1422.7687 - mae: 1422.7687\n",
            "Epoch 76/100\n",
            "13/13 [==============================] - 0s 4ms/step - loss: 1500.9282 - mae: 1500.9282\n",
            "Epoch 77/100\n",
            "13/13 [==============================] - 0s 3ms/step - loss: 1403.5966 - mae: 1403.5966\n",
            "Epoch 78/100\n",
            "13/13 [==============================] - 0s 3ms/step - loss: 1508.3756 - mae: 1508.3756\n",
            "Epoch 79/100\n",
            "13/13 [==============================] - 0s 3ms/step - loss: 1457.2368 - mae: 1457.2368\n",
            "Epoch 80/100\n",
            "13/13 [==============================] - 0s 4ms/step - loss: 1508.2013 - mae: 1508.2013\n",
            "Epoch 81/100\n",
            "13/13 [==============================] - 0s 6ms/step - loss: 1454.9645 - mae: 1454.9645\n",
            "Epoch 82/100\n",
            "13/13 [==============================] - 0s 4ms/step - loss: 1518.0063 - mae: 1518.0063\n",
            "Epoch 83/100\n",
            "13/13 [==============================] - 0s 7ms/step - loss: 1450.3165 - mae: 1450.3165\n",
            "Epoch 84/100\n",
            "13/13 [==============================] - 0s 4ms/step - loss: 1464.5343 - mae: 1464.5343\n",
            "Epoch 85/100\n",
            "13/13 [==============================] - 0s 6ms/step - loss: 1466.5546 - mae: 1466.5546\n",
            "Epoch 86/100\n",
            "13/13 [==============================] - 0s 4ms/step - loss: 1491.1038 - mae: 1491.1038\n",
            "Epoch 87/100\n",
            "13/13 [==============================] - 0s 6ms/step - loss: 1350.5925 - mae: 1350.5925\n",
            "Epoch 88/100\n",
            "13/13 [==============================] - 0s 7ms/step - loss: 1472.3341 - mae: 1472.3341\n",
            "Epoch 89/100\n",
            "13/13 [==============================] - 0s 7ms/step - loss: 1419.3744 - mae: 1419.3744\n",
            "Epoch 90/100\n",
            "13/13 [==============================] - 0s 6ms/step - loss: 1465.8079 - mae: 1465.8079\n",
            "Epoch 91/100\n",
            "13/13 [==============================] - 0s 9ms/step - loss: 1460.4259 - mae: 1460.4259\n",
            "Epoch 92/100\n",
            "13/13 [==============================] - 0s 7ms/step - loss: 1406.1775 - mae: 1406.1775\n",
            "Epoch 93/100\n",
            "13/13 [==============================] - 0s 3ms/step - loss: 1436.5121 - mae: 1436.5121\n",
            "Epoch 94/100\n",
            "13/13 [==============================] - 0s 4ms/step - loss: 1455.1541 - mae: 1455.1541\n",
            "Epoch 95/100\n",
            "13/13 [==============================] - 0s 6ms/step - loss: 1465.6123 - mae: 1465.6123\n",
            "Epoch 96/100\n",
            "13/13 [==============================] - 0s 3ms/step - loss: 1491.2562 - mae: 1491.2562\n",
            "Epoch 97/100\n",
            "13/13 [==============================] - 0s 5ms/step - loss: 1461.4740 - mae: 1461.4740\n",
            "Epoch 98/100\n",
            "13/13 [==============================] - 0s 4ms/step - loss: 1463.9333 - mae: 1463.9333\n",
            "Epoch 99/100\n",
            "13/13 [==============================] - 0s 6ms/step - loss: 1467.3518 - mae: 1467.3518\n",
            "Epoch 100/100\n",
            "13/13 [==============================] - 0s 5ms/step - loss: 1500.3387 - mae: 1500.3387\n"
          ]
        }
      ]
    },
    {
      "cell_type": "code",
      "source": [
        "# Evaluate a model\n",
        "boston_house.evaluate(x_test, y_test)"
      ],
      "metadata": {
        "colab": {
          "base_uri": "https://localhost:8080/"
        },
        "id": "I4tLhaFG2H_5",
        "outputId": "eda8c4ce-e133-447b-b387-50c79b51fe85"
      },
      "execution_count": null,
      "outputs": [
        {
          "output_type": "stream",
          "name": "stdout",
          "text": [
            "4/4 [==============================] - 0s 3ms/step - loss: 830.8780 - mae: 830.8780\n"
          ]
        },
        {
          "output_type": "execute_result",
          "data": {
            "text/plain": [
              "[830.8779907226562, 830.8779907226562]"
            ]
          },
          "metadata": {},
          "execution_count": 96
        }
      ]
    },
    {
      "cell_type": "code",
      "source": [
        "# plot the history (also known as loss curve)\n",
        "pd.DataFrame(history_1.history).plot()\n",
        "plt.xlabel('loss')\n",
        "plt.ylabel('Epos')\n",
        "plt.show()"
      ],
      "metadata": {
        "colab": {
          "base_uri": "https://localhost:8080/",
          "height": 279
        },
        "id": "1XskmcjB2IDi",
        "outputId": "d008a983-1fa6-4190-dff8-e193962287fd"
      },
      "execution_count": null,
      "outputs": [
        {
          "output_type": "display_data",
          "data": {
            "text/plain": [
              "<Figure size 432x288 with 1 Axes>"
            ],
            "image/png": "[encoded data removed]"
          },
          "metadata": {
            "needs_background": "light"
          }
        }
      ]
    },
    {
      "cell_type": "code",
      "source": [
        "# building Model 2\n",
        "# set random seed (42)\n",
        "tf.random.set_seed(42)\n",
        "# Replicating the original model\n",
        "boston_house_2 = tf.keras.Sequential([\n",
        "                               tf.keras.layers.Dense(100),      #  adding one layer\n",
        "                               tf.keras.layers.Dense(1),      #      adding second layer\n",
        "])\n",
        "\n",
        "# Compile a model\n",
        "boston_house_2.compile(loss=tf.keras.losses.mae,\n",
        "                optimizer=tf.keras.optimizers.Adam(),\n",
        "                metrics=['mae'])\n",
        "\n",
        "# Fitting a model\n",
        "history_2 = boston_house_2.fit(x_train,y_train, epochs=200)    # verbose = set verbose=0 for less output"
      ],
      "metadata": {
        "colab": {
          "base_uri": "https://localhost:8080/"
        },
        "id": "fRhqqcNw2IGu",
        "outputId": "249ccd75-6728-4985-8ca3-c172e1bebf98"
      },
      "execution_count": null,
      "outputs": [
        {
          "output_type": "stream",
          "name": "stdout",
          "text": [
            "Epoch 1/200\n",
            "13/13 [==============================] - 0s 2ms/step - loss: 9.0447 - mae: 9.0447\n",
            "Epoch 2/200\n",
            "13/13 [==============================] - 0s 2ms/step - loss: 7.3164 - mae: 7.3164\n",
            "Epoch 3/200\n",
            "13/13 [==============================] - 0s 3ms/step - loss: 6.9404 - mae: 6.9404\n",
            "Epoch 4/200\n",
            "13/13 [==============================] - 0s 2ms/step - loss: 6.5614 - mae: 6.5614\n",
            "Epoch 5/200\n",
            "13/13 [==============================] - 0s 2ms/step - loss: 6.0898 - mae: 6.0898\n",
            "Epoch 6/200\n",
            "13/13 [==============================] - 0s 2ms/step - loss: 5.7772 - mae: 5.7772\n",
            "Epoch 7/200\n",
            "13/13 [==============================] - 0s 2ms/step - loss: 5.7113 - mae: 5.7113\n",
            "Epoch 8/200\n",
            "13/13 [==============================] - 0s 2ms/step - loss: 5.7268 - mae: 5.7268\n",
            "Epoch 9/200\n",
            "13/13 [==============================] - 0s 2ms/step - loss: 6.2862 - mae: 6.2862\n",
            "Epoch 10/200\n",
            "13/13 [==============================] - 0s 2ms/step - loss: 5.5681 - mae: 5.5681\n",
            "Epoch 11/200\n",
            "13/13 [==============================] - 0s 2ms/step - loss: 5.9069 - mae: 5.9069\n",
            "Epoch 12/200\n",
            "13/13 [==============================] - 0s 2ms/step - loss: 5.5906 - mae: 5.5906\n",
            "Epoch 13/200\n",
            "13/13 [==============================] - 0s 2ms/step - loss: 5.9237 - mae: 5.9237\n",
            "Epoch 14/200\n",
            "13/13 [==============================] - 0s 2ms/step - loss: 5.5662 - mae: 5.5662\n",
            "Epoch 15/200\n",
            "13/13 [==============================] - 0s 3ms/step - loss: 5.1742 - mae: 5.1742\n",
            "Epoch 16/200\n",
            "13/13 [==============================] - 0s 3ms/step - loss: 5.3228 - mae: 5.3228\n",
            "Epoch 17/200\n",
            "13/13 [==============================] - 0s 2ms/step - loss: 5.2407 - mae: 5.2407\n",
            "Epoch 18/200\n",
            "13/13 [==============================] - 0s 2ms/step - loss: 5.1739 - mae: 5.1739\n",
            "Epoch 19/200\n",
            "13/13 [==============================] - 0s 2ms/step - loss: 4.9803 - mae: 4.9803\n",
            "Epoch 20/200\n",
            "13/13 [==============================] - 0s 2ms/step - loss: 5.0961 - mae: 5.0961\n",
            "Epoch 21/200\n",
            "13/13 [==============================] - 0s 4ms/step - loss: 5.0729 - mae: 5.0729\n",
            "Epoch 22/200\n",
            "13/13 [==============================] - 0s 4ms/step - loss: 4.9097 - mae: 4.9097\n",
            "Epoch 23/200\n",
            "13/13 [==============================] - 0s 3ms/step - loss: 4.9622 - mae: 4.9622\n",
            "Epoch 24/200\n",
            "13/13 [==============================] - 0s 5ms/step - loss: 5.0887 - mae: 5.0887\n",
            "Epoch 25/200\n",
            "13/13 [==============================] - 0s 5ms/step - loss: 5.3798 - mae: 5.3798\n",
            "Epoch 26/200\n",
            "13/13 [==============================] - 0s 3ms/step - loss: 4.9493 - mae: 4.9493\n",
            "Epoch 27/200\n",
            "13/13 [==============================] - 0s 3ms/step - loss: 5.1450 - mae: 5.1450\n",
            "Epoch 28/200\n",
            "13/13 [==============================] - 0s 3ms/step - loss: 5.2567 - mae: 5.2567\n",
            "Epoch 29/200\n",
            "13/13 [==============================] - 0s 4ms/step - loss: 4.9558 - mae: 4.9558\n",
            "Epoch 30/200\n",
            "13/13 [==============================] - 0s 3ms/step - loss: 4.7765 - mae: 4.7765\n",
            "Epoch 31/200\n",
            "13/13 [==============================] - 0s 7ms/step - loss: 4.7480 - mae: 4.7480\n",
            "Epoch 32/200\n",
            "13/13 [==============================] - 0s 5ms/step - loss: 5.5187 - mae: 5.5187\n",
            "Epoch 33/200\n",
            "13/13 [==============================] - 0s 6ms/step - loss: 4.6900 - mae: 4.6900\n",
            "Epoch 34/200\n",
            "13/13 [==============================] - 0s 6ms/step - loss: 5.3710 - mae: 5.3710\n",
            "Epoch 35/200\n",
            "13/13 [==============================] - 0s 5ms/step - loss: 4.6544 - mae: 4.6544\n",
            "Epoch 36/200\n",
            "13/13 [==============================] - 0s 4ms/step - loss: 4.9376 - mae: 4.9376\n",
            "Epoch 37/200\n",
            "13/13 [==============================] - 0s 3ms/step - loss: 4.9390 - mae: 4.9390\n",
            "Epoch 38/200\n",
            "13/13 [==============================] - 0s 4ms/step - loss: 4.7956 - mae: 4.7956\n",
            "Epoch 39/200\n",
            "13/13 [==============================] - 0s 3ms/step - loss: 4.6493 - mae: 4.6493\n",
            "Epoch 40/200\n",
            "13/13 [==============================] - 0s 3ms/step - loss: 4.6284 - mae: 4.6284\n",
            "Epoch 41/200\n",
            "13/13 [==============================] - 0s 5ms/step - loss: 4.8081 - mae: 4.8081\n",
            "Epoch 42/200\n",
            "13/13 [==============================] - 0s 3ms/step - loss: 5.1965 - mae: 5.1965\n",
            "Epoch 43/200\n",
            "13/13 [==============================] - 0s 3ms/step - loss: 5.6168 - mae: 5.6168\n",
            "Epoch 44/200\n",
            "13/13 [==============================] - 0s 5ms/step - loss: 4.7290 - mae: 4.7290\n",
            "Epoch 45/200\n",
            "13/13 [==============================] - 0s 4ms/step - loss: 5.2298 - mae: 5.2298\n",
            "Epoch 46/200\n",
            "13/13 [==============================] - 0s 3ms/step - loss: 4.6007 - mae: 4.6007\n",
            "Epoch 47/200\n",
            "13/13 [==============================] - 0s 3ms/step - loss: 4.7724 - mae: 4.7724\n",
            "Epoch 48/200\n",
            "13/13 [==============================] - 0s 4ms/step - loss: 4.6418 - mae: 4.6418\n",
            "Epoch 49/200\n",
            "13/13 [==============================] - 0s 4ms/step - loss: 4.5531 - mae: 4.5531\n",
            "Epoch 50/200\n",
            "13/13 [==============================] - 0s 7ms/step - loss: 5.0582 - mae: 5.0582\n",
            "Epoch 51/200\n",
            "13/13 [==============================] - 0s 6ms/step - loss: 4.7351 - mae: 4.7351\n",
            "Epoch 52/200\n",
            "13/13 [==============================] - 0s 4ms/step - loss: 4.4541 - mae: 4.4541\n",
            "Epoch 53/200\n",
            "13/13 [==============================] - 0s 4ms/step - loss: 5.0975 - mae: 5.0975\n",
            "Epoch 54/200\n",
            "13/13 [==============================] - 0s 4ms/step - loss: 4.4696 - mae: 4.4696\n",
            "Epoch 55/200\n",
            "13/13 [==============================] - 0s 4ms/step - loss: 4.3152 - mae: 4.3152\n",
            "Epoch 56/200\n",
            "13/13 [==============================] - 0s 4ms/step - loss: 4.5415 - mae: 4.5415\n",
            "Epoch 57/200\n",
            "13/13 [==============================] - 0s 5ms/step - loss: 5.2196 - mae: 5.2196\n",
            "Epoch 58/200\n",
            "13/13 [==============================] - 0s 8ms/step - loss: 4.8634 - mae: 4.8634\n",
            "Epoch 59/200\n",
            "13/13 [==============================] - 0s 6ms/step - loss: 5.0195 - mae: 5.0195\n",
            "Epoch 60/200\n",
            "13/13 [==============================] - 0s 3ms/step - loss: 4.2896 - mae: 4.2896\n",
            "Epoch 61/200\n",
            "13/13 [==============================] - 0s 3ms/step - loss: 4.2812 - mae: 4.2812\n",
            "Epoch 62/200\n",
            "13/13 [==============================] - 0s 4ms/step - loss: 4.4779 - mae: 4.4779\n",
            "Epoch 63/200\n",
            "13/13 [==============================] - 0s 10ms/step - loss: 4.8098 - mae: 4.8098\n",
            "Epoch 64/200\n",
            "13/13 [==============================] - 0s 3ms/step - loss: 4.5823 - mae: 4.5823\n",
            "Epoch 65/200\n",
            "13/13 [==============================] - 0s 5ms/step - loss: 4.8305 - mae: 4.8305\n",
            "Epoch 66/200\n",
            "13/13 [==============================] - 0s 4ms/step - loss: 4.3960 - mae: 4.3960\n",
            "Epoch 67/200\n",
            "13/13 [==============================] - 0s 7ms/step - loss: 4.7160 - mae: 4.7160\n",
            "Epoch 68/200\n",
            "13/13 [==============================] - 0s 4ms/step - loss: 4.4600 - mae: 4.4600\n",
            "Epoch 69/200\n",
            "13/13 [==============================] - 0s 4ms/step - loss: 4.8526 - mae: 4.8526\n",
            "Epoch 70/200\n",
            "13/13 [==============================] - 0s 4ms/step - loss: 5.4732 - mae: 5.4732\n",
            "Epoch 71/200\n",
            "13/13 [==============================] - 0s 3ms/step - loss: 5.1652 - mae: 5.1652\n",
            "Epoch 72/200\n",
            "13/13 [==============================] - 0s 6ms/step - loss: 5.1618 - mae: 5.1618\n",
            "Epoch 73/200\n",
            "13/13 [==============================] - 0s 4ms/step - loss: 4.2692 - mae: 4.2692\n",
            "Epoch 74/200\n",
            "13/13 [==============================] - 0s 6ms/step - loss: 4.2458 - mae: 4.2458\n",
            "Epoch 75/200\n",
            "13/13 [==============================] - 0s 5ms/step - loss: 4.3490 - mae: 4.3490\n",
            "Epoch 76/200\n",
            "13/13 [==============================] - 0s 6ms/step - loss: 4.3005 - mae: 4.3005\n",
            "Epoch 77/200\n",
            "13/13 [==============================] - 0s 3ms/step - loss: 4.9227 - mae: 4.9227\n",
            "Epoch 78/200\n",
            "13/13 [==============================] - 0s 3ms/step - loss: 5.1208 - mae: 5.1208\n",
            "Epoch 79/200\n",
            "13/13 [==============================] - 0s 3ms/step - loss: 4.9108 - mae: 4.9108\n",
            "Epoch 80/200\n",
            "13/13 [==============================] - 0s 6ms/step - loss: 4.2570 - mae: 4.2570\n",
            "Epoch 81/200\n",
            "13/13 [==============================] - 0s 3ms/step - loss: 4.2947 - mae: 4.2947\n",
            "Epoch 82/200\n",
            "13/13 [==============================] - 0s 4ms/step - loss: 4.3439 - mae: 4.3439\n",
            "Epoch 83/200\n",
            "13/13 [==============================] - 0s 4ms/step - loss: 5.5591 - mae: 5.5591\n",
            "Epoch 84/200\n",
            "13/13 [==============================] - 0s 6ms/step - loss: 4.3644 - mae: 4.3644\n",
            "Epoch 85/200\n",
            "13/13 [==============================] - 0s 3ms/step - loss: 4.1836 - mae: 4.1836\n",
            "Epoch 86/200\n",
            "13/13 [==============================] - 0s 6ms/step - loss: 4.3910 - mae: 4.3910\n",
            "Epoch 87/200\n",
            "13/13 [==============================] - 0s 3ms/step - loss: 4.0489 - mae: 4.0489\n",
            "Epoch 88/200\n",
            "13/13 [==============================] - 0s 3ms/step - loss: 4.1158 - mae: 4.1158\n",
            "Epoch 89/200\n",
            "13/13 [==============================] - 0s 4ms/step - loss: 4.4547 - mae: 4.4547\n",
            "Epoch 90/200\n",
            "13/13 [==============================] - 0s 4ms/step - loss: 4.4790 - mae: 4.4790\n",
            "Epoch 91/200\n",
            "13/13 [==============================] - 0s 4ms/step - loss: 4.1875 - mae: 4.1875\n",
            "Epoch 92/200\n",
            "13/13 [==============================] - 0s 6ms/step - loss: 4.0908 - mae: 4.0908\n",
            "Epoch 93/200\n",
            "13/13 [==============================] - 0s 4ms/step - loss: 4.4195 - mae: 4.4195\n",
            "Epoch 94/200\n",
            "13/13 [==============================] - 0s 6ms/step - loss: 4.7950 - mae: 4.7950\n",
            "Epoch 95/200\n",
            "13/13 [==============================] - 0s 6ms/step - loss: 4.4213 - mae: 4.4213\n",
            "Epoch 96/200\n",
            "13/13 [==============================] - 0s 5ms/step - loss: 4.2141 - mae: 4.2141\n",
            "Epoch 97/200\n",
            "13/13 [==============================] - 0s 4ms/step - loss: 4.5212 - mae: 4.5212\n",
            "Epoch 98/200\n",
            "13/13 [==============================] - 0s 3ms/step - loss: 4.8204 - mae: 4.8204\n",
            "Epoch 99/200\n",
            "13/13 [==============================] - 0s 4ms/step - loss: 4.1424 - mae: 4.1424\n",
            "Epoch 100/200\n",
            "13/13 [==============================] - 0s 4ms/step - loss: 4.0260 - mae: 4.0260\n",
            "Epoch 101/200\n",
            "13/13 [==============================] - 0s 4ms/step - loss: 3.9688 - mae: 3.9688\n",
            "Epoch 102/200\n",
            "13/13 [==============================] - 0s 6ms/step - loss: 4.2055 - mae: 4.2055\n",
            "Epoch 103/200\n",
            "13/13 [==============================] - 0s 5ms/step - loss: 4.7830 - mae: 4.7830\n",
            "Epoch 104/200\n",
            "13/13 [==============================] - 0s 4ms/step - loss: 4.2355 - mae: 4.2355\n",
            "Epoch 105/200\n",
            "13/13 [==============================] - 0s 4ms/step - loss: 4.0551 - mae: 4.0551\n",
            "Epoch 106/200\n",
            "13/13 [==============================] - 0s 3ms/step - loss: 3.9665 - mae: 3.9665\n",
            "Epoch 107/200\n",
            "13/13 [==============================] - 0s 3ms/step - loss: 4.0312 - mae: 4.0312\n",
            "Epoch 108/200\n",
            "13/13 [==============================] - 0s 3ms/step - loss: 3.9995 - mae: 3.9995\n",
            "Epoch 109/200\n",
            "13/13 [==============================] - 0s 6ms/step - loss: 3.9072 - mae: 3.9072\n",
            "Epoch 110/200\n",
            "13/13 [==============================] - 0s 3ms/step - loss: 3.9840 - mae: 3.9840\n",
            "Epoch 111/200\n",
            "13/13 [==============================] - 0s 8ms/step - loss: 4.0132 - mae: 4.0132\n",
            "Epoch 112/200\n",
            "13/13 [==============================] - 0s 3ms/step - loss: 4.1630 - mae: 4.1630\n",
            "Epoch 113/200\n",
            "13/13 [==============================] - 0s 5ms/step - loss: 3.9039 - mae: 3.9039\n",
            "Epoch 114/200\n",
            "13/13 [==============================] - 0s 4ms/step - loss: 4.3084 - mae: 4.3084\n",
            "Epoch 115/200\n",
            "13/13 [==============================] - 0s 3ms/step - loss: 3.8583 - mae: 3.8583\n",
            "Epoch 116/200\n",
            "13/13 [==============================] - 0s 3ms/step - loss: 3.9592 - mae: 3.9592\n",
            "Epoch 117/200\n",
            "13/13 [==============================] - 0s 3ms/step - loss: 4.3726 - mae: 4.3726\n",
            "Epoch 118/200\n",
            "13/13 [==============================] - 0s 4ms/step - loss: 3.9360 - mae: 3.9360\n",
            "Epoch 119/200\n",
            "13/13 [==============================] - 0s 3ms/step - loss: 4.1054 - mae: 4.1054\n",
            "Epoch 120/200\n",
            "13/13 [==============================] - 0s 4ms/step - loss: 4.0605 - mae: 4.0605\n",
            "Epoch 121/200\n",
            "13/13 [==============================] - 0s 3ms/step - loss: 4.1635 - mae: 4.1635\n",
            "Epoch 122/200\n",
            "13/13 [==============================] - 0s 4ms/step - loss: 3.8549 - mae: 3.8549\n",
            "Epoch 123/200\n",
            "13/13 [==============================] - 0s 4ms/step - loss: 3.9134 - mae: 3.9134\n",
            "Epoch 124/200\n",
            "13/13 [==============================] - 0s 3ms/step - loss: 4.2980 - mae: 4.2980\n",
            "Epoch 125/200\n",
            "13/13 [==============================] - 0s 3ms/step - loss: 4.4035 - mae: 4.4035\n",
            "Epoch 126/200\n",
            "13/13 [==============================] - 0s 4ms/step - loss: 4.2754 - mae: 4.2754\n",
            "Epoch 127/200\n",
            "13/13 [==============================] - 0s 4ms/step - loss: 3.8676 - mae: 3.8676\n",
            "Epoch 128/200\n",
            "13/13 [==============================] - 0s 3ms/step - loss: 4.1028 - mae: 4.1028\n",
            "Epoch 129/200\n",
            "13/13 [==============================] - 0s 4ms/step - loss: 4.4513 - mae: 4.4513\n",
            "Epoch 130/200\n",
            "13/13 [==============================] - 0s 3ms/step - loss: 4.1098 - mae: 4.1098\n",
            "Epoch 131/200\n",
            "13/13 [==============================] - 0s 3ms/step - loss: 4.1565 - mae: 4.1565\n",
            "Epoch 132/200\n",
            "13/13 [==============================] - 0s 3ms/step - loss: 3.9220 - mae: 3.9220\n",
            "Epoch 133/200\n",
            "13/13 [==============================] - 0s 3ms/step - loss: 4.0237 - mae: 4.0237\n",
            "Epoch 134/200\n",
            "13/13 [==============================] - 0s 3ms/step - loss: 4.0619 - mae: 4.0619\n",
            "Epoch 135/200\n",
            "13/13 [==============================] - 0s 4ms/step - loss: 3.9842 - mae: 3.9842\n",
            "Epoch 136/200\n",
            "13/13 [==============================] - 0s 4ms/step - loss: 3.7988 - mae: 3.7988\n",
            "Epoch 137/200\n",
            "13/13 [==============================] - 0s 5ms/step - loss: 3.7833 - mae: 3.7833\n",
            "Epoch 138/200\n",
            "13/13 [==============================] - 0s 3ms/step - loss: 3.7730 - mae: 3.7730\n",
            "Epoch 139/200\n",
            "13/13 [==============================] - 0s 3ms/step - loss: 4.2811 - mae: 4.2811\n",
            "Epoch 140/200\n",
            "13/13 [==============================] - 0s 3ms/step - loss: 4.3996 - mae: 4.3996\n",
            "Epoch 141/200\n",
            "13/13 [==============================] - 0s 3ms/step - loss: 5.5419 - mae: 5.5419\n",
            "Epoch 142/200\n",
            "13/13 [==============================] - 0s 3ms/step - loss: 4.1979 - mae: 4.1979\n",
            "Epoch 143/200\n",
            "13/13 [==============================] - 0s 4ms/step - loss: 4.3503 - mae: 4.3503\n",
            "Epoch 144/200\n",
            "13/13 [==============================] - 0s 4ms/step - loss: 4.8248 - mae: 4.8248\n",
            "Epoch 145/200\n",
            "13/13 [==============================] - 0s 5ms/step - loss: 4.1532 - mae: 4.1532\n",
            "Epoch 146/200\n",
            "13/13 [==============================] - 0s 4ms/step - loss: 3.8274 - mae: 3.8274\n",
            "Epoch 147/200\n",
            "13/13 [==============================] - 0s 3ms/step - loss: 3.7061 - mae: 3.7061\n",
            "Epoch 148/200\n",
            "13/13 [==============================] - 0s 4ms/step - loss: 3.7769 - mae: 3.7769\n",
            "Epoch 149/200\n",
            "13/13 [==============================] - 0s 4ms/step - loss: 3.8135 - mae: 3.8135\n",
            "Epoch 150/200\n",
            "13/13 [==============================] - 0s 3ms/step - loss: 3.8478 - mae: 3.8478\n",
            "Epoch 151/200\n",
            "13/13 [==============================] - 0s 3ms/step - loss: 4.0542 - mae: 4.0542\n",
            "Epoch 152/200\n",
            "13/13 [==============================] - 0s 3ms/step - loss: 4.1567 - mae: 4.1567\n",
            "Epoch 153/200\n",
            "13/13 [==============================] - 0s 5ms/step - loss: 3.7177 - mae: 3.7177\n",
            "Epoch 154/200\n",
            "13/13 [==============================] - 0s 4ms/step - loss: 4.1888 - mae: 4.1888\n",
            "Epoch 155/200\n",
            "13/13 [==============================] - 0s 3ms/step - loss: 3.8789 - mae: 3.8789\n",
            "Epoch 156/200\n",
            "13/13 [==============================] - 0s 4ms/step - loss: 3.9490 - mae: 3.9490\n",
            "Epoch 157/200\n",
            "13/13 [==============================] - 0s 4ms/step - loss: 3.6893 - mae: 3.6893\n",
            "Epoch 158/200\n",
            "13/13 [==============================] - 0s 7ms/step - loss: 3.8753 - mae: 3.8753\n",
            "Epoch 159/200\n",
            "13/13 [==============================] - 0s 4ms/step - loss: 3.9711 - mae: 3.9711\n",
            "Epoch 160/200\n",
            "13/13 [==============================] - 0s 5ms/step - loss: 4.3999 - mae: 4.3999\n",
            "Epoch 161/200\n",
            "13/13 [==============================] - 0s 6ms/step - loss: 4.0404 - mae: 4.0404\n",
            "Epoch 162/200\n",
            "13/13 [==============================] - 0s 3ms/step - loss: 3.8616 - mae: 3.8616\n",
            "Epoch 163/200\n",
            "13/13 [==============================] - 0s 3ms/step - loss: 3.6916 - mae: 3.6916\n",
            "Epoch 164/200\n",
            "13/13 [==============================] - 0s 4ms/step - loss: 4.0628 - mae: 4.0628\n",
            "Epoch 165/200\n",
            "13/13 [==============================] - 0s 3ms/step - loss: 3.7472 - mae: 3.7472\n",
            "Epoch 166/200\n",
            "13/13 [==============================] - 0s 3ms/step - loss: 3.9262 - mae: 3.9262\n",
            "Epoch 167/200\n",
            "13/13 [==============================] - 0s 4ms/step - loss: 3.9080 - mae: 3.9080\n",
            "Epoch 168/200\n",
            "13/13 [==============================] - 0s 6ms/step - loss: 3.7329 - mae: 3.7329\n",
            "Epoch 169/200\n",
            "13/13 [==============================] - 0s 4ms/step - loss: 4.1112 - mae: 4.1112\n",
            "Epoch 170/200\n",
            "13/13 [==============================] - 0s 4ms/step - loss: 3.6827 - mae: 3.6827\n",
            "Epoch 171/200\n",
            "13/13 [==============================] - 0s 3ms/step - loss: 3.8057 - mae: 3.8057\n",
            "Epoch 172/200\n",
            "13/13 [==============================] - 0s 4ms/step - loss: 3.6364 - mae: 3.6364\n",
            "Epoch 173/200\n",
            "13/13 [==============================] - 0s 4ms/step - loss: 3.5434 - mae: 3.5434\n",
            "Epoch 174/200\n",
            "13/13 [==============================] - 0s 3ms/step - loss: 3.7602 - mae: 3.7602\n",
            "Epoch 175/200\n",
            "13/13 [==============================] - 0s 2ms/step - loss: 4.5756 - mae: 4.5756\n",
            "Epoch 176/200\n",
            "13/13 [==============================] - 0s 3ms/step - loss: 3.8387 - mae: 3.8387\n",
            "Epoch 177/200\n",
            "13/13 [==============================] - 0s 2ms/step - loss: 3.9443 - mae: 3.9443\n",
            "Epoch 178/200\n",
            "13/13 [==============================] - 0s 3ms/step - loss: 4.0274 - mae: 4.0274\n",
            "Epoch 179/200\n",
            "13/13 [==============================] - 0s 2ms/step - loss: 3.6746 - mae: 3.6746\n",
            "Epoch 180/200\n",
            "13/13 [==============================] - 0s 2ms/step - loss: 3.7336 - mae: 3.7336\n",
            "Epoch 181/200\n",
            "13/13 [==============================] - 0s 3ms/step - loss: 4.1968 - mae: 4.1968\n",
            "Epoch 182/200\n",
            "13/13 [==============================] - 0s 2ms/step - loss: 3.7932 - mae: 3.7932\n",
            "Epoch 183/200\n",
            "13/13 [==============================] - 0s 2ms/step - loss: 3.7706 - mae: 3.7706\n",
            "Epoch 184/200\n",
            "13/13 [==============================] - 0s 2ms/step - loss: 4.2403 - mae: 4.2403\n",
            "Epoch 185/200\n",
            "13/13 [==============================] - 0s 2ms/step - loss: 3.5780 - mae: 3.5780\n",
            "Epoch 186/200\n",
            "13/13 [==============================] - 0s 2ms/step - loss: 3.6603 - mae: 3.6603\n",
            "Epoch 187/200\n",
            "13/13 [==============================] - 0s 3ms/step - loss: 3.9353 - mae: 3.9353\n",
            "Epoch 188/200\n",
            "13/13 [==============================] - 0s 3ms/step - loss: 3.5718 - mae: 3.5718\n",
            "Epoch 189/200\n",
            "13/13 [==============================] - 0s 3ms/step - loss: 3.7349 - mae: 3.7349\n",
            "Epoch 190/200\n",
            "13/13 [==============================] - 0s 2ms/step - loss: 3.7689 - mae: 3.7689\n",
            "Epoch 191/200\n",
            "13/13 [==============================] - 0s 2ms/step - loss: 3.5600 - mae: 3.5600\n",
            "Epoch 192/200\n",
            "13/13 [==============================] - 0s 2ms/step - loss: 3.7091 - mae: 3.7091\n",
            "Epoch 193/200\n",
            "13/13 [==============================] - 0s 2ms/step - loss: 3.8766 - mae: 3.8766\n",
            "Epoch 194/200\n",
            "13/13 [==============================] - 0s 2ms/step - loss: 4.0237 - mae: 4.0237\n",
            "Epoch 195/200\n",
            "13/13 [==============================] - 0s 3ms/step - loss: 4.1736 - mae: 4.1736\n",
            "Epoch 196/200\n",
            "13/13 [==============================] - 0s 3ms/step - loss: 4.0636 - mae: 4.0636\n",
            "Epoch 197/200\n",
            "13/13 [==============================] - 0s 2ms/step - loss: 3.8442 - mae: 3.8442\n",
            "Epoch 198/200\n",
            "13/13 [==============================] - 0s 3ms/step - loss: 3.6372 - mae: 3.6372\n",
            "Epoch 199/200\n",
            "13/13 [==============================] - 0s 3ms/step - loss: 3.5477 - mae: 3.5477\n",
            "Epoch 200/200\n",
            "13/13 [==============================] - 0s 3ms/step - loss: 3.6277 - mae: 3.6277\n"
          ]
        }
      ]
    },
    {
      "cell_type": "code",
      "source": [
        "# plot the history (also known as loss curve)\n",
        "pd.DataFrame(history_2.history).plot()\n",
        "plt.xlabel('loss')\n",
        "plt.ylabel('Epos')\n",
        "plt.show()"
      ],
      "metadata": {
        "colab": {
          "base_uri": "https://localhost:8080/",
          "height": 279
        },
        "id": "JQ6LIEim2IJb",
        "outputId": "7ba75dfa-8e6f-455e-913c-da51af6fcf38"
      },
      "execution_count": null,
      "outputs": [
        {
          "output_type": "display_data",
          "data": {
            "text/plain": [
              "<Figure size 432x288 with 1 Axes>"
            ],
            "image/png": "[encoded data removed]"
          },
          "metadata": {
            "needs_background": "light"
          }
        }
      ]
    }
  ]
}