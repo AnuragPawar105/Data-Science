{
 "cells": [
  {
   "cell_type": "code",
   "execution_count": 1,
   "id": "5a872817",
   "metadata": {},
   "outputs": [],
   "source": [
    "import re\n",
    "# TASK 1\n",
    "pattern = re.compile('\\d{3}\\/\\d{3}\\-\\d{4}\\(\\d\\)')"
   ]
  },
  {
   "cell_type": "code",
   "execution_count": 5,
   "id": "d28c01cb",
   "metadata": {},
   "outputs": [
    {
     "name": "stdout",
     "output_type": "stream",
     "text": [
      "True\n",
      "False\n",
      "False\n"
     ]
    }
   ],
   "source": [
    "x= \"120/456-7890(8)\"\n",
    "y= \"123-456-789\"\n",
    "z= \"120-456-7890(8)\"\n",
    "result1 = pattern.match(x)\n",
    "print(bool(result1))\n",
    "result2 = pattern.match(y)\n",
    "print(bool(result2))\n",
    "result3 = pattern.match(z)\n",
    "print(bool(result3))"
   ]
  },
  {
   "cell_type": "code",
   "execution_count": 6,
   "id": "8895116c",
   "metadata": {},
   "outputs": [
    {
     "name": "stdout",
     "output_type": "stream",
     "text": [
      "A final note on 10 key sentences is that academic readers expect them to be at the beginning of the paragraph. (The first sentence of this paragraph is one example of this!) This placement helps readers comprehend your position. To try this, find a well-written academic piece, such as a textbook or scholarly article, and go through part of it just by reading the first sentence of each paragraph.\n",
      "When you're writing for 22 professors, it is especially effective to put key sentences first to convey your original thinking.\n"
     ]
    }
   ],
   "source": [
    "# TASK 2\n",
    "file = open(r\"Text_paragraph.txt\", \"r\").read()\n",
    "print(file) "
   ]
  },
  {
   "cell_type": "code",
   "execution_count": 16,
   "id": "bd53d6ef",
   "metadata": {},
   "outputs": [
    {
     "name": "stdout",
     "output_type": "stream",
     "text": [
      "\n",
      "Numeric values:\n",
      "\n",
      " ['10', '22']\n"
     ]
    }
   ],
   "source": [
    "num_values = re.findall('\\d+', file)        \n",
    "print('\\nNumeric values:\\n\\n',num_values)"
   ]
  },
  {
   "cell_type": "code",
   "execution_count": 12,
   "id": "e11cb04c",
   "metadata": {},
   "outputs": [
    {
     "name": "stdout",
     "output_type": "stream",
     "text": [
      "\n",
      "Output text after removal of Numeric values:\n",
      "\n",
      " A final note on  key sentences is that academic readers expect them to be at the beginning of the paragraph. (The first sentence of this paragraph is one example of this!) This placement helps readers comprehend your position. To try this, find a well-written academic piece, such as a textbook or scholarly article, and go through part of it just by reading the first sentence of each paragraph.\n",
      "When you're writing for  professors, it is especially effective to put key sentences first to convey your original thinking.\n"
     ]
    }
   ],
   "source": [
    "out_text = ''.join(filter(lambda item: not item.isdigit(), file))    \n",
    "print('\\nOutput text after removal of Numeric values:\\n\\n',out_text)"
   ]
  },
  {
   "cell_type": "code",
   "execution_count": 19,
   "id": "f3ebd2d9",
   "metadata": {},
   "outputs": [
    {
     "name": "stdout",
     "output_type": "stream",
     "text": [
      "After Replacing symbol:\n",
      "\n",
      " A final note on 10 key sentences is that academic readers expect them to be at the beginning of the paragraph. (The first sentence of this paragraph is one example of this.) This placement helps readers comprehend your position. To try this find a well-written academic piece such as a textbook or scholarly article and go through part of it just by reading the first sentence of each paragraph.\n",
      "When you're writing for 22 professors it is especially effective to put key sentences first to convey your original thinking.\n"
     ]
    }
   ],
   "source": [
    "# TASK 3\n",
    "file1 = file                                                                                  \n",
    "#print('Original text:',sample_string)                         \n",
    "char_to_replace = {',': '','!':'.'}                                                               \n",
    "for key, value in char_to_replace.items():                     \n",
    "    file1 = file1.replace(key, value)       \n",
    "print('After Replacing symbol:\\n\\n', file1)"
   ]
  },
  {
   "cell_type": "code",
   "execution_count": 22,
   "id": "7994e16c",
   "metadata": {},
   "outputs": [
    {
     "data": {
      "text/plain": [
       "['€.245']"
      ]
     },
     "execution_count": 22,
     "metadata": {},
     "output_type": "execute_result"
    }
   ],
   "source": [
    "# TASK 4\n",
    "re.findall('€\\.\\d{3}', \"This string is to test the pattern. Therefore €.245 is verified.\" )"
   ]
  },
  {
   "cell_type": "code",
   "execution_count": 26,
   "id": "a4021d3b",
   "metadata": {},
   "outputs": [
    {
     "name": "stdout",
     "output_type": "stream",
     "text": [
      "['\\n\\t\\t\\t\\t\\t', '\"', '48', 'HRS', '.', '\"', '\\n\\n\\t\\t\\t\\t\\t   ', 'by', '\\n\\n\\t\\t\\t\\t   ', 'Roger', 'Spottiswoode', 'and', '\\n\\t\\t\\t\\t   ', 'Walter', 'Hill', '\\n\\n\\t\\t\\t\\t\\t   ', '&', '\\n\\n\\t\\t\\t\\t   ', 'Larry', 'Gross', 'and', '\\n\\t\\t\\t\\t   ', 'Steven', 'E.', 'De', 'Souza', '\\n\\n', 'FADE', 'IN', ':', '\\n\\n', 'OPEN', 'COUNTRY', '-', 'DAY', '\\n\\n\\t', 'Endless', 'green', 'hills', 'bisected', 'by', 'a', 'ribbon', 'of', 'highway', '.', 'A', 'road', '\\n\\t', 'gang', 'clearing', 'brush', 'by', 'the', 'side', 'of', 'the', 'road', '...', 'Twenty', '-', 'five', '\\n\\t', 'men', 'in', 'prison', 'fatigues', 'sweating', 'through', 'their', 'mid', '-', 'afternoon', '\\n\\t', 'labor', '.', '\\n\\n\\t', 'THREE', 'GUARDS', '\\n\\n\\t', 'Flank', 'the', 'working', 'prisoners', '...', 'Mountie', 'hats', ',', 'shotguns', ',', '\\n\\t', 'sidearms', ',', 'sunglasses', ';', 'they', 'look', 'like', 'they', 'mean']\n"
     ]
    }
   ],
   "source": [
    "import spacy                                 \n",
    "nlp = spacy.load(\"en_core_web_sm\")\n",
    "# TASK 5\n",
    "file_name = '48_hrs.txt'                                       \n",
    "file_text = open(file_name).read() \n",
    "nlp.disable_pipes('tagger', 'lemmatizer', 'ner', 'parser')\n",
    "file_doc = nlp(file_text)\n",
    "file_doc1 = file_doc[:100]\n",
    "token1=([token.text for token in file_doc])\n",
    "print ([token.text for token in file_doc1])    "
   ]
  },
  {
   "cell_type": "code",
   "execution_count": 29,
   "id": "ae5c4a13",
   "metadata": {},
   "outputs": [
    {
     "data": {
      "text/plain": [
       "[('.', 2050),\n",
       " ('\\n\\t\\t\\t', 2025),\n",
       " ('the', 956),\n",
       " ('\\n\\n\\t\\t\\t\\t\\t', 937),\n",
       " (',', 929),\n",
       " ('\\n\\n\\t', 903),\n",
       " ('...', 549),\n",
       " ('a', 545),\n",
       " ('\\n\\t', 478),\n",
       " ('I', 458)]"
      ]
     },
     "execution_count": 29,
     "metadata": {},
     "output_type": "execute_result"
    }
   ],
   "source": [
    "# TASK 6\n",
    "# a)\n",
    "from collections import Counter\n",
    "counts = Counter()\n",
    "for token in file_doc:\n",
    "    counts[token.orth_] += 1                   \n",
    "most_com_10 = counts.most_common(10)\n",
    "most_com_10"
   ]
  },
  {
   "cell_type": "code",
   "execution_count": 33,
   "id": "2e9c2c74",
   "metadata": {},
   "outputs": [
    {
     "name": "stdout",
     "output_type": "stream",
     "text": [
      "Count of prisoner is  3\n",
      "Count of prisoners is  1\n"
     ]
    }
   ],
   "source": [
    "# TASK 6\n",
    "# b)\n",
    "file_doc2 = file_doc[:1500]\n",
    "from collections import Counter\n",
    "counts1 = Counter()\n",
    "for token in file_doc2:\n",
    "    counts1[token.orth_] += 1\n",
    "print('Count of prisoner is ',counts1['prisoner'])\n",
    "print('Count of prisoners is ',counts1['prisoners'])"
   ]
  },
  {
   "cell_type": "code",
   "execution_count": 36,
   "id": "c026c421",
   "metadata": {},
   "outputs": [
    {
     "name": "stdout",
     "output_type": "stream",
     "text": [
      "['John', 'went', 'to', 'the', 'U.S.A.', 'to', 'visit', 'his', 'elder', 'sister', '.']\n"
     ]
    }
   ],
   "source": [
    "# TASK 7\n",
    "text1=\"John went to the U.S.A. to visit his elder sister.\"\n",
    "doc1 = nlp(text1)\n",
    "print ([token.text for token in doc1])"
   ]
  },
  {
   "cell_type": "markdown",
   "id": "53b593cb",
   "metadata": {},
   "source": [
    "### Here U.S.A. is being considered as one single token."
   ]
  },
  {
   "cell_type": "code",
   "execution_count": 39,
   "id": "4d110d88",
   "metadata": {},
   "outputs": [
    {
     "name": "stdout",
     "output_type": "stream",
     "text": [
      "The count of 'the' in 48hrs is  956\n",
      "The count of 'the' in scifiscripts is  595\n",
      "The count of 'the' in 'Ten things I hate' is  581\n"
     ]
    }
   ],
   "source": [
    "# TASK 8\n",
    "print(\"The count of 'the' in '48hrs' is \",counts['the'])\n",
    "file_name = 'scifiscripts.txt'                                       \n",
    "text2 = open(file_name).read()\n",
    "doc2=nlp(text2)\n",
    "counts1 = Counter()\n",
    "for token in doc2:\n",
    "    counts1[token.orth_] += 1\n",
    "print(\"The count of 'the' in 'scifiscripts' is \",counts1['the'])\n",
    "file_name = 'Ten_things_I_hate.txt'                                       \n",
    "text2 = open(file_name).read()\n",
    "doc2=nlp(text2)\n",
    "counts2 = Counter()\n",
    "for token in doc2:\n",
    "    counts2[token.orth_] += 1\n",
    "print(\"The count of 'the' in 'Ten things I hate' is \",counts2['the'])"
   ]
  },
  {
   "cell_type": "markdown",
   "id": "36d077c3",
   "metadata": {},
   "source": [
    "### As we can see here the word 'the' was present the least number of times in 'Ten things I hate.txt'."
   ]
  },
  {
   "cell_type": "code",
   "execution_count": null,
   "id": "7b85fddb",
   "metadata": {},
   "outputs": [],
   "source": []
  }
 ],
 "metadata": {
  "kernelspec": {
   "display_name": "Python 3 (ipykernel)",
   "language": "python",
   "name": "python3"
  },
  "language_info": {
   "codemirror_mode": {
    "name": "ipython",
    "version": 3
   },
   "file_extension": ".py",
   "mimetype": "text/x-python",
   "name": "python",
   "nbconvert_exporter": "python",
   "pygments_lexer": "ipython3",
   "version": "3.9.7"
  }
 },
 "nbformat": 4,
 "nbformat_minor": 5
}
